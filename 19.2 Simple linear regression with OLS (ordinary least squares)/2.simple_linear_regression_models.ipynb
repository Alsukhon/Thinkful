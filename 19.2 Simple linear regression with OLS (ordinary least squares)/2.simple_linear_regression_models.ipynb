{
 "cells": [
  {
   "cell_type": "markdown",
   "metadata": {
    "colab_type": "text",
    "id": "e-wlGchWvNKC"
   },
   "source": [
    "We've established that regression tasks are those where you need an algorithm that ultimately outputs continuous numerical values. There are a number of ways to produce this kind of output, but the simplest and most commonly used method is linear regression. In this checkpoint, we explore how to formulate a linear regression model and estimate it using the Ordinary Least Squares (OLS) method.\n",
    "\n",
    "Although it is not the only approach, OLS is by far the most common method of estimating linear regression models. This technique is so common and canonical that people will often refer to it simply as \"regression\", even though there are plenty of other techniques and types of models that qualify as regressions. We'll cover the basic formulation of linear regression models and the OLS algorithm.\n",
    "\n",
    "Specifically, we'll cover the following topics in this checkpoint:\n",
    "\n",
    "* general formulation of linear regression models\n",
    "* ordinary least squares (OLS)\n",
    "* how to find optimal coefficients for a linear regression model\n",
    "* how to implement a linear regression model in sklearn\n",
    "\n",
    "This checkpoint ends with an assignment in which you'll build a model to predict house prices.\n"
   ]
  },
  {
   "cell_type": "markdown",
   "metadata": {
    "colab_type": "text",
    "id": "6q6jbsvGvNKF"
   },
   "source": [
    "## Formulating a linear regression model\n",
    "\n",
    "In the previous checkpoint, we saw that linear regression models plot a line of best fit representing the relationship between the features and the target. To be more precise, a linear regression model can be formulated mathematically like this:\n",
    "\n",
    "$$ y = \\beta_0 + \\beta_1x_1 + \\beta_2x_2 + ... + \\beta_nx_n + \\epsilon \\qquad(eq.1)$$\n",
    "\n",
    "In (eq.1), $y$ represents the target variable and $x_1, x_2,..., x_n$s represent the features. $n$ denotes the number of features. The unknowns of the equation above are the $\\beta$ terms. $ \\beta_0 $ refers to the **intercept** (also known as **bias** or **constant**). All the others ($\\beta_1, \\beta_2,...,\\beta_n$) are called the **coefficients**. The $\\epsilon$ is the **error term** (also known as **residual**), which represents the information in $y$ that is unexplained by the features.\n",
    "\n",
    "**A note on terminology:** In linear regression models, it's common to refer to features in a model as __explanatory variables__ or __independent variables__ and the target variable as the __explained__ or __dependent variable__. Don't be surprised if you stumble upon these alternative terms in other places. \n",
    "\n",
    "The expression above can be written in a more compact form using the summation ( $\\sum$ ) operator as follows:\n",
    "\n",
    "$$ y = \\beta_0 + \\sum_{i=1}^{n}\\beta_ix_i + \\epsilon \\qquad(eq.2)$$\n",
    "\n",
    "\n",
    "In (eq.2), $\\sum_{i=1}^{n}$ adds up each $\\beta_ix_i$ where the subscript $i$ refers to the index of the features and the coefficients. Hence $\\sum_{i=1}^{n}$ starts from $i=1$ and goes until $i=n$.\n"
   ]
  },
  {
   "cell_type": "markdown",
   "metadata": {
    "colab_type": "text",
    "id": "3ZccqpFovNKI"
   },
   "source": [
    "## Insurance charges dataset\n",
    "\n",
    "Throughout this module, we'll demonstrate linear regression modeling on a medical cost dataset originally from Kaggle. The original dataset is called \"Medical Cost Personal Dataset\" and can be found at this [link](https://www.kaggle.com/mirichoi0218/insurance). We'll be working with a SQL-based version of this dataset hosted on a Postgres server, but if you want full documentation on the data, refer to the Kaggle link.\n",
    "\n",
    "The data is about the costs charged by the insurance companies to individuals. These are costs that the insured individuals were required to pay after the insurance company made payments to medical providers. The dataset includes six variables as described below:\n",
    "\n",
    "* age: The age of the individual. It's a numeric.\n",
    "* sex: The biological sex of the insured. It is categorical (male or female).\n",
    "* bmi: Body mass index. This index indicates whether an individual's weight is relatively high or low, based on height. This index defines an ideal range between 18.5 and 24.9. The variable is continuous.\n",
    "* children: How many dependent children the insured person has. Dependents are covered by the insurance plan. This is a numeric variable.\n",
    "* smoker: This categorical variable (yes | no) indicates whether or not the person smokes.\n",
    "* region: The person's residential area in the US. It's a categorical variable (northeast, southeast, southwest, northwest). \n",
    "* charges: The medical costs (in US dollars) billed by the insurance company. It's a continuous variable.\n",
    "\n",
    "In the examples, our target variable will be the \"charges\" billed by the insurance company. Since it's a continuous variable, we're dealing with a regression task.\n"
   ]
  },
  {
   "cell_type": "markdown",
   "metadata": {
    "colab_type": "text",
    "id": "taaschRrvNKJ"
   },
   "source": [
    "## Preliminary data exploration\n",
    "\n",
    "To choose the features we use in our first model, we do a brief exploratory analysis here. First, let's import the relevant libraries:"
   ]
  },
  {
   "cell_type": "code",
   "execution_count": 1,
   "metadata": {
    "colab": {},
    "colab_type": "code",
    "collapsed": true,
    "id": "1HlMyIdNvNKM"
   },
   "outputs": [],
   "source": [
    "import numpy as np\n",
    "import pandas as pd\n",
    "from sklearn import linear_model\n",
    "import matplotlib.pyplot as plt\n",
    "from sqlalchemy import create_engine\n",
    "\n",
    "import warnings\n",
    "warnings.filterwarnings('ignore')\n",
    "\n",
    "postgres_user = 'dsbc_student'\n",
    "postgres_pw = '7*.8G9QH21'\n",
    "postgres_host = '142.93.121.174'\n",
    "postgres_port = '5432'\n",
    "postgres_db = 'medicalcosts'"
   ]
  },
  {
   "cell_type": "markdown",
   "metadata": {
    "colab_type": "text",
    "id": "dXi7OOnwvNKR"
   },
   "source": [
    "Next, we load the data from the PostgreSQL database and print out some observations:"
   ]
  },
  {
   "cell_type": "code",
   "execution_count": 2,
   "metadata": {
    "colab": {},
    "colab_type": "code",
    "id": "PfIu7fJgvNKS",
    "outputId": "dc2e0554-35ef-41db-9e6e-087d09f470ed",
    "scrolled": false
   },
   "outputs": [
    {
     "data": {
      "text/html": [
       "<div>\n",
       "<style scoped>\n",
       "    .dataframe tbody tr th:only-of-type {\n",
       "        vertical-align: middle;\n",
       "    }\n",
       "\n",
       "    .dataframe tbody tr th {\n",
       "        vertical-align: top;\n",
       "    }\n",
       "\n",
       "    .dataframe thead th {\n",
       "        text-align: right;\n",
       "    }\n",
       "</style>\n",
       "<table border=\"1\" class=\"dataframe\">\n",
       "  <thead>\n",
       "    <tr style=\"text-align: right;\">\n",
       "      <th></th>\n",
       "      <th>age</th>\n",
       "      <th>sex</th>\n",
       "      <th>bmi</th>\n",
       "      <th>children</th>\n",
       "      <th>smoker</th>\n",
       "      <th>region</th>\n",
       "      <th>charges</th>\n",
       "    </tr>\n",
       "  </thead>\n",
       "  <tbody>\n",
       "    <tr>\n",
       "      <th>0</th>\n",
       "      <td>19</td>\n",
       "      <td>female</td>\n",
       "      <td>27.900</td>\n",
       "      <td>0</td>\n",
       "      <td>yes</td>\n",
       "      <td>southwest</td>\n",
       "      <td>16884.90</td>\n",
       "    </tr>\n",
       "    <tr>\n",
       "      <th>1</th>\n",
       "      <td>18</td>\n",
       "      <td>male</td>\n",
       "      <td>33.770</td>\n",
       "      <td>1</td>\n",
       "      <td>no</td>\n",
       "      <td>southeast</td>\n",
       "      <td>1725.55</td>\n",
       "    </tr>\n",
       "    <tr>\n",
       "      <th>2</th>\n",
       "      <td>28</td>\n",
       "      <td>male</td>\n",
       "      <td>33.000</td>\n",
       "      <td>3</td>\n",
       "      <td>no</td>\n",
       "      <td>southeast</td>\n",
       "      <td>4449.46</td>\n",
       "    </tr>\n",
       "    <tr>\n",
       "      <th>3</th>\n",
       "      <td>33</td>\n",
       "      <td>male</td>\n",
       "      <td>22.705</td>\n",
       "      <td>0</td>\n",
       "      <td>no</td>\n",
       "      <td>northwest</td>\n",
       "      <td>21984.50</td>\n",
       "    </tr>\n",
       "    <tr>\n",
       "      <th>4</th>\n",
       "      <td>32</td>\n",
       "      <td>male</td>\n",
       "      <td>28.880</td>\n",
       "      <td>0</td>\n",
       "      <td>no</td>\n",
       "      <td>northwest</td>\n",
       "      <td>3866.86</td>\n",
       "    </tr>\n",
       "    <tr>\n",
       "      <th>5</th>\n",
       "      <td>31</td>\n",
       "      <td>female</td>\n",
       "      <td>25.740</td>\n",
       "      <td>0</td>\n",
       "      <td>no</td>\n",
       "      <td>southeast</td>\n",
       "      <td>3756.62</td>\n",
       "    </tr>\n",
       "    <tr>\n",
       "      <th>6</th>\n",
       "      <td>46</td>\n",
       "      <td>female</td>\n",
       "      <td>33.440</td>\n",
       "      <td>1</td>\n",
       "      <td>no</td>\n",
       "      <td>southeast</td>\n",
       "      <td>8240.59</td>\n",
       "    </tr>\n",
       "    <tr>\n",
       "      <th>7</th>\n",
       "      <td>37</td>\n",
       "      <td>female</td>\n",
       "      <td>27.740</td>\n",
       "      <td>3</td>\n",
       "      <td>no</td>\n",
       "      <td>northwest</td>\n",
       "      <td>7281.51</td>\n",
       "    </tr>\n",
       "    <tr>\n",
       "      <th>8</th>\n",
       "      <td>37</td>\n",
       "      <td>male</td>\n",
       "      <td>29.830</td>\n",
       "      <td>2</td>\n",
       "      <td>no</td>\n",
       "      <td>northeast</td>\n",
       "      <td>6406.41</td>\n",
       "    </tr>\n",
       "    <tr>\n",
       "      <th>9</th>\n",
       "      <td>60</td>\n",
       "      <td>female</td>\n",
       "      <td>25.840</td>\n",
       "      <td>0</td>\n",
       "      <td>no</td>\n",
       "      <td>northwest</td>\n",
       "      <td>28923.10</td>\n",
       "    </tr>\n",
       "  </tbody>\n",
       "</table>\n",
       "</div>"
      ],
      "text/plain": [
       "   age     sex     bmi  children smoker     region   charges\n",
       "0   19  female  27.900         0    yes  southwest  16884.90\n",
       "1   18    male  33.770         1     no  southeast   1725.55\n",
       "2   28    male  33.000         3     no  southeast   4449.46\n",
       "3   33    male  22.705         0     no  northwest  21984.50\n",
       "4   32    male  28.880         0     no  northwest   3866.86\n",
       "5   31  female  25.740         0     no  southeast   3756.62\n",
       "6   46  female  33.440         1     no  southeast   8240.59\n",
       "7   37  female  27.740         3     no  northwest   7281.51\n",
       "8   37    male  29.830         2     no  northeast   6406.41\n",
       "9   60  female  25.840         0     no  northwest  28923.10"
      ]
     },
     "execution_count": 2,
     "metadata": {},
     "output_type": "execute_result"
    }
   ],
   "source": [
    "engine = create_engine('postgresql://{}:{}@{}:{}/{}'.format(\n",
    "    postgres_user, postgres_pw, postgres_host, postgres_port, postgres_db))\n",
    "insurance_df = pd.read_sql_query('select * from medicalcosts',con=engine)\n",
    "\n",
    "# no need for an open connection, as we're only doing a single query\n",
    "engine.dispose()\n",
    "\n",
    "\n",
    "insurance_df.head(10)"
   ]
  },
  {
   "cell_type": "markdown",
   "metadata": {},
   "source": [
    "First, let's look at the distribution of our target variable: charges. Investigating how our target is distributed helps us understand the relationship between the target and the features. It's also useful to discover some potential problems with our model as we'll discuss in the next checkpoint:"
   ]
  },
  {
   "cell_type": "code",
   "execution_count": 3,
   "metadata": {
    "scrolled": true
   },
   "outputs": [
    {
     "data": {
      "image/png": "[encoded data removed]",
      "text/plain": [
       "<Figure size 432x288 with 1 Axes>"
      ]
     },
     "metadata": {
      "needs_background": "light"
     },
     "output_type": "display_data"
    }
   ],
   "source": [
    "plt.hist(insurance_df.charges)\n",
    "plt.title(\"The distribution of insurance charges\")\n",
    "plt.xlabel(\"charges\")\n",
    "plt.ylabel(\"number of occurrence\")\n",
    "plt.show()"
   ]
  },
  {
   "cell_type": "markdown",
   "metadata": {},
   "source": [
    "We observe that charges is not normally distributed. Instead, it's highly skewed. **Skewness** is a measure of how asymmetric our data is with respect to the normal distribution. As we see in the graph, the charges variable is not symmetric but skewed to the right. The majority of the observations have low charges values and few of the observations have high charges values. This makes the distribution of the charges clustered at the left-most part of the histogram."
   ]
  },
  {
   "cell_type": "markdown",
   "metadata": {
    "colab_type": "text",
    "id": "SDzXLxdvvNKY"
   },
   "source": [
    "Notice that the categorical variables are strings and we need to convert them to numerical values. This can be viewed as part of the feature engineering process. One of the most convenient ways of converting categorical variables into numerical ones is called **one hot encoding**. In one hot encoding, we create a separate binary variable which takes 0 or 1 for each of the unique values of the categorical variable. Pandas' `get_dummies()` function does this job for us. \n",
    "\n",
    "Below, we call the `get_dummies()` function for the *sex* and *smoker* categorical variables in our dataset. Since both *sex* and *smoker* variables include two values, the `get_dummies()` function will create two dummy (indicator) variables for us. Since one of them is enough for us to indicate whether the person is male or not and is a smoker or not, we keep only one of the newly created dummies bot for *sex* and *smoker* in our data frame. We do this by feeding the parameter `drop_first`, which is set to `True` into the `get_dummies()` function."
   ]
  },
  {
   "cell_type": "code",
   "execution_count": 4,
   "metadata": {
    "colab": {
     "base_uri": "https://localhost:8080/",
     "height": 232
    },
    "colab_type": "code",
    "collapsed": true,
    "id": "SzDVttphvNKZ",
    "outputId": "7b4b50d0-5a7c-46d1-809b-b4883b03c655"
   },
   "outputs": [],
   "source": [
    "insurance_df[\"is_male\"] = pd.get_dummies(insurance_df.sex, drop_first=True)\n",
    "insurance_df[\"is_smoker\"] = pd.get_dummies(insurance_df.smoker, drop_first=True)"
   ]
  },
  {
   "cell_type": "markdown",
   "metadata": {
    "colab_type": "text",
    "id": "M0HGYFXHvNKb"
   },
   "source": [
    "At first glance, gender and smoking may play an important role in the insurance charges. So, let's look at whether we see some differences between the average costs billed to different genders and to the ones who smoke:"
   ]
  },
  {
   "cell_type": "code",
   "execution_count": 5,
   "metadata": {
    "colab": {},
    "colab_type": "code",
    "id": "TMc0cabIvNKd",
    "outputId": "c42bb9c9-26c7-4e4e-8277-890c0cfde838",
    "scrolled": true
   },
   "outputs": [
    {
     "data": {
      "image/png": "[encoded data removed]",
      "text/plain": [
       "<Figure size 720x432 with 2 Axes>"
      ]
     },
     "metadata": {
      "needs_background": "light"
     },
     "output_type": "display_data"
    }
   ],
   "source": [
    "plt.figure(figsize=(10,6))\n",
    "\n",
    "plt.subplot(1,2,1)\n",
    "plt.bar(insurance_df.groupby(\"is_male\")[\"charges\"].mean().index, insurance_df.groupby(\"is_male\")[\"charges\"].mean(),\n",
    "       color=(\"pink\",\"blue\"))\n",
    "plt.title(\"Average insurance cost wrt. gender\")\n",
    "plt.ylabel(\"Average cost\")\n",
    "plt.xlabel(\"Is male?\")\n",
    "plt.xticks([0,1])\n",
    "\n",
    "plt.subplot(1,2,2)\n",
    "plt.bar(insurance_df.groupby(\"is_smoker\")[\"charges\"].mean().index, insurance_df.groupby(\"is_smoker\")[\"charges\"].mean(),\n",
    "       color=(\"green\",\"grey\"))\n",
    "plt.title(\"Average insurance cost wrt. smoking\")\n",
    "plt.ylabel(\"Average cost\")\n",
    "plt.xlabel(\"Is smoker?\")\n",
    "plt.xticks([0,1])\n",
    "\n",
    "plt.tight_layout()\n",
    "plt.show()\n"
   ]
  },
  {
   "cell_type": "markdown",
   "metadata": {
    "colab_type": "text",
    "id": "ZmAqXGvtvNKg"
   },
   "source": [
    "As can be seen in the graph, the average costs seem to be different between each group. That is to say, on average, males seem to be charged more than females and smokers are charged more than non-smokers. \n",
    "\n",
    "Now, let's build our first model using these two features."
   ]
  },
  {
   "cell_type": "markdown",
   "metadata": {
    "colab_type": "text",
    "id": "vaK0Is9uvNKi"
   },
   "source": [
    "## Modeling the insurance charges with linear regression\n",
    "\n",
    "Let's illustrate how we can model the insurance cost using a simple linear regression model. Our target variable is \"charges\" and we include two categorical variables as our features: \"is_male\" and \"is_smoker\". Hence, our model becomes: \n",
    "\n",
    "$$ charges = \\beta_0 + \\beta_1is\\_smoker + \\beta_2is\\_male + \\epsilon \\qquad(eq.3)$$\n",
    "\n",
    "$\\beta_0$ is the constant and $\\beta_1$ and $\\beta_2$ are the coefficients of the is_smoker and is_male dummies respectively. "
   ]
  },
  {
   "cell_type": "markdown",
   "metadata": {
    "colab_type": "text",
    "id": "o-FNhleCvNKj"
   },
   "source": [
    "**An important remark on the bias term**: Putting a constant in a model is optional, but it's a good idea to include a constant in every model you build. Even though you believe that the constant would be zero, letting OLS decide whether it is zero or not is the safest way."
   ]
  },
  {
   "cell_type": "markdown",
   "metadata": {
    "colab_type": "text",
    "id": "UZicVRDRvNKk"
   },
   "source": [
    "## How to find the optimal values for coefficients?\n",
    "\n",
    "Formulating a model is the first step in a regression problem. But, we need to find a way to discover the optimal values for the unknowns (the coefficients) in the equation above. Recall that the process of finding the optimal values of the unknowns is called **optimization**.  Here,  we need an optimization algorithm to solve for the optimal coefficient values. \n",
    "\n",
    "The most common optimization algorithm used in the linear regression models is called **Ordinary Least Squares** or **OLS**.\n"
   ]
  },
  {
   "cell_type": "markdown",
   "metadata": {
    "colab_type": "text",
    "id": "qH4zVKnyvNKl"
   },
   "source": [
    "## The machinery of OLS\n",
    "\n",
    "OLS tries to minimize the squared sums of the error terms ($\\epsilon$) in the model. We can write the error term as follows:\n",
    "\n",
    "$$(y - \\beta_0 - \\sum_{i=1}^{n}\\beta_ix_i ) = \\epsilon \\qquad(eq.4)$$\n",
    "\n",
    "If we take the square of each side, it becomes:\n",
    "\n",
    "$$(y - \\beta_0 - \\sum_{i=1}^{n}\\beta_ix_i )^2 = \\epsilon^2 \\qquad(eq.5)$$\n",
    "\n",
    "Notice that this error term is for a single observation. If we have, say, $m$ observations in our dataset, then the sum of the squared errors can be represented like this:\n",
    "\n",
    "$$\\sum_{j=1}^{m}(y_j - \\beta_0 - \\sum_{i=1}^{n}\\beta_ix_{ij} )^2 = \\sum_{j=1}^{m}\\epsilon_j^2 \\qquad(eq.6)$$\n",
    "\n",
    "Recall that $i$ was representing the index of the features in the model. In the equation above, $j$ represents the index of the observations. Hence, we go over each observation and add up their squared error terms. However, using matrix notation simplifies the expression:\n",
    "\n",
    "$$(Y - \\beta X)^2 = \\mathcal{E}^2 \\qquad(eq.7)$$\n",
    "\n",
    "We will not go deeper into the derivation of the coefficients, but all you need to do is to take the derivative of  both sides with respect to each coefficient and equate them to zero! If you solve the resulting equations, then you end up with the optimal values of the coefficients:\n",
    "\n",
    "$$ \\hat{\\beta} = (X^TX)^{-1}X^TY \\qquad(eq.8)$$\n",
    "\n",
    "In (eq.8), $\\hat{\\beta}$ indicates the estimated coefficients vector, $X^T$ refers to the transpose of the feature matrix (X), and superscript $^{-1}$ refers to the inverse of a matrix.\n",
    "\n",
    "That's it! If you want to learn more about the derivation steps, you can read the [Wikipedia article](https://en.wikipedia.org/wiki/Ordinary_least_squares)."
   ]
  },
  {
   "cell_type": "markdown",
   "metadata": {
    "colab_type": "text",
    "id": "QP3vQ1gpvNKn"
   },
   "source": [
    "## An initial model for insurance charges\n",
    "\n",
    "Using (eq.3) above, now we build a simple linear regression model and estimate it using OLS. So far in the bootcamp, we mainly used scikit-learn as our machine learning package. Here, we want to introduce another popular library for regression analysis called **statsmodels**. You may find using statsmodels for fitting linear regression models easier because it's `summary()` function outputs many important metrics in a tabular form. Getting the same metrics in scikit-learn requires more work.\n",
    "\n",
    "But first, let's demonstrate how we fit linear regression models in scikit-learn. We'll use `LinearRegression()` model from the `linear_model` module:"
   ]
  },
  {
   "cell_type": "code",
   "execution_count": 6,
   "metadata": {
    "colab": {},
    "colab_type": "code",
    "id": "XVCruVHnvNKo",
    "outputId": "4a39ea0e-41f6-442b-d637-788d61abab9d",
    "scrolled": true
   },
   "outputs": [
    {
     "name": "stdout",
     "output_type": "stream",
     "text": [
      "\n",
      "Coefficients: \n",
      " [  -65.37868556 23622.13598049]\n",
      "\n",
      "Intercept: \n",
      " 8466.035592512439\n"
     ]
    }
   ],
   "source": [
    "# Y is the target variable\n",
    "Y = insurance_df['charges']\n",
    "# X is the feature set which includes\n",
    "# is_male and is_smoker variables\n",
    "X = insurance_df[['is_male','is_smoker']]\n",
    "\n",
    "# We create a LinearRegression model object\n",
    "# from scikit-learn's linear_model module.\n",
    "lrm = linear_model.LinearRegression()\n",
    "\n",
    "# fit method estimates the coefficients using OLS\n",
    "lrm.fit(X, Y)\n",
    "\n",
    "# Inspect the results.\n",
    "print('\\nCoefficients: \\n', lrm.coef_)\n",
    "print('\\nIntercept: \\n', lrm.intercept_)"
   ]
  },
  {
   "cell_type": "markdown",
   "metadata": {
    "colab_type": "text",
    "id": "8ZNzXP23vNKs"
   },
   "source": [
    "`LinearRegression()`'s `fit()` method runs the OLS algorithm by default. Since we get the parameters using OLS, we can write our estimated model:\n",
    "\n",
    "$$ charges = 8466.04 + -65.38is\\_male + 23622.14is\\_smoker \\qquad(eq.9)$$"
   ]
  },
  {
   "cell_type": "markdown",
   "metadata": {
    "colab_type": "text",
    "id": "crKTo9YlvNKt"
   },
   "source": [
    "According to the estimation results, the constant term is 8466.04. The estimated coefficients of the is_male and is_smoker features are -65.38 and 23622.14, respectively. Later in this module, we'll delve into how to interpret these estimated coefficients.\n",
    "\n",
    "Now, we run the same model, this time using statsmodels. If you didn't install it already, you can run `pip install statsmodels` from the command line. "
   ]
  },
  {
   "cell_type": "code",
   "execution_count": 8,
   "metadata": {
    "colab": {},
    "colab_type": "code",
    "id": "BvVgTfkSvNKv",
    "outputId": "0b8f1654-a3db-4ce0-b428-4f1e995bf3b0",
    "scrolled": true
   },
   "outputs": [
    {
     "data": {
      "text/html": [
       "<table class=\"simpletable\">\n",
       "<caption>OLS Regression Results</caption>\n",
       "<tr>\n",
       "  <th>Dep. Variable:</th>         <td>charges</td>     <th>  R-squared:         </th> <td>   0.620</td> \n",
       "</tr>\n",
       "<tr>\n",
       "  <th>Model:</th>                   <td>OLS</td>       <th>  Adj. R-squared:    </th> <td>   0.619</td> \n",
       "</tr>\n",
       "<tr>\n",
       "  <th>Method:</th>             <td>Least Squares</td>  <th>  F-statistic:       </th> <td>   1088.</td> \n",
       "</tr>\n",
       "<tr>\n",
       "  <th>Date:</th>             <td>Mon, 17 Dec 2018</td> <th>  Prob (F-statistic):</th> <td>4.78e-281</td>\n",
       "</tr>\n",
       "<tr>\n",
       "  <th>Time:</th>                 <td>12:30:57</td>     <th>  Log-Likelihood:    </th> <td> -13831.</td> \n",
       "</tr>\n",
       "<tr>\n",
       "  <th>No. Observations:</th>      <td>  1338</td>      <th>  AIC:               </th> <td>2.767e+04</td>\n",
       "</tr>\n",
       "<tr>\n",
       "  <th>Df Residuals:</th>          <td>  1335</td>      <th>  BIC:               </th> <td>2.768e+04</td>\n",
       "</tr>\n",
       "<tr>\n",
       "  <th>Df Model:</th>              <td>     2</td>      <th>                     </th>     <td> </td>    \n",
       "</tr>\n",
       "<tr>\n",
       "  <th>Covariance Type:</th>      <td>nonrobust</td>    <th>                     </th>     <td> </td>    \n",
       "</tr>\n",
       "</table>\n",
       "<table class=\"simpletable\">\n",
       "<tr>\n",
       "      <td></td>         <th>coef</th>     <th>std err</th>      <th>t</th>      <th>P>|t|</th>  <th>[0.025</th>    <th>0.975]</th>  \n",
       "</tr>\n",
       "<tr>\n",
       "  <th>const</th>     <td> 8466.0356</td> <td>  303.541</td> <td>   27.891</td> <td> 0.000</td> <td> 7870.566</td> <td> 9061.506</td>\n",
       "</tr>\n",
       "<tr>\n",
       "  <th>is_male</th>   <td>  -65.3787</td> <td>  409.809</td> <td>   -0.160</td> <td> 0.873</td> <td> -869.318</td> <td>  738.561</td>\n",
       "</tr>\n",
       "<tr>\n",
       "  <th>is_smoker</th> <td> 2.362e+04</td> <td>  507.736</td> <td>   46.524</td> <td> 0.000</td> <td> 2.26e+04</td> <td> 2.46e+04</td>\n",
       "</tr>\n",
       "</table>\n",
       "<table class=\"simpletable\">\n",
       "<tr>\n",
       "  <th>Omnibus:</th>       <td>135.842</td> <th>  Durbin-Watson:     </th> <td>   2.025</td>\n",
       "</tr>\n",
       "<tr>\n",
       "  <th>Prob(Omnibus):</th> <td> 0.000</td>  <th>  Jarque-Bera (JB):  </th> <td> 211.897</td>\n",
       "</tr>\n",
       "<tr>\n",
       "  <th>Skew:</th>          <td> 0.727</td>  <th>  Prob(JB):          </th> <td>9.71e-47</td>\n",
       "</tr>\n",
       "<tr>\n",
       "  <th>Kurtosis:</th>      <td> 4.299</td>  <th>  Cond. No.          </th> <td>    2.97</td>\n",
       "</tr>\n",
       "</table><br/><br/>Warnings:<br/>[1] Standard Errors assume that the covariance matrix of the errors is correctly specified."
      ],
      "text/plain": [
       "<class 'statsmodels.iolib.summary.Summary'>\n",
       "\"\"\"\n",
       "                            OLS Regression Results                            \n",
       "==============================================================================\n",
       "Dep. Variable:                charges   R-squared:                       0.620\n",
       "Model:                            OLS   Adj. R-squared:                  0.619\n",
       "Method:                 Least Squares   F-statistic:                     1088.\n",
       "Date:                Mon, 17 Dec 2018   Prob (F-statistic):          4.78e-281\n",
       "Time:                        12:30:57   Log-Likelihood:                -13831.\n",
       "No. Observations:                1338   AIC:                         2.767e+04\n",
       "Df Residuals:                    1335   BIC:                         2.768e+04\n",
       "Df Model:                           2                                         \n",
       "Covariance Type:            nonrobust                                         \n",
       "==============================================================================\n",
       "                 coef    std err          t      P>|t|      [0.025      0.975]\n",
       "------------------------------------------------------------------------------\n",
       "const       8466.0356    303.541     27.891      0.000    7870.566    9061.506\n",
       "is_male      -65.3787    409.809     -0.160      0.873    -869.318     738.561\n",
       "is_smoker   2.362e+04    507.736     46.524      0.000    2.26e+04    2.46e+04\n",
       "==============================================================================\n",
       "Omnibus:                      135.842   Durbin-Watson:                   2.025\n",
       "Prob(Omnibus):                  0.000   Jarque-Bera (JB):              211.897\n",
       "Skew:                           0.727   Prob(JB):                     9.71e-47\n",
       "Kurtosis:                       4.299   Cond. No.                         2.97\n",
       "==============================================================================\n",
       "\n",
       "Warnings:\n",
       "[1] Standard Errors assume that the covariance matrix of the errors is correctly specified.\n",
       "\"\"\""
      ]
     },
     "execution_count": 8,
     "metadata": {},
     "output_type": "execute_result"
    }
   ],
   "source": [
    "import statsmodels.api as sm\n",
    "\n",
    "# We need to manually add a constant\n",
    "# in statsmodels' sm\n",
    "X = sm.add_constant(X)\n",
    "\n",
    "results = sm.OLS(Y, X).fit()\n",
    "\n",
    "results.summary()"
   ]
  },
  {
   "cell_type": "markdown",
   "metadata": {
    "colab_type": "text",
    "id": "umpOiW3bvNK0"
   },
   "source": [
    "First, notice that we added a constant to our existing feature set using this code:`X = sm.add_constant(X)`. This is because statsmodels' `fit()` function doesn't add a constant by default as opposed to scikit-learn's `fit()` function.\n",
    "\n",
    "Second, when we call the `summary()` function on the fitted OLS model, it prints out a table statistics. For example, in the upper side of the table, we see statistics like R-squared, adjusted R-squared, F-statistic, Log-likelihood, AIC, and BIC. Those are related to the goodness of fit of our model. In the lower part, we see statistics like Durbin-Watson, Jarque-Bera, skewness, and kurtosis. Those statistics are related to whether our model satisfies some assumptions of the linear regression model. For example, skewness is a measure of how asymmetric our data is and kurtosis is a measure of whether our data is heavy or light tailed with respect to a normal distribution. Don't worry about the details of these statistics as we'll go over some of them later in this module. For now, notice that in the middle of the table, estimated values for the coefficients are given, and those are exactly the same as what we got from the scikit-learn."
   ]
  },
  {
   "cell_type": "markdown",
   "metadata": {
    "colab_type": "text",
    "id": "SOMwO1DevNK5"
   },
   "source": [
    "## Assignment: predicting house prices\n",
    "\n",
    "Now, it's your turn to design your first regression model. In this module, you'll be using a version of the \"House Prices\" dataset from Kaggle that we've ported to a Postgres database. This dataset consists of 79 variables describing many aspects of residential homes in Ames, Iowa. Using this data, your task will be to predict the prices of the houses. You can find the descriptions of the variables here: [House Prices](https://www.kaggle.com/c/house-prices-advanced-regression-techniques/data)\n",
    "\n",
    "To complete this assignment, create a Jupyter notebook containing your solutions to the following tasks:\n",
    "\n",
    "* Load the dataset from the Thinkful PostgreSQL database. You can look at the example above for inspiration on how to generate the database engine URL. You'll need the following values:\n",
    "\n",
    "```python\n",
    "postgres_user = 'dsbc_student'\n",
    "postgres_pw = '7*.8G9QH21'\n",
    "postgres_host = '142.93.121.174'\n",
    "postgres_port = '5432'\n",
    "postgres_db = 'houseprices'\n",
    "```\n",
    "\n",
    "* Please follow the example above and call `engine.dispose()` when you no longer need to make db queries. You need to be in the habit of responsibly managing database connections, and the database only supports a limited number of connections.\n",
    "* Investigate the data, and do any necessary data cleaning.\n",
    "* Explore the data and find some variables that you think would be useful in predicting house prices.\n",
    "* Build your initial model using these features and estimate the parameters using OLS.\n",
    "\n",
    "\n",
    "Spend up to 4 hours on this assignment. When you are done and have submitted a link to your notebook below, feel free to take a look at [this example solution](https://github.com/Thinkful-Ed/machine-learning-regression-problems/blob/master/notebooks/2.solution_simple_linear_regression_models.ipynb).\n",
    "\n"
   ]
  }
 ],
 "metadata": {
  "colab": {
   "name": "2.simple_linear_regression_models.ipynb",
   "provenance": [],
   "version": "0.3.2"
  },
  "kernelspec": {
   "display_name": "Python 3",
   "language": "python",
   "name": "python3"
  },
  "language_info": {
   "codemirror_mode": {
    "name": "ipython",
    "version": 3
   },
   "file_extension": ".py",
   "mimetype": "text/x-python",
   "name": "python",
   "nbconvert_exporter": "python",
   "pygments_lexer": "ipython3",
   "version": "3.7.3"
  }
 },
 "nbformat": 4,
 "nbformat_minor": 1
}
