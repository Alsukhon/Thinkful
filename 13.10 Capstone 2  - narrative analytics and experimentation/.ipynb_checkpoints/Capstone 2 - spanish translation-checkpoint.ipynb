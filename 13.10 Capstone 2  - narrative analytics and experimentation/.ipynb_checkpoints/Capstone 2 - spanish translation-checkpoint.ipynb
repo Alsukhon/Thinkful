{
 "cells": [
  {
   "cell_type": "markdown",
   "metadata": {},
   "source": [
    "# Problem \n",
    "\n",
    "A worldwide e-commerce site has localized versions of the site in Spanish. Managers noticed that Spain-based users have a much higher conversion rate than any other Spanish-speaking country. After talking to the international team in charge of Spain And Latin America(LatAm) about it, the Spain and LatAm country manager suggested that one reason could be translation. All Spanish- speaking countries originally had the same translation of the site which was written by a translator from Spain. \n",
    "\n",
    "\n",
    "# Proposed Solution\n",
    "\n",
    "They agreed to try a test where each country would have its one translation written by a local (Argentinian users would see a translation written by an Argentinian, Mexican users by a Mexican, and so on), replicating what happened with Spanish users. As for users from Spain, they would have no change since their translation is already localized to Spanish.\n",
    "\n",
    "\n",
    "## Hypothesis\n",
    "\n",
    "Including a localized Spanish translation for each country's dialect will increase conversions for Spanish-speaking countries other than Spain.\n",
    "\n",
    "## Metric\n",
    "\n",
    "We will be using conversion as the metric to test our hypothesis. Conversion is defined as the number of customers who sign up for the company's website, given they have been exposed to the translation.\n",
    "\n",
    "##  Experiment\n",
    "\n",
    "Our goal from this experiment is to understand the effect of having local translation from each country on user conversion, which is done by randomly dividing visitors into equal groups for each country, and having one group (control group) exposed to the original Spanish translation, and the other (treatment group) exposed to a more localized Spanish translation. We want to measure conversion for each group after having been exposed to respective translations, and see whether having a localized translation results in a significant difference between conversions coming from users viewing the control version versus the treatment version.\n",
    "\n",
    "It is estimated that about 80,000 shoppers from Spanish-speaking countries visit the website daily, and the company would want enough time to negotiate contracts before the holiday season if the result turns out favorable towards local translations. Therefore, the experiment will run for 5 days to allow for a sizeable sample, which is from the 30th of November to December 4th, giving enough time for the company to act on findings before the holidays.\n",
    "\n",
    "First, the conversion ratio will be explored for both groups in order to have an idea of the effects of localizing translations. Then, a two-tailed statistical t-test will determine whether statistically significant difference exists, and whether it is worth introducing to the website. The two-tailed test will be used because we do not know which translation is likely to perform better, and therefore can use testing in two directions."
   ]
  },
  {
   "cell_type": "markdown",
   "metadata": {},
   "source": [
    "Let us start by importing Python libraries needed for our analysis, followed by importing the files and merging them into one dataframe:"
   ]
  },
  {
   "cell_type": "code",
   "execution_count": 33,
   "metadata": {},
   "outputs": [],
   "source": [
    "from matplotlib import pyplot as plt\n",
    "from matplotlib import rcParams\n",
    "import numpy as np\n",
    "import pandas as pd\n",
    "import re\n",
    "import seaborn as sns\n",
    "from scipy import stats\n",
    "\n",
    "import warnings\n",
    "%matplotlib inline\n",
    "warnings.filterwarnings(\"ignore\")"
   ]
  },
  {
   "cell_type": "code",
   "execution_count": 34,
   "metadata": {},
   "outputs": [],
   "source": [
    "# Import both data files\n",
    "df = pd.read_csv(r\"C:\\Users\\Mohammad\\Documents\\Thinkful\\13.10 Capstone 2  - narrative analytics and experimentation\\spanish_translation\\test_table.csv\")\n",
    "users = pd.read_csv(r\"C:\\Users\\Mohammad\\Documents\\Thinkful\\13.10 Capstone 2  - narrative analytics and experimentation\\spanish_translation\\user_table.csv\")"
   ]
  },
  {
   "cell_type": "code",
   "execution_count": 35,
   "metadata": {},
   "outputs": [
    {
     "data": {
      "text/plain": [
       "452867"
      ]
     },
     "execution_count": 35,
     "metadata": {},
     "output_type": "execute_result"
    }
   ],
   "source": [
    "# Merge dataframes and delete them after\n",
    "data = pd.merge(df, users , how='inner', on=\"user_id\")\n",
    "del df\n",
    "del users\n",
    "data.head()\n",
    "len(data)"
   ]
  },
  {
   "cell_type": "markdown",
   "metadata": {},
   "source": [
    "Now that we have our dataframe ready, let us see the sizes of observations in control (test = 0) and treatment (test = 1) groups per country:"
   ]
  },
  {
   "cell_type": "code",
   "execution_count": 79,
   "metadata": {},
   "outputs": [
    {
     "data": {
      "text/html": [
       "<div>\n",
       "<style scoped>\n",
       "    .dataframe tbody tr th:only-of-type {\n",
       "        vertical-align: middle;\n",
       "    }\n",
       "\n",
       "    .dataframe tbody tr th {\n",
       "        vertical-align: top;\n",
       "    }\n",
       "\n",
       "    .dataframe thead th {\n",
       "        text-align: right;\n",
       "    }\n",
       "</style>\n",
       "<table border=\"1\" class=\"dataframe\">\n",
       "  <thead>\n",
       "    <tr style=\"text-align: right;\">\n",
       "      <th></th>\n",
       "      <th>country</th>\n",
       "      <th>test</th>\n",
       "      <th>sample_size</th>\n",
       "      <th>conversion</th>\n",
       "      <th>conv_ratio</th>\n",
       "    </tr>\n",
       "  </thead>\n",
       "  <tbody>\n",
       "    <tr>\n",
       "      <th>0</th>\n",
       "      <td>Bolivia</td>\n",
       "      <td>0</td>\n",
       "      <td>5550</td>\n",
       "      <td>274</td>\n",
       "      <td>0.049369</td>\n",
       "    </tr>\n",
       "    <tr>\n",
       "      <th>1</th>\n",
       "      <td>Bolivia</td>\n",
       "      <td>1</td>\n",
       "      <td>5574</td>\n",
       "      <td>267</td>\n",
       "      <td>0.047901</td>\n",
       "    </tr>\n",
       "    <tr>\n",
       "      <th>2</th>\n",
       "      <td>Chile</td>\n",
       "      <td>0</td>\n",
       "      <td>9853</td>\n",
       "      <td>474</td>\n",
       "      <td>0.048107</td>\n",
       "    </tr>\n",
       "    <tr>\n",
       "      <th>3</th>\n",
       "      <td>Chile</td>\n",
       "      <td>1</td>\n",
       "      <td>9884</td>\n",
       "      <td>507</td>\n",
       "      <td>0.051295</td>\n",
       "    </tr>\n",
       "    <tr>\n",
       "      <th>4</th>\n",
       "      <td>Colombia</td>\n",
       "      <td>0</td>\n",
       "      <td>27088</td>\n",
       "      <td>1411</td>\n",
       "      <td>0.052089</td>\n",
       "    </tr>\n",
       "    <tr>\n",
       "      <th>5</th>\n",
       "      <td>Colombia</td>\n",
       "      <td>1</td>\n",
       "      <td>26972</td>\n",
       "      <td>1364</td>\n",
       "      <td>0.050571</td>\n",
       "    </tr>\n",
       "    <tr>\n",
       "      <th>6</th>\n",
       "      <td>Costa Rica</td>\n",
       "      <td>0</td>\n",
       "      <td>2660</td>\n",
       "      <td>139</td>\n",
       "      <td>0.052256</td>\n",
       "    </tr>\n",
       "    <tr>\n",
       "      <th>7</th>\n",
       "      <td>Costa Rica</td>\n",
       "      <td>1</td>\n",
       "      <td>2649</td>\n",
       "      <td>145</td>\n",
       "      <td>0.054738</td>\n",
       "    </tr>\n",
       "    <tr>\n",
       "      <th>8</th>\n",
       "      <td>Ecuador</td>\n",
       "      <td>0</td>\n",
       "      <td>8036</td>\n",
       "      <td>395</td>\n",
       "      <td>0.049154</td>\n",
       "    </tr>\n",
       "    <tr>\n",
       "      <th>9</th>\n",
       "      <td>Ecuador</td>\n",
       "      <td>1</td>\n",
       "      <td>7859</td>\n",
       "      <td>385</td>\n",
       "      <td>0.048988</td>\n",
       "    </tr>\n",
       "    <tr>\n",
       "      <th>10</th>\n",
       "      <td>El Salvador</td>\n",
       "      <td>0</td>\n",
       "      <td>4108</td>\n",
       "      <td>220</td>\n",
       "      <td>0.053554</td>\n",
       "    </tr>\n",
       "    <tr>\n",
       "      <th>11</th>\n",
       "      <td>El Salvador</td>\n",
       "      <td>1</td>\n",
       "      <td>4067</td>\n",
       "      <td>195</td>\n",
       "      <td>0.047947</td>\n",
       "    </tr>\n",
       "    <tr>\n",
       "      <th>12</th>\n",
       "      <td>Guatemala</td>\n",
       "      <td>0</td>\n",
       "      <td>7622</td>\n",
       "      <td>386</td>\n",
       "      <td>0.050643</td>\n",
       "    </tr>\n",
       "    <tr>\n",
       "      <th>13</th>\n",
       "      <td>Guatemala</td>\n",
       "      <td>1</td>\n",
       "      <td>7503</td>\n",
       "      <td>365</td>\n",
       "      <td>0.048647</td>\n",
       "    </tr>\n",
       "    <tr>\n",
       "      <th>14</th>\n",
       "      <td>Honduras</td>\n",
       "      <td>0</td>\n",
       "      <td>4361</td>\n",
       "      <td>222</td>\n",
       "      <td>0.050906</td>\n",
       "    </tr>\n",
       "    <tr>\n",
       "      <th>15</th>\n",
       "      <td>Honduras</td>\n",
       "      <td>1</td>\n",
       "      <td>4207</td>\n",
       "      <td>200</td>\n",
       "      <td>0.047540</td>\n",
       "    </tr>\n",
       "    <tr>\n",
       "      <th>16</th>\n",
       "      <td>Mexico</td>\n",
       "      <td>0</td>\n",
       "      <td>64209</td>\n",
       "      <td>3178</td>\n",
       "      <td>0.049495</td>\n",
       "    </tr>\n",
       "    <tr>\n",
       "      <th>17</th>\n",
       "      <td>Mexico</td>\n",
       "      <td>1</td>\n",
       "      <td>64275</td>\n",
       "      <td>3290</td>\n",
       "      <td>0.051186</td>\n",
       "    </tr>\n",
       "    <tr>\n",
       "      <th>18</th>\n",
       "      <td>Nicaragua</td>\n",
       "      <td>0</td>\n",
       "      <td>3419</td>\n",
       "      <td>180</td>\n",
       "      <td>0.052647</td>\n",
       "    </tr>\n",
       "    <tr>\n",
       "      <th>19</th>\n",
       "      <td>Nicaragua</td>\n",
       "      <td>1</td>\n",
       "      <td>3304</td>\n",
       "      <td>179</td>\n",
       "      <td>0.054177</td>\n",
       "    </tr>\n",
       "    <tr>\n",
       "      <th>20</th>\n",
       "      <td>Panama</td>\n",
       "      <td>0</td>\n",
       "      <td>1966</td>\n",
       "      <td>92</td>\n",
       "      <td>0.046796</td>\n",
       "    </tr>\n",
       "    <tr>\n",
       "      <th>21</th>\n",
       "      <td>Panama</td>\n",
       "      <td>1</td>\n",
       "      <td>1985</td>\n",
       "      <td>98</td>\n",
       "      <td>0.049370</td>\n",
       "    </tr>\n",
       "    <tr>\n",
       "      <th>22</th>\n",
       "      <td>Paraguay</td>\n",
       "      <td>0</td>\n",
       "      <td>3650</td>\n",
       "      <td>177</td>\n",
       "      <td>0.048493</td>\n",
       "    </tr>\n",
       "    <tr>\n",
       "      <th>23</th>\n",
       "      <td>Paraguay</td>\n",
       "      <td>1</td>\n",
       "      <td>3697</td>\n",
       "      <td>182</td>\n",
       "      <td>0.049229</td>\n",
       "    </tr>\n",
       "    <tr>\n",
       "      <th>24</th>\n",
       "      <td>Peru</td>\n",
       "      <td>0</td>\n",
       "      <td>16869</td>\n",
       "      <td>842</td>\n",
       "      <td>0.049914</td>\n",
       "    </tr>\n",
       "    <tr>\n",
       "      <th>25</th>\n",
       "      <td>Peru</td>\n",
       "      <td>1</td>\n",
       "      <td>16797</td>\n",
       "      <td>850</td>\n",
       "      <td>0.050604</td>\n",
       "    </tr>\n",
       "    <tr>\n",
       "      <th>26</th>\n",
       "      <td>Venezuela</td>\n",
       "      <td>0</td>\n",
       "      <td>16149</td>\n",
       "      <td>813</td>\n",
       "      <td>0.050344</td>\n",
       "    </tr>\n",
       "    <tr>\n",
       "      <th>27</th>\n",
       "      <td>Venezuela</td>\n",
       "      <td>1</td>\n",
       "      <td>15905</td>\n",
       "      <td>779</td>\n",
       "      <td>0.048978</td>\n",
       "    </tr>\n",
       "  </tbody>\n",
       "</table>\n",
       "</div>"
      ],
      "text/plain": [
       "        country  test  sample_size  conversion  conv_ratio\n",
       "0       Bolivia     0         5550         274    0.049369\n",
       "1       Bolivia     1         5574         267    0.047901\n",
       "2         Chile     0         9853         474    0.048107\n",
       "3         Chile     1         9884         507    0.051295\n",
       "4      Colombia     0        27088        1411    0.052089\n",
       "5      Colombia     1        26972        1364    0.050571\n",
       "6    Costa Rica     0         2660         139    0.052256\n",
       "7    Costa Rica     1         2649         145    0.054738\n",
       "8       Ecuador     0         8036         395    0.049154\n",
       "9       Ecuador     1         7859         385    0.048988\n",
       "10  El Salvador     0         4108         220    0.053554\n",
       "11  El Salvador     1         4067         195    0.047947\n",
       "12    Guatemala     0         7622         386    0.050643\n",
       "13    Guatemala     1         7503         365    0.048647\n",
       "14     Honduras     0         4361         222    0.050906\n",
       "15     Honduras     1         4207         200    0.047540\n",
       "16       Mexico     0        64209        3178    0.049495\n",
       "17       Mexico     1        64275        3290    0.051186\n",
       "18    Nicaragua     0         3419         180    0.052647\n",
       "19    Nicaragua     1         3304         179    0.054177\n",
       "20       Panama     0         1966          92    0.046796\n",
       "21       Panama     1         1985          98    0.049370\n",
       "22     Paraguay     0         3650         177    0.048493\n",
       "23     Paraguay     1         3697         182    0.049229\n",
       "24         Peru     0        16869         842    0.049914\n",
       "25         Peru     1        16797         850    0.050604\n",
       "26    Venezuela     0        16149         813    0.050344\n",
       "27    Venezuela     1        15905         779    0.048978"
      ]
     },
     "execution_count": 79,
     "metadata": {},
     "output_type": "execute_result"
    }
   ],
   "source": [
    "# Produce a summary dataframe, grouped by Country and test group with counts of each group:\n",
    "sample_sizes = data[['country','test','conversion']].groupby(['country','test'], as_index=False).count()\n",
    "\n",
    "# Produce a similar dataframe containing conversion ratios of each group:\n",
    "conversions = data[['country','test','conversion']].groupby(['country','test'],as_index=False).sum()\n",
    "\n",
    "# Merge dataframes and rename columns \n",
    "summary = pd.merge(sample_sizes,conversions,on=['country','test'])\n",
    "summary = summary.rename(columns={'conversion_x':'sample_size','conversion_y':'conversion'})\n",
    "\n",
    "# Add a conversion ratio column, where the ratio = conversion/sample size\n",
    "summary['conv_ratio'] = summary['conversion']/summary['sample_size']\n",
    "summary"
   ]
  },
  {
   "cell_type": "markdown",
   "metadata": {},
   "source": [
    "Control and treament sample sizes generally seem to be balanced in all countries except Argentina and Uruguay. How much does data from these countries represent of the whole dataset?"
   ]
  },
  {
   "cell_type": "code",
   "execution_count": 36,
   "metadata": {},
   "outputs": [
    {
     "name": "stdout",
     "output_type": "stream",
     "text": [
      "11.23%\n"
     ]
    }
   ],
   "source": [
    "Arg_Uru = (len(data[data['country']=='Argentina'])+len(data[data['country']=='Uruguay']))/len(data)*100\n",
    "print(str(round(Arg_Uru,2))+'%')"
   ]
  },
  {
   "cell_type": "markdown",
   "metadata": {},
   "source": [
    "Alright, so 11% of a huge dataset can contain many conversions in one group or the other, biasing our results. Also, the dataset still contains visitors from Spain, which only applies as a control group. Based on this, observations from the 3 countries will be removed to rule out any bias that may invalidate our results. After that, we will visualize how conversions really look like for control and test groups:"
   ]
  },
  {
   "cell_type": "code",
   "execution_count": 50,
   "metadata": {},
   "outputs": [
    {
     "data": {
      "text/plain": [
       "350218"
      ]
     },
     "execution_count": 50,
     "metadata": {},
     "output_type": "execute_result"
    }
   ],
   "source": [
    "# Remove the 3 countries from the dataset\n",
    "data = data[data['country'] != 'Spain']\n",
    "data = data[data['country'] != 'Argentina']\n",
    "data = data[data['country'] != 'Uruguay']\n",
    "len(data)"
   ]
  },
  {
   "cell_type": "code",
   "execution_count": 51,
   "metadata": {},
   "outputs": [
    {
     "data": {
      "image/png": "[encoded data removed]",
      "text/plain": [
       "<Figure size 432x288 with 1 Axes>"
      ]
     },
     "metadata": {
      "needs_background": "light"
     },
     "output_type": "display_data"
    }
   ],
   "source": [
    "# Parse date column values to datetime\n",
    "data[\"date\"] = pd.to_datetime(data[\"date\"], infer_datetime_format=True)\n",
    "\n",
    "# Plot our dataframe\n",
    "fig = data[data.test==1][\n",
    "    ['date', 'conversion']].groupby('date').mean().plot()\n",
    "data[data.test==0][\n",
    "    ['date', 'conversion']].groupby('date').mean().plot(ax=fig)\n",
    "plt.legend(['test','control'])\n",
    "plt.title('Conversion Rates by Date')\n",
    "plt.ylabel(\"Conversion\")\n",
    "plt.show()"
   ]
  },
  {
   "cell_type": "markdown",
   "metadata": {},
   "source": [
    "Having removed imbalanced observations and visualized the rest, we can notice that conversions generally move in the same direction in time, with increasing conversions for both groups starting after December 1st and fluctuating after that. Conversions for the test group on December 2nd and 4th give hope that there may be significant difference in the website's performance in bringing in conversion. \n",
    "\n",
    "Next we will do a test of statistical power to determine whether the sample size needed to rely on the t-test we will be conducting, based on the following equation: $$n = \\frac{2(\\bar p)(1 - \\bar p)(Z_p - Z)^2}{(p_1 - p_2)^2}$$ The function will take in the probability of each group, and give us the number of observations needed to infer with a certain degree of confidence:"
   ]
  },
  {
   "cell_type": "code",
   "execution_count": 62,
   "metadata": {},
   "outputs": [
    {
     "data": {
      "text/plain": [
       "10702973"
      ]
     },
     "execution_count": 62,
     "metadata": {},
     "output_type": "execute_result"
    }
   ],
   "source": [
    "# Power test to determine sample size for a certain stat power & significance level:\n",
    "def sample_power_probtest(p1, p2, power=0.8, sig=0.05):\n",
    "    z = stats.norm.isf([sig/2]) #two-sided t test\n",
    "    zp = -1 * stats.norm.isf([power]) \n",
    "    d = (p1-p2)\n",
    "    s =2*((p1+p2) /2)*(1-((p1+p2) /2))\n",
    "    n = s * ((zp + z)**2) / (d**2)\n",
    "    return int(round(n[0]))\n",
    "\n",
    "p1 = data[data['test']==1]['conversion'].mean()\n",
    "p2 = data[data['test']==0]['conversion'].mean()\n",
    "sample_power_probtest(p1, p2)"
   ]
  },
  {
   "cell_type": "markdown",
   "metadata": {},
   "source": [
    "This number is much higher than the sample size we have. This says that we do need to conduct another experiment that lasts at least about 4 months to get a meaningful result out of the analysis. However, for our current website needs we will carry on with our analysis to infer what we can about this experiment."
   ]
  },
  {
   "cell_type": "code",
   "execution_count": 68,
   "metadata": {},
   "outputs": [
    {
     "data": {
      "text/plain": [
       "<function list.index(value, start=0, stop=9223372036854775807, /)>"
      ]
     },
     "execution_count": 68,
     "metadata": {},
     "output_type": "execute_result"
    }
   ],
   "source": [
    "# Compute t-test for each day of the experiment and display them in lists along with p-values\n",
    "statistic_list = []\n",
    "for date in data.date.unique():\n",
    "    dated_data = data[data.date == date]\n",
    "    statistic = (list(stats.ttest_ind(dated_data[dated_data.test == 1].conversion,\n",
    "                          dated_data[dated_data.test == 0].conversion)))\n",
    "    statistic[1] = \"%.16f\" % statistic[1]\n",
    "    statistic_list.append(statistic)\n",
    "    \n"
   ]
  },
  {
   "cell_type": "markdown",
   "metadata": {},
   "source": [
    "The results show no statistically significant difference in between the groups, evidenced by low t-values shown on the right of each list. Moreover, p-values are high, indicating that such a test needs a multitude of observations _(Seen above in the power test)_ to provide meaningful insight.\n",
    "\n",
    "This means that as far as the results of our test, the groups show no difference, and we cannot reject the null hypothesis."
   ]
  },
  {
   "cell_type": "markdown",
   "metadata": {},
   "source": [
    "Before we get to the recommendation, we need to know what was the maximum difference in sample size were we willing to accept?"
   ]
  },
  {
   "cell_type": "code",
   "execution_count": 102,
   "metadata": {},
   "outputs": [
    {
     "name": "stdout",
     "output_type": "stream",
     "text": [
      "Max difference for control: 3.5%\n",
      "Max difference for test: 3.7%\n"
     ]
    }
   ],
   "source": [
    "test_diff = []\n",
    "ctrl_diff = []\n",
    "\n",
    "# Subtract control & test sample sizes and get the maximum difference we accepted:\n",
    "for val in np.unique(summary['country']):\n",
    "        control = summary[summary['country']==val]['sample_size'].iloc[0]\n",
    "        test = summary[summary['country']==val]['sample_size'].iloc[1]\n",
    "        c_diff = round(abs(test-control)/control*100,1)\n",
    "        t_diff = round(abs(test-control)/test*100,1)\n",
    "        ctrl_diff.append(c_diff)\n",
    "        test_diff.append(t_diff)\n",
    "        \n",
    "print ('Max difference for control: '+str(max(ctrl_diff))+'%')\n",
    "print ('Max difference for test: '+str(max(test_diff))+'%')"
   ]
  },
  {
   "cell_type": "markdown",
   "metadata": {},
   "source": [
    "## Recommendation\n",
    "\n",
    "Since our sample size is clearly too small to produce a significant result, we recommend the following to obtain a sample with a size that produces statistically significant result:\n",
    "\n",
    "- Employing a randomization technique with the next experiment where the maximum difference between control and treatment groups for each country is  not more than 3.7% for any of them.\n",
    "\n",
    "- Replicating the same experiment on a period of no less than 5 months to obtain a sample size that we can reliably test, conclude from, and act upon.\n",
    "\n",
    "- If possible, introducing local translation at a small scale where cost is feasible to prepare for the larger experiment and anticipate any systematic issues.\n",
    "\n"
   ]
  }
 ],
 "metadata": {
  "kernelspec": {
   "display_name": "Python 3",
   "language": "python",
   "name": "python3"
  },
  "language_info": {
   "codemirror_mode": {
    "name": "ipython",
    "version": 3
   },
   "file_extension": ".py",
   "mimetype": "text/x-python",
   "name": "python",
   "nbconvert_exporter": "python",
   "pygments_lexer": "ipython3",
   "version": "3.7.1"
  }
 },
 "nbformat": 4,
 "nbformat_minor": 2
}
