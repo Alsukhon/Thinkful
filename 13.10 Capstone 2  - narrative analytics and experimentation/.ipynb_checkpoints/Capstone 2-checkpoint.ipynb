{
 "cells": [
  {
   "cell_type": "markdown",
   "metadata": {},
   "source": [
    "In spring 2013, Montana State University's (MSU) library website was being reviewed for its User Experience (UX) performance. While trying to understand usability of different website categories, the committee reviewing the website noticed that among the three main service categories displayed (Find, Request, Interact), the Interact category was not used as expected. The Interact category allowed students access to research assistance, writing assistance, and tech support. \n",
    "\n",
    "### Problem\n",
    "\n",
    "Website analytics for the library website showed users neglecting the Interact category on the website. Specifically, the click-through rate for Interact was only 2%. The click-through rate for a link is defined as the number of visitors of a website divided by the number of clicks on that link.\n",
    "\n",
    "The library’s web committee met and conceptualized that \"Interact\" added difficulty and confusion for students. They proposed several other names that may help students find what they are looking for: Connect, Learn, Help, and Services. \n",
    "\n",
    "The committee took an additional step to narrow down the scope of the question by asking students about how they thought these variant namings could help. In general, students selected Help and Services, respectively, as the two most expressive names of the underlying services.\n",
    "\n",
    "\n",
    "\n",
    "### Hypothesis and Proposed Solution\n",
    "\n",
    "Upon interviewing students, the committee decided to test the new variations. We hypothesize that naming the link Help or Services will increase visitor engagement with the category when measured against the original name, Interact.\n",
    "\n"
   ]
  },
  {
   "cell_type": "code",
   "execution_count": 7,
   "metadata": {},
   "outputs": [],
   "source": [
    "from matplotlib import pyplot as plt\n",
    "import numpy as np\n",
    "import pandas as pd\n",
    "import re\n",
    "import seaborn as sns\n",
    "from scipy import stats\n",
    "%matplotlib inline"
   ]
  },
  {
   "cell_type": "code",
   "execution_count": 2,
   "metadata": {},
   "outputs": [
    {
     "data": {
      "text/html": [
       "<div>\n",
       "<style scoped>\n",
       "    .dataframe tbody tr th:only-of-type {\n",
       "        vertical-align: middle;\n",
       "    }\n",
       "\n",
       "    .dataframe tbody tr th {\n",
       "        vertical-align: top;\n",
       "    }\n",
       "\n",
       "    .dataframe thead th {\n",
       "        text-align: right;\n",
       "    }\n",
       "</style>\n",
       "<table border=\"1\" class=\"dataframe\">\n",
       "  <thead>\n",
       "    <tr style=\"text-align: right;\">\n",
       "      <th></th>\n",
       "      <th>Element ID</th>\n",
       "      <th>Tag name</th>\n",
       "      <th>Name</th>\n",
       "      <th>No. clicks</th>\n",
       "      <th>Visible?</th>\n",
       "      <th>Snapshot information</th>\n",
       "    </tr>\n",
       "  </thead>\n",
       "  <tbody>\n",
       "    <tr>\n",
       "      <th>0</th>\n",
       "      <td>128</td>\n",
       "      <td>area</td>\n",
       "      <td>Montana State University - Home</td>\n",
       "      <td>1291</td>\n",
       "      <td>False</td>\n",
       "      <td>Homepage Version 1 - Interact   •   http://www...</td>\n",
       "    </tr>\n",
       "    <tr>\n",
       "      <th>1</th>\n",
       "      <td>69</td>\n",
       "      <td>a</td>\n",
       "      <td>FIND</td>\n",
       "      <td>842</td>\n",
       "      <td>True</td>\n",
       "      <td>created 5-29-2013   •   20 days 4 hours 21 min...</td>\n",
       "    </tr>\n",
       "    <tr>\n",
       "      <th>2</th>\n",
       "      <td>61</td>\n",
       "      <td>input</td>\n",
       "      <td>s.q</td>\n",
       "      <td>508</td>\n",
       "      <td>True</td>\n",
       "      <td>NaN</td>\n",
       "    </tr>\n",
       "    <tr>\n",
       "      <th>3</th>\n",
       "      <td>67</td>\n",
       "      <td>a</td>\n",
       "      <td>lib.montana.edu/find/</td>\n",
       "      <td>166</td>\n",
       "      <td>True</td>\n",
       "      <td>NaN</td>\n",
       "    </tr>\n",
       "    <tr>\n",
       "      <th>4</th>\n",
       "      <td>78</td>\n",
       "      <td>a</td>\n",
       "      <td>REQUEST</td>\n",
       "      <td>151</td>\n",
       "      <td>True</td>\n",
       "      <td>NaN</td>\n",
       "    </tr>\n",
       "  </tbody>\n",
       "</table>\n",
       "</div>"
      ],
      "text/plain": [
       "   Element ID Tag name                             Name  No. clicks  Visible?  \\\n",
       "0         128     area  Montana State University - Home        1291     False   \n",
       "1          69        a                             FIND         842      True   \n",
       "2          61    input                              s.q         508      True   \n",
       "3          67        a            lib.montana.edu/find/         166      True   \n",
       "4          78        a                          REQUEST         151      True   \n",
       "\n",
       "                                Snapshot information  \n",
       "0  Homepage Version 1 - Interact   •   http://www...  \n",
       "1  created 5-29-2013   •   20 days 4 hours 21 min...  \n",
       "2                                                NaN  \n",
       "3                                                NaN  \n",
       "4                                                NaN  "
      ]
     },
     "execution_count": 2,
     "metadata": {},
     "output_type": "execute_result"
    }
   ],
   "source": [
    "interact_ver = pd.read_csv(r\"C:\\Users\\Mohammad\\Documents\\Thinkful\\13.10 Capstone 2  - narrative analytics and experimentation\\CrazyEgg\\Homepage Version 1 - Interact, 5-29-2013\\interact.csv\")\n",
    "help_ver = pd.read_csv(r\"C:\\Users\\Mohammad\\Documents\\Thinkful\\13.10 Capstone 2  - narrative analytics and experimentation\\CrazyEgg\\Homepage Version 4 - Help, 5-29-2013\\help.csv\")\n",
    "services_ver = pd.read_csv(r\"C:\\Users\\Mohammad\\Documents\\Thinkful\\13.10 Capstone 2  - narrative analytics and experimentation\\CrazyEgg\\Homepage Version 5 - Services, 5-29-2013\\services.csv\")\n",
    "interact_ver.head()"
   ]
  },
  {
   "cell_type": "markdown",
   "metadata": {},
   "source": [
    "The Snapshot information column lists total page views for the experiment period. After renaming columns to more convenient titles, we will store total page views for each variation in a dictionary for reference."
   ]
  },
  {
   "cell_type": "code",
   "execution_count": 19,
   "metadata": {},
   "outputs": [],
   "source": [
    "# Rename columns\n",
    "for df in [interact_ver, help_ver, services_ver]:\n",
    "    df.rename(columns={'Element ID':'id','Tag name':'tag','Name':'name','No. clicks':'clicks','Visible?':'visible', 'Snapshot information':'info'},inplace=True)\n",
    "\n",
    "# Save total views for each variation in a dictionary\n",
    "total_views = {}\n",
    "total_views['interact'] = re.findall(r'\\d+ visits',interact_ver['info'][1])[0].split(\" \")[0]\n",
    "total_views['help'] = re.findall(r'\\d+ visits',help_ver['info'][1])[0].split(\" \")[0]\n",
    "total_views['services'] = re.findall(r'\\d+ visits',services_ver['info'][1])[0].split(\" \")[0]\n",
    "\n",
    "# Remove the last column from each dataframe\n",
    "for df in [interact_ver, help_ver, services_ver]:\n",
    "    df.drop(columns=['info'], inplace=True)"
   ]
  },
  {
   "cell_type": "code",
   "execution_count": null,
   "metadata": {},
   "outputs": [],
   "source": []
  }
 ],
 "metadata": {
  "kernelspec": {
   "display_name": "Python 3",
   "language": "python",
   "name": "python3"
  },
  "language_info": {
   "codemirror_mode": {
    "name": "ipython",
    "version": 3
   },
   "file_extension": ".py",
   "mimetype": "text/x-python",
   "name": "python",
   "nbconvert_exporter": "python",
   "pygments_lexer": "ipython3",
   "version": "3.7.1"
  }
 },
 "nbformat": 4,
 "nbformat_minor": 2
}
