{
 "cells": [
  {
   "cell_type": "markdown",
   "metadata": {},
   "source": [
    "Greg was 14, Marcia was 12, Peter was 11, Jan was 10, Bobby was 8, and Cindy was 6 when they started playing the Brady kids on The Brady Bunch. Cousin Oliver was 8 years old when he joined the show. What are the mean, median, and mode of the kids' ages when they first appeared on the show? What are the variance, standard deviation, and standard error?"
   ]
  },
  {
   "cell_type": "code",
   "execution_count": 8,
   "metadata": {},
   "outputs": [
    {
     "name": "stdout",
     "output_type": "stream",
     "text": [
      "mean: 9.857142857142858\n",
      "median: 10.0\n",
      "mode: 8\n",
      "variance: 6.408163265306122\n",
      "standard deviation: 2.734262327610589\n",
      "standard error: 1.0334540197243192\n"
     ]
    }
   ],
   "source": [
    "import numpy as np\n",
    "import statistics\n",
    "\n",
    "# A list of ages of the brady bunch kids\n",
    "\n",
    "ages = [14,12,11,10,8,6,8]\n",
    "\n",
    "# Measures of central tendency\n",
    "mean = np.mean(ages)\n",
    "median = np.median(ages)\n",
    "mode = statistics.mode(ages)\n",
    "\n",
    "ctrl_tend = {'mean':mean,'median':median,'mode':mode}\n",
    "# Measures of variance\n",
    "variance = np.var(ages)\n",
    "std_dev = np.std(ages, ddof=1)\n",
    "std_error = std_dev/(np.sqrt(len(ages)))\n",
    "\n",
    "measr_var = {'variance':variance,'standard deviation':std_dev,'standard error':std_error}\n",
    "\n",
    "for key, val in ctrl_tend.items():\n",
    "    print('{}: {}'.format(key, val))\n",
    "    \n",
    "for key, val in measr_var.items():\n",
    "    print('{}: {}'.format(key, val))"
   ]
  },
  {
   "cell_type": "markdown",
   "metadata": {},
   "source": [
    "Using these estimates, if you had to choose only one estimate of central tendency and one estimate of variance to describe the data, which would you pick and why?"
   ]
  },
  {
   "cell_type": "markdown",
   "metadata": {},
   "source": [
    "Out of central tendency measures, I would pick the mean. First because the data does not have extreme values on either end.\n",
    "Second, while the median is 10 and is close to the mean, it is closer to the higher values of 11, 12 and 14, it is still further than 8, 8, and 6. And finally, while the mode describes ages of 2 of the kids, it may not show a full picture of the other ages above 10 years old.\n",
    "\n",
    "Our of measures of variance, I would pick standard deviation because it give a close estimates of how ages differ (the mean being almost 10 and most ages being within 2 years old more or less than 10)."
   ]
  },
  {
   "cell_type": "markdown",
   "metadata": {},
   "source": [
    "Next, Cindy has a birthday. Update your estimates- what changed, and what didn't?"
   ]
  },
  {
   "cell_type": "code",
   "execution_count": 10,
   "metadata": {},
   "outputs": [
    {
     "name": "stdout",
     "output_type": "stream",
     "text": [
      "mean: 10.0\n",
      "median: 10.0\n",
      "mode: 8\n",
      "variance: 5.428571428571429\n",
      "standard deviation: 2.516611478423583\n",
      "standard error: 0.9511897312113418\n"
     ]
    }
   ],
   "source": [
    "ages = [14,12,11,10,8,7,8]\n",
    "\n",
    "# Measures of central tendency\n",
    "mean = np.mean(ages)\n",
    "median = np.median(ages)\n",
    "mode = statistics.mode(ages)\n",
    "\n",
    "ctrl_tend = {'mean':mean,'median':median,'mode':mode}\n",
    "# Measures of variance\n",
    "variance = np.var(ages)\n",
    "std_dev = np.std(ages, ddof=1)\n",
    "std_error = std_dev/(np.sqrt(len(ages)))\n",
    "\n",
    "measr_var = {'variance':variance,'standard deviation':std_dev,'standard error':std_error}\n",
    "\n",
    "for key, val in ctrl_tend.items():\n",
    "    print('{}: {}'.format(key, val))\n",
    "    \n",
    "for key, val in measr_var.items():\n",
    "    print('{}: {}'.format(key, val))"
   ]
  },
  {
   "cell_type": "markdown",
   "metadata": {},
   "source": [
    "The mean, variance, and standard error have changed. Standard deviation slightly changed in accordance with variance.\n",
    "\n",
    "The median and the mode, having less mathematical properties, have remained the same"
   ]
  },
  {
   "cell_type": "markdown",
   "metadata": {},
   "source": [
    "Nobody likes Cousin Oliver. Maybe the network should have used an even younger actor. Replace Cousin Oliver with 1-year-old Jessica, then recalculate again. Does this change your choice of central tendency or variance estimation methods?"
   ]
  },
  {
   "cell_type": "code",
   "execution_count": 15,
   "metadata": {},
   "outputs": [
    {
     "name": "stdout",
     "output_type": "stream",
     "text": [
      "mean: 9.0\n",
      "median: 10.0\n",
      "mode: None\n",
      "variance: 15.428571428571429\n",
      "standard deviation: 4.242640687119285\n",
      "standard error: 1.6035674514745462\n"
     ]
    }
   ],
   "source": [
    "ages = [14,12,11,10,8,7,1]\n",
    "\n",
    "# Measures of central tendency\n",
    "mean = np.mean(ages)\n",
    "median = np.median(ages)\n",
    "\n",
    "# Now the data does not have one mode anymore\n",
    "#mode = statistics.mode(ages)\n",
    "(ages,frequency) = np.unique(ages,return_counts=True)\n",
    "#argmax will return 0 if there is no max value, if so make it None\n",
    "modes = np.argmax(frequency) or None\n",
    "\n",
    "\n",
    "ctrl_tend = {'mean':mean,'median':median,'mode':modes}\n",
    "# Measures of variance\n",
    "variance = np.var(ages)\n",
    "std_dev = np.std(ages, ddof=1)\n",
    "std_error = std_dev/(np.sqrt(len(ages)))\n",
    "\n",
    "measr_var = {'variance':variance,'standard deviation':std_dev,'standard error':std_error}\n",
    "\n",
    "for key, val in ctrl_tend.items():\n",
    "    print('{}: {}'.format(key, val))\n",
    "    \n",
    "for key, val in measr_var.items():\n",
    "    print('{}: {}'.format(key, val))"
   ]
  },
  {
   "cell_type": "markdown",
   "metadata": {},
   "source": [
    "As for my choice of central tendency, which was the mean, I would not change it. It has went down accordingly with the introduction of baby Jessica.\n",
    "\n",
    "But for measures of variance, the variance itself may be a better choice to describe the new range of values. Because a standard deviation may not give an idea that a baby of age 1 is within the group."
   ]
  },
  {
   "cell_type": "markdown",
   "metadata": {},
   "source": [
    "On the 50th anniversary of The Brady Bunch, four different magazines asked their readers whether they were fans of the show. The answers were: TV Guide 20% fans Entertainment Weekly 23% fans Pop Culture Today 17% fans SciPhi Phanatic 5% fans.\n",
    "\n",
    "Based on these numbers, what percentage of adult Americans would you estimate were Brady Bunch fans on the 50th anniversary of the show?"
   ]
  },
  {
   "cell_type": "markdown",
   "metadata": {},
   "source": [
    "Assuming these magazines represent adult Americans well, my approach would be to get the means of these percentages:\n"
   ]
  },
  {
   "cell_type": "code",
   "execution_count": 20,
   "metadata": {},
   "outputs": [
    {
     "name": "stdout",
     "output_type": "stream",
     "text": [
      "About %16.25 of adult Americans are Brady Bunch fans.\n"
     ]
    }
   ],
   "source": [
    "fans = [.2, .23,.17,.05]\n",
    "percent = round(np.mean(fans)*100, 2)\n",
    "print('About %{} of adult Americans are Brady Bunch fans.'.format(percent))"
   ]
  }
 ],
 "metadata": {
  "kernelspec": {
   "display_name": "Python 3",
   "language": "python",
   "name": "python3"
  },
  "language_info": {
   "codemirror_mode": {
    "name": "ipython",
    "version": 3
   },
   "file_extension": ".py",
   "mimetype": "text/x-python",
   "name": "python",
   "nbconvert_exporter": "python",
   "pygments_lexer": "ipython3",
   "version": "3.7.1"
  }
 },
 "nbformat": 4,
 "nbformat_minor": 2
}
