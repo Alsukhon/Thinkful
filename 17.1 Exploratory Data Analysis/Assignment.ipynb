{
 "cells": [
  {
   "cell_type": "markdown",
   "metadata": {},
   "source": [
    "## Assignment\n",
    "\n",
    "To complete this assignment, submit a link to a gist file or enter text directly below with your answers to the following:\n",
    "\n",
    "   ### 1. What is the goal of EDA (exploratory data analysis)?\n",
    "        \n",
    "        The goal of EDA is to shape raw datasets into data with features that contain values with uniform data types and are beneficial for the objective of our analysis.\n",
    "    \n",
    "    \n",
    "   ### 2. Suppose that you are given a dataset of customer product reviews for an e-commerce company. Each review is scored as a Likert-style survey item where 1 indicates a negative sentiment about the product and a 5 is positive. These reviews are collected on the company's website. \n",
    "   \n",
    "   #### A. What problems do you expect to find in the raw data? \n",
    "           - Reviews typed by users are likely to contain grammatical errors and punctuation hassles that come up while cleaning the data.\n",
    "           - If the data included every order, many orders would have null values where users have not reviewed products they purchased.\n",
    "              \n",
    "   #### B. If your task is to build features that give information about customer sentiments, how would you approach this task and what kind of methods would you apply to accomplish it? \n",
    "           1. Make sure the rating includes no values. If it does, delete the row (or observation).\n",
    "           2. Tokenize reviews after removing words that do not give value, and punctuation marks.\n",
    "           3. Add a boolean feature indicating whether product features were mentioned in the reviews.\n",
    "           4. Add a float value for percentage of product feature mentioned in review.\n",
    "   \n",
    "   #### C. Try to identify some potentially useful features that you might derive from the raw data. How would you derive them and how would you assess the usefulness of those features?\n",
    "           Expanding on my answer in question 2-B, the rating from 1 to 5 indicates the general user sentiment, which is later validated through the review upon conducting sentiment analysis. Tokenized words would come into play for this purpose but are out of scope of this assignment.\n",
    "           Adding a boolean feautre to measure the objectivity of the review is done by checking for strings representing product features mentioned in reviews, objective reviews can be given more weight if we were studying product functionality, but weight may not count if we were studying product marketability or advertising campaign outcomes.\n"
   ]
  }
 ],
 "metadata": {
  "kernelspec": {
   "display_name": "Python 3",
   "language": "python",
   "name": "python3"
  },
  "language_info": {
   "codemirror_mode": {
    "name": "ipython",
    "version": 3
   },
   "file_extension": ".py",
   "mimetype": "text/x-python",
   "name": "python",
   "nbconvert_exporter": "python",
   "pygments_lexer": "ipython3",
   "version": "3.7.3"
  }
 },
 "nbformat": 4,
 "nbformat_minor": 2
}
