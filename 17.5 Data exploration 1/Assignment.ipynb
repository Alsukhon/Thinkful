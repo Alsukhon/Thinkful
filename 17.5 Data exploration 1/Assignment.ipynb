{
 "cells": [
  {
   "cell_type": "markdown",
   "metadata": {},
   "source": [
    "To complete this assignment, submit a link to a Jupyter notebook containing your solutions to the following tasks:\n",
    "\n",
    "1. Derive the descriptive statistics of the data and discuss the points you find remarkable.\n",
    "\n",
    "\n",
    "2. Choose a state (e.g. California) and draw a line graph of its total revenues and total expenditures along the years. How do these 2 variables evolve during the years? Try to explain the peaks and troughs with some state-wise news and information around those dates.\n",
    "\n",
    "\n",
    "3. In your chosen state, which of the lessons are the students more successful, math or reading?\n",
    "\n",
    "\n",
    "4. What are the distributions of the math and reading scores in the sample?\n",
    "\n",
    "\n",
    "5. Notice there are too many missing values for math and reading scores. Fill out the missing values using mean, median, and linear interpolation. Then compare the effects of these techniques on the distributions of the score variables.\n"
   ]
  },
  {
   "cell_type": "code",
   "execution_count": 1,
   "metadata": {},
   "outputs": [],
   "source": [
    "import pandas as pd\n",
    "import numpy as np\n",
    "import matplotlib.pyplot as plt\n",
    "from scipy.stats import zscore\n",
    "from scipy.stats.mstats import winsorize\n",
    "from sqlalchemy import create_engine\n",
    "import warnings\n",
    "\n",
    "warnings.filterwarnings('ignore')"
   ]
  },
  {
   "cell_type": "code",
   "execution_count": 3,
   "metadata": {},
   "outputs": [],
   "source": [
    "postgres_user = 'dsbc_student'\n",
    "postgres_pw = '7*.8G9QH21'\n",
    "postgres_host = '142.93.121.174'\n",
    "postgres_port = '5432'\n",
    "postgres_db = 'useducation'\n",
    "\n",
    "engine = create_engine('postgresql://{}:{}@{}:{}/{}'.format(\n",
    "    postgres_user, postgres_pw, postgres_host, postgres_port, postgres_db))\n",
    "\n",
    "data = pd.read_sql_query('select * from useducation',con=engine)\n",
    "\n",
    "# no need for an open connection, \n",
    "# as we're only doing a single query\n",
    "engine.dispose()"
   ]
  },
  {
   "cell_type": "markdown",
   "metadata": {},
   "source": [
    "1. Derive the descriptive statistics of the data and discuss the points you find remarkable."
   ]
  },
  {
   "cell_type": "code",
   "execution_count": 4,
   "metadata": {},
   "outputs": [
    {
     "data": {
      "text/html": [
       "<div>\n",
       "<style scoped>\n",
       "    .dataframe tbody tr th:only-of-type {\n",
       "        vertical-align: middle;\n",
       "    }\n",
       "\n",
       "    .dataframe tbody tr th {\n",
       "        vertical-align: top;\n",
       "    }\n",
       "\n",
       "    .dataframe thead th {\n",
       "        text-align: right;\n",
       "    }\n",
       "</style>\n",
       "<table border=\"1\" class=\"dataframe\">\n",
       "  <thead>\n",
       "    <tr style=\"text-align: right;\">\n",
       "      <th></th>\n",
       "      <th>PRIMARY_KEY</th>\n",
       "      <th>STATE</th>\n",
       "      <th>YEAR</th>\n",
       "      <th>ENROLL</th>\n",
       "      <th>TOTAL_REVENUE</th>\n",
       "      <th>FEDERAL_REVENUE</th>\n",
       "      <th>STATE_REVENUE</th>\n",
       "      <th>LOCAL_REVENUE</th>\n",
       "      <th>TOTAL_EXPENDITURE</th>\n",
       "      <th>INSTRUCTION_EXPENDITURE</th>\n",
       "      <th>...</th>\n",
       "      <th>GRADES_4_G</th>\n",
       "      <th>GRADES_8_G</th>\n",
       "      <th>GRADES_12_G</th>\n",
       "      <th>GRADES_1_8_G</th>\n",
       "      <th>GRADES_9_12_G</th>\n",
       "      <th>GRADES_ALL_G</th>\n",
       "      <th>AVG_MATH_4_SCORE</th>\n",
       "      <th>AVG_MATH_8_SCORE</th>\n",
       "      <th>AVG_READING_4_SCORE</th>\n",
       "      <th>AVG_READING_8_SCORE</th>\n",
       "    </tr>\n",
       "  </thead>\n",
       "  <tbody>\n",
       "    <tr>\n",
       "      <th>count</th>\n",
       "      <td>1492</td>\n",
       "      <td>1492</td>\n",
       "      <td>1492.000000</td>\n",
       "      <td>1.229000e+03</td>\n",
       "      <td>1.280000e+03</td>\n",
       "      <td>1.280000e+03</td>\n",
       "      <td>1.280000e+03</td>\n",
       "      <td>1.280000e+03</td>\n",
       "      <td>1.280000e+03</td>\n",
       "      <td>1.280000e+03</td>\n",
       "      <td>...</td>\n",
       "      <td>1361.000000</td>\n",
       "      <td>1361.000000</td>\n",
       "      <td>1361.00000</td>\n",
       "      <td>1.361000e+03</td>\n",
       "      <td>1.361000e+03</td>\n",
       "      <td>1.319000e+03</td>\n",
       "      <td>536.000000</td>\n",
       "      <td>532.000000</td>\n",
       "      <td>533.000000</td>\n",
       "      <td>498.000000</td>\n",
       "    </tr>\n",
       "    <tr>\n",
       "      <th>unique</th>\n",
       "      <td>1487</td>\n",
       "      <td>80</td>\n",
       "      <td>NaN</td>\n",
       "      <td>NaN</td>\n",
       "      <td>NaN</td>\n",
       "      <td>NaN</td>\n",
       "      <td>NaN</td>\n",
       "      <td>NaN</td>\n",
       "      <td>NaN</td>\n",
       "      <td>NaN</td>\n",
       "      <td>...</td>\n",
       "      <td>NaN</td>\n",
       "      <td>NaN</td>\n",
       "      <td>NaN</td>\n",
       "      <td>NaN</td>\n",
       "      <td>NaN</td>\n",
       "      <td>NaN</td>\n",
       "      <td>NaN</td>\n",
       "      <td>NaN</td>\n",
       "      <td>NaN</td>\n",
       "      <td>NaN</td>\n",
       "    </tr>\n",
       "    <tr>\n",
       "      <th>top</th>\n",
       "      <td>2008_VIRGINIA</td>\n",
       "      <td>DISTRICT_OF_COLUMBIA</td>\n",
       "      <td>NaN</td>\n",
       "      <td>NaN</td>\n",
       "      <td>NaN</td>\n",
       "      <td>NaN</td>\n",
       "      <td>NaN</td>\n",
       "      <td>NaN</td>\n",
       "      <td>NaN</td>\n",
       "      <td>NaN</td>\n",
       "      <td>...</td>\n",
       "      <td>NaN</td>\n",
       "      <td>NaN</td>\n",
       "      <td>NaN</td>\n",
       "      <td>NaN</td>\n",
       "      <td>NaN</td>\n",
       "      <td>NaN</td>\n",
       "      <td>NaN</td>\n",
       "      <td>NaN</td>\n",
       "      <td>NaN</td>\n",
       "      <td>NaN</td>\n",
       "    </tr>\n",
       "    <tr>\n",
       "      <th>freq</th>\n",
       "      <td>3</td>\n",
       "      <td>29</td>\n",
       "      <td>NaN</td>\n",
       "      <td>NaN</td>\n",
       "      <td>NaN</td>\n",
       "      <td>NaN</td>\n",
       "      <td>NaN</td>\n",
       "      <td>NaN</td>\n",
       "      <td>NaN</td>\n",
       "      <td>NaN</td>\n",
       "      <td>...</td>\n",
       "      <td>NaN</td>\n",
       "      <td>NaN</td>\n",
       "      <td>NaN</td>\n",
       "      <td>NaN</td>\n",
       "      <td>NaN</td>\n",
       "      <td>NaN</td>\n",
       "      <td>NaN</td>\n",
       "      <td>NaN</td>\n",
       "      <td>NaN</td>\n",
       "      <td>NaN</td>\n",
       "    </tr>\n",
       "    <tr>\n",
       "      <th>mean</th>\n",
       "      <td>NaN</td>\n",
       "      <td>NaN</td>\n",
       "      <td>2004.433646</td>\n",
       "      <td>9.159308e+05</td>\n",
       "      <td>9.092082e+06</td>\n",
       "      <td>7.663723e+05</td>\n",
       "      <td>4.216553e+06</td>\n",
       "      <td>4.109157e+06</td>\n",
       "      <td>9.196681e+06</td>\n",
       "      <td>4.762966e+06</td>\n",
       "      <td>...</td>\n",
       "      <td>64538.927259</td>\n",
       "      <td>64271.057311</td>\n",
       "      <td>54268.92432</td>\n",
       "      <td>5.192140e+05</td>\n",
       "      <td>2.470714e+05</td>\n",
       "      <td>8.024415e+05</td>\n",
       "      <td>234.768293</td>\n",
       "      <td>278.414711</td>\n",
       "      <td>218.866154</td>\n",
       "      <td>263.661132</td>\n",
       "    </tr>\n",
       "    <tr>\n",
       "      <th>std</th>\n",
       "      <td>NaN</td>\n",
       "      <td>NaN</td>\n",
       "      <td>7.393983</td>\n",
       "      <td>1.065280e+06</td>\n",
       "      <td>1.174519e+07</td>\n",
       "      <td>1.145242e+06</td>\n",
       "      <td>5.543072e+06</td>\n",
       "      <td>5.482971e+06</td>\n",
       "      <td>1.197813e+07</td>\n",
       "      <td>6.293004e+06</td>\n",
       "      <td>...</td>\n",
       "      <td>80293.387625</td>\n",
       "      <td>78910.545776</td>\n",
       "      <td>67889.27623</td>\n",
       "      <td>6.436384e+05</td>\n",
       "      <td>3.077056e+05</td>\n",
       "      <td>9.707031e+05</td>\n",
       "      <td>10.221511</td>\n",
       "      <td>10.159722</td>\n",
       "      <td>7.769616</td>\n",
       "      <td>6.803725</td>\n",
       "    </tr>\n",
       "    <tr>\n",
       "      <th>min</th>\n",
       "      <td>NaN</td>\n",
       "      <td>NaN</td>\n",
       "      <td>1992.000000</td>\n",
       "      <td>4.386600e+04</td>\n",
       "      <td>4.656500e+05</td>\n",
       "      <td>3.102000e+04</td>\n",
       "      <td>0.000000e+00</td>\n",
       "      <td>2.209300e+04</td>\n",
       "      <td>4.816650e+05</td>\n",
       "      <td>2.655490e+05</td>\n",
       "      <td>...</td>\n",
       "      <td>633.000000</td>\n",
       "      <td>437.000000</td>\n",
       "      <td>311.00000</td>\n",
       "      <td>4.878000e+03</td>\n",
       "      <td>1.808000e+03</td>\n",
       "      <td>7.254000e+03</td>\n",
       "      <td>187.134670</td>\n",
       "      <td>232.831510</td>\n",
       "      <td>178.557612</td>\n",
       "      <td>236.379102</td>\n",
       "    </tr>\n",
       "    <tr>\n",
       "      <th>25%</th>\n",
       "      <td>NaN</td>\n",
       "      <td>NaN</td>\n",
       "      <td>1998.000000</td>\n",
       "      <td>2.583140e+05</td>\n",
       "      <td>2.186305e+06</td>\n",
       "      <td>1.893540e+05</td>\n",
       "      <td>1.153097e+06</td>\n",
       "      <td>7.158345e+05</td>\n",
       "      <td>2.165404e+06</td>\n",
       "      <td>1.168032e+06</td>\n",
       "      <td>...</td>\n",
       "      <td>13739.000000</td>\n",
       "      <td>13342.000000</td>\n",
       "      <td>10919.00000</td>\n",
       "      <td>1.106260e+05</td>\n",
       "      <td>5.147100e+04</td>\n",
       "      <td>1.810650e+05</td>\n",
       "      <td>229.694352</td>\n",
       "      <td>272.761598</td>\n",
       "      <td>214.663401</td>\n",
       "      <td>259.533171</td>\n",
       "    </tr>\n",
       "    <tr>\n",
       "      <th>50%</th>\n",
       "      <td>NaN</td>\n",
       "      <td>NaN</td>\n",
       "      <td>2004.000000</td>\n",
       "      <td>6.483130e+05</td>\n",
       "      <td>5.079546e+06</td>\n",
       "      <td>4.033765e+05</td>\n",
       "      <td>2.537074e+06</td>\n",
       "      <td>2.055780e+06</td>\n",
       "      <td>5.234506e+06</td>\n",
       "      <td>2.657452e+06</td>\n",
       "      <td>...</td>\n",
       "      <td>43272.000000</td>\n",
       "      <td>43339.000000</td>\n",
       "      <td>36735.00000</td>\n",
       "      <td>3.457750e+05</td>\n",
       "      <td>1.642600e+05</td>\n",
       "      <td>5.503420e+05</td>\n",
       "      <td>237.238552</td>\n",
       "      <td>280.618803</td>\n",
       "      <td>220.416034</td>\n",
       "      <td>265.010912</td>\n",
       "    </tr>\n",
       "    <tr>\n",
       "      <th>75%</th>\n",
       "      <td>NaN</td>\n",
       "      <td>NaN</td>\n",
       "      <td>2011.000000</td>\n",
       "      <td>1.014528e+06</td>\n",
       "      <td>1.085985e+07</td>\n",
       "      <td>8.289660e+05</td>\n",
       "      <td>5.080939e+06</td>\n",
       "      <td>4.768680e+06</td>\n",
       "      <td>1.074519e+07</td>\n",
       "      <td>5.568028e+06</td>\n",
       "      <td>...</td>\n",
       "      <td>75481.000000</td>\n",
       "      <td>76566.000000</td>\n",
       "      <td>67460.00000</td>\n",
       "      <td>6.119050e+05</td>\n",
       "      <td>2.905020e+05</td>\n",
       "      <td>9.282755e+05</td>\n",
       "      <td>241.995486</td>\n",
       "      <td>285.347428</td>\n",
       "      <td>223.999337</td>\n",
       "      <td>268.190121</td>\n",
       "    </tr>\n",
       "    <tr>\n",
       "      <th>max</th>\n",
       "      <td>NaN</td>\n",
       "      <td>NaN</td>\n",
       "      <td>2017.000000</td>\n",
       "      <td>6.307022e+06</td>\n",
       "      <td>8.921726e+07</td>\n",
       "      <td>9.990221e+06</td>\n",
       "      <td>5.090457e+07</td>\n",
       "      <td>3.610526e+07</td>\n",
       "      <td>8.532013e+07</td>\n",
       "      <td>4.396452e+07</td>\n",
       "      <td>...</td>\n",
       "      <td>493415.000000</td>\n",
       "      <td>500143.000000</td>\n",
       "      <td>498403.00000</td>\n",
       "      <td>3.929869e+06</td>\n",
       "      <td>2.013687e+06</td>\n",
       "      <td>5.944746e+06</td>\n",
       "      <td>253.420961</td>\n",
       "      <td>300.568235</td>\n",
       "      <td>236.773867</td>\n",
       "      <td>280.499130</td>\n",
       "    </tr>\n",
       "  </tbody>\n",
       "</table>\n",
       "<p>11 rows × 25 columns</p>\n",
       "</div>"
      ],
      "text/plain": [
       "          PRIMARY_KEY                 STATE         YEAR        ENROLL  \\\n",
       "count            1492                  1492  1492.000000  1.229000e+03   \n",
       "unique           1487                    80          NaN           NaN   \n",
       "top     2008_VIRGINIA  DISTRICT_OF_COLUMBIA          NaN           NaN   \n",
       "freq                3                    29          NaN           NaN   \n",
       "mean              NaN                   NaN  2004.433646  9.159308e+05   \n",
       "std               NaN                   NaN     7.393983  1.065280e+06   \n",
       "min               NaN                   NaN  1992.000000  4.386600e+04   \n",
       "25%               NaN                   NaN  1998.000000  2.583140e+05   \n",
       "50%               NaN                   NaN  2004.000000  6.483130e+05   \n",
       "75%               NaN                   NaN  2011.000000  1.014528e+06   \n",
       "max               NaN                   NaN  2017.000000  6.307022e+06   \n",
       "\n",
       "        TOTAL_REVENUE  FEDERAL_REVENUE  STATE_REVENUE  LOCAL_REVENUE  \\\n",
       "count    1.280000e+03     1.280000e+03   1.280000e+03   1.280000e+03   \n",
       "unique            NaN              NaN            NaN            NaN   \n",
       "top               NaN              NaN            NaN            NaN   \n",
       "freq              NaN              NaN            NaN            NaN   \n",
       "mean     9.092082e+06     7.663723e+05   4.216553e+06   4.109157e+06   \n",
       "std      1.174519e+07     1.145242e+06   5.543072e+06   5.482971e+06   \n",
       "min      4.656500e+05     3.102000e+04   0.000000e+00   2.209300e+04   \n",
       "25%      2.186305e+06     1.893540e+05   1.153097e+06   7.158345e+05   \n",
       "50%      5.079546e+06     4.033765e+05   2.537074e+06   2.055780e+06   \n",
       "75%      1.085985e+07     8.289660e+05   5.080939e+06   4.768680e+06   \n",
       "max      8.921726e+07     9.990221e+06   5.090457e+07   3.610526e+07   \n",
       "\n",
       "        TOTAL_EXPENDITURE  INSTRUCTION_EXPENDITURE  ...     GRADES_4_G  \\\n",
       "count        1.280000e+03             1.280000e+03  ...    1361.000000   \n",
       "unique                NaN                      NaN  ...            NaN   \n",
       "top                   NaN                      NaN  ...            NaN   \n",
       "freq                  NaN                      NaN  ...            NaN   \n",
       "mean         9.196681e+06             4.762966e+06  ...   64538.927259   \n",
       "std          1.197813e+07             6.293004e+06  ...   80293.387625   \n",
       "min          4.816650e+05             2.655490e+05  ...     633.000000   \n",
       "25%          2.165404e+06             1.168032e+06  ...   13739.000000   \n",
       "50%          5.234506e+06             2.657452e+06  ...   43272.000000   \n",
       "75%          1.074519e+07             5.568028e+06  ...   75481.000000   \n",
       "max          8.532013e+07             4.396452e+07  ...  493415.000000   \n",
       "\n",
       "           GRADES_8_G   GRADES_12_G  GRADES_1_8_G  GRADES_9_12_G  \\\n",
       "count     1361.000000    1361.00000  1.361000e+03   1.361000e+03   \n",
       "unique            NaN           NaN           NaN            NaN   \n",
       "top               NaN           NaN           NaN            NaN   \n",
       "freq              NaN           NaN           NaN            NaN   \n",
       "mean     64271.057311   54268.92432  5.192140e+05   2.470714e+05   \n",
       "std      78910.545776   67889.27623  6.436384e+05   3.077056e+05   \n",
       "min        437.000000     311.00000  4.878000e+03   1.808000e+03   \n",
       "25%      13342.000000   10919.00000  1.106260e+05   5.147100e+04   \n",
       "50%      43339.000000   36735.00000  3.457750e+05   1.642600e+05   \n",
       "75%      76566.000000   67460.00000  6.119050e+05   2.905020e+05   \n",
       "max     500143.000000  498403.00000  3.929869e+06   2.013687e+06   \n",
       "\n",
       "        GRADES_ALL_G  AVG_MATH_4_SCORE  AVG_MATH_8_SCORE  AVG_READING_4_SCORE  \\\n",
       "count   1.319000e+03        536.000000        532.000000           533.000000   \n",
       "unique           NaN               NaN               NaN                  NaN   \n",
       "top              NaN               NaN               NaN                  NaN   \n",
       "freq             NaN               NaN               NaN                  NaN   \n",
       "mean    8.024415e+05        234.768293        278.414711           218.866154   \n",
       "std     9.707031e+05         10.221511         10.159722             7.769616   \n",
       "min     7.254000e+03        187.134670        232.831510           178.557612   \n",
       "25%     1.810650e+05        229.694352        272.761598           214.663401   \n",
       "50%     5.503420e+05        237.238552        280.618803           220.416034   \n",
       "75%     9.282755e+05        241.995486        285.347428           223.999337   \n",
       "max     5.944746e+06        253.420961        300.568235           236.773867   \n",
       "\n",
       "        AVG_READING_8_SCORE  \n",
       "count            498.000000  \n",
       "unique                  NaN  \n",
       "top                     NaN  \n",
       "freq                    NaN  \n",
       "mean             263.661132  \n",
       "std                6.803725  \n",
       "min              236.379102  \n",
       "25%              259.533171  \n",
       "50%              265.010912  \n",
       "75%              268.190121  \n",
       "max              280.499130  \n",
       "\n",
       "[11 rows x 25 columns]"
      ]
     },
     "execution_count": 4,
     "metadata": {},
     "output_type": "execute_result"
    }
   ],
   "source": [
    "data.describe(include='all')"
   ]
  },
  {
   "cell_type": "markdown",
   "metadata": {},
   "source": [
    "- The primary key column, state, and year are considered in our descriptive statistics.\n",
    "- There's a top value for primary key & state but none for any other columns\n",
    "- Most numbers are large and are represented using scientific notation (would need a function to translate into integers)."
   ]
  },
  {
   "cell_type": "markdown",
   "metadata": {},
   "source": [
    "2. Choose a state (e.g. California) and draw a line graph of its total revenues and total expenditures along the years. How do these 2 variables evolve during the years? Try to explain the peaks and troughs with some state-wise news and information around those dates."
   ]
  },
  {
   "cell_type": "code",
   "execution_count": 32,
   "metadata": {},
   "outputs": [
    {
     "data": {
      "image/png": "[encoded data removed]",
      "text/plain": [
       "<Figure size 432x288 with 1 Axes>"
      ]
     },
     "metadata": {
      "needs_background": "light"
     },
     "output_type": "display_data"
    }
   ],
   "source": [
    "cali = data[data['STATE']=='CALIFORNIA']\n",
    "plt.plot(cali['YEAR'],cali['TOTAL_REVENUE'])\n",
    "plt.plot(cali['YEAR'],cali['TOTAL_EXPENDITURE'])\n",
    "plt.legend()\n",
    "plt.show()\n"
   ]
  },
  {
   "cell_type": "markdown",
   "metadata": {},
   "source": [
    "The 2 variables evolve in the same fashion throughout the whole period mentioned in this dataset. Sometimes, especially between the year 2000 and 2010, expenditure surpassed revenue. This tells that California has had considerable education deficit in that period, but a closely-matching evolution between revenue and expenditures between 2010 and 2015 says that California has succeeded in minimizing the gap between the two."
   ]
  },
  {
   "cell_type": "markdown",
   "metadata": {},
   "source": [
    "3. In your chosen state, which of the lessons are the students more successful, math or reading?"
   ]
  },
  {
   "cell_type": "code",
   "execution_count": 11,
   "metadata": {},
   "outputs": [
    {
     "name": "stdout",
     "output_type": "stream",
     "text": [
      "math: 247.5074341007924\n",
      "reading: 234.90709927713914\n"
     ]
    }
   ],
   "source": [
    "cali_math = (cali['AVG_MATH_4_SCORE'].mean()+cali['AVG_MATH_8_SCORE'].mean())/2\n",
    "cali_read = (cali['AVG_READING_4_SCORE'].mean()+cali['AVG_READING_8_SCORE'].mean())/2\n",
    "print (\"math: \"+ str(cali_math))\n",
    "print (\"reading: \"+ str(cali_read))"
   ]
  },
  {
   "cell_type": "markdown",
   "metadata": {},
   "source": [
    "California students seem to be slightly better at math than reading."
   ]
  },
  {
   "cell_type": "markdown",
   "metadata": {},
   "source": [
    "4. What are the distributions of the math and reading scores in the sample?"
   ]
  },
  {
   "cell_type": "code",
   "execution_count": 15,
   "metadata": {},
   "outputs": [
    {
     "data": {
      "text/plain": [
       "(array([ 0.,  0.,  0.,  0.,  0., 26.,  0.,  0.,  0.,  0.]),\n",
       " array([5.06410747, 5.16410747, 5.26410747, 5.36410747, 5.46410747,\n",
       "        5.56410747, 5.66410747, 5.76410747, 5.86410747, 5.96410747,\n",
       "        6.06410747]),\n",
       " <a list of 10 Patch objects>)"
      ]
     },
     "execution_count": 15,
     "metadata": {},
     "output_type": "execute_result"
    },
    {
     "data": {
      "image/png": "[encoded data removed]",
      "text/plain": [
       "<Figure size 432x288 with 1 Axes>"
      ]
     },
     "metadata": {
      "needs_background": "light"
     },
     "output_type": "display_data"
    }
   ],
   "source": [
    "cali['AVG_MATH_8_SCORE'] = winsorize(cali['AVG_MATH_8_SCORE'],(0,0.97))\n",
    "\n",
    "\n",
    "\n",
    "plt.hist(np.log(cali['AVG_MATH_8_SCORE']))"
   ]
  },
  {
   "cell_type": "code",
   "execution_count": 13,
   "metadata": {
    "scrolled": false
   },
   "outputs": [
    {
     "data": {
      "text/plain": [
       "(array([2., 1., 0., 1., 1., 0., 2., 1., 0., 3.]),\n",
       " array([5.56410747, 5.56996778, 5.57582808, 5.58168839, 5.58754869,\n",
       "        5.593409  , 5.5992693 , 5.6051296 , 5.61098991, 5.61685021,\n",
       "        5.62271052]),\n",
       " <a list of 10 Patch objects>)"
      ]
     },
     "execution_count": 13,
     "metadata": {},
     "output_type": "execute_result"
    },
    {
     "data": {
      "image/png": "[encoded data removed]",
      "text/plain": [
       "<Figure size 432x288 with 1 Axes>"
      ]
     },
     "metadata": {
      "needs_background": "light"
     },
     "output_type": "display_data"
    }
   ],
   "source": [
    "plt.hist(np.log(cali['AVG_MATH_8_SCORE']))"
   ]
  },
  {
   "cell_type": "code",
   "execution_count": 16,
   "metadata": {},
   "outputs": [
    {
     "data": {
      "text/plain": [
       "(array([2., 0., 1., 1., 1., 1., 2., 0., 0., 2.]),\n",
       " array([5.54085266, 5.54631191, 5.55177116, 5.5572304 , 5.56268965,\n",
       "        5.5681489 , 5.57360814, 5.57906739, 5.58452663, 5.58998588,\n",
       "        5.59544513]),\n",
       " <a list of 10 Patch objects>)"
      ]
     },
     "execution_count": 16,
     "metadata": {},
     "output_type": "execute_result"
    },
    {
     "data": {
      "image/png": "[encoded data removed]",
      "text/plain": [
       "<Figure size 432x288 with 1 Axes>"
      ]
     },
     "metadata": {
      "needs_background": "light"
     },
     "output_type": "display_data"
    }
   ],
   "source": [
    "plt.hist(np.log(cali['AVG_READING_8_SCORE']))"
   ]
  },
  {
   "cell_type": "markdown",
   "metadata": {},
   "source": [
    "5. Notice there are too many missing values for math and reading scores. Fill out the missing values using mean, median, and linear interpolation. Then compare the effects of these techniques on the distributions of the score variables."
   ]
  },
  {
   "cell_type": "code",
   "execution_count": 18,
   "metadata": {},
   "outputs": [],
   "source": [
    "cali['AVG_MATH_8_SCORE'] = cali['AVG_MATH_8_SCORE'].fillna(cali['AVG_MATH_8_SCORE'].mean())\n",
    "cali['AVG_READING_8_SCORE'] = cali['AVG_READING_8_SCORE'].fillna(cali['AVG_READING_8_SCORE'].mean())"
   ]
  },
  {
   "cell_type": "code",
   "execution_count": 21,
   "metadata": {},
   "outputs": [
    {
     "data": {
      "text/plain": [
       "(array([ 0.,  0.,  0.,  0.,  0., 26.,  0.,  0.,  0.,  0.]),\n",
       " array([5.06410747, 5.16410747, 5.26410747, 5.36410747, 5.46410747,\n",
       "        5.56410747, 5.66410747, 5.76410747, 5.86410747, 5.96410747,\n",
       "        6.06410747]),\n",
       " <a list of 10 Patch objects>)"
      ]
     },
     "execution_count": 21,
     "metadata": {},
     "output_type": "execute_result"
    },
    {
     "data": {
      "image/png": "[encoded data removed]",
      "text/plain": [
       "<Figure size 432x288 with 1 Axes>"
      ]
     },
     "metadata": {
      "needs_background": "light"
     },
     "output_type": "display_data"
    }
   ],
   "source": [
    "plt.hist(cali['AVG_MATH_8_SCORE'])"
   ]
  },
  {
   "cell_type": "code",
   "execution_count": 20,
   "metadata": {},
   "outputs": [
    {
     "data": {
      "text/plain": [
       "(array([ 2.,  0.,  1.,  1., 17.,  1.,  2.,  0.,  0.,  2.]),\n",
       " array([254.8952466 , 256.32546699, 257.75568738, 259.18590778,\n",
       "        260.61612817, 262.04634857, 263.47656896, 264.90678935,\n",
       "        266.33700975, 267.76723014, 269.19745054]),\n",
       " <a list of 10 Patch objects>)"
      ]
     },
     "execution_count": 20,
     "metadata": {},
     "output_type": "execute_result"
    },
    {
     "data": {
      "image/png": "[encoded data removed]",
      "text/plain": [
       "<Figure size 432x288 with 1 Axes>"
      ]
     },
     "metadata": {
      "needs_background": "light"
     },
     "output_type": "display_data"
    }
   ],
   "source": [
    "plt.hist(cali['AVG_READING_8_SCORE'])"
   ]
  },
  {
   "cell_type": "code",
   "execution_count": 23,
   "metadata": {},
   "outputs": [],
   "source": [
    "cali['AVG_MATH_8_SCORE'] = cali['AVG_MATH_8_SCORE'].fillna(cali['AVG_MATH_8_SCORE'].mode())\n",
    "cali['AVG_READING_8_SCORE'] = cali['AVG_READING_8_SCORE'].fillna(cali['AVG_READING_8_SCORE'].mode())"
   ]
  },
  {
   "cell_type": "code",
   "execution_count": 24,
   "metadata": {},
   "outputs": [
    {
     "data": {
      "text/plain": [
       "(array([2., 1., 0., 1., 1., 0., 2., 1., 0., 3.]),\n",
       " array([260.89224682, 262.46684215, 264.04143747, 265.61603279,\n",
       "        267.19062812, 268.76522344, 270.33981877, 271.91441409,\n",
       "        273.48900942, 275.06360474, 276.63820006]),\n",
       " <a list of 10 Patch objects>)"
      ]
     },
     "execution_count": 24,
     "metadata": {},
     "output_type": "execute_result"
    },
    {
     "data": {
      "image/png": "[encoded data removed]",
      "text/plain": [
       "<Figure size 432x288 with 1 Axes>"
      ]
     },
     "metadata": {
      "needs_background": "light"
     },
     "output_type": "display_data"
    }
   ],
   "source": [
    "plt.hist(cali['AVG_MATH_8_SCORE'])"
   ]
  },
  {
   "cell_type": "code",
   "execution_count": 25,
   "metadata": {},
   "outputs": [
    {
     "data": {
      "text/plain": [
       "(array([2., 0., 1., 1., 2., 1., 2., 0., 0., 2.]),\n",
       " array([254.8952466 , 256.32546699, 257.75568738, 259.18590778,\n",
       "        260.61612817, 262.04634857, 263.47656896, 264.90678935,\n",
       "        266.33700975, 267.76723014, 269.19745054]),\n",
       " <a list of 10 Patch objects>)"
      ]
     },
     "execution_count": 25,
     "metadata": {},
     "output_type": "execute_result"
    },
    {
     "data": {
      "image/png": "[encoded data removed]",
      "text/plain": [
       "<Figure size 432x288 with 1 Axes>"
      ]
     },
     "metadata": {
      "needs_background": "light"
     },
     "output_type": "display_data"
    }
   ],
   "source": [
    "plt.hist(cali['AVG_READING_8_SCORE'])"
   ]
  },
  {
   "cell_type": "code",
   "execution_count": 29,
   "metadata": {},
   "outputs": [],
   "source": [
    "cali['AVG_MATH_8_SCORE'] = cali['AVG_MATH_8_SCORE'].fillna(cali['AVG_MATH_8_SCORE'].median())\n",
    "cali['AVG_READING_8_SCORE'] = cali['AVG_READING_8_SCORE'].fillna(cali['AVG_READING_8_SCORE'].median())"
   ]
  },
  {
   "cell_type": "code",
   "execution_count": 30,
   "metadata": {},
   "outputs": [
    {
     "data": {
      "text/plain": [
       "(array([ 2.,  1.,  0.,  1.,  1.,  0., 17.,  1.,  0.,  3.]),\n",
       " array([260.89224682, 262.46684215, 264.04143747, 265.61603279,\n",
       "        267.19062812, 268.76522344, 270.33981877, 271.91441409,\n",
       "        273.48900942, 275.06360474, 276.63820006]),\n",
       " <a list of 10 Patch objects>)"
      ]
     },
     "execution_count": 30,
     "metadata": {},
     "output_type": "execute_result"
    },
    {
     "data": {
      "image/png": "[encoded data removed]",
      "text/plain": [
       "<Figure size 432x288 with 1 Axes>"
      ]
     },
     "metadata": {
      "needs_background": "light"
     },
     "output_type": "display_data"
    }
   ],
   "source": [
    "plt.hist(cali['AVG_MATH_8_SCORE'])"
   ]
  },
  {
   "cell_type": "code",
   "execution_count": 31,
   "metadata": {},
   "outputs": [
    {
     "data": {
      "text/plain": [
       "(array([ 2.,  0.,  1.,  1., 17.,  1.,  2.,  0.,  0.,  2.]),\n",
       " array([254.8952466 , 256.32546699, 257.75568738, 259.18590778,\n",
       "        260.61612817, 262.04634857, 263.47656896, 264.90678935,\n",
       "        266.33700975, 267.76723014, 269.19745054]),\n",
       " <a list of 10 Patch objects>)"
      ]
     },
     "execution_count": 31,
     "metadata": {},
     "output_type": "execute_result"
    },
    {
     "data": {
      "image/png": "[encoded data removed]",
      "text/plain": [
       "<Figure size 432x288 with 1 Axes>"
      ]
     },
     "metadata": {
      "needs_background": "light"
     },
     "output_type": "display_data"
    }
   ],
   "source": [
    "plt.hist(cali['AVG_READING_8_SCORE'])"
   ]
  },
  {
   "cell_type": "code",
   "execution_count": 34,
   "metadata": {},
   "outputs": [],
   "source": [
    "cali['AVG_MATH_8_SCORE'] = cali['AVG_MATH_8_SCORE'].interpolate(method='nearest')\n",
    "cali['AVG_READING_8_SCORE'] = cali['AVG_READING_8_SCORE'].interpolate(method='nearest')"
   ]
  },
  {
   "cell_type": "code",
   "execution_count": 35,
   "metadata": {},
   "outputs": [
    {
     "data": {
      "text/plain": [
       "(array([6., 4., 0., 3., 2., 0., 4., 2., 0., 5.]),\n",
       " array([260.89224682, 262.46684215, 264.04143747, 265.61603279,\n",
       "        267.19062812, 268.76522344, 270.33981877, 271.91441409,\n",
       "        273.48900942, 275.06360474, 276.63820006]),\n",
       " <a list of 10 Patch objects>)"
      ]
     },
     "execution_count": 35,
     "metadata": {},
     "output_type": "execute_result"
    },
    {
     "data": {
      "image/png": "[encoded data removed]",
      "text/plain": [
       "<Figure size 432x288 with 1 Axes>"
      ]
     },
     "metadata": {
      "needs_background": "light"
     },
     "output_type": "display_data"
    }
   ],
   "source": [
    "plt.hist(cali['AVG_MATH_8_SCORE'])"
   ]
  },
  {
   "cell_type": "code",
   "execution_count": 36,
   "metadata": {},
   "outputs": [
    {
     "data": {
      "text/plain": [
       "(array([5., 0., 2., 2., 2., 1., 5., 0., 0., 5.]),\n",
       " array([254.8952466 , 256.32546699, 257.75568738, 259.18590778,\n",
       "        260.61612817, 262.04634857, 263.47656896, 264.90678935,\n",
       "        266.33700975, 267.76723014, 269.19745054]),\n",
       " <a list of 10 Patch objects>)"
      ]
     },
     "execution_count": 36,
     "metadata": {},
     "output_type": "execute_result"
    },
    {
     "data": {
      "image/png": "[encoded data removed]",
      "text/plain": [
       "<Figure size 432x288 with 1 Axes>"
      ]
     },
     "metadata": {
      "needs_background": "light"
     },
     "output_type": "display_data"
    }
   ],
   "source": [
    "plt.hist(cali['AVG_READING_8_SCORE'])"
   ]
  },
  {
   "cell_type": "markdown",
   "metadata": {},
   "source": [
    "Filling missing values with the mean did not lead to a more normal distribution of the data, epecially for math grades, and neither did filling null values in with the mode. The median performed slightly better, and the reason may be that missing values were actually from the the middle of the data.\n",
    "\n",
    "Since interpolation applied the method where values were filled from the nearest values, it did not change much in the distribution of the data either."
   ]
  }
 ],
 "metadata": {
  "kernelspec": {
   "display_name": "Python 3",
   "language": "python",
   "name": "python3"
  },
  "language_info": {
   "codemirror_mode": {
    "name": "ipython",
    "version": 3
   },
   "file_extension": ".py",
   "mimetype": "text/x-python",
   "name": "python",
   "nbconvert_exporter": "python",
   "pygments_lexer": "ipython3",
   "version": "3.7.3"
  }
 },
 "nbformat": 4,
 "nbformat_minor": 2
}
