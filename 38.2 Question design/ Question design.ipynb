{
 "cells": [
  {
   "cell_type": "markdown",
   "metadata": {},
   "source": [
    "RILL: Question Design\n",
    "\n",
    "For each of the following, indicate the best question type to use and why.\n",
    "\n",
    "    Age:   Multiple choice of ranges, for ease of organization of similar age groups\n",
    "    \n",
    "    Gender: multiple choice\n",
    "    Income: Multiple choice of ranges, for ease of organization of similar income groups\n",
    "    Opinions about dish soap: if asking about properties, yes/no. If about quality, scale.\n",
    "    Brand of dish soap used: text input\n",
    "    Preference for dish soap brand (Cleany, Sudsy, DeGreaser, Pinesoft): : multiple choice\n",
    "    Positive vs negative feelings about dish soap: scale\n"
   ]
  },
  {
   "cell_type": "markdown",
   "metadata": {},
   "source": [
    "DRILL: Fix the flaw\n",
    "\n",
    "Here is a link to a Mainstream Media Accountability Survey sent to the public by the Trump Administration in February 2017. Read over the survey and select five questions you believe can be improved. Describe the flaw you see and write an improved version of the question. For example, if the original question is: \"Americans are not fully aware just how much waste there is in the federal government.\" Yes No No Opinion \n",
    "\n",
    "\n",
    "1. What television source do you primarily get your news from?\n",
    "- add a \"I don't watch tv\" option\n",
    "\n",
    "2. On which issues does the mainstream media do the worst job of representing President Trump? (Select as many that apply.\n",
    "- add a \" I don't think the media is doing a bad job\" option\n",
    "\n",
    "3. Do you feel that the media is too eager to slur conservatives with baseless accusations of racism and sexism?\n",
    "- change to \"how do you feel the media treats conservatives..etc\"\n",
    "\n",
    "4. Do you believe that the mainstream media does their due-diligence fact-checking before publishing stories on the Trump Administration?\n",
    "\n",
    "- Change to \"how do you think the media assesses their information before publishing\"\n",
    "\n",
    "5. Do you believe the media fails to report on Democrats’ scandals?\n",
    "\n",
    "- Changes to \"how honestly does the media report on democrat scandals in your opinion?\""
   ]
  },
  {
   "cell_type": "code",
   "execution_count": null,
   "metadata": {},
   "outputs": [],
   "source": []
  }
 ],
 "metadata": {
  "kernelspec": {
   "display_name": "Python 3",
   "language": "python",
   "name": "python3"
  },
  "language_info": {
   "codemirror_mode": {
    "name": "ipython",
    "version": 3
   },
   "file_extension": ".py",
   "mimetype": "text/x-python",
   "name": "python",
   "nbconvert_exporter": "python",
   "pygments_lexer": "ipython3",
   "version": "3.7.3"
  }
 },
 "nbformat": 4,
 "nbformat_minor": 2
}
