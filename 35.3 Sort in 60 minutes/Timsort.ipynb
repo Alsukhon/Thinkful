{
 "cells": [
  {
   "cell_type": "code",
   "execution_count": null,
   "metadata": {},
   "outputs": [],
   "source": [
    "def timsort(arr):\n",
    "    runs, sorted_runs = [], []\n",
    "    l = len(arr)\n",
    "    new_run = [arr[0]]\n",
    "    for i in range(1, l):\n",
    "        if i == l-1:\n",
    "            new_run.append(arr[i])\n",
    "            runs.append(new_run)\n",
    "            break\n",
    "        if arr[i] < arr[i-1]:\n",
    "            if not new_run:\n",
    "                runs.append([arr[i-1]])\n",
    "                new_run.append(arr[i])\n",
    "            else:\n",
    "                runs.append(new_run)\n",
    "                new_run = []\n",
    "        else:\n",
    "            new_run.append(arr[i])\n",
    "    for each in runs:\n",
    "        sorted_runs.append(insertion_sort(each))\n",
    "    sorted_array = []\n",
    "    for run in sorted_runs:\n",
    "        sorted_array = merge(sorted_array, run)\n",
    "    print sorted_array"
   ]
  }
 ],
 "metadata": {
  "kernelspec": {
   "display_name": "Python 3",
   "language": "python",
   "name": "python3"
  },
  "language_info": {
   "codemirror_mode": {
    "name": "ipython",
    "version": 3
   },
   "file_extension": ".py",
   "mimetype": "text/x-python",
   "name": "python",
   "nbconvert_exporter": "python",
   "pygments_lexer": "ipython3",
   "version": "3.7.3"
  }
 },
 "nbformat": 4,
 "nbformat_minor": 2
}
