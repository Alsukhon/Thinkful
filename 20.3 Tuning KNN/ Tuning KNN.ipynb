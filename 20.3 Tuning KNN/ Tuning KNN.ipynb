{
 "cells": [
  {
   "cell_type": "markdown",
   "metadata": {},
   "source": [
    "# DRILL:\n",
    "\n",
    "Let's say we work at a credit card company and we're trying to figure out if people are going to pay their bills on time. We have everyone's purchases, split into four main categories: groceries, dining out, utilities, and entertainment. What are some ways you might use KNN to create this model? What aspects of KNN would be useful? Write up your thoughts in submit a link below."
   ]
  },
  {
   "cell_type": "markdown",
   "metadata": {},
   "source": [
    "# Answer:\n",
    "\n",
    "A KNN model can be created with the given data in a way that utilities is the target variable. This is because purchasing utilities is actually paying a bill, usually. \n",
    "\n",
    "When normalizing this dataset, features can be normalized with respect to utilities; because we want to know whether they pay their bills on time, it can also be helpful to see the feature's relevance to paid bills. Example: Utilities: 150, entertainment: 600 therefore entertainment changes to 4.0 .\n",
    "\n",
    "Another way could be normalizing with respect to the mean of each spending category and that also can point out big spenders and people who do not pay utility bills on time."
   ]
  }
 ],
 "metadata": {
  "kernelspec": {
   "display_name": "Python 3",
   "language": "python",
   "name": "python3"
  },
  "language_info": {
   "codemirror_mode": {
    "name": "ipython",
    "version": 3
   },
   "file_extension": ".py",
   "mimetype": "text/x-python",
   "name": "python",
   "nbconvert_exporter": "python",
   "pygments_lexer": "ipython3",
   "version": "3.7.3"
  }
 },
 "nbformat": 4,
 "nbformat_minor": 2
}
