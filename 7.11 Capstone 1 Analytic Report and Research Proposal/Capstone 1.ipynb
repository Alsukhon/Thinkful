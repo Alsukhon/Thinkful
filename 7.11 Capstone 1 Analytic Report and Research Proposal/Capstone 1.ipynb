{
 "cells": [
  {
   "cell_type": "markdown",
   "metadata": {},
   "source": [
    "Some interesting questions that can be answered using this dataset are:\n",
    "\n",
    "1. Which apps are most reviewed? Of those, which ones have the highest rating, let's say, the top three?\n",
    "\n",
    "2. How do these apps vary by rating, pricing, and the ratio of reviews based on number of installs?"
   ]
  },
  {
   "cell_type": "markdown",
   "metadata": {},
   "source": [
    "# Keep going in the same format\n",
    "\n",
    "# Q3 = stat test"
   ]
  },
  {
   "cell_type": "markdown",
   "metadata": {},
   "source": [
    "### Dataset Context"
   ]
  },
  {
   "cell_type": "markdown",
   "metadata": {},
   "source": [
    "The applications -or *apps*- offered in the Google Play store are in the millions and growing. As of the writing of this project, the Google Play store is estimated to hold 2.6 million applications. The creator of this dataset, Lavanya Gupta, was able to obtain data on 10,000 of these apps.\n",
    "\n",
    "She obtained the dataset through scraping the store, which uses dynamic page loading. Dynamic page loading means that the store page displays the apps based on what Google knows about the user requesting the page. And scraping means that she wrote a script that runs through the dynamically-loaded page, reads the data, and outputs it into a structured file, such as the csv file I will be working with for this project."
   ]
  },
  {
   "cell_type": "markdown",
   "metadata": {},
   "source": [
    "The data files include another file containing a sentiment analysis conducted on this sample of Google Play apps using the nltk Python library, which stands for Natural Language Toolkit. The objective of this analysis is to try to understand user reviews and what they convey about their opinions of these apps. "
   ]
  },
  {
   "cell_type": "markdown",
   "metadata": {},
   "source": [
    "### Dataset Content"
   ]
  },
  {
   "cell_type": "markdown",
   "metadata": {},
   "source": [
    "#### A. googleplaystore.csv\n",
    "\n",
    "This file contains the main dataset. It has 10,841 rows of data with the following columns:\n",
    "\n",
    "*App Category*: Category of the app. This could be beauty, business, entertainment, education...etc.\n",
    "\n",
    "*Rating*: How users rate the app out of 5, with 1 being the lowest rating and 5 being the highest.\n",
    "\n",
    "*Reviews*: The number of user reviews each app has received.\n",
    "\n",
    "*Size*: The memory size needed to install the application.\n",
    "\n",
    "*Installs*: The number of times each application has been installed by users.\n",
    "\n",
    "*Type*: Whether the app is free or a paid app.\n",
    "\n",
    "*Price*: The price of the app.\n",
    "\n",
    "*Content Rating*: This column specifies the intended audience for the app. Can be for teens, mature audience, or everyone.\n",
    "\n",
    "*Genres*: The sub-category for each app. Example: for the Education category, this could be Education: Pretend Play.\n",
    "\n",
    "*Last Updated*: Release date of the most recent update for the app.\n",
    "\n",
    "*Current Ver*: The app's current version.\n",
    "\n",
    "*Android Ver*: The oldest version of Android OS supported by the app.\n"
   ]
  },
  {
   "cell_type": "markdown",
   "metadata": {},
   "source": [
    "#### B. googleplaystore_user_reviews.csv\n",
    "\n",
    "This file contains the result of the sentiment analysis conducted by the dataset creator. It has 64,295 rows of data with the following columns:\n",
    "\n",
    "*App* : Name of the app.\n",
    "\n",
    "*Translated_Review*: Either the original review in English, or a translated version if the orignal review is in another language.\n",
    "\n",
    "*Sentiment*: The result of the sentiment analysis conducted on a review. The value is either Positive, Neutral, or Negative.\n",
    "\n",
    "*Sentiment_Polarity*: A value indicating the positivity or negativity of the sentiment, values range from -1 (most negative) to 1 (most positive).\n",
    "\n",
    "*Sentiment_Subjectivity*: A value from 0 to 1 indicating the subjectivity of the review. Lower values indicate the review is based on factual information, and higher values indicate the review is based on personal or public opinions or judgements."
   ]
  },
  {
   "cell_type": "markdown",
   "metadata": {},
   "source": [
    "### Summary of Limitations"
   ]
  },
  {
   "cell_type": "markdown",
   "metadata": {},
   "source": [
    "The limitations of the Google Play Store Apps data are:\n",
    "\n",
    "1. The apps included are relevant to the dataset creator's activity on Google-related sites. She is a Machine Learning Software Developer based in India. It is most likely the applications generated are based on their popularity in the geographical region around India, while this analysis is intended for audience in the U.S or North America.\n",
    "\n",
    "\n",
    "2. With cloud-based storage available for Android users at little or no cost, app size may have no significant contribution to app popularity. Therefore the *Size* column will be removed.\n",
    "\n",
    "\n",
    "3. I am not sure if apps follow the same software versioning process, therefore I will assume the *Current Ver* column will be irrelevant to this analysis. Otherwise it would have been useful for measuring current support of the app by its developers.\n",
    "\n",
    "\n",
    "4. I will assume that the vast majority of users can upgrade their Android devices to the latest version. Based on that, the *Android Ver* column will also be excluded. Any limitations that may justify relying on older versions of Android most probably do not apply to the majority of the population.\n",
    "\n",
    "\n",
    "5. Scraping data off of a Google website is an unconventional way to obtain it, which may result in misplaced data. This largely depends on the scraper built by the dataset creator.\n",
    "\n",
    "\n",
    "6. The sentiment analysis result is limited by the abilities of Python's nltk library, which does not support all languages. Reviews with unsupported languages will not be translated and should have no values within the analysis output."
   ]
  },
  {
   "cell_type": "markdown",
   "metadata": {},
   "source": [
    "I will start by importing the csv files into two Pandas dataframes, one called *app_data* which contains the main data on the applications, and another called *sentiment_data* containing the sentiment analysis results on app reviews."
   ]
  },
  {
   "cell_type": "code",
   "execution_count": 31,
   "metadata": {},
   "outputs": [],
   "source": [
    "import numpy as np\n",
    "import pandas as pd\n",
    "import matplotlib.pyplot as plt\n",
    "\n",
    "%matplotlib inline"
   ]
  },
  {
   "cell_type": "code",
   "execution_count": 32,
   "metadata": {
    "scrolled": true
   },
   "outputs": [
    {
     "data": {
      "text/html": [
       "<div>\n",
       "<style scoped>\n",
       "    .dataframe tbody tr th:only-of-type {\n",
       "        vertical-align: middle;\n",
       "    }\n",
       "\n",
       "    .dataframe tbody tr th {\n",
       "        vertical-align: top;\n",
       "    }\n",
       "\n",
       "    .dataframe thead th {\n",
       "        text-align: right;\n",
       "    }\n",
       "</style>\n",
       "<table border=\"1\" class=\"dataframe\">\n",
       "  <thead>\n",
       "    <tr style=\"text-align: right;\">\n",
       "      <th></th>\n",
       "      <th>App</th>\n",
       "      <th>Category</th>\n",
       "      <th>Rating</th>\n",
       "      <th>Reviews</th>\n",
       "      <th>Size</th>\n",
       "      <th>Installs</th>\n",
       "      <th>Type</th>\n",
       "      <th>Price</th>\n",
       "      <th>Content Rating</th>\n",
       "      <th>Genres</th>\n",
       "      <th>Last Updated</th>\n",
       "      <th>Current Ver</th>\n",
       "      <th>Android Ver</th>\n",
       "    </tr>\n",
       "  </thead>\n",
       "  <tbody>\n",
       "    <tr>\n",
       "      <th>0</th>\n",
       "      <td>Photo Editor &amp; Candy Camera &amp; Grid &amp; ScrapBook</td>\n",
       "      <td>ART_AND_DESIGN</td>\n",
       "      <td>4.1</td>\n",
       "      <td>159</td>\n",
       "      <td>19M</td>\n",
       "      <td>10,000+</td>\n",
       "      <td>Free</td>\n",
       "      <td>0</td>\n",
       "      <td>Everyone</td>\n",
       "      <td>Art &amp; Design</td>\n",
       "      <td>January 7, 2018</td>\n",
       "      <td>1.0.0</td>\n",
       "      <td>4.0.3 and up</td>\n",
       "    </tr>\n",
       "    <tr>\n",
       "      <th>1</th>\n",
       "      <td>Coloring book moana</td>\n",
       "      <td>ART_AND_DESIGN</td>\n",
       "      <td>3.9</td>\n",
       "      <td>967</td>\n",
       "      <td>14M</td>\n",
       "      <td>500,000+</td>\n",
       "      <td>Free</td>\n",
       "      <td>0</td>\n",
       "      <td>Everyone</td>\n",
       "      <td>Art &amp; Design;Pretend Play</td>\n",
       "      <td>January 15, 2018</td>\n",
       "      <td>2.0.0</td>\n",
       "      <td>4.0.3 and up</td>\n",
       "    </tr>\n",
       "    <tr>\n",
       "      <th>2</th>\n",
       "      <td>U Launcher Lite – FREE Live Cool Themes, Hide ...</td>\n",
       "      <td>ART_AND_DESIGN</td>\n",
       "      <td>4.7</td>\n",
       "      <td>87510</td>\n",
       "      <td>8.7M</td>\n",
       "      <td>5,000,000+</td>\n",
       "      <td>Free</td>\n",
       "      <td>0</td>\n",
       "      <td>Everyone</td>\n",
       "      <td>Art &amp; Design</td>\n",
       "      <td>August 1, 2018</td>\n",
       "      <td>1.2.4</td>\n",
       "      <td>4.0.3 and up</td>\n",
       "    </tr>\n",
       "  </tbody>\n",
       "</table>\n",
       "</div>"
      ],
      "text/plain": [
       "                                                 App        Category  Rating  \\\n",
       "0     Photo Editor & Candy Camera & Grid & ScrapBook  ART_AND_DESIGN     4.1   \n",
       "1                                Coloring book moana  ART_AND_DESIGN     3.9   \n",
       "2  U Launcher Lite – FREE Live Cool Themes, Hide ...  ART_AND_DESIGN     4.7   \n",
       "\n",
       "  Reviews  Size    Installs  Type Price Content Rating  \\\n",
       "0     159   19M     10,000+  Free     0       Everyone   \n",
       "1     967   14M    500,000+  Free     0       Everyone   \n",
       "2   87510  8.7M  5,000,000+  Free     0       Everyone   \n",
       "\n",
       "                      Genres      Last Updated Current Ver   Android Ver  \n",
       "0               Art & Design   January 7, 2018       1.0.0  4.0.3 and up  \n",
       "1  Art & Design;Pretend Play  January 15, 2018       2.0.0  4.0.3 and up  \n",
       "2               Art & Design    August 1, 2018       1.2.4  4.0.3 and up  "
      ]
     },
     "execution_count": 32,
     "metadata": {},
     "output_type": "execute_result"
    }
   ],
   "source": [
    "#Import the googleplaystore.csv into a Pandas dataframe\n",
    "app_data = pd.read_csv(r\"C:\\Users\\Mohammad's PC\\Documents\\Thinkful\\7.11 Capstone 1 Analytic Report and Research Proposal\\google-play-store-apps\\googleplaystore.csv\")\n",
    "\n",
    "#Show the first 3 rows of the dataframe\n",
    "app_data.head(3)"
   ]
  },
  {
   "cell_type": "markdown",
   "metadata": {},
   "source": [
    "With over 10,000 rows of data being obtained through a scraper, and rating and reviews being non-mandatory for users, we can expect some missing data in our columns. Let's construct a clear picture of what how many missing values we have in each column:"
   ]
  },
  {
   "cell_type": "code",
   "execution_count": 33,
   "metadata": {},
   "outputs": [
    {
     "name": "stdout",
     "output_type": "stream",
     "text": [
      "Missing Values\n",
      "---------------\n",
      "\n",
      "App: 0 <------0.0% of total.\n",
      "Category: 0 <------0.0% of total.\n",
      "Rating: 1474 <------14.0% of total.\n",
      "Reviews: 0 <------0.0% of total.\n",
      "Size: 0 <------0.0% of total.\n",
      "Installs: 0 <------0.0% of total.\n",
      "Type: 1 <------0.0% of total.\n",
      "Price: 0 <------0.0% of total.\n",
      "Content Rating: 1 <------0.0% of total.\n",
      "Genres: 0 <------0.0% of total.\n",
      "Last Updated: 0 <------0.0% of total.\n",
      "Current Ver: 8 <------0.0% of total.\n",
      "Android Ver: 3 <------0.0% of total.\n"
     ]
    }
   ],
   "source": [
    "#header\n",
    "print (\"Missing Values\"+\"\\n\"+\"-\"*15+\"\\n\")\n",
    "\n",
    "#Iterate over columns and calculate the sum of missing for each column\n",
    "for column in app_data.columns:\n",
    "    missing_vals = app_data[column].isna().sum()\n",
    "    percentage = round(missing_vals/len(app_data)*100,0)\n",
    "    percentage = str(percentage)+\"%\"\n",
    "    print (column+\": \"+ str(missing_vals)+\" <\"+\"-\"*6+percentage + \" of total.\")"
   ]
  },
  {
   "cell_type": "markdown",
   "metadata": {},
   "source": [
    "Except for the *Rating* column values, I would say we have a good dataset. Since answering our first question relies on having user-generated ratings rather than a mean we can calculate to substitute for missing values, these rows will be removed from the dataset.\n",
    "\n",
    "Now, the rows are in their original sorting order. While the most popular apps are would still be most popular according to India and Lavanya's user behavior, I am confident they are still recognizable by North American audience due to their global offering, let's take a look at the most installed apps within this dataset:"
   ]
  },
  {
   "cell_type": "code",
   "execution_count": 34,
   "metadata": {},
   "outputs": [
    {
     "data": {
      "text/html": [
       "<div>\n",
       "<style scoped>\n",
       "    .dataframe tbody tr th:only-of-type {\n",
       "        vertical-align: middle;\n",
       "    }\n",
       "\n",
       "    .dataframe tbody tr th {\n",
       "        vertical-align: top;\n",
       "    }\n",
       "\n",
       "    .dataframe thead th {\n",
       "        text-align: right;\n",
       "    }\n",
       "</style>\n",
       "<table border=\"1\" class=\"dataframe\">\n",
       "  <thead>\n",
       "    <tr style=\"text-align: right;\">\n",
       "      <th></th>\n",
       "      <th>App</th>\n",
       "      <th>Category</th>\n",
       "      <th>Rating</th>\n",
       "      <th>Reviews</th>\n",
       "      <th>Size</th>\n",
       "      <th>Installs</th>\n",
       "      <th>Type</th>\n",
       "      <th>Price</th>\n",
       "      <th>Content Rating</th>\n",
       "      <th>Genres</th>\n",
       "      <th>Last Updated</th>\n",
       "      <th>Current Ver</th>\n",
       "      <th>Android Ver</th>\n",
       "    </tr>\n",
       "  </thead>\n",
       "  <tbody>\n",
       "    <tr>\n",
       "      <th>10472</th>\n",
       "      <td>Life Made WI-Fi Touchscreen Photo Frame</td>\n",
       "      <td>1.9</td>\n",
       "      <td>19.0</td>\n",
       "      <td>3.0M</td>\n",
       "      <td>1,000+</td>\n",
       "      <td>Free</td>\n",
       "      <td>0</td>\n",
       "      <td>Everyone</td>\n",
       "      <td>NaN</td>\n",
       "      <td>February 11, 2018</td>\n",
       "      <td>1.0.19</td>\n",
       "      <td>4.0 and up</td>\n",
       "      <td>NaN</td>\n",
       "    </tr>\n",
       "    <tr>\n",
       "      <th>420</th>\n",
       "      <td>UC Browser - Fast Download Private &amp; Secure</td>\n",
       "      <td>COMMUNICATION</td>\n",
       "      <td>4.5</td>\n",
       "      <td>17714850</td>\n",
       "      <td>40M</td>\n",
       "      <td>500,000,000+</td>\n",
       "      <td>Free</td>\n",
       "      <td>0</td>\n",
       "      <td>Teen</td>\n",
       "      <td>Communication</td>\n",
       "      <td>August 2, 2018</td>\n",
       "      <td>12.8.5.1121</td>\n",
       "      <td>4.0 and up</td>\n",
       "    </tr>\n",
       "    <tr>\n",
       "      <th>474</th>\n",
       "      <td>LINE: Free Calls &amp; Messages</td>\n",
       "      <td>COMMUNICATION</td>\n",
       "      <td>4.2</td>\n",
       "      <td>10790289</td>\n",
       "      <td>Varies with device</td>\n",
       "      <td>500,000,000+</td>\n",
       "      <td>Free</td>\n",
       "      <td>0</td>\n",
       "      <td>Everyone</td>\n",
       "      <td>Communication</td>\n",
       "      <td>July 26, 2018</td>\n",
       "      <td>Varies with device</td>\n",
       "      <td>Varies with device</td>\n",
       "    </tr>\n",
       "    <tr>\n",
       "      <th>3767</th>\n",
       "      <td>Flipboard: News For Our Time</td>\n",
       "      <td>NEWS_AND_MAGAZINES</td>\n",
       "      <td>4.4</td>\n",
       "      <td>1284017</td>\n",
       "      <td>Varies with device</td>\n",
       "      <td>500,000,000+</td>\n",
       "      <td>Free</td>\n",
       "      <td>0</td>\n",
       "      <td>Everyone 10+</td>\n",
       "      <td>News &amp; Magazines</td>\n",
       "      <td>August 3, 2018</td>\n",
       "      <td>Varies with device</td>\n",
       "      <td>Varies with device</td>\n",
       "    </tr>\n",
       "  </tbody>\n",
       "</table>\n",
       "</div>"
      ],
      "text/plain": [
       "                                               App            Category  \\\n",
       "10472      Life Made WI-Fi Touchscreen Photo Frame                 1.9   \n",
       "420    UC Browser - Fast Download Private & Secure       COMMUNICATION   \n",
       "474                    LINE: Free Calls & Messages       COMMUNICATION   \n",
       "3767                  Flipboard: News For Our Time  NEWS_AND_MAGAZINES   \n",
       "\n",
       "       Rating   Reviews                Size      Installs  Type     Price  \\\n",
       "10472    19.0      3.0M              1,000+          Free     0  Everyone   \n",
       "420       4.5  17714850                 40M  500,000,000+  Free         0   \n",
       "474       4.2  10790289  Varies with device  500,000,000+  Free         0   \n",
       "3767      4.4   1284017  Varies with device  500,000,000+  Free         0   \n",
       "\n",
       "      Content Rating             Genres    Last Updated         Current Ver  \\\n",
       "10472            NaN  February 11, 2018          1.0.19          4.0 and up   \n",
       "420             Teen      Communication  August 2, 2018         12.8.5.1121   \n",
       "474         Everyone      Communication   July 26, 2018  Varies with device   \n",
       "3767    Everyone 10+   News & Magazines  August 3, 2018  Varies with device   \n",
       "\n",
       "              Android Ver  \n",
       "10472                 NaN  \n",
       "420            4.0 and up  \n",
       "474    Varies with device  \n",
       "3767   Varies with device  "
      ]
     },
     "execution_count": 34,
     "metadata": {},
     "output_type": "execute_result"
    }
   ],
   "source": [
    "# Sort the original dataset by number of installs to see most popular apps first\n",
    "app_data = app_data.sort_values(by=\"Installs\", ascending=False)\n",
    "app_data.head(4)"
   ]
  },
  {
   "cell_type": "markdown",
   "metadata": {},
   "source": [
    "*Life Made WI-Fi Touchscreen Photo Frame* is listed in the top, but is not a result of a huge amount of installs. This is probably due to an error in data entry that is attributed to the scraper used to get this dataset. However it is good that only one erroneous row exists beyond the true most-installed app rows. Since erroneous rows are likely to exist outside the range of [0, maximum value], it is a must to check if such rows exist beyond rows with 0 installs as well:"
   ]
  },
  {
   "cell_type": "code",
   "execution_count": 35,
   "metadata": {
    "scrolled": false
   },
   "outputs": [
    {
     "data": {
      "text/html": [
       "<div>\n",
       "<style scoped>\n",
       "    .dataframe tbody tr th:only-of-type {\n",
       "        vertical-align: middle;\n",
       "    }\n",
       "\n",
       "    .dataframe tbody tr th {\n",
       "        vertical-align: top;\n",
       "    }\n",
       "\n",
       "    .dataframe thead th {\n",
       "        text-align: right;\n",
       "    }\n",
       "</style>\n",
       "<table border=\"1\" class=\"dataframe\">\n",
       "  <thead>\n",
       "    <tr style=\"text-align: right;\">\n",
       "      <th></th>\n",
       "      <th>App</th>\n",
       "      <th>Category</th>\n",
       "      <th>Rating</th>\n",
       "      <th>Reviews</th>\n",
       "      <th>Size</th>\n",
       "      <th>Installs</th>\n",
       "      <th>Type</th>\n",
       "      <th>Price</th>\n",
       "      <th>Content Rating</th>\n",
       "      <th>Genres</th>\n",
       "      <th>Last Updated</th>\n",
       "      <th>Current Ver</th>\n",
       "      <th>Android Ver</th>\n",
       "    </tr>\n",
       "  </thead>\n",
       "  <tbody>\n",
       "    <tr>\n",
       "      <th>9148</th>\n",
       "      <td>Command &amp; Conquer: Rivals</td>\n",
       "      <td>FAMILY</td>\n",
       "      <td>NaN</td>\n",
       "      <td>0</td>\n",
       "      <td>Varies with device</td>\n",
       "      <td>0</td>\n",
       "      <td>NaN</td>\n",
       "      <td>0</td>\n",
       "      <td>Everyone 10+</td>\n",
       "      <td>Strategy</td>\n",
       "      <td>June 28, 2018</td>\n",
       "      <td>Varies with device</td>\n",
       "      <td>Varies with device</td>\n",
       "    </tr>\n",
       "    <tr>\n",
       "      <th>9337</th>\n",
       "      <td>EG | Explore Folegandros</td>\n",
       "      <td>TRAVEL_AND_LOCAL</td>\n",
       "      <td>NaN</td>\n",
       "      <td>0</td>\n",
       "      <td>56M</td>\n",
       "      <td>0+</td>\n",
       "      <td>Paid</td>\n",
       "      <td>$3.99</td>\n",
       "      <td>Everyone</td>\n",
       "      <td>Travel &amp; Local</td>\n",
       "      <td>January 22, 2017</td>\n",
       "      <td>1.1.1</td>\n",
       "      <td>4.1 and up</td>\n",
       "    </tr>\n",
       "    <tr>\n",
       "      <th>9719</th>\n",
       "      <td>EP Cook Book</td>\n",
       "      <td>MEDICAL</td>\n",
       "      <td>NaN</td>\n",
       "      <td>0</td>\n",
       "      <td>3.2M</td>\n",
       "      <td>0+</td>\n",
       "      <td>Paid</td>\n",
       "      <td>$200.00</td>\n",
       "      <td>Everyone</td>\n",
       "      <td>Medical</td>\n",
       "      <td>July 26, 2015</td>\n",
       "      <td>1.0</td>\n",
       "      <td>3.0 and up</td>\n",
       "    </tr>\n",
       "    <tr>\n",
       "      <th>6692</th>\n",
       "      <td>cronometra-br</td>\n",
       "      <td>PRODUCTIVITY</td>\n",
       "      <td>NaN</td>\n",
       "      <td>0</td>\n",
       "      <td>5.4M</td>\n",
       "      <td>0+</td>\n",
       "      <td>Paid</td>\n",
       "      <td>$154.99</td>\n",
       "      <td>Everyone</td>\n",
       "      <td>Productivity</td>\n",
       "      <td>November 24, 2017</td>\n",
       "      <td>1.0.0</td>\n",
       "      <td>4.1 and up</td>\n",
       "    </tr>\n",
       "    <tr>\n",
       "      <th>8081</th>\n",
       "      <td>CX Network</td>\n",
       "      <td>BUSINESS</td>\n",
       "      <td>NaN</td>\n",
       "      <td>0</td>\n",
       "      <td>10M</td>\n",
       "      <td>0+</td>\n",
       "      <td>Free</td>\n",
       "      <td>0</td>\n",
       "      <td>Everyone</td>\n",
       "      <td>Business</td>\n",
       "      <td>August 6, 2018</td>\n",
       "      <td>1.3.1</td>\n",
       "      <td>4.1 and up</td>\n",
       "    </tr>\n",
       "  </tbody>\n",
       "</table>\n",
       "</div>"
      ],
      "text/plain": [
       "                            App          Category  Rating Reviews  \\\n",
       "9148  Command & Conquer: Rivals            FAMILY     NaN       0   \n",
       "9337   EG | Explore Folegandros  TRAVEL_AND_LOCAL     NaN       0   \n",
       "9719               EP Cook Book           MEDICAL     NaN       0   \n",
       "6692              cronometra-br      PRODUCTIVITY     NaN       0   \n",
       "8081                 CX Network          BUSINESS     NaN       0   \n",
       "\n",
       "                    Size Installs  Type    Price Content Rating  \\\n",
       "9148  Varies with device        0   NaN        0   Everyone 10+   \n",
       "9337                 56M       0+  Paid    $3.99       Everyone   \n",
       "9719                3.2M       0+  Paid  $200.00       Everyone   \n",
       "6692                5.4M       0+  Paid  $154.99       Everyone   \n",
       "8081                 10M       0+  Free        0       Everyone   \n",
       "\n",
       "              Genres       Last Updated         Current Ver  \\\n",
       "9148        Strategy      June 28, 2018  Varies with device   \n",
       "9337  Travel & Local   January 22, 2017               1.1.1   \n",
       "9719         Medical      July 26, 2015                 1.0   \n",
       "6692    Productivity  November 24, 2017               1.0.0   \n",
       "8081        Business     August 6, 2018               1.3.1   \n",
       "\n",
       "             Android Ver  \n",
       "9148  Varies with device  \n",
       "9337          4.1 and up  \n",
       "9719          3.0 and up  \n",
       "6692          4.1 and up  \n",
       "8081          4.1 and up  "
      ]
     },
     "execution_count": 35,
     "metadata": {},
     "output_type": "execute_result"
    }
   ],
   "source": [
    "#re-sort the data in ascending order to show least installed apps first\n",
    "app_data = app_data.sort_values(by=\"Installs\")\n",
    "app_data.head()"
   ]
  },
  {
   "cell_type": "markdown",
   "metadata": {},
   "source": [
    "This is good news, no erroneous rows exist below 0 for the *Installs* column. Therefore all we have to do is delete\n",
    "that one erroneous row. So far now we will delete:\n",
    "\n",
    "**Rows:**\n",
    "1. That erroneous row, with an index number of **10472**\n",
    "2. All rows with missing -*NaN*- values in the *Rating* column.\n",
    "\n",
    "**Columns:**\n",
    "1. *Size*\n",
    "2. *Current Ver*\n",
    "3. *Andoird Ver*"
   ]
  },
  {
   "cell_type": "code",
   "execution_count": 36,
   "metadata": {},
   "outputs": [
    {
     "data": {
      "text/html": [
       "<div>\n",
       "<style scoped>\n",
       "    .dataframe tbody tr th:only-of-type {\n",
       "        vertical-align: middle;\n",
       "    }\n",
       "\n",
       "    .dataframe tbody tr th {\n",
       "        vertical-align: top;\n",
       "    }\n",
       "\n",
       "    .dataframe thead th {\n",
       "        text-align: right;\n",
       "    }\n",
       "</style>\n",
       "<table border=\"1\" class=\"dataframe\">\n",
       "  <thead>\n",
       "    <tr style=\"text-align: right;\">\n",
       "      <th></th>\n",
       "      <th>App</th>\n",
       "      <th>Category</th>\n",
       "      <th>Rating</th>\n",
       "      <th>Reviews</th>\n",
       "      <th>Installs</th>\n",
       "      <th>Type</th>\n",
       "      <th>Price</th>\n",
       "      <th>Content Rating</th>\n",
       "      <th>Genres</th>\n",
       "      <th>Last Updated</th>\n",
       "    </tr>\n",
       "  </thead>\n",
       "  <tbody>\n",
       "    <tr>\n",
       "      <th>342</th>\n",
       "      <td>Viber Messenger</td>\n",
       "      <td>COMMUNICATION</td>\n",
       "      <td>4.3</td>\n",
       "      <td>11334799</td>\n",
       "      <td>500,000,000+</td>\n",
       "      <td>Free</td>\n",
       "      <td>0</td>\n",
       "      <td>Everyone</td>\n",
       "      <td>Communication</td>\n",
       "      <td>July 18, 2018</td>\n",
       "    </tr>\n",
       "    <tr>\n",
       "      <th>3703</th>\n",
       "      <td>MX Player</td>\n",
       "      <td>VIDEO_PLAYERS</td>\n",
       "      <td>4.5</td>\n",
       "      <td>6474426</td>\n",
       "      <td>500,000,000+</td>\n",
       "      <td>Free</td>\n",
       "      <td>0</td>\n",
       "      <td>Everyone</td>\n",
       "      <td>Video Players &amp; Editors</td>\n",
       "      <td>August 6, 2018</td>\n",
       "    </tr>\n",
       "    <tr>\n",
       "      <th>420</th>\n",
       "      <td>UC Browser - Fast Download Private &amp; Secure</td>\n",
       "      <td>COMMUNICATION</td>\n",
       "      <td>4.5</td>\n",
       "      <td>17714850</td>\n",
       "      <td>500,000,000+</td>\n",
       "      <td>Free</td>\n",
       "      <td>0</td>\n",
       "      <td>Teen</td>\n",
       "      <td>Communication</td>\n",
       "      <td>August 2, 2018</td>\n",
       "    </tr>\n",
       "    <tr>\n",
       "      <th>474</th>\n",
       "      <td>LINE: Free Calls &amp; Messages</td>\n",
       "      <td>COMMUNICATION</td>\n",
       "      <td>4.2</td>\n",
       "      <td>10790289</td>\n",
       "      <td>500,000,000+</td>\n",
       "      <td>Free</td>\n",
       "      <td>0</td>\n",
       "      <td>Everyone</td>\n",
       "      <td>Communication</td>\n",
       "      <td>July 26, 2018</td>\n",
       "    </tr>\n",
       "    <tr>\n",
       "      <th>3574</th>\n",
       "      <td>Cloud Print</td>\n",
       "      <td>PRODUCTIVITY</td>\n",
       "      <td>4.1</td>\n",
       "      <td>282460</td>\n",
       "      <td>500,000,000+</td>\n",
       "      <td>Free</td>\n",
       "      <td>0</td>\n",
       "      <td>Everyone</td>\n",
       "      <td>Productivity</td>\n",
       "      <td>May 23, 2018</td>\n",
       "    </tr>\n",
       "  </tbody>\n",
       "</table>\n",
       "</div>"
      ],
      "text/plain": [
       "                                              App       Category  Rating  \\\n",
       "342                               Viber Messenger  COMMUNICATION     4.3   \n",
       "3703                                    MX Player  VIDEO_PLAYERS     4.5   \n",
       "420   UC Browser - Fast Download Private & Secure  COMMUNICATION     4.5   \n",
       "474                   LINE: Free Calls & Messages  COMMUNICATION     4.2   \n",
       "3574                                  Cloud Print   PRODUCTIVITY     4.1   \n",
       "\n",
       "       Reviews      Installs  Type Price Content Rating  \\\n",
       "342   11334799  500,000,000+  Free     0       Everyone   \n",
       "3703   6474426  500,000,000+  Free     0       Everyone   \n",
       "420   17714850  500,000,000+  Free     0           Teen   \n",
       "474   10790289  500,000,000+  Free     0       Everyone   \n",
       "3574    282460  500,000,000+  Free     0       Everyone   \n",
       "\n",
       "                       Genres    Last Updated  \n",
       "342             Communication   July 18, 2018  \n",
       "3703  Video Players & Editors  August 6, 2018  \n",
       "420             Communication  August 2, 2018  \n",
       "474             Communication   July 26, 2018  \n",
       "3574             Productivity    May 23, 2018  "
      ]
     },
     "execution_count": 36,
     "metadata": {},
     "output_type": "execute_result"
    }
   ],
   "source": [
    "#get indexes of rows with NaN values for Rating column\n",
    "nan_rows = list(app_data[app_data[\"Rating\"].isna()].index)\n",
    "#add the index of the erroneous row\n",
    "nan_rows.append(10472)\n",
    "\n",
    "#remove all rows with missing values\n",
    "app_data = app_data.drop(nan_rows, axis=0)\n",
    "\n",
    "#remove unusable columns\n",
    "app_data = app_data.drop(columns=[\"Size\", \"Current Ver\",\"Android Ver\"])\n",
    "\n",
    "#re-sort the data in descending order\n",
    "app_data = app_data.sort_values(by=\"Installs\", ascending=False)\n",
    "\n",
    "app_data.head()"
   ]
  },
  {
   "cell_type": "markdown",
   "metadata": {},
   "source": [
    "Having done initial cleaning of data, now we proceed to answer the first question in this document:"
   ]
  },
  {
   "cell_type": "markdown",
   "metadata": {},
   "source": [
    "\n",
    "\n",
    "\n",
    "\n",
    "\n",
    "\n",
    "\n",
    "\n",
    "## 1. Which apps are most reviewed? Of those, which ones have the highest rating, let's say the top 10?"
   ]
  },
  {
   "cell_type": "markdown",
   "metadata": {},
   "source": [
    "To proceed in answering the first part of our first question *What apps are most reviewed?*, it is logical to assume the most installed apps have the most reviews. As mentioned above, the number of installs for each application is not an actual number, but a group or level of installs this app has reached (example: 50 million and up). Therefore we will call them **bins** throughout this document. Let's plot these bins of *Installs* that we have in our dataset:"
   ]
  },
  {
   "cell_type": "code",
   "execution_count": 59,
   "metadata": {
    "scrolled": true
   },
   "outputs": [
    {
     "data": {
      "image/png": "[encoded data removed]",
      "text/plain": [
       "<Figure size 432x288 with 1 Axes>"
      ]
     },
     "metadata": {
      "needs_background": "light"
     },
     "output_type": "display_data"
    }
   ],
   "source": [
    "#Generate a series containing count of apps with each bin of number of installs\n",
    "app_data[\"Installs\"].value_counts().plot(kind='bar')\n",
    "\n",
    "#Plot each bin of installs with its frequency/occurrence/count in the dataset\n",
    "plt.title(\"Count of Popular Apps in our Dataset\")\n",
    "plt.ylabel(\"Count\")\n",
    "plt.xlabel(\"Installs\")\n",
    "plt.show()"
   ]
  },
  {
   "cell_type": "markdown",
   "metadata": {},
   "source": [
    "Most apps in our dataset have been installed over a million times, and over 10 million times resepectively. It only makes sense to compare apps that are in the same bin to each other in terms of reviews and ratings. However, this leaves us with about 20 bins, with many of these apps not being necessarily that popular. To get a better focus on popular apps, I will choose the top 10 bins for this analysis. Which bins are in the top 10?"
   ]
  },
  {
   "cell_type": "code",
   "execution_count": 46,
   "metadata": {},
   "outputs": [
    {
     "name": "stdout",
     "output_type": "stream",
     "text": [
      "['1,000,000,000+', '100,000,000+', '500,000,000+', '10,000,000+', '50,000,000+', '1,000,000+', '5,000,000+', '100,000+', '500,000+', '10,000+']\n"
     ]
    }
   ],
   "source": [
    "top_10 = np.unique(app_data[\"Installs\"])\n",
    "\n",
    "top_10 = sorted(top_10,key=len,reverse=True)\n",
    "top_10 = top_10[:10]\n",
    "print(top_10)\n",
    "del top_10"
   ]
  },
  {
   "cell_type": "markdown",
   "metadata": {},
   "source": [
    "The least known apps in our list of top 10 bins seem to be the ones with more than 10,000 installs. However, the sorting order is according to the length (len) and then it would be according to the string characters, which is why we see the 100 million+ value coming before the 500 million+. Since we have sliced the list to contain only the top 10, we can see that the last value is 10,000+, where it should be 50,000+. This will be easier to deal with after parsing those values to integers.\n",
    "\n",
    "For now, anything below 50,000 installs will be removed from consideration in answering our first question. The next step is to parse column bins into integer numbers so we can select rows with only those bins in a [Pythonic way](https://www.quora.com/What-is-the-Pythonic-way):"
   ]
  },
  {
   "cell_type": "code",
   "execution_count": 47,
   "metadata": {},
   "outputs": [],
   "source": [
    "integerized = []\n",
    "for value in app_data[\"Installs\"]:\n",
    "\n",
    "    #Remove the + sign from end of value\n",
    "    value = value.replace(\"+\",\"\")\n",
    "\n",
    "    #Remove the commas used as thousand-separators, then parse the number to integer\n",
    "    value = int(value.replace(\",\",\"\"))\n",
    "\n",
    "    #add the integer value to the integerized list\n",
    "    integerized.append(value)\n",
    "\n",
    "#replace the installs column with the new integer values\n",
    "app_data[\"Installs\"] = [value for value in pd.Series(integerized)]\n",
    "\n",
    "del integerized"
   ]
  },
  {
   "cell_type": "markdown",
   "metadata": {},
   "source": [
    "Now to the final step in finalizing a dataframe that has the necessary data to answer the first question, selecting rows that belong in the top 10 bins:"
   ]
  },
  {
   "cell_type": "code",
   "execution_count": 48,
   "metadata": {},
   "outputs": [
    {
     "name": "stdout",
     "output_type": "stream",
     "text": [
      "70.0%\n"
     ]
    }
   ],
   "source": [
    "# A new dataframe containing rows in top 10 bins\n",
    "top_10_df = app_data[app_data[\"Installs\"] >= 50000]\n",
    "\n",
    "# How much does this data represent of the original data?\n",
    "print (str(round(len(top_10_df)/len(app_data)*100,0))+\"%\")"
   ]
  },
  {
   "cell_type": "markdown",
   "metadata": {},
   "source": [
    "Now to see the most reviewed apps. Apps in each bin will be compared based on the ratio of number of reviews to number of installs, which I will call *Review Ratio*, calculated using the formula: \n",
    "\n",
    "$$Review Ratio = \\frac {Reviews}{Installs}$$\n",
    "\n",
    "The *Review* column data type is still string, therefore it will be converted to integer first."
   ]
  },
  {
   "cell_type": "code",
   "execution_count": 49,
   "metadata": {},
   "outputs": [
    {
     "name": "stderr",
     "output_type": "stream",
     "text": [
      "C:\\Anaconda3\\lib\\site-packages\\ipykernel_launcher.py:2: SettingWithCopyWarning: \n",
      "A value is trying to be set on a copy of a slice from a DataFrame.\n",
      "Try using .loc[row_indexer,col_indexer] = value instead\n",
      "\n",
      "See the caveats in the documentation: http://pandas.pydata.org/pandas-docs/stable/indexing.html#indexing-view-versus-copy\n",
      "  \n",
      "C:\\Anaconda3\\lib\\site-packages\\ipykernel_launcher.py:5: SettingWithCopyWarning: \n",
      "A value is trying to be set on a copy of a slice from a DataFrame.\n",
      "Try using .loc[row_indexer,col_indexer] = value instead\n",
      "\n",
      "See the caveats in the documentation: http://pandas.pydata.org/pandas-docs/stable/indexing.html#indexing-view-versus-copy\n",
      "  \"\"\"\n"
     ]
    }
   ],
   "source": [
    "# Parse review column values to integers\n",
    "top_10_df[\"Reviews\"] = [int(value) for value in top_10_df[\"Reviews\"]]\n",
    "\n",
    "# add a new column containing review ratios\n",
    "top_10_df[\"ReviewRatio\"] = top_10_df[\"Reviews\"]/top_10_df[\"Installs\"]"
   ]
  },
  {
   "cell_type": "markdown",
   "metadata": {},
   "source": [
    "Let's take a look at how the review ratios look for our top 10 bins. For each bin, we will take the app with the highest *ReviewRatio*:"
   ]
  },
  {
   "cell_type": "code",
   "execution_count": 53,
   "metadata": {},
   "outputs": [
    {
     "data": {
      "text/html": [
       "<div>\n",
       "<style scoped>\n",
       "    .dataframe tbody tr th:only-of-type {\n",
       "        vertical-align: middle;\n",
       "    }\n",
       "\n",
       "    .dataframe tbody tr th {\n",
       "        vertical-align: top;\n",
       "    }\n",
       "\n",
       "    .dataframe thead th {\n",
       "        text-align: right;\n",
       "    }\n",
       "</style>\n",
       "<table border=\"1\" class=\"dataframe\">\n",
       "  <thead>\n",
       "    <tr style=\"text-align: right;\">\n",
       "      <th></th>\n",
       "      <th>App</th>\n",
       "      <th>Rating</th>\n",
       "      <th>Reviews</th>\n",
       "      <th>Installs</th>\n",
       "      <th>ReviewRatio</th>\n",
       "    </tr>\n",
       "  </thead>\n",
       "  <tbody>\n",
       "    <tr>\n",
       "      <th>6181</th>\n",
       "      <td>Shadow Fight 2 Special Edition</td>\n",
       "      <td>4.5</td>\n",
       "      <td>10440</td>\n",
       "      <td>50000</td>\n",
       "      <td>0.208800</td>\n",
       "    </tr>\n",
       "    <tr>\n",
       "      <th>9627</th>\n",
       "      <td>ai.type keyboard Plus + Emoji</td>\n",
       "      <td>4.5</td>\n",
       "      <td>57076</td>\n",
       "      <td>100000</td>\n",
       "      <td>0.570760</td>\n",
       "    </tr>\n",
       "    <tr>\n",
       "      <th>7766</th>\n",
       "      <td>CR &amp; CoC Private Server - Clash Barbarians PRO</td>\n",
       "      <td>4.6</td>\n",
       "      <td>167974</td>\n",
       "      <td>500000</td>\n",
       "      <td>0.335948</td>\n",
       "    </tr>\n",
       "    <tr>\n",
       "      <th>10809</th>\n",
       "      <td>Castle Clash: RPG War and Strategy FR</td>\n",
       "      <td>4.7</td>\n",
       "      <td>376223</td>\n",
       "      <td>1000000</td>\n",
       "      <td>0.376223</td>\n",
       "    </tr>\n",
       "    <tr>\n",
       "      <th>4242</th>\n",
       "      <td>Fame Boom for Real Followers, Likes</td>\n",
       "      <td>4.7</td>\n",
       "      <td>896118</td>\n",
       "      <td>5000000</td>\n",
       "      <td>0.179224</td>\n",
       "    </tr>\n",
       "    <tr>\n",
       "      <th>1888</th>\n",
       "      <td>Homescapes</td>\n",
       "      <td>4.6</td>\n",
       "      <td>3093932</td>\n",
       "      <td>10000000</td>\n",
       "      <td>0.309393</td>\n",
       "    </tr>\n",
       "    <tr>\n",
       "      <th>6551</th>\n",
       "      <td>Boom Beach</td>\n",
       "      <td>4.5</td>\n",
       "      <td>5591653</td>\n",
       "      <td>50000000</td>\n",
       "      <td>0.111833</td>\n",
       "    </tr>\n",
       "    <tr>\n",
       "      <th>1879</th>\n",
       "      <td>Clash of Clans</td>\n",
       "      <td>4.6</td>\n",
       "      <td>44893888</td>\n",
       "      <td>100000000</td>\n",
       "      <td>0.448939</td>\n",
       "    </tr>\n",
       "    <tr>\n",
       "      <th>4005</th>\n",
       "      <td>Clean Master- Space Cleaner &amp; Antivirus</td>\n",
       "      <td>4.7</td>\n",
       "      <td>42916526</td>\n",
       "      <td>500000000</td>\n",
       "      <td>0.085833</td>\n",
       "    </tr>\n",
       "    <tr>\n",
       "      <th>2544</th>\n",
       "      <td>Facebook</td>\n",
       "      <td>4.1</td>\n",
       "      <td>78158306</td>\n",
       "      <td>1000000000</td>\n",
       "      <td>0.078158</td>\n",
       "    </tr>\n",
       "  </tbody>\n",
       "</table>\n",
       "</div>"
      ],
      "text/plain": [
       "                                                  App  Rating   Reviews  \\\n",
       "6181                   Shadow Fight 2 Special Edition     4.5     10440   \n",
       "9627                    ai.type keyboard Plus + Emoji     4.5     57076   \n",
       "7766   CR & CoC Private Server - Clash Barbarians PRO     4.6    167974   \n",
       "10809           Castle Clash: RPG War and Strategy FR     4.7    376223   \n",
       "4242              Fame Boom for Real Followers, Likes     4.7    896118   \n",
       "1888                                       Homescapes     4.6   3093932   \n",
       "6551                                       Boom Beach     4.5   5591653   \n",
       "1879                                   Clash of Clans     4.6  44893888   \n",
       "4005          Clean Master- Space Cleaner & Antivirus     4.7  42916526   \n",
       "2544                                         Facebook     4.1  78158306   \n",
       "\n",
       "         Installs  ReviewRatio  \n",
       "6181        50000     0.208800  \n",
       "9627       100000     0.570760  \n",
       "7766       500000     0.335948  \n",
       "10809     1000000     0.376223  \n",
       "4242      5000000     0.179224  \n",
       "1888     10000000     0.309393  \n",
       "6551     50000000     0.111833  \n",
       "1879    100000000     0.448939  \n",
       "4005    500000000     0.085833  \n",
       "2544   1000000000     0.078158  "
      ]
     },
     "execution_count": 53,
     "metadata": {},
     "output_type": "execute_result"
    }
   ],
   "source": [
    "# A dataframe to contain the most reviewed app from each bin:\n",
    "most_reviewed = pd.DataFrame()\n",
    "\n",
    "# Get the most reviewed app from each bin and add it to the most_reviewed dataframe\n",
    "for bins in np.unique(top_10_df[\"Installs\"]):\n",
    "    top_row = top_10_df[top_10_df[\"Installs\"]==bins]\n",
    "    top_row = top_row.sort_values(by=\"ReviewRatio\", ascending=False)\n",
    "    top_row = top_row.head(1)\n",
    "    most_reviewed = most_reviewed.append(top_row)\n",
    "\n",
    "most_reviewed = most_reviewed.drop(columns=[\"Category\",\"Type\",\"Price\",\"Content Rating\",\"Genres\",\"Last Updated\"])\n",
    "most_reviewed"
   ]
  },
  {
   "cell_type": "markdown",
   "metadata": {},
   "source": [
    "And there it is! The most reviewed app from each bin of installs. Being the most reviewed does not mean the highest rated, as in the Facebook app's case, but it certainly gives more credibility to the rating. \n",
    "\n",
    "Now to the second part of our question, what are the top 3 rated apps from these top 10?"
   ]
  },
  {
   "cell_type": "code",
   "execution_count": 57,
   "metadata": {},
   "outputs": [
    {
     "data": {
      "text/html": [
       "<div>\n",
       "<style scoped>\n",
       "    .dataframe tbody tr th:only-of-type {\n",
       "        vertical-align: middle;\n",
       "    }\n",
       "\n",
       "    .dataframe tbody tr th {\n",
       "        vertical-align: top;\n",
       "    }\n",
       "\n",
       "    .dataframe thead th {\n",
       "        text-align: right;\n",
       "    }\n",
       "</style>\n",
       "<table border=\"1\" class=\"dataframe\">\n",
       "  <thead>\n",
       "    <tr style=\"text-align: right;\">\n",
       "      <th></th>\n",
       "      <th>App</th>\n",
       "      <th>Rating</th>\n",
       "      <th>Reviews</th>\n",
       "      <th>Installs</th>\n",
       "      <th>ReviewRatio</th>\n",
       "    </tr>\n",
       "  </thead>\n",
       "  <tbody>\n",
       "    <tr>\n",
       "      <th>10809</th>\n",
       "      <td>Castle Clash: RPG War and Strategy FR</td>\n",
       "      <td>4.7</td>\n",
       "      <td>376223</td>\n",
       "      <td>1000000</td>\n",
       "      <td>0.376223</td>\n",
       "    </tr>\n",
       "    <tr>\n",
       "      <th>4242</th>\n",
       "      <td>Fame Boom for Real Followers, Likes</td>\n",
       "      <td>4.7</td>\n",
       "      <td>896118</td>\n",
       "      <td>5000000</td>\n",
       "      <td>0.179224</td>\n",
       "    </tr>\n",
       "    <tr>\n",
       "      <th>4005</th>\n",
       "      <td>Clean Master- Space Cleaner &amp; Antivirus</td>\n",
       "      <td>4.7</td>\n",
       "      <td>42916526</td>\n",
       "      <td>500000000</td>\n",
       "      <td>0.085833</td>\n",
       "    </tr>\n",
       "  </tbody>\n",
       "</table>\n",
       "</div>"
      ],
      "text/plain": [
       "                                           App  Rating   Reviews   Installs  \\\n",
       "10809    Castle Clash: RPG War and Strategy FR     4.7    376223    1000000   \n",
       "4242       Fame Boom for Real Followers, Likes     4.7    896118    5000000   \n",
       "4005   Clean Master- Space Cleaner & Antivirus     4.7  42916526  500000000   \n",
       "\n",
       "       ReviewRatio  \n",
       "10809     0.376223  \n",
       "4242      0.179224  \n",
       "4005      0.085833  "
      ]
     },
     "execution_count": 57,
     "metadata": {},
     "output_type": "execute_result"
    }
   ],
   "source": [
    "highest_rated = most_reviewed.sort_values(by=\"Rating\", ascending=False).head(3)\n",
    "highest_rated"
   ]
  },
  {
   "cell_type": "markdown",
   "metadata": {},
   "source": [
    "In terms of rating, the top 3 apps tie on 4.7 out of 5.0! "
   ]
  },
  {
   "cell_type": "markdown",
   "metadata": {},
   "source": [
    "## 2. How do these apps vary by rating, pricing, and the ratio of reviews based on number of installs?"
   ]
  },
  {
   "cell_type": "markdown",
   "metadata": {},
   "source": [
    "### A. Rating"
   ]
  },
  {
   "cell_type": "markdown",
   "metadata": {},
   "source": [
    "We have seen that apps with the highest review ratios for the top 10 bins had maximum ratings of 4.7 out of 5, and a minimum of 4.1. As we go down towards less popular apps, we are more likely to see higher variance, either towards a full 5 out of 5 or something lower than 4 out of 5.\n",
    "\n",
    "To have a clearer idea, let's plot the rating column from our dataset:"
   ]
  },
  {
   "cell_type": "code",
   "execution_count": 65,
   "metadata": {},
   "outputs": [
    {
     "data": {
      "image/png": "[encoded data removed]",
      "text/plain": [
       "<Figure size 432x288 with 1 Axes>"
      ]
     },
     "metadata": {
      "needs_background": "light"
     },
     "output_type": "display_data"
    }
   ],
   "source": [
    "app_data[\"Rating\"].hist()\n",
    "plt.title(\" Google Play Apps Rating Distribution\")\n",
    "plt.ylabel(\"App Count\")\n",
    "plt.xlabel(\"Rating out of 5.0\")\n",
    "plt.show()"
   ]
  },
  {
   "cell_type": "markdown",
   "metadata": {},
   "source": [
    "Over 4000 of the apps in our dataset have a rating of over 4.2 to a nudge over 4.5, maybe 4.6. And almost 2000 apps have been rated higher than that. To get our numbers right, let's see a quick descriptive summary of ratings:"
   ]
  },
  {
   "cell_type": "code",
   "execution_count": 67,
   "metadata": {},
   "outputs": [
    {
     "data": {
      "text/plain": [
       "count    9366.000000\n",
       "mean        4.191757\n",
       "std         0.515219\n",
       "min         1.000000\n",
       "25%         4.000000\n",
       "50%         4.300000\n",
       "75%         4.500000\n",
       "max         5.000000\n",
       "Name: Rating, dtype: float64"
      ]
     },
     "execution_count": 67,
     "metadata": {},
     "output_type": "execute_result"
    }
   ],
   "source": [
    "app_data[\"Rating\"].describe()"
   ]
  },
  {
   "cell_type": "markdown",
   "metadata": {},
   "source": [
    "### B. Price"
   ]
  },
  {
   "cell_type": "markdown",
   "metadata": {},
   "source": [
    "Many apps in the Google Play store are for free. Still, let's take a look at how app pricing looks in general:"
   ]
  },
  {
   "cell_type": "code",
   "execution_count": 83,
   "metadata": {},
   "outputs": [
    {
     "data": {
      "image/png": "[encoded data removed]",
      "text/plain": [
       "<Figure size 432x288 with 1 Axes>"
      ]
     },
     "metadata": {
      "needs_background": "light"
     },
     "output_type": "display_data"
    }
   ],
   "source": [
    "\n",
    "\n",
    "# integerized = []\n",
    "# for value in app_data[\"Price\"]:\n",
    "\n",
    "#     #Remove the $ sign from beginning of value\n",
    "#     value = float(value.replace(\"$\",\"\"))\n",
    "\n",
    "# #     #Remove the commas used as thousand-separators, then parse the number to integer\n",
    "# #     value = int(value.replace(\".\",\"\"))\n",
    "\n",
    "#     #add the integer value to the integerized list\n",
    "#     integerized.append(value)\n",
    "# app_data[\"Price\"] = pd.Series(integerized)\n",
    "\n",
    "paid_apps = app_data[app_data[\"Price\"] > 0]\n",
    "paid_apps[paid_apps[\"Price\"] < 20][\"Price\"].hist()\n",
    "plt.title(\"Pricing Distribution For Apps Less than $20\")\n",
    "plt.ylabel(\"App Count\")\n",
    "plt.xlabel(\"Price (U.S $)\")\n",
    "plt.show()"
   ]
  },
  {
   "cell_type": "markdown",
   "metadata": {},
   "source": [
    "This plot is not informative enough. The reason is that we have outliers in price; some apps cost around $300 and $400. "
   ]
  },
  {
   "cell_type": "markdown",
   "metadata": {},
   "source": [
    "### C. Review Ratio"
   ]
  },
  {
   "cell_type": "markdown",
   "metadata": {},
   "source": [
    "Let's look at the review ratio"
   ]
  },
  {
   "cell_type": "code",
   "execution_count": 92,
   "metadata": {},
   "outputs": [
    {
     "data": {
      "image/png": "[encoded data removed]",
      "text/plain": [
       "<Figure size 432x288 with 1 Axes>"
      ]
     },
     "metadata": {
      "needs_background": "light"
     },
     "output_type": "display_data"
    }
   ],
   "source": [
    "\n",
    "app_data[\"Reviews\"] = [int(value) for value in app_data[\"Reviews\"]]\n",
    "\n",
    "app_data[\"ReviewRatio\"] = app_data[\"Reviews\"]/app_data[\"Installs\"]\n",
    "\n",
    "app_data[\"ReviewRatio\"].hist()\n",
    "\n",
    "# ADD TITLES TO PLOT\n",
    "plt.xlim(0,0.8)\n",
    "\n",
    "#plt.xlim(0,0.4)\n",
    "plt.show()"
   ]
  },
  {
   "cell_type": "markdown",
   "metadata": {},
   "source": [
    "Most of our apps have a review-to-install ratios of less than 0.4. Why is that? could it be that their numbers of installs have been binned? or is it more of a natural occurrence due to user's limited time and willingness to rate apps? Let's take a look at some descriptive statistics"
   ]
  },
  {
   "cell_type": "code",
   "execution_count": 94,
   "metadata": {},
   "outputs": [
    {
     "data": {
      "text/plain": [
       "count    9366.000000\n",
       "mean        0.037435\n",
       "std         0.081234\n",
       "min         0.000007\n",
       "25%         0.009310\n",
       "50%         0.019400\n",
       "75%         0.040054\n",
       "max         4.000000\n",
       "Name: ReviewRatio, dtype: float64"
      ]
     },
     "execution_count": 94,
     "metadata": {},
     "output_type": "execute_result"
    }
   ],
   "source": [
    "app_data[\"ReviewRatio\"].describe()"
   ]
  },
  {
   "cell_type": "code",
   "execution_count": 98,
   "metadata": {},
   "outputs": [
    {
     "data": {
      "text/html": [
       "<div>\n",
       "<style scoped>\n",
       "    .dataframe tbody tr th:only-of-type {\n",
       "        vertical-align: middle;\n",
       "    }\n",
       "\n",
       "    .dataframe tbody tr th {\n",
       "        vertical-align: top;\n",
       "    }\n",
       "\n",
       "    .dataframe thead th {\n",
       "        text-align: right;\n",
       "    }\n",
       "</style>\n",
       "<table border=\"1\" class=\"dataframe\">\n",
       "  <thead>\n",
       "    <tr style=\"text-align: right;\">\n",
       "      <th></th>\n",
       "      <th>App</th>\n",
       "      <th>Category</th>\n",
       "      <th>Rating</th>\n",
       "      <th>Reviews</th>\n",
       "      <th>Installs</th>\n",
       "      <th>Type</th>\n",
       "      <th>Price</th>\n",
       "      <th>Content Rating</th>\n",
       "      <th>Genres</th>\n",
       "      <th>Last Updated</th>\n",
       "      <th>ReviewRatio</th>\n",
       "    </tr>\n",
       "  </thead>\n",
       "  <tbody>\n",
       "    <tr>\n",
       "      <th>6700</th>\n",
       "      <td>Brick Breaker BR</td>\n",
       "      <td>GAME</td>\n",
       "      <td>5.0</td>\n",
       "      <td>7</td>\n",
       "      <td>5</td>\n",
       "      <td>Free</td>\n",
       "      <td>0.0</td>\n",
       "      <td>Everyone</td>\n",
       "      <td>Arcade</td>\n",
       "      <td>July 23, 2018</td>\n",
       "      <td>1.4000</td>\n",
       "    </tr>\n",
       "    <tr>\n",
       "      <th>4663</th>\n",
       "      <td>Alarmy (Sleep If U Can) - Pro</td>\n",
       "      <td>LIFESTYLE</td>\n",
       "      <td>4.8</td>\n",
       "      <td>10249</td>\n",
       "      <td>10000</td>\n",
       "      <td>Paid</td>\n",
       "      <td>0.0</td>\n",
       "      <td>Everyone</td>\n",
       "      <td>Lifestyle</td>\n",
       "      <td>July 30, 2018</td>\n",
       "      <td>1.0249</td>\n",
       "    </tr>\n",
       "    <tr>\n",
       "      <th>8591</th>\n",
       "      <td>DN Blog</td>\n",
       "      <td>SOCIAL</td>\n",
       "      <td>5.0</td>\n",
       "      <td>20</td>\n",
       "      <td>10</td>\n",
       "      <td>Free</td>\n",
       "      <td>0.0</td>\n",
       "      <td>Teen</td>\n",
       "      <td>Social</td>\n",
       "      <td>July 23, 2018</td>\n",
       "      <td>2.0000</td>\n",
       "    </tr>\n",
       "    <tr>\n",
       "      <th>7402</th>\n",
       "      <td>Trovami se ci riesci</td>\n",
       "      <td>GAME</td>\n",
       "      <td>5.0</td>\n",
       "      <td>11</td>\n",
       "      <td>10</td>\n",
       "      <td>Free</td>\n",
       "      <td>0.0</td>\n",
       "      <td>Everyone</td>\n",
       "      <td>Arcade</td>\n",
       "      <td>March 11, 2017</td>\n",
       "      <td>1.1000</td>\n",
       "    </tr>\n",
       "    <tr>\n",
       "      <th>10697</th>\n",
       "      <td>Mu.F.O.</td>\n",
       "      <td>GAME</td>\n",
       "      <td>5.0</td>\n",
       "      <td>2</td>\n",
       "      <td>1</td>\n",
       "      <td>Paid</td>\n",
       "      <td>NaN</td>\n",
       "      <td>Everyone</td>\n",
       "      <td>Arcade</td>\n",
       "      <td>March 3, 2017</td>\n",
       "      <td>2.0000</td>\n",
       "    </tr>\n",
       "    <tr>\n",
       "      <th>5917</th>\n",
       "      <td>Ra Ga Ba</td>\n",
       "      <td>GAME</td>\n",
       "      <td>5.0</td>\n",
       "      <td>2</td>\n",
       "      <td>1</td>\n",
       "      <td>Paid</td>\n",
       "      <td>0.0</td>\n",
       "      <td>Everyone</td>\n",
       "      <td>Arcade</td>\n",
       "      <td>February 8, 2017</td>\n",
       "      <td>2.0000</td>\n",
       "    </tr>\n",
       "    <tr>\n",
       "      <th>2454</th>\n",
       "      <td>KBA-EZ Health Guide</td>\n",
       "      <td>MEDICAL</td>\n",
       "      <td>5.0</td>\n",
       "      <td>4</td>\n",
       "      <td>1</td>\n",
       "      <td>Free</td>\n",
       "      <td>0.0</td>\n",
       "      <td>Everyone</td>\n",
       "      <td>Medical</td>\n",
       "      <td>August 2, 2018</td>\n",
       "      <td>4.0000</td>\n",
       "    </tr>\n",
       "  </tbody>\n",
       "</table>\n",
       "</div>"
      ],
      "text/plain": [
       "                                 App   Category  Rating  Reviews  Installs  \\\n",
       "6700                Brick Breaker BR       GAME     5.0        7         5   \n",
       "4663   Alarmy (Sleep If U Can) - Pro  LIFESTYLE     4.8    10249     10000   \n",
       "8591                         DN Blog     SOCIAL     5.0       20        10   \n",
       "7402            Trovami se ci riesci       GAME     5.0       11        10   \n",
       "10697                        Mu.F.O.       GAME     5.0        2         1   \n",
       "5917                        Ra Ga Ba       GAME     5.0        2         1   \n",
       "2454             KBA-EZ Health Guide    MEDICAL     5.0        4         1   \n",
       "\n",
       "       Type  Price Content Rating     Genres      Last Updated  ReviewRatio  \n",
       "6700   Free    0.0       Everyone     Arcade     July 23, 2018       1.4000  \n",
       "4663   Paid    0.0       Everyone  Lifestyle     July 30, 2018       1.0249  \n",
       "8591   Free    0.0           Teen     Social     July 23, 2018       2.0000  \n",
       "7402   Free    0.0       Everyone     Arcade    March 11, 2017       1.1000  \n",
       "10697  Paid    NaN       Everyone     Arcade     March 3, 2017       2.0000  \n",
       "5917   Paid    0.0       Everyone     Arcade  February 8, 2017       2.0000  \n",
       "2454   Free    0.0       Everyone    Medical    August 2, 2018       4.0000  "
      ]
     },
     "execution_count": 98,
     "metadata": {},
     "output_type": "execute_result"
    }
   ],
   "source": [
    "app_data[app_data[\"ReviewRatio\"] > 1]"
   ]
  },
  {
   "cell_type": "code",
   "execution_count": 105,
   "metadata": {},
   "outputs": [
    {
     "data": {
      "text/plain": [
       "7.019795778422704e+49"
      ]
     },
     "execution_count": 105,
     "metadata": {},
     "output_type": "execute_result"
    }
   ],
   "source": [
    "from scipy.stats import moment\n",
    "\n",
    "moment(app_data[\"ReviewRatio\"],90)"
   ]
  }
 ],
 "metadata": {
  "kernelspec": {
   "display_name": "Python 3",
   "language": "python",
   "name": "python3"
  },
  "language_info": {
   "codemirror_mode": {
    "name": "ipython",
    "version": 3
   },
   "file_extension": ".py",
   "mimetype": "text/x-python",
   "name": "python",
   "nbconvert_exporter": "python",
   "pygments_lexer": "ipython3",
   "version": "3.7.1"
  }
 },
 "nbformat": 4,
 "nbformat_minor": 2
}
