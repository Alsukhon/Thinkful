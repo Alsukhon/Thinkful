{
 "cells": [
  {
   "cell_type": "markdown",
   "metadata": {},
   "source": [
    "Some interesting questions that can be answered using this dataset are:\n",
    "\n",
    "1. Which apps are most reviewed? Of those, which ones have the highest rating, let's say, the top three?\n",
    "\n",
    "2. How do these apps vary by rating, pricing, and the ratio of reviews based on number of installs?\n",
    "\n",
    "3. Do people see paid apps in the same way they see free apps? \n"
   ]
  },
  {
   "cell_type": "markdown",
   "metadata": {},
   "source": [
    "### Dataset Context"
   ]
  },
  {
   "cell_type": "markdown",
   "metadata": {},
   "source": [
    "The applications -or *apps*- offered in the Google Play store are in the millions and growing. As of the writing of this project, the Google Play store is estimated to hold 2.6 million applications. The creator of this dataset, Lavanya Gupta, was able to obtain data on 10,000 of these apps.\n",
    "\n",
    "She obtained the dataset through scraping the store, which uses dynamic page loading. Dynamic page loading means that the store page displays the apps based on what Google knows about the user requesting the page. And scraping means that she wrote a script that runs through the dynamically-loaded page, reads the data, and outputs it into a structured file, such as the csv file I will be working with for this project."
   ]
  },
  {
   "cell_type": "markdown",
   "metadata": {},
   "source": [
    "The data files include another file containing a sentiment analysis conducted on this sample of Google Play apps using the nltk Python library, which stands for Natural Language Toolkit. The objective of this analysis is to try to understand user reviews and what they convey about their opinions of these apps. "
   ]
  },
  {
   "cell_type": "markdown",
   "metadata": {},
   "source": [
    "### Dataset Content"
   ]
  },
  {
   "cell_type": "markdown",
   "metadata": {},
   "source": [
    "#### A. googleplaystore.csv\n",
    "\n",
    "This file contains the main dataset. It has 10,841 rows of data with the following columns:\n",
    "\n",
    "*App Category*: Category of the app. This could be beauty, business, entertainment, education...etc.\n",
    "\n",
    "*Rating*: How users rate the app out of 5, with 1 being the lowest rating and 5 being the highest.\n",
    "\n",
    "*Reviews*: The number of user reviews each app has received.\n",
    "\n",
    "*Size*: The memory size needed to install the application.\n",
    "\n",
    "*Installs*: The number of times each application has been installed by users.\n",
    "\n",
    "*Type*: Whether the app is free or a paid app.\n",
    "\n",
    "*Price*: The price of the app.\n",
    "\n",
    "*Content Rating*: This column specifies the intended audience for the app. Can be for teens, mature audience, or everyone.\n",
    "\n",
    "*Genres*: The sub-category for each app. Example: for the Education category, this could be Education: Pretend Play.\n",
    "\n",
    "*Last Updated*: Release date of the most recent update for the app.\n",
    "\n",
    "*Current Ver*: The app's current version.\n",
    "\n",
    "*Android Ver*: The oldest version of Android OS supported by the app.\n"
   ]
  },
  {
   "cell_type": "markdown",
   "metadata": {},
   "source": [
    "#### B. googleplaystore_user_reviews.csv\n",
    "\n",
    "This file contains the result of the sentiment analysis conducted by the dataset creator. It has 64,295 rows of data with the following columns:\n",
    "\n",
    "*App* : Name of the app.\n",
    "\n",
    "*Translated_Review*: Either the original review in English, or a translated version if the orignal review is in another language.\n",
    "\n",
    "*Sentiment*: The result of the sentiment analysis conducted on a review. The value is either Positive, Neutral, or Negative.\n",
    "\n",
    "*Sentiment_Polarity*: A value indicating the positivity or negativity of the sentiment, values range from -1 (most negative) to 1 (most positive).\n",
    "\n",
    "*Sentiment_Subjectivity*: A value from 0 to 1 indicating the subjectivity of the review. Lower values indicate the review is based on factual information, and higher values indicate the review is based on personal or public opinions or judgements."
   ]
  },
  {
   "cell_type": "markdown",
   "metadata": {},
   "source": [
    "### Summary of Limitations"
   ]
  },
  {
   "cell_type": "markdown",
   "metadata": {},
   "source": [
    "The limitations of the Google Play Store Apps data are:\n",
    "\n",
    "1. The apps included are relevant to the dataset creator's activity on Google-related sites. She is a Machine Learning Software Developer based in India. It is most likely the applications generated are based on their popularity in the geographical region around India, while this analysis is intended for audience in the U.S or North America.\n",
    "\n",
    "\n",
    "2. With cloud-based storage available for Android users at little or no cost, app size may have no significant contribution to app popularity. Therefore the *Size* column will be removed.\n",
    "\n",
    "\n",
    "3. I am not sure if apps follow the same software versioning process, therefore I will assume the *Current Ver* column will be irrelevant to this analysis. Otherwise it would have been useful for measuring current support of the app by its developers.\n",
    "\n",
    "\n",
    "4. I will assume that the vast majority of users can upgrade their Android devices to the latest version. Based on that, the *Android Ver* column will also be excluded. Any limitations that may justify relying on older versions of Android most probably do not apply to the majority of the population.\n",
    "\n",
    "\n",
    "5. Scraping data off of a Google website is an unconventional way to obtain it, which may result in misplaced data. This largely depends on the scraper built by the dataset creator.\n",
    "\n",
    "\n",
    "6. The sentiment analysis result is limited by the abilities of Python's nltk library, which does not support all languages. Reviews with unsupported languages will not be translated and should have no values within the analysis output."
   ]
  },
  {
   "cell_type": "markdown",
   "metadata": {},
   "source": [
    "I will start by importing the csv files into two Pandas dataframes, one called *app_data* which contains the main data on the applications, and another called *sentiment_data* containing the sentiment analysis results on app reviews."
   ]
  },
  {
   "cell_type": "code",
   "execution_count": 3,
   "metadata": {},
   "outputs": [],
   "source": [
    "import matplotlib.pyplot as plt\n",
    "import numpy as np\n",
    "import pandas as pd\n",
    "from scipy.stats import ttest_ind\n",
    "import warnings\n",
    "\n",
    "\n",
    "%matplotlib inline\n",
    "warnings.filterwarnings(\"ignore\")"
   ]
  },
  {
   "cell_type": "code",
   "execution_count": 4,
   "metadata": {
    "scrolled": true
   },
   "outputs": [
    {
     "data": {
      "text/html": [
       "<div>\n",
       "<style scoped>\n",
       "    .dataframe tbody tr th:only-of-type {\n",
       "        vertical-align: middle;\n",
       "    }\n",
       "\n",
       "    .dataframe tbody tr th {\n",
       "        vertical-align: top;\n",
       "    }\n",
       "\n",
       "    .dataframe thead th {\n",
       "        text-align: right;\n",
       "    }\n",
       "</style>\n",
       "<table border=\"1\" class=\"dataframe\">\n",
       "  <thead>\n",
       "    <tr style=\"text-align: right;\">\n",
       "      <th></th>\n",
       "      <th>App</th>\n",
       "      <th>Category</th>\n",
       "      <th>Rating</th>\n",
       "      <th>Reviews</th>\n",
       "      <th>Size</th>\n",
       "      <th>Installs</th>\n",
       "      <th>Type</th>\n",
       "      <th>Price</th>\n",
       "      <th>Content Rating</th>\n",
       "      <th>Genres</th>\n",
       "      <th>Last Updated</th>\n",
       "      <th>Current Ver</th>\n",
       "      <th>Android Ver</th>\n",
       "    </tr>\n",
       "  </thead>\n",
       "  <tbody>\n",
       "    <tr>\n",
       "      <th>0</th>\n",
       "      <td>Photo Editor &amp; Candy Camera &amp; Grid &amp; ScrapBook</td>\n",
       "      <td>ART_AND_DESIGN</td>\n",
       "      <td>4.1</td>\n",
       "      <td>159</td>\n",
       "      <td>19M</td>\n",
       "      <td>10,000+</td>\n",
       "      <td>Free</td>\n",
       "      <td>0</td>\n",
       "      <td>Everyone</td>\n",
       "      <td>Art &amp; Design</td>\n",
       "      <td>January 7, 2018</td>\n",
       "      <td>1.0.0</td>\n",
       "      <td>4.0.3 and up</td>\n",
       "    </tr>\n",
       "    <tr>\n",
       "      <th>1</th>\n",
       "      <td>Coloring book moana</td>\n",
       "      <td>ART_AND_DESIGN</td>\n",
       "      <td>3.9</td>\n",
       "      <td>967</td>\n",
       "      <td>14M</td>\n",
       "      <td>500,000+</td>\n",
       "      <td>Free</td>\n",
       "      <td>0</td>\n",
       "      <td>Everyone</td>\n",
       "      <td>Art &amp; Design;Pretend Play</td>\n",
       "      <td>January 15, 2018</td>\n",
       "      <td>2.0.0</td>\n",
       "      <td>4.0.3 and up</td>\n",
       "    </tr>\n",
       "    <tr>\n",
       "      <th>2</th>\n",
       "      <td>U Launcher Lite – FREE Live Cool Themes, Hide ...</td>\n",
       "      <td>ART_AND_DESIGN</td>\n",
       "      <td>4.7</td>\n",
       "      <td>87510</td>\n",
       "      <td>8.7M</td>\n",
       "      <td>5,000,000+</td>\n",
       "      <td>Free</td>\n",
       "      <td>0</td>\n",
       "      <td>Everyone</td>\n",
       "      <td>Art &amp; Design</td>\n",
       "      <td>August 1, 2018</td>\n",
       "      <td>1.2.4</td>\n",
       "      <td>4.0.3 and up</td>\n",
       "    </tr>\n",
       "  </tbody>\n",
       "</table>\n",
       "</div>"
      ],
      "text/plain": [
       "                                                 App        Category  Rating  \\\n",
       "0     Photo Editor & Candy Camera & Grid & ScrapBook  ART_AND_DESIGN     4.1   \n",
       "1                                Coloring book moana  ART_AND_DESIGN     3.9   \n",
       "2  U Launcher Lite – FREE Live Cool Themes, Hide ...  ART_AND_DESIGN     4.7   \n",
       "\n",
       "  Reviews  Size    Installs  Type Price Content Rating  \\\n",
       "0     159   19M     10,000+  Free     0       Everyone   \n",
       "1     967   14M    500,000+  Free     0       Everyone   \n",
       "2   87510  8.7M  5,000,000+  Free     0       Everyone   \n",
       "\n",
       "                      Genres      Last Updated Current Ver   Android Ver  \n",
       "0               Art & Design   January 7, 2018       1.0.0  4.0.3 and up  \n",
       "1  Art & Design;Pretend Play  January 15, 2018       2.0.0  4.0.3 and up  \n",
       "2               Art & Design    August 1, 2018       1.2.4  4.0.3 and up  "
      ]
     },
     "execution_count": 4,
     "metadata": {},
     "output_type": "execute_result"
    }
   ],
   "source": [
    "#Import the googleplaystore.csv into a Pandas dataframe\n",
    "app_data = pd.read_csv(\"..\\google-play-store-apps\\googleplaystore.csv\")\n",
    "\n",
    "#Show the first 3 rows of the dataframe\n",
    "app_data.head(3)"
   ]
  },
  {
   "cell_type": "markdown",
   "metadata": {},
   "source": [
    "With over 10,000 rows of data being obtained through a scraper, and rating and reviews being non-mandatory for users, we can expect some missing data in our columns. Let's construct a clear picture of what how many missing values we have in each column:"
   ]
  },
  {
   "cell_type": "code",
   "execution_count": 5,
   "metadata": {},
   "outputs": [
    {
     "name": "stdout",
     "output_type": "stream",
     "text": [
      "Missing Values\n",
      "---------------\n",
      "\n",
      "App: 0 <------0.0% of total.\n",
      "Category: 0 <------0.0% of total.\n",
      "Rating: 1474 <------14.0% of total.\n",
      "Reviews: 0 <------0.0% of total.\n",
      "Size: 0 <------0.0% of total.\n",
      "Installs: 0 <------0.0% of total.\n",
      "Type: 1 <------0.0% of total.\n",
      "Price: 0 <------0.0% of total.\n",
      "Content Rating: 1 <------0.0% of total.\n",
      "Genres: 0 <------0.0% of total.\n",
      "Last Updated: 0 <------0.0% of total.\n",
      "Current Ver: 8 <------0.0% of total.\n",
      "Android Ver: 3 <------0.0% of total.\n"
     ]
    }
   ],
   "source": [
    "#header\n",
    "print (\"Missing Values\"+\"\\n\"+\"-\"*15+\"\\n\")\n",
    "\n",
    "#Iterate over columns and calculate the sum of missing for each column\n",
    "for column in app_data.columns:\n",
    "    missing_vals = app_data[column].isna().sum()\n",
    "    percentage = round(missing_vals/len(app_data)*100,0)\n",
    "    percentage = str(percentage)+\"%\"\n",
    "    print (column+\": \"+ str(missing_vals)+\" <\"+\"-\"*6+percentage + \" of total.\")"
   ]
  },
  {
   "cell_type": "markdown",
   "metadata": {},
   "source": [
    "Except for the *Rating* column values, I would say we have a good dataset. Since answering our first question relies on having user-generated ratings rather than a mean we can calculate to substitute for missing values, these rows will be removed from the dataset.\n",
    "\n",
    "Now, the rows are in their original sorting order. While the most popular apps are would still be most popular according to India and Lavanya's user behavior, I am confident they are still recognizable by North American audience due to their global offering, let's take a look at the most installed apps within this dataset:"
   ]
  },
  {
   "cell_type": "code",
   "execution_count": 6,
   "metadata": {},
   "outputs": [
    {
     "data": {
      "text/html": [
       "<div>\n",
       "<style scoped>\n",
       "    .dataframe tbody tr th:only-of-type {\n",
       "        vertical-align: middle;\n",
       "    }\n",
       "\n",
       "    .dataframe tbody tr th {\n",
       "        vertical-align: top;\n",
       "    }\n",
       "\n",
       "    .dataframe thead th {\n",
       "        text-align: right;\n",
       "    }\n",
       "</style>\n",
       "<table border=\"1\" class=\"dataframe\">\n",
       "  <thead>\n",
       "    <tr style=\"text-align: right;\">\n",
       "      <th></th>\n",
       "      <th>App</th>\n",
       "      <th>Category</th>\n",
       "      <th>Rating</th>\n",
       "      <th>Reviews</th>\n",
       "      <th>Size</th>\n",
       "      <th>Installs</th>\n",
       "      <th>Type</th>\n",
       "      <th>Price</th>\n",
       "      <th>Content Rating</th>\n",
       "      <th>Genres</th>\n",
       "      <th>Last Updated</th>\n",
       "      <th>Current Ver</th>\n",
       "      <th>Android Ver</th>\n",
       "    </tr>\n",
       "  </thead>\n",
       "  <tbody>\n",
       "    <tr>\n",
       "      <th>10472</th>\n",
       "      <td>Life Made WI-Fi Touchscreen Photo Frame</td>\n",
       "      <td>1.9</td>\n",
       "      <td>19.0</td>\n",
       "      <td>3.0M</td>\n",
       "      <td>1,000+</td>\n",
       "      <td>Free</td>\n",
       "      <td>0</td>\n",
       "      <td>Everyone</td>\n",
       "      <td>NaN</td>\n",
       "      <td>February 11, 2018</td>\n",
       "      <td>1.0.19</td>\n",
       "      <td>4.0 and up</td>\n",
       "      <td>NaN</td>\n",
       "    </tr>\n",
       "    <tr>\n",
       "      <th>420</th>\n",
       "      <td>UC Browser - Fast Download Private &amp; Secure</td>\n",
       "      <td>COMMUNICATION</td>\n",
       "      <td>4.5</td>\n",
       "      <td>17714850</td>\n",
       "      <td>40M</td>\n",
       "      <td>500,000,000+</td>\n",
       "      <td>Free</td>\n",
       "      <td>0</td>\n",
       "      <td>Teen</td>\n",
       "      <td>Communication</td>\n",
       "      <td>August 2, 2018</td>\n",
       "      <td>12.8.5.1121</td>\n",
       "      <td>4.0 and up</td>\n",
       "    </tr>\n",
       "    <tr>\n",
       "      <th>474</th>\n",
       "      <td>LINE: Free Calls &amp; Messages</td>\n",
       "      <td>COMMUNICATION</td>\n",
       "      <td>4.2</td>\n",
       "      <td>10790289</td>\n",
       "      <td>Varies with device</td>\n",
       "      <td>500,000,000+</td>\n",
       "      <td>Free</td>\n",
       "      <td>0</td>\n",
       "      <td>Everyone</td>\n",
       "      <td>Communication</td>\n",
       "      <td>July 26, 2018</td>\n",
       "      <td>Varies with device</td>\n",
       "      <td>Varies with device</td>\n",
       "    </tr>\n",
       "    <tr>\n",
       "      <th>3767</th>\n",
       "      <td>Flipboard: News For Our Time</td>\n",
       "      <td>NEWS_AND_MAGAZINES</td>\n",
       "      <td>4.4</td>\n",
       "      <td>1284017</td>\n",
       "      <td>Varies with device</td>\n",
       "      <td>500,000,000+</td>\n",
       "      <td>Free</td>\n",
       "      <td>0</td>\n",
       "      <td>Everyone 10+</td>\n",
       "      <td>News &amp; Magazines</td>\n",
       "      <td>August 3, 2018</td>\n",
       "      <td>Varies with device</td>\n",
       "      <td>Varies with device</td>\n",
       "    </tr>\n",
       "  </tbody>\n",
       "</table>\n",
       "</div>"
      ],
      "text/plain": [
       "                                               App            Category  \\\n",
       "10472      Life Made WI-Fi Touchscreen Photo Frame                 1.9   \n",
       "420    UC Browser - Fast Download Private & Secure       COMMUNICATION   \n",
       "474                    LINE: Free Calls & Messages       COMMUNICATION   \n",
       "3767                  Flipboard: News For Our Time  NEWS_AND_MAGAZINES   \n",
       "\n",
       "       Rating   Reviews                Size      Installs  Type     Price  \\\n",
       "10472    19.0      3.0M              1,000+          Free     0  Everyone   \n",
       "420       4.5  17714850                 40M  500,000,000+  Free         0   \n",
       "474       4.2  10790289  Varies with device  500,000,000+  Free         0   \n",
       "3767      4.4   1284017  Varies with device  500,000,000+  Free         0   \n",
       "\n",
       "      Content Rating             Genres    Last Updated         Current Ver  \\\n",
       "10472            NaN  February 11, 2018          1.0.19          4.0 and up   \n",
       "420             Teen      Communication  August 2, 2018         12.8.5.1121   \n",
       "474         Everyone      Communication   July 26, 2018  Varies with device   \n",
       "3767    Everyone 10+   News & Magazines  August 3, 2018  Varies with device   \n",
       "\n",
       "              Android Ver  \n",
       "10472                 NaN  \n",
       "420            4.0 and up  \n",
       "474    Varies with device  \n",
       "3767   Varies with device  "
      ]
     },
     "execution_count": 6,
     "metadata": {},
     "output_type": "execute_result"
    }
   ],
   "source": [
    "# Sort the original dataset by number of installs to see most popular apps first\n",
    "app_data = app_data.sort_values(by=\"Installs\", ascending=False)\n",
    "app_data.head(4)"
   ]
  },
  {
   "cell_type": "markdown",
   "metadata": {},
   "source": [
    "*Life Made WI-Fi Touchscreen Photo Frame* is listed in the top, but is not a result of a huge amount of installs. This is probably due to an error in data entry that is attributed to the scraper used to get this dataset. However it is good that only one erroneous row exists beyond the true most-installed app rows. Since erroneous rows are likely to exist outside the range of [0, maximum value], it is a must to check if such rows exist beyond rows with 0 installs as well:"
   ]
  },
  {
   "cell_type": "code",
   "execution_count": 7,
   "metadata": {
    "scrolled": false
   },
   "outputs": [
    {
     "data": {
      "text/html": [
       "<div>\n",
       "<style scoped>\n",
       "    .dataframe tbody tr th:only-of-type {\n",
       "        vertical-align: middle;\n",
       "    }\n",
       "\n",
       "    .dataframe tbody tr th {\n",
       "        vertical-align: top;\n",
       "    }\n",
       "\n",
       "    .dataframe thead th {\n",
       "        text-align: right;\n",
       "    }\n",
       "</style>\n",
       "<table border=\"1\" class=\"dataframe\">\n",
       "  <thead>\n",
       "    <tr style=\"text-align: right;\">\n",
       "      <th></th>\n",
       "      <th>App</th>\n",
       "      <th>Category</th>\n",
       "      <th>Rating</th>\n",
       "      <th>Reviews</th>\n",
       "      <th>Size</th>\n",
       "      <th>Installs</th>\n",
       "      <th>Type</th>\n",
       "      <th>Price</th>\n",
       "      <th>Content Rating</th>\n",
       "      <th>Genres</th>\n",
       "      <th>Last Updated</th>\n",
       "      <th>Current Ver</th>\n",
       "      <th>Android Ver</th>\n",
       "    </tr>\n",
       "  </thead>\n",
       "  <tbody>\n",
       "    <tr>\n",
       "      <th>9148</th>\n",
       "      <td>Command &amp; Conquer: Rivals</td>\n",
       "      <td>FAMILY</td>\n",
       "      <td>NaN</td>\n",
       "      <td>0</td>\n",
       "      <td>Varies with device</td>\n",
       "      <td>0</td>\n",
       "      <td>NaN</td>\n",
       "      <td>0</td>\n",
       "      <td>Everyone 10+</td>\n",
       "      <td>Strategy</td>\n",
       "      <td>June 28, 2018</td>\n",
       "      <td>Varies with device</td>\n",
       "      <td>Varies with device</td>\n",
       "    </tr>\n",
       "    <tr>\n",
       "      <th>9337</th>\n",
       "      <td>EG | Explore Folegandros</td>\n",
       "      <td>TRAVEL_AND_LOCAL</td>\n",
       "      <td>NaN</td>\n",
       "      <td>0</td>\n",
       "      <td>56M</td>\n",
       "      <td>0+</td>\n",
       "      <td>Paid</td>\n",
       "      <td>$3.99</td>\n",
       "      <td>Everyone</td>\n",
       "      <td>Travel &amp; Local</td>\n",
       "      <td>January 22, 2017</td>\n",
       "      <td>1.1.1</td>\n",
       "      <td>4.1 and up</td>\n",
       "    </tr>\n",
       "    <tr>\n",
       "      <th>9719</th>\n",
       "      <td>EP Cook Book</td>\n",
       "      <td>MEDICAL</td>\n",
       "      <td>NaN</td>\n",
       "      <td>0</td>\n",
       "      <td>3.2M</td>\n",
       "      <td>0+</td>\n",
       "      <td>Paid</td>\n",
       "      <td>$200.00</td>\n",
       "      <td>Everyone</td>\n",
       "      <td>Medical</td>\n",
       "      <td>July 26, 2015</td>\n",
       "      <td>1.0</td>\n",
       "      <td>3.0 and up</td>\n",
       "    </tr>\n",
       "    <tr>\n",
       "      <th>6692</th>\n",
       "      <td>cronometra-br</td>\n",
       "      <td>PRODUCTIVITY</td>\n",
       "      <td>NaN</td>\n",
       "      <td>0</td>\n",
       "      <td>5.4M</td>\n",
       "      <td>0+</td>\n",
       "      <td>Paid</td>\n",
       "      <td>$154.99</td>\n",
       "      <td>Everyone</td>\n",
       "      <td>Productivity</td>\n",
       "      <td>November 24, 2017</td>\n",
       "      <td>1.0.0</td>\n",
       "      <td>4.1 and up</td>\n",
       "    </tr>\n",
       "    <tr>\n",
       "      <th>8081</th>\n",
       "      <td>CX Network</td>\n",
       "      <td>BUSINESS</td>\n",
       "      <td>NaN</td>\n",
       "      <td>0</td>\n",
       "      <td>10M</td>\n",
       "      <td>0+</td>\n",
       "      <td>Free</td>\n",
       "      <td>0</td>\n",
       "      <td>Everyone</td>\n",
       "      <td>Business</td>\n",
       "      <td>August 6, 2018</td>\n",
       "      <td>1.3.1</td>\n",
       "      <td>4.1 and up</td>\n",
       "    </tr>\n",
       "  </tbody>\n",
       "</table>\n",
       "</div>"
      ],
      "text/plain": [
       "                            App          Category  Rating Reviews  \\\n",
       "9148  Command & Conquer: Rivals            FAMILY     NaN       0   \n",
       "9337   EG | Explore Folegandros  TRAVEL_AND_LOCAL     NaN       0   \n",
       "9719               EP Cook Book           MEDICAL     NaN       0   \n",
       "6692              cronometra-br      PRODUCTIVITY     NaN       0   \n",
       "8081                 CX Network          BUSINESS     NaN       0   \n",
       "\n",
       "                    Size Installs  Type    Price Content Rating  \\\n",
       "9148  Varies with device        0   NaN        0   Everyone 10+   \n",
       "9337                 56M       0+  Paid    $3.99       Everyone   \n",
       "9719                3.2M       0+  Paid  $200.00       Everyone   \n",
       "6692                5.4M       0+  Paid  $154.99       Everyone   \n",
       "8081                 10M       0+  Free        0       Everyone   \n",
       "\n",
       "              Genres       Last Updated         Current Ver  \\\n",
       "9148        Strategy      June 28, 2018  Varies with device   \n",
       "9337  Travel & Local   January 22, 2017               1.1.1   \n",
       "9719         Medical      July 26, 2015                 1.0   \n",
       "6692    Productivity  November 24, 2017               1.0.0   \n",
       "8081        Business     August 6, 2018               1.3.1   \n",
       "\n",
       "             Android Ver  \n",
       "9148  Varies with device  \n",
       "9337          4.1 and up  \n",
       "9719          3.0 and up  \n",
       "6692          4.1 and up  \n",
       "8081          4.1 and up  "
      ]
     },
     "execution_count": 7,
     "metadata": {},
     "output_type": "execute_result"
    }
   ],
   "source": [
    "#re-sort the data in ascending order to show least installed apps first\n",
    "app_data = app_data.sort_values(by=\"Installs\")\n",
    "app_data.head()"
   ]
  },
  {
   "cell_type": "markdown",
   "metadata": {},
   "source": [
    "This is good news, no erroneous rows exist below 0 for the *Installs* column. Therefore all we have to do is delete\n",
    "that one erroneous row. So far now we will delete:\n",
    "\n",
    "**Rows:**\n",
    "1. That erroneous row, with an index number of **10472**\n",
    "2. All rows with missing -*NaN*- values in the *Rating* column.\n",
    "\n",
    "**Columns:**\n",
    "1. *Size*\n",
    "2. *Current Ver*\n",
    "3. *Andoird Ver*"
   ]
  },
  {
   "cell_type": "code",
   "execution_count": 8,
   "metadata": {},
   "outputs": [
    {
     "data": {
      "text/html": [
       "<div>\n",
       "<style scoped>\n",
       "    .dataframe tbody tr th:only-of-type {\n",
       "        vertical-align: middle;\n",
       "    }\n",
       "\n",
       "    .dataframe tbody tr th {\n",
       "        vertical-align: top;\n",
       "    }\n",
       "\n",
       "    .dataframe thead th {\n",
       "        text-align: right;\n",
       "    }\n",
       "</style>\n",
       "<table border=\"1\" class=\"dataframe\">\n",
       "  <thead>\n",
       "    <tr style=\"text-align: right;\">\n",
       "      <th></th>\n",
       "      <th>App</th>\n",
       "      <th>Category</th>\n",
       "      <th>Rating</th>\n",
       "      <th>Reviews</th>\n",
       "      <th>Installs</th>\n",
       "      <th>Type</th>\n",
       "      <th>Price</th>\n",
       "      <th>Content Rating</th>\n",
       "      <th>Genres</th>\n",
       "      <th>Last Updated</th>\n",
       "    </tr>\n",
       "  </thead>\n",
       "  <tbody>\n",
       "    <tr>\n",
       "      <th>342</th>\n",
       "      <td>Viber Messenger</td>\n",
       "      <td>COMMUNICATION</td>\n",
       "      <td>4.3</td>\n",
       "      <td>11334799</td>\n",
       "      <td>500,000,000+</td>\n",
       "      <td>Free</td>\n",
       "      <td>0</td>\n",
       "      <td>Everyone</td>\n",
       "      <td>Communication</td>\n",
       "      <td>July 18, 2018</td>\n",
       "    </tr>\n",
       "    <tr>\n",
       "      <th>3703</th>\n",
       "      <td>MX Player</td>\n",
       "      <td>VIDEO_PLAYERS</td>\n",
       "      <td>4.5</td>\n",
       "      <td>6474426</td>\n",
       "      <td>500,000,000+</td>\n",
       "      <td>Free</td>\n",
       "      <td>0</td>\n",
       "      <td>Everyone</td>\n",
       "      <td>Video Players &amp; Editors</td>\n",
       "      <td>August 6, 2018</td>\n",
       "    </tr>\n",
       "    <tr>\n",
       "      <th>420</th>\n",
       "      <td>UC Browser - Fast Download Private &amp; Secure</td>\n",
       "      <td>COMMUNICATION</td>\n",
       "      <td>4.5</td>\n",
       "      <td>17714850</td>\n",
       "      <td>500,000,000+</td>\n",
       "      <td>Free</td>\n",
       "      <td>0</td>\n",
       "      <td>Teen</td>\n",
       "      <td>Communication</td>\n",
       "      <td>August 2, 2018</td>\n",
       "    </tr>\n",
       "    <tr>\n",
       "      <th>474</th>\n",
       "      <td>LINE: Free Calls &amp; Messages</td>\n",
       "      <td>COMMUNICATION</td>\n",
       "      <td>4.2</td>\n",
       "      <td>10790289</td>\n",
       "      <td>500,000,000+</td>\n",
       "      <td>Free</td>\n",
       "      <td>0</td>\n",
       "      <td>Everyone</td>\n",
       "      <td>Communication</td>\n",
       "      <td>July 26, 2018</td>\n",
       "    </tr>\n",
       "    <tr>\n",
       "      <th>3574</th>\n",
       "      <td>Cloud Print</td>\n",
       "      <td>PRODUCTIVITY</td>\n",
       "      <td>4.1</td>\n",
       "      <td>282460</td>\n",
       "      <td>500,000,000+</td>\n",
       "      <td>Free</td>\n",
       "      <td>0</td>\n",
       "      <td>Everyone</td>\n",
       "      <td>Productivity</td>\n",
       "      <td>May 23, 2018</td>\n",
       "    </tr>\n",
       "  </tbody>\n",
       "</table>\n",
       "</div>"
      ],
      "text/plain": [
       "                                              App       Category  Rating  \\\n",
       "342                               Viber Messenger  COMMUNICATION     4.3   \n",
       "3703                                    MX Player  VIDEO_PLAYERS     4.5   \n",
       "420   UC Browser - Fast Download Private & Secure  COMMUNICATION     4.5   \n",
       "474                   LINE: Free Calls & Messages  COMMUNICATION     4.2   \n",
       "3574                                  Cloud Print   PRODUCTIVITY     4.1   \n",
       "\n",
       "       Reviews      Installs  Type Price Content Rating  \\\n",
       "342   11334799  500,000,000+  Free     0       Everyone   \n",
       "3703   6474426  500,000,000+  Free     0       Everyone   \n",
       "420   17714850  500,000,000+  Free     0           Teen   \n",
       "474   10790289  500,000,000+  Free     0       Everyone   \n",
       "3574    282460  500,000,000+  Free     0       Everyone   \n",
       "\n",
       "                       Genres    Last Updated  \n",
       "342             Communication   July 18, 2018  \n",
       "3703  Video Players & Editors  August 6, 2018  \n",
       "420             Communication  August 2, 2018  \n",
       "474             Communication   July 26, 2018  \n",
       "3574             Productivity    May 23, 2018  "
      ]
     },
     "execution_count": 8,
     "metadata": {},
     "output_type": "execute_result"
    }
   ],
   "source": [
    "#get indexes of rows with NaN values for Rating column\n",
    "nan_rows = list(app_data[app_data[\"Rating\"].isna()].index)\n",
    "#add the index of the erroneous row\n",
    "nan_rows.append(10472)\n",
    "\n",
    "#remove all rows with missing values\n",
    "app_data = app_data.drop(nan_rows, axis=0)\n",
    "\n",
    "#remove unusable columns\n",
    "app_data = app_data.drop(columns=[\"Size\", \"Current Ver\",\"Android Ver\"])\n",
    "\n",
    "#re-sort the data in descending order\n",
    "app_data = app_data.sort_values(by=\"Installs\", ascending=False)\n",
    "\n",
    "app_data.head()"
   ]
  },
  {
   "cell_type": "markdown",
   "metadata": {},
   "source": [
    "Having done initial cleaning of data, now we proceed to answer the first question in this document:"
   ]
  },
  {
   "cell_type": "markdown",
   "metadata": {},
   "source": [
    "\n",
    "\n",
    "\n",
    "\n",
    "\n",
    "\n",
    "\n",
    "\n",
    "## 1. Which apps are most reviewed? Of those, which ones have the highest rating, let's say the top 10?"
   ]
  },
  {
   "cell_type": "markdown",
   "metadata": {},
   "source": [
    "To proceed in answering the first part of our first question *What apps are most reviewed?*, it is logical to assume the most installed apps have the most reviews. As mentioned above, the number of installs for each application is not an actual number, but a group or level of installs this app has reached (example: 50 million and up). Therefore we will call them **bins** throughout this document. Let's plot these bins of *Installs* that we have in our dataset:"
   ]
  },
  {
   "cell_type": "code",
   "execution_count": 58,
   "metadata": {
    "scrolled": true
   },
   "outputs": [
    {
     "data": {
      "image/png": "[encoded data removed]",
      "text/plain": [
       "<Figure size 936x576 with 1 Axes>"
      ]
     },
     "metadata": {
      "needs_background": "light"
     },
     "output_type": "display_data"
    }
   ],
   "source": [
    "#Generate a series containing count of apps with each bin of number of installs\n",
    "\n",
    "#Plot each bin of installs with its frequency/occurrence/count in the dataset\n",
    "plt.figure(figsize=(13,8))\n",
    "app_data[\"Installs\"].value_counts().plot(kind='bar')\n",
    "plt.title(\"Count of Popular Apps in our Dataset\")\n",
    "plt.ylabel(\"Count\")\n",
    "plt.xlabel(\"Installs\")\n",
    "plt.show()"
   ]
  },
  {
   "cell_type": "markdown",
   "metadata": {},
   "source": [
    "Most apps in our dataset have been installed over a million times, and over 10 million times resepectively. It only makes sense to compare apps that are in the same bin to each other in terms of reviews and ratings. However, this leaves us with about 20 bins, with many of these apps not being necessarily that popular. To get a better focus on popular apps, I will choose the top 10 bins for this analysis. Which bins are in the top 10?"
   ]
  },
  {
   "cell_type": "code",
   "execution_count": 10,
   "metadata": {},
   "outputs": [
    {
     "name": "stdout",
     "output_type": "stream",
     "text": [
      "['1,000,000,000+', '100,000,000+', '500,000,000+', '10,000,000+', '50,000,000+', '1,000,000+', '5,000,000+', '100,000+', '500,000+', '10,000+']\n"
     ]
    }
   ],
   "source": [
    "top_10 = np.unique(app_data[\"Installs\"])\n",
    "\n",
    "top_10 = sorted(top_10,key=len,reverse=True)\n",
    "top_10 = top_10[:10]\n",
    "print(top_10)\n",
    "del top_10"
   ]
  },
  {
   "cell_type": "markdown",
   "metadata": {},
   "source": [
    "The least known apps in our list of top 10 bins seem to be the ones with more than 10,000 installs. However, the sorting order is according to the length (len) and then it would be according to the string characters, which is why we see the 100 million+ value coming before the 500 million+. Since we have sliced the list to contain only the top 10, we can see that the last value is 10,000+, where it should be 50,000+. This will be easier to deal with after parsing those values to integers.\n",
    "\n",
    "For now, anything below 50,000 installs will be removed from consideration in answering our first question. The next step is to parse column bins into integer numbers so we can select rows with only those bins in a [Pythonic way](https://www.quora.com/What-is-the-Pythonic-way):"
   ]
  },
  {
   "cell_type": "code",
   "execution_count": 11,
   "metadata": {},
   "outputs": [],
   "source": [
    "integerized = []\n",
    "for value in app_data[\"Installs\"]:\n",
    "\n",
    "    #Remove the + sign from end of value\n",
    "    value = value.replace(\"+\",\"\")\n",
    "\n",
    "    #Remove the commas used as thousand-separators, then parse the number to integer\n",
    "    value = int(value.replace(\",\",\"\"))\n",
    "\n",
    "    #add the integer value to the integerized list\n",
    "    integerized.append(value)\n",
    "\n",
    "#replace the installs column with the new integer values\n",
    "app_data[\"Installs\"] = [value for value in pd.Series(integerized)]\n",
    "\n",
    "del integerized"
   ]
  },
  {
   "cell_type": "markdown",
   "metadata": {},
   "source": [
    "Now to the final step in finalizing a dataframe that has the necessary data to answer the first question, selecting rows that belong in the top 10 bins:"
   ]
  },
  {
   "cell_type": "code",
   "execution_count": 12,
   "metadata": {
    "scrolled": true
   },
   "outputs": [
    {
     "name": "stdout",
     "output_type": "stream",
     "text": [
      "70.0%\n"
     ]
    }
   ],
   "source": [
    "# A new dataframe containing rows in top 10 bins\n",
    "top_10_df = app_data[app_data[\"Installs\"] >= 50000]\n",
    "\n",
    "# How much does this data represent of the original data?\n",
    "print (str(round(len(top_10_df)/len(app_data)*100,0))+\"%\")"
   ]
  },
  {
   "cell_type": "markdown",
   "metadata": {},
   "source": [
    "Now to see the most reviewed apps. Apps in each bin will be compared based on the ratio of number of reviews to number of installs, which I will call *Review Ratio*, calculated using the formula: \n",
    "\n",
    "$$Review Ratio = \\frac {Reviews}{Installs}$$\n",
    "\n",
    "The *Review* column data type is still string, therefore it will be converted to integer first."
   ]
  },
  {
   "cell_type": "code",
   "execution_count": 13,
   "metadata": {},
   "outputs": [],
   "source": [
    "# Parse review column values to integers\n",
    "top_10_df[\"Reviews\"] = [int(value) for value in top_10_df[\"Reviews\"]]\n",
    "\n",
    "# add a new column containing review ratios\n",
    "top_10_df[\"ReviewRatio\"] = top_10_df[\"Reviews\"]/top_10_df[\"Installs\"]\n",
    "\n",
    "## maybe because of indexing"
   ]
  },
  {
   "cell_type": "markdown",
   "metadata": {},
   "source": [
    "Let's take a look at how the review ratios look for our top 10 bins. For each bin, we will take the app with the highest *ReviewRatio*:"
   ]
  },
  {
   "cell_type": "code",
   "execution_count": 14,
   "metadata": {},
   "outputs": [
    {
     "data": {
      "text/html": [
       "<div>\n",
       "<style scoped>\n",
       "    .dataframe tbody tr th:only-of-type {\n",
       "        vertical-align: middle;\n",
       "    }\n",
       "\n",
       "    .dataframe tbody tr th {\n",
       "        vertical-align: top;\n",
       "    }\n",
       "\n",
       "    .dataframe thead th {\n",
       "        text-align: right;\n",
       "    }\n",
       "</style>\n",
       "<table border=\"1\" class=\"dataframe\">\n",
       "  <thead>\n",
       "    <tr style=\"text-align: right;\">\n",
       "      <th></th>\n",
       "      <th>App</th>\n",
       "      <th>Rating</th>\n",
       "      <th>Reviews</th>\n",
       "      <th>Installs</th>\n",
       "      <th>ReviewRatio</th>\n",
       "    </tr>\n",
       "  </thead>\n",
       "  <tbody>\n",
       "    <tr>\n",
       "      <th>6181</th>\n",
       "      <td>Shadow Fight 2 Special Edition</td>\n",
       "      <td>4.5</td>\n",
       "      <td>10440</td>\n",
       "      <td>50000</td>\n",
       "      <td>0.208800</td>\n",
       "    </tr>\n",
       "    <tr>\n",
       "      <th>9627</th>\n",
       "      <td>ai.type keyboard Plus + Emoji</td>\n",
       "      <td>4.5</td>\n",
       "      <td>57076</td>\n",
       "      <td>100000</td>\n",
       "      <td>0.570760</td>\n",
       "    </tr>\n",
       "    <tr>\n",
       "      <th>7766</th>\n",
       "      <td>CR &amp; CoC Private Server - Clash Barbarians PRO</td>\n",
       "      <td>4.6</td>\n",
       "      <td>167974</td>\n",
       "      <td>500000</td>\n",
       "      <td>0.335948</td>\n",
       "    </tr>\n",
       "    <tr>\n",
       "      <th>10809</th>\n",
       "      <td>Castle Clash: RPG War and Strategy FR</td>\n",
       "      <td>4.7</td>\n",
       "      <td>376223</td>\n",
       "      <td>1000000</td>\n",
       "      <td>0.376223</td>\n",
       "    </tr>\n",
       "    <tr>\n",
       "      <th>4242</th>\n",
       "      <td>Fame Boom for Real Followers, Likes</td>\n",
       "      <td>4.7</td>\n",
       "      <td>896118</td>\n",
       "      <td>5000000</td>\n",
       "      <td>0.179224</td>\n",
       "    </tr>\n",
       "    <tr>\n",
       "      <th>1888</th>\n",
       "      <td>Homescapes</td>\n",
       "      <td>4.6</td>\n",
       "      <td>3093932</td>\n",
       "      <td>10000000</td>\n",
       "      <td>0.309393</td>\n",
       "    </tr>\n",
       "    <tr>\n",
       "      <th>6551</th>\n",
       "      <td>Boom Beach</td>\n",
       "      <td>4.5</td>\n",
       "      <td>5591653</td>\n",
       "      <td>50000000</td>\n",
       "      <td>0.111833</td>\n",
       "    </tr>\n",
       "    <tr>\n",
       "      <th>1879</th>\n",
       "      <td>Clash of Clans</td>\n",
       "      <td>4.6</td>\n",
       "      <td>44893888</td>\n",
       "      <td>100000000</td>\n",
       "      <td>0.448939</td>\n",
       "    </tr>\n",
       "    <tr>\n",
       "      <th>4005</th>\n",
       "      <td>Clean Master- Space Cleaner &amp; Antivirus</td>\n",
       "      <td>4.7</td>\n",
       "      <td>42916526</td>\n",
       "      <td>500000000</td>\n",
       "      <td>0.085833</td>\n",
       "    </tr>\n",
       "    <tr>\n",
       "      <th>2544</th>\n",
       "      <td>Facebook</td>\n",
       "      <td>4.1</td>\n",
       "      <td>78158306</td>\n",
       "      <td>1000000000</td>\n",
       "      <td>0.078158</td>\n",
       "    </tr>\n",
       "  </tbody>\n",
       "</table>\n",
       "</div>"
      ],
      "text/plain": [
       "                                                  App  Rating   Reviews  \\\n",
       "6181                   Shadow Fight 2 Special Edition     4.5     10440   \n",
       "9627                    ai.type keyboard Plus + Emoji     4.5     57076   \n",
       "7766   CR & CoC Private Server - Clash Barbarians PRO     4.6    167974   \n",
       "10809           Castle Clash: RPG War and Strategy FR     4.7    376223   \n",
       "4242              Fame Boom for Real Followers, Likes     4.7    896118   \n",
       "1888                                       Homescapes     4.6   3093932   \n",
       "6551                                       Boom Beach     4.5   5591653   \n",
       "1879                                   Clash of Clans     4.6  44893888   \n",
       "4005          Clean Master- Space Cleaner & Antivirus     4.7  42916526   \n",
       "2544                                         Facebook     4.1  78158306   \n",
       "\n",
       "         Installs  ReviewRatio  \n",
       "6181        50000     0.208800  \n",
       "9627       100000     0.570760  \n",
       "7766       500000     0.335948  \n",
       "10809     1000000     0.376223  \n",
       "4242      5000000     0.179224  \n",
       "1888     10000000     0.309393  \n",
       "6551     50000000     0.111833  \n",
       "1879    100000000     0.448939  \n",
       "4005    500000000     0.085833  \n",
       "2544   1000000000     0.078158  "
      ]
     },
     "execution_count": 14,
     "metadata": {},
     "output_type": "execute_result"
    }
   ],
   "source": [
    "# A dataframe to contain the most reviewed app from each bin:\n",
    "most_reviewed = pd.DataFrame()\n",
    "\n",
    "# Get the most reviewed app from each bin and add it to the most_reviewed dataframe\n",
    "for bins in np.unique(top_10_df[\"Installs\"]):\n",
    "    top_row = top_10_df[top_10_df[\"Installs\"]==bins]\n",
    "    top_row = top_row.sort_values(by=\"ReviewRatio\", ascending=False)\n",
    "    top_row = top_row.head(1)\n",
    "    most_reviewed = most_reviewed.append(top_row)\n",
    "\n",
    "most_reviewed = most_reviewed.drop(columns=[\"Category\",\"Type\",\"Price\",\"Content Rating\",\"Genres\",\"Last Updated\"])\n",
    "most_reviewed"
   ]
  },
  {
   "cell_type": "markdown",
   "metadata": {},
   "source": [
    "And there it is! The most reviewed app from each bin of installs. Being the most reviewed does not mean the highest rated, as in the Facebook app's case, but it certainly gives more credibility to the rating. \n",
    "\n",
    "Now to the second part of our question, what are the top 3 rated apps from these top 10?"
   ]
  },
  {
   "cell_type": "code",
   "execution_count": 15,
   "metadata": {},
   "outputs": [
    {
     "data": {
      "text/html": [
       "<div>\n",
       "<style scoped>\n",
       "    .dataframe tbody tr th:only-of-type {\n",
       "        vertical-align: middle;\n",
       "    }\n",
       "\n",
       "    .dataframe tbody tr th {\n",
       "        vertical-align: top;\n",
       "    }\n",
       "\n",
       "    .dataframe thead th {\n",
       "        text-align: right;\n",
       "    }\n",
       "</style>\n",
       "<table border=\"1\" class=\"dataframe\">\n",
       "  <thead>\n",
       "    <tr style=\"text-align: right;\">\n",
       "      <th></th>\n",
       "      <th>App</th>\n",
       "      <th>Rating</th>\n",
       "      <th>Reviews</th>\n",
       "      <th>Installs</th>\n",
       "      <th>ReviewRatio</th>\n",
       "    </tr>\n",
       "  </thead>\n",
       "  <tbody>\n",
       "    <tr>\n",
       "      <th>10809</th>\n",
       "      <td>Castle Clash: RPG War and Strategy FR</td>\n",
       "      <td>4.7</td>\n",
       "      <td>376223</td>\n",
       "      <td>1000000</td>\n",
       "      <td>0.376223</td>\n",
       "    </tr>\n",
       "    <tr>\n",
       "      <th>4242</th>\n",
       "      <td>Fame Boom for Real Followers, Likes</td>\n",
       "      <td>4.7</td>\n",
       "      <td>896118</td>\n",
       "      <td>5000000</td>\n",
       "      <td>0.179224</td>\n",
       "    </tr>\n",
       "    <tr>\n",
       "      <th>4005</th>\n",
       "      <td>Clean Master- Space Cleaner &amp; Antivirus</td>\n",
       "      <td>4.7</td>\n",
       "      <td>42916526</td>\n",
       "      <td>500000000</td>\n",
       "      <td>0.085833</td>\n",
       "    </tr>\n",
       "  </tbody>\n",
       "</table>\n",
       "</div>"
      ],
      "text/plain": [
       "                                           App  Rating   Reviews   Installs  \\\n",
       "10809    Castle Clash: RPG War and Strategy FR     4.7    376223    1000000   \n",
       "4242       Fame Boom for Real Followers, Likes     4.7    896118    5000000   \n",
       "4005   Clean Master- Space Cleaner & Antivirus     4.7  42916526  500000000   \n",
       "\n",
       "       ReviewRatio  \n",
       "10809     0.376223  \n",
       "4242      0.179224  \n",
       "4005      0.085833  "
      ]
     },
     "execution_count": 15,
     "metadata": {},
     "output_type": "execute_result"
    }
   ],
   "source": [
    "highest_rated = most_reviewed.sort_values(by=\"Rating\", ascending=False).head(3)\n",
    "highest_rated"
   ]
  },
  {
   "cell_type": "markdown",
   "metadata": {},
   "source": [
    "In terms of rating, the top 3 apps tie on 4.7 out of 5.0! "
   ]
  },
  {
   "cell_type": "markdown",
   "metadata": {},
   "source": [
    "## 2. How do these apps vary by rating, pricing, and the ratio of reviews based on number of installs? "
   ]
  },
  {
   "cell_type": "markdown",
   "metadata": {},
   "source": [
    "### A. Rating"
   ]
  },
  {
   "cell_type": "markdown",
   "metadata": {},
   "source": [
    "We have seen that apps with the highest review ratios for the top 10 bins had maximum ratings of 4.7 out of 5, and a minimum of 4.1, but that is only for apps with the highest review ratios.\n",
    "\n",
    "What about other apps in the top 10 bins? To have a clearer idea, let's plot the rating column from our dataset:"
   ]
  },
  {
   "cell_type": "code",
   "execution_count": 16,
   "metadata": {},
   "outputs": [
    {
     "data": {
      "image/png": "[encoded data removed]",
      "text/plain": [
       "<Figure size 432x288 with 1 Axes>"
      ]
     },
     "metadata": {
      "needs_background": "light"
     },
     "output_type": "display_data"
    }
   ],
   "source": [
    "top_10_df[\"Rating\"].hist()\n",
    "plt.title(\" Google Play Apps Rating Distribution\")\n",
    "plt.ylabel(\"App Count\")\n",
    "plt.xlabel(\"Rating out of 5.0\")\n",
    "plt.show()"
   ]
  },
  {
   "cell_type": "markdown",
   "metadata": {},
   "source": [
    "Over 2500 of the apps in the top 10 bins have a rating of over 4.2 to a nudge over 4.5, maybe 4.6. And almost 1000 apps have been rated higher than that. To get our numbers right, let's see a quick descriptive summary of ratings:"
   ]
  },
  {
   "cell_type": "code",
   "execution_count": 17,
   "metadata": {},
   "outputs": [
    {
     "data": {
      "text/plain": [
       "count    6564.000000\n",
       "mean        4.224680\n",
       "std         0.384961\n",
       "min         1.600000\n",
       "25%         4.100000\n",
       "50%         4.300000\n",
       "75%         4.500000\n",
       "max         4.900000\n",
       "Name: Rating, dtype: float64"
      ]
     },
     "execution_count": 17,
     "metadata": {},
     "output_type": "execute_result"
    }
   ],
   "source": [
    "top_10_df[\"Rating\"].describe()"
   ]
  },
  {
   "cell_type": "markdown",
   "metadata": {},
   "source": [
    "In our previous question, the most reviewed apps scored maximum ratings of 4.7. We see here that other apps in the top 10 bins do have higher ratings, how many of them are there?"
   ]
  },
  {
   "cell_type": "code",
   "execution_count": 18,
   "metadata": {},
   "outputs": [
    {
     "data": {
      "text/plain": [
       "129"
      ]
     },
     "execution_count": 18,
     "metadata": {},
     "output_type": "execute_result"
    }
   ],
   "source": [
    "len(top_10_df[top_10_df[\"Rating\"] > 4.7])"
   ]
  },
  {
   "cell_type": "markdown",
   "metadata": {},
   "source": [
    "We have 129 apps with ratings higher than 4.7. Let's take a look at the top 5, sorted descending by Rating and Review Ratio:"
   ]
  },
  {
   "cell_type": "code",
   "execution_count": 19,
   "metadata": {},
   "outputs": [
    {
     "data": {
      "text/html": [
       "<div>\n",
       "<style scoped>\n",
       "    .dataframe tbody tr th:only-of-type {\n",
       "        vertical-align: middle;\n",
       "    }\n",
       "\n",
       "    .dataframe tbody tr th {\n",
       "        vertical-align: top;\n",
       "    }\n",
       "\n",
       "    .dataframe thead th {\n",
       "        text-align: right;\n",
       "    }\n",
       "</style>\n",
       "<table border=\"1\" class=\"dataframe\">\n",
       "  <thead>\n",
       "    <tr style=\"text-align: right;\">\n",
       "      <th></th>\n",
       "      <th>App</th>\n",
       "      <th>Category</th>\n",
       "      <th>Rating</th>\n",
       "      <th>Reviews</th>\n",
       "      <th>Installs</th>\n",
       "      <th>Type</th>\n",
       "      <th>Price</th>\n",
       "      <th>Content Rating</th>\n",
       "      <th>Genres</th>\n",
       "      <th>Last Updated</th>\n",
       "      <th>ReviewRatio</th>\n",
       "    </tr>\n",
       "  </thead>\n",
       "  <tbody>\n",
       "    <tr>\n",
       "      <th>1833</th>\n",
       "      <td>The Room: Old Sins</td>\n",
       "      <td>GAME</td>\n",
       "      <td>4.9</td>\n",
       "      <td>21119</td>\n",
       "      <td>100000</td>\n",
       "      <td>Paid</td>\n",
       "      <td>$4.99</td>\n",
       "      <td>Everyone</td>\n",
       "      <td>Puzzle</td>\n",
       "      <td>April 18, 2018</td>\n",
       "      <td>0.211190</td>\n",
       "    </tr>\n",
       "    <tr>\n",
       "      <th>79</th>\n",
       "      <td>Tickets + PDA 2018 Exam</td>\n",
       "      <td>AUTO_AND_VEHICLES</td>\n",
       "      <td>4.9</td>\n",
       "      <td>197136</td>\n",
       "      <td>1000000</td>\n",
       "      <td>Free</td>\n",
       "      <td>0</td>\n",
       "      <td>Everyone</td>\n",
       "      <td>Auto &amp; Vehicles</td>\n",
       "      <td>July 15, 2018</td>\n",
       "      <td>0.197136</td>\n",
       "    </tr>\n",
       "    <tr>\n",
       "      <th>10254</th>\n",
       "      <td>FC Porto</td>\n",
       "      <td>SPORTS</td>\n",
       "      <td>4.9</td>\n",
       "      <td>15883</td>\n",
       "      <td>100000</td>\n",
       "      <td>Free</td>\n",
       "      <td>0</td>\n",
       "      <td>Everyone</td>\n",
       "      <td>Sports</td>\n",
       "      <td>June 19, 2018</td>\n",
       "      <td>0.158830</td>\n",
       "    </tr>\n",
       "    <tr>\n",
       "      <th>712</th>\n",
       "      <td>Learn Japanese, Korean, Chinese Offline &amp; Free</td>\n",
       "      <td>EDUCATION</td>\n",
       "      <td>4.9</td>\n",
       "      <td>133136</td>\n",
       "      <td>1000000</td>\n",
       "      <td>Free</td>\n",
       "      <td>0</td>\n",
       "      <td>Everyone</td>\n",
       "      <td>Education;Education</td>\n",
       "      <td>July 20, 2018</td>\n",
       "      <td>0.133136</td>\n",
       "    </tr>\n",
       "    <tr>\n",
       "      <th>4332</th>\n",
       "      <td>EXO-L Amino for EXO Fans</td>\n",
       "      <td>SOCIAL</td>\n",
       "      <td>4.9</td>\n",
       "      <td>5677</td>\n",
       "      <td>50000</td>\n",
       "      <td>Free</td>\n",
       "      <td>0</td>\n",
       "      <td>Teen</td>\n",
       "      <td>Social</td>\n",
       "      <td>July 13, 2018</td>\n",
       "      <td>0.113540</td>\n",
       "    </tr>\n",
       "  </tbody>\n",
       "</table>\n",
       "</div>"
      ],
      "text/plain": [
       "                                                  App           Category  \\\n",
       "1833                               The Room: Old Sins               GAME   \n",
       "79                            Tickets + PDA 2018 Exam  AUTO_AND_VEHICLES   \n",
       "10254                                        FC Porto             SPORTS   \n",
       "712    Learn Japanese, Korean, Chinese Offline & Free          EDUCATION   \n",
       "4332                         EXO-L Amino for EXO Fans             SOCIAL   \n",
       "\n",
       "       Rating  Reviews  Installs  Type  Price Content Rating  \\\n",
       "1833      4.9    21119    100000  Paid  $4.99       Everyone   \n",
       "79        4.9   197136   1000000  Free      0       Everyone   \n",
       "10254     4.9    15883    100000  Free      0       Everyone   \n",
       "712       4.9   133136   1000000  Free      0       Everyone   \n",
       "4332      4.9     5677     50000  Free      0           Teen   \n",
       "\n",
       "                    Genres    Last Updated  ReviewRatio  \n",
       "1833                Puzzle  April 18, 2018     0.211190  \n",
       "79         Auto & Vehicles   July 15, 2018     0.197136  \n",
       "10254               Sports   June 19, 2018     0.158830  \n",
       "712    Education;Education   July 20, 2018     0.133136  \n",
       "4332                Social   July 13, 2018     0.113540  "
      ]
     },
     "execution_count": 19,
     "metadata": {},
     "output_type": "execute_result"
    }
   ],
   "source": [
    "top_10_df[top_10_df[\"Rating\"] > 4.7].sort_values(by=[\"Rating\",\"ReviewRatio\"],ascending=False).head()"
   ]
  },
  {
   "cell_type": "markdown",
   "metadata": {},
   "source": [
    "The Room: Old Sins seems like a great game to be played, especially since it is a paid app, costing $4.99, and still scoring a 4.9 out of 5. The second app Tickets + PDA 2018 Exam is for the PDA proficiency test, a test for engineers working high strain dynamic foundations. FC Porto is a Portuguese soccer team, for which the ratings may have been biased due to fan bias towards their favorite sports team.\n",
    "\n",
    "The fourth app on the list, Learn Japanese, Korean, Chinese Offline & Free, seems to have done a great job educating users on these 3 languages, given that many other apps do require an internet connection. And the last application on the list is meant for fans of a Kpop group called Exo, again for which fans may have rated based on bias or love for content they can surely find elsewhere."
   ]
  },
  {
   "cell_type": "markdown",
   "metadata": {},
   "source": [
    "### B. Price"
   ]
  },
  {
   "cell_type": "markdown",
   "metadata": {},
   "source": [
    "Many apps in the Google Play store are for free. Still, let's take a look at how app pricing looks in general:"
   ]
  },
  {
   "cell_type": "code",
   "execution_count": 20,
   "metadata": {},
   "outputs": [],
   "source": [
    "# function to remove the $ prefix and parse price values to floats\n",
    "def usd_2_float(value):\n",
    "    if value == \"0\":\n",
    "        return 0\n",
    "    return float(value[1:])\n",
    "\n",
    "# call function on column values\n",
    "top_10_df[\"Price\"] = [usd_2_float(value) for value in top_10_df[\"Price\"]]"
   ]
  },
  {
   "cell_type": "code",
   "execution_count": 21,
   "metadata": {},
   "outputs": [
    {
     "data": {
      "image/png": "[encoded data removed]",
      "text/plain": [
       "<Figure size 432x288 with 1 Axes>"
      ]
     },
     "metadata": {
      "needs_background": "light"
     },
     "output_type": "display_data"
    }
   ],
   "source": [
    "paid_apps = top_10_df[\"Price\"]#top_10_df[top_10_df[\"Price\"] > 0]\n",
    "paid_apps.hist()\n",
    "#paid_apps[paid_apps[\"Price\"] < 20][\"Price\"].hist()\n",
    "plt.title(\"Pricing Distribution For Apps In Top 10 Bins\")\n",
    "plt.ylabel(\"App Count\")\n",
    "plt.xlabel(\"Price (U.S $)\")\n",
    "plt.show()"
   ]
  },
  {
   "cell_type": "markdown",
   "metadata": {},
   "source": [
    "This plot shows that paid apps in the top 10 bins mostly cost less than $50, but nothing else. How about seeing if there are outliers to this range? \n",
    "\n",
    "What interests me in finding out this answer is knowing what kind of apps cost more than $50 USD AND were downloaded over 50,000 times at least? They might either be something of high value to many users, or an outlier with a very interesting reason to land in the top 10 bins:"
   ]
  },
  {
   "cell_type": "code",
   "execution_count": 22,
   "metadata": {},
   "outputs": [
    {
     "data": {
      "text/html": [
       "<div>\n",
       "<style scoped>\n",
       "    .dataframe tbody tr th:only-of-type {\n",
       "        vertical-align: middle;\n",
       "    }\n",
       "\n",
       "    .dataframe tbody tr th {\n",
       "        vertical-align: top;\n",
       "    }\n",
       "\n",
       "    .dataframe thead th {\n",
       "        text-align: right;\n",
       "    }\n",
       "</style>\n",
       "<table border=\"1\" class=\"dataframe\">\n",
       "  <thead>\n",
       "    <tr style=\"text-align: right;\">\n",
       "      <th></th>\n",
       "      <th>App</th>\n",
       "      <th>Category</th>\n",
       "      <th>Rating</th>\n",
       "      <th>Reviews</th>\n",
       "      <th>Installs</th>\n",
       "      <th>Type</th>\n",
       "      <th>Price</th>\n",
       "      <th>Content Rating</th>\n",
       "      <th>Genres</th>\n",
       "      <th>Last Updated</th>\n",
       "      <th>ReviewRatio</th>\n",
       "    </tr>\n",
       "  </thead>\n",
       "  <tbody>\n",
       "    <tr>\n",
       "      <th>5356</th>\n",
       "      <td>I Am Rich Premium</td>\n",
       "      <td>FINANCE</td>\n",
       "      <td>4.1</td>\n",
       "      <td>1867</td>\n",
       "      <td>50000</td>\n",
       "      <td>Paid</td>\n",
       "      <td>399.99</td>\n",
       "      <td>Everyone</td>\n",
       "      <td>Finance</td>\n",
       "      <td>November 12, 2017</td>\n",
       "      <td>0.03734</td>\n",
       "    </tr>\n",
       "    <tr>\n",
       "      <th>5351</th>\n",
       "      <td>I am rich</td>\n",
       "      <td>LIFESTYLE</td>\n",
       "      <td>3.8</td>\n",
       "      <td>3547</td>\n",
       "      <td>100000</td>\n",
       "      <td>Paid</td>\n",
       "      <td>399.99</td>\n",
       "      <td>Everyone</td>\n",
       "      <td>Lifestyle</td>\n",
       "      <td>January 12, 2018</td>\n",
       "      <td>0.03547</td>\n",
       "    </tr>\n",
       "  </tbody>\n",
       "</table>\n",
       "</div>"
      ],
      "text/plain": [
       "                    App   Category  Rating  Reviews  Installs  Type   Price  \\\n",
       "5356  I Am Rich Premium    FINANCE     4.1     1867     50000  Paid  399.99   \n",
       "5351          I am rich  LIFESTYLE     3.8     3547    100000  Paid  399.99   \n",
       "\n",
       "     Content Rating     Genres       Last Updated  ReviewRatio  \n",
       "5356       Everyone    Finance  November 12, 2017      0.03734  \n",
       "5351       Everyone  Lifestyle   January 12, 2018      0.03547  "
      ]
     },
     "execution_count": 22,
     "metadata": {},
     "output_type": "execute_result"
    }
   ],
   "source": [
    "paid_apps = top_10_df[top_10_df[\"Price\"] > 0]\n",
    "paid_apps[paid_apps[\"Price\"]>50]"
   ]
  },
  {
   "cell_type": "markdown",
   "metadata": {},
   "source": [
    "After looking these apps up on their [Google Play page](https://play.google.com/store/apps/details?id=com.iamrich.diamondexpensive.i_am_rich&hl=en_US), it turns out their developer kept changing prices and the apps are there to show others you are rich, purposeless in my opinion!\n",
    "\n",
    "Now I will get back to most paid apps and see how they range, this time limiting the price to something a little less than $40:"
   ]
  },
  {
   "cell_type": "code",
   "execution_count": 23,
   "metadata": {},
   "outputs": [
    {
     "data": {
      "text/plain": [
       "Text(0.5, 0, 'Price (U.S $)')"
      ]
     },
     "execution_count": 23,
     "metadata": {},
     "output_type": "execute_result"
    },
    {
     "data": {
      "image/png": "[encoded data removed]",
      "text/plain": [
       "<Figure size 432x288 with 1 Axes>"
      ]
     },
     "metadata": {
      "needs_background": "light"
     },
     "output_type": "display_data"
    }
   ],
   "source": [
    "paid_apps[paid_apps[\"Price\"]<40][\"Price\"].hist()\n",
    "plt.title(\"Pricing Distribution For Apps Costing Less Than $40\")\n",
    "plt.ylabel(\"App Count\")\n",
    "plt.xlabel(\"Price (U.S $)\")"
   ]
  },
  {
   "cell_type": "markdown",
   "metadata": {},
   "source": [
    "Most apps cost less than \\\\$5 (or even \\\\$3, estimating through visuals). As would usually be expected, the amount of apps that cost more than that significantly decrease as we go up through the pricing, and a noticeable gap can be seen between about \\\\$16 to almost \\\\$23 for apps in the top 10 bins.\n",
    "\n",
    "The competition in app development is at its top at the moment, with many alternatives developed to almost every app and are only based on human creativity plus the ability to code, lowering entry barriers for more competition. Therefore, pricing an app significantly higher than the market will certainly require significant, sustainable competitive advantage.\n",
    "\n",
    "Finally, what is the minimum price for paid apps within the top 10 bins?"
   ]
  },
  {
   "cell_type": "code",
   "execution_count": 24,
   "metadata": {},
   "outputs": [
    {
     "name": "stdout",
     "output_type": "stream",
     "text": [
      "$ 0.99\n"
     ]
    }
   ],
   "source": [
    "print(\"$ {}\".format(paid_apps[\"Price\"].min()))"
   ]
  },
  {
   "cell_type": "markdown",
   "metadata": {},
   "source": [
    "### C. Review Ratio"
   ]
  },
  {
   "cell_type": "markdown",
   "metadata": {},
   "source": [
    "Our choice of only the top 10 bins is most suitable for exploring the ratio of reviews-to-installs, since apps in lower bins can be biased either by fake reviews, an individual developer's family and friends, or other factors. First, let's look at apps with review ratios where reviews surpass the amount of downloads:"
   ]
  },
  {
   "cell_type": "code",
   "execution_count": 25,
   "metadata": {},
   "outputs": [
    {
     "data": {
      "text/html": [
       "<div>\n",
       "<style scoped>\n",
       "    .dataframe tbody tr th:only-of-type {\n",
       "        vertical-align: middle;\n",
       "    }\n",
       "\n",
       "    .dataframe tbody tr th {\n",
       "        vertical-align: top;\n",
       "    }\n",
       "\n",
       "    .dataframe thead th {\n",
       "        text-align: right;\n",
       "    }\n",
       "</style>\n",
       "<table border=\"1\" class=\"dataframe\">\n",
       "  <thead>\n",
       "    <tr style=\"text-align: right;\">\n",
       "      <th></th>\n",
       "      <th>App</th>\n",
       "      <th>Category</th>\n",
       "      <th>Rating</th>\n",
       "      <th>Reviews</th>\n",
       "      <th>Installs</th>\n",
       "      <th>Type</th>\n",
       "      <th>Price</th>\n",
       "      <th>Content Rating</th>\n",
       "      <th>Genres</th>\n",
       "      <th>Last Updated</th>\n",
       "      <th>ReviewRatio</th>\n",
       "    </tr>\n",
       "  </thead>\n",
       "  <tbody>\n",
       "  </tbody>\n",
       "</table>\n",
       "</div>"
      ],
      "text/plain": [
       "Empty DataFrame\n",
       "Columns: [App, Category, Rating, Reviews, Installs, Type, Price, Content Rating, Genres, Last Updated, ReviewRatio]\n",
       "Index: []"
      ]
     },
     "execution_count": 25,
     "metadata": {},
     "output_type": "execute_result"
    }
   ],
   "source": [
    "top_10_df[top_10_df[\"ReviewRatio\"] > 1]"
   ]
  },
  {
   "cell_type": "markdown",
   "metadata": {},
   "source": [
    "No apps in the top 10 bins have review ratios over 1, even though that could have been the case since a hypothetical app in the 50,000 bin could have actual amount of installs of 52,000 with 51,000 reviews, which in the case of bins is counted as 51,000 reviews over 50,000 (the bin amount, not the actual amount). However, that is clearly not the case in the real world as we have seen in this dataset.\n",
    "\n",
    "Knowing that real-world reviews usually do not come close to the amount of installs, how does the distribution for the review ratio look like for the top 10 bins?"
   ]
  },
  {
   "cell_type": "code",
   "execution_count": 26,
   "metadata": {},
   "outputs": [
    {
     "data": {
      "text/plain": [
       "Text(0, 0.5, 'App Count')"
      ]
     },
     "execution_count": 26,
     "metadata": {},
     "output_type": "execute_result"
    },
    {
     "data": {
      "image/png": "[encoded data removed]",
      "text/plain": [
       "<Figure size 432x288 with 1 Axes>"
      ]
     },
     "metadata": {
      "needs_background": "light"
     },
     "output_type": "display_data"
    }
   ],
   "source": [
    "top_10_df[\"ReviewRatio\"].hist()\n",
    "plt.title(\"Review Ratio Distribution for Apps in Top 10 Bins\")\n",
    "plt.xlabel(\"Review Ratio\")\n",
    "plt.ylabel(\"App Count\")"
   ]
  },
  {
   "cell_type": "markdown",
   "metadata": {},
   "source": [
    "So, most review ratios are less than 0.1 of the amount of installs, and the highest of them seem to approach 0.3, all judged visually. Let's take a look at the actual numbers, this time using percentiles:"
   ]
  },
  {
   "cell_type": "code",
   "execution_count": 27,
   "metadata": {},
   "outputs": [
    {
     "name": "stdout",
     "output_type": "stream",
     "text": [
      "68th: 0.0305\n",
      "95th: 0.0972\n",
      "99th: 0.1906\n",
      "Max: 0.57076\n"
     ]
    }
   ],
   "source": [
    "print(\"68th: {}\".format(round(np.percentile(top_10_df[\"ReviewRatio\"], 68),4)))\n",
    "print(\"95th: {}\".format(round(np.percentile(top_10_df[\"ReviewRatio\"], 95),4)))\n",
    "print(\"99th: {}\".format(round(np.percentile(top_10_df[\"ReviewRatio\"], 99),4)))\n",
    "print(\"Max: {}\".format(max(top_10_df[\"ReviewRatio\"])))"
   ]
  },
  {
   "cell_type": "markdown",
   "metadata": {},
   "source": [
    "The maximum point is a unique outlier, especially given the jump from 0.19 to 0.57, which is longer than the range for values below the 99th percentiles! For this purpose, let's explore the ratios depending on what we just found here:"
   ]
  },
  {
   "cell_type": "code",
   "execution_count": 28,
   "metadata": {},
   "outputs": [
    {
     "data": {
      "image/png": "[encoded data removed]",
      "text/plain": [
       "<Figure size 720x360 with 2 Axes>"
      ]
     },
     "metadata": {
      "needs_background": "light"
     },
     "output_type": "display_data"
    }
   ],
   "source": [
    "plt.figure(figsize=(10, 5))\n",
    "\n",
    "plt.subplot(1, 2, 1)\n",
    "top_10_df[\"ReviewRatio\"].hist()\n",
    "plt.title(\"Review Ratio Distribution - Outliers Removed\")\n",
    "plt.xlabel(\"Review Ratio\")\n",
    "plt.ylabel(\"App Count\")\n",
    "plt.xlim(0,0.3)\n",
    "plt.ylim(0,5800)\n",
    "\n",
    "plt.subplot(1, 2, 2)\n",
    "top_10_df[\"ReviewRatio\"].hist()\n",
    "plt.title(\"More reviewed groups further from the mean\")\n",
    "plt.xlabel(\"Review Ratio\")\n",
    "plt.ylabel(\"App Count\")\n",
    "plt.xlim(0.06,0.6)\n",
    "plt.ylim(0,660)\n",
    "\n",
    "plt.tight_layout()\n",
    "plt.show()"
   ]
  },
  {
   "cell_type": "markdown",
   "metadata": {},
   "source": [
    "The first plot shows most review ratios with only the maximum value removed, so it contains more than 99% of the data. We can see that most apps get reviewed 0.06 times as much as they get installed, while few apps get the opportunity to get reviewed 0.25 times their number of installs.\n",
    "\n",
    "The second plot is there to zoom in on groups of fewer count but higher reveiw ratio. The first thing seen here is that the second plot almost looks strikingly similar to the first one, even though it clearly has different limitations for x and y ticks. Is there a correlation between the number of installs and the ratio of reviews?"
   ]
  },
  {
   "cell_type": "code",
   "execution_count": 29,
   "metadata": {},
   "outputs": [
    {
     "data": {
      "text/plain": [
       "-0.011941044038033975"
      ]
     },
     "execution_count": 29,
     "metadata": {},
     "output_type": "execute_result"
    }
   ],
   "source": [
    "top_10_df[\"ReviewRatio\"].corr(top_10_df[\"Installs\"])"
   ]
  },
  {
   "cell_type": "markdown",
   "metadata": {},
   "source": [
    "This number does not indicate strong correlation. However, given huge numbers of installs and reviews for apps in the top 10 bins, this correlation seems to work into the review ratio, resulting in a recursively decreasing ratio of apps with more reviews."
   ]
  },
  {
   "cell_type": "markdown",
   "metadata": {},
   "source": [
    "## 3. Do people see paid apps in the same way they see free apps? "
   ]
  },
  {
   "cell_type": "markdown",
   "metadata": {},
   "source": [
    "In addition to the original dataset, the dataset creator also collected reviews for these apps and conducted a sentiment analysis using Python's nltk library, which I am lucky to have since it will be answering a very interesting question, *do people see paid apps in the same way they see free apps?*\n",
    "\n",
    "To answer this question, I need to load the sentiment analysis data first:"
   ]
  },
  {
   "cell_type": "code",
   "execution_count": 30,
   "metadata": {},
   "outputs": [
    {
     "data": {
      "text/html": [
       "<div>\n",
       "<style scoped>\n",
       "    .dataframe tbody tr th:only-of-type {\n",
       "        vertical-align: middle;\n",
       "    }\n",
       "\n",
       "    .dataframe tbody tr th {\n",
       "        vertical-align: top;\n",
       "    }\n",
       "\n",
       "    .dataframe thead th {\n",
       "        text-align: right;\n",
       "    }\n",
       "</style>\n",
       "<table border=\"1\" class=\"dataframe\">\n",
       "  <thead>\n",
       "    <tr style=\"text-align: right;\">\n",
       "      <th></th>\n",
       "      <th>App</th>\n",
       "      <th>Translated_Review</th>\n",
       "      <th>Sentiment</th>\n",
       "      <th>Sentiment_Polarity</th>\n",
       "      <th>Sentiment_Subjectivity</th>\n",
       "    </tr>\n",
       "  </thead>\n",
       "  <tbody>\n",
       "    <tr>\n",
       "      <th>0</th>\n",
       "      <td>10 Best Foods for You</td>\n",
       "      <td>I like eat delicious food. That's I'm cooking ...</td>\n",
       "      <td>Positive</td>\n",
       "      <td>1.00</td>\n",
       "      <td>0.533333</td>\n",
       "    </tr>\n",
       "    <tr>\n",
       "      <th>1</th>\n",
       "      <td>10 Best Foods for You</td>\n",
       "      <td>This help eating healthy exercise regular basis</td>\n",
       "      <td>Positive</td>\n",
       "      <td>0.25</td>\n",
       "      <td>0.288462</td>\n",
       "    </tr>\n",
       "    <tr>\n",
       "      <th>3</th>\n",
       "      <td>10 Best Foods for You</td>\n",
       "      <td>Works great especially going grocery store</td>\n",
       "      <td>Positive</td>\n",
       "      <td>0.40</td>\n",
       "      <td>0.875000</td>\n",
       "    </tr>\n",
       "    <tr>\n",
       "      <th>4</th>\n",
       "      <td>10 Best Foods for You</td>\n",
       "      <td>Best idea us</td>\n",
       "      <td>Positive</td>\n",
       "      <td>1.00</td>\n",
       "      <td>0.300000</td>\n",
       "    </tr>\n",
       "    <tr>\n",
       "      <th>5</th>\n",
       "      <td>10 Best Foods for You</td>\n",
       "      <td>Best way</td>\n",
       "      <td>Positive</td>\n",
       "      <td>1.00</td>\n",
       "      <td>0.300000</td>\n",
       "    </tr>\n",
       "  </tbody>\n",
       "</table>\n",
       "</div>"
      ],
      "text/plain": [
       "                     App                                  Translated_Review  \\\n",
       "0  10 Best Foods for You  I like eat delicious food. That's I'm cooking ...   \n",
       "1  10 Best Foods for You    This help eating healthy exercise regular basis   \n",
       "3  10 Best Foods for You         Works great especially going grocery store   \n",
       "4  10 Best Foods for You                                       Best idea us   \n",
       "5  10 Best Foods for You                                           Best way   \n",
       "\n",
       "  Sentiment  Sentiment_Polarity  Sentiment_Subjectivity  \n",
       "0  Positive                1.00                0.533333  \n",
       "1  Positive                0.25                0.288462  \n",
       "3  Positive                0.40                0.875000  \n",
       "4  Positive                1.00                0.300000  \n",
       "5  Positive                1.00                0.300000  "
      ]
     },
     "execution_count": 30,
     "metadata": {},
     "output_type": "execute_result"
    }
   ],
   "source": [
    "sentiment_data = pd.read_csv(\"..\\googleplaystore_user_reviews.csv\")\n",
    "\n",
    "#drop null values\n",
    "sentiment_data = sentiment_data.dropna()\n",
    "sentiment_data.head()"
   ]
  },
  {
   "cell_type": "markdown",
   "metadata": {},
   "source": [
    "Good. Now we have a dataframe containing what we need on the side of sentiment analysis, but in order to compare free and paid apps, referred to here as the app type, we need to get these types from the dataframe we used above, app_data.\n",
    "\n",
    "Some of the apps included in the sentiment_data dataframe are not in the app_data dataframe, and therefore will have their types returned as NaN, and will be removed once we add the new column. _**Note**: **This block of code will take a few seconds to run, due to the processing needed**_:"
   ]
  },
  {
   "cell_type": "code",
   "execution_count": 31,
   "metadata": {},
   "outputs": [],
   "source": [
    "# A function to get the app type from the app_data dataframe and return it as a list\n",
    "def get_app_type(col):\n",
    "    type_list = []\n",
    "    for value in col:\n",
    "        try:\n",
    "            a = app_data[app_data[\"App\"]==value][\"Type\"].iloc[0]    \n",
    "            type_list.append(a)\n",
    "        except:\n",
    "            type_list.append(np.nan)\n",
    "    return type_list\n",
    "\n",
    "# Call the get_app_type function on sentiment_data apps to get their app type & store it a new column\n",
    "# Note this will take some time to execute given the large dataset\n",
    "sentiment_data[\"Type\"] = get_app_type(sentiment_data[\"App\"])\n",
    "\n",
    "#drop null values from sentiment data\n",
    "sentiment_data = sentiment_data.dropna()"
   ]
  },
  {
   "cell_type": "code",
   "execution_count": 32,
   "metadata": {},
   "outputs": [
    {
     "data": {
      "text/html": [
       "<div>\n",
       "<style scoped>\n",
       "    .dataframe tbody tr th:only-of-type {\n",
       "        vertical-align: middle;\n",
       "    }\n",
       "\n",
       "    .dataframe tbody tr th {\n",
       "        vertical-align: top;\n",
       "    }\n",
       "\n",
       "    .dataframe thead th {\n",
       "        text-align: right;\n",
       "    }\n",
       "</style>\n",
       "<table border=\"1\" class=\"dataframe\">\n",
       "  <thead>\n",
       "    <tr style=\"text-align: right;\">\n",
       "      <th></th>\n",
       "      <th>App</th>\n",
       "      <th>Translated_Review</th>\n",
       "      <th>Sentiment</th>\n",
       "      <th>Sentiment_Polarity</th>\n",
       "      <th>Sentiment_Subjectivity</th>\n",
       "      <th>Type</th>\n",
       "    </tr>\n",
       "  </thead>\n",
       "  <tbody>\n",
       "    <tr>\n",
       "      <th>0</th>\n",
       "      <td>10 Best Foods for You</td>\n",
       "      <td>I like eat delicious food. That's I'm cooking ...</td>\n",
       "      <td>Positive</td>\n",
       "      <td>1.00</td>\n",
       "      <td>0.533333</td>\n",
       "      <td>Free</td>\n",
       "    </tr>\n",
       "    <tr>\n",
       "      <th>1</th>\n",
       "      <td>10 Best Foods for You</td>\n",
       "      <td>This help eating healthy exercise regular basis</td>\n",
       "      <td>Positive</td>\n",
       "      <td>0.25</td>\n",
       "      <td>0.288462</td>\n",
       "      <td>Free</td>\n",
       "    </tr>\n",
       "    <tr>\n",
       "      <th>3</th>\n",
       "      <td>10 Best Foods for You</td>\n",
       "      <td>Works great especially going grocery store</td>\n",
       "      <td>Positive</td>\n",
       "      <td>0.40</td>\n",
       "      <td>0.875000</td>\n",
       "      <td>Free</td>\n",
       "    </tr>\n",
       "    <tr>\n",
       "      <th>4</th>\n",
       "      <td>10 Best Foods for You</td>\n",
       "      <td>Best idea us</td>\n",
       "      <td>Positive</td>\n",
       "      <td>1.00</td>\n",
       "      <td>0.300000</td>\n",
       "      <td>Free</td>\n",
       "    </tr>\n",
       "    <tr>\n",
       "      <th>5</th>\n",
       "      <td>10 Best Foods for You</td>\n",
       "      <td>Best way</td>\n",
       "      <td>Positive</td>\n",
       "      <td>1.00</td>\n",
       "      <td>0.300000</td>\n",
       "      <td>Free</td>\n",
       "    </tr>\n",
       "  </tbody>\n",
       "</table>\n",
       "</div>"
      ],
      "text/plain": [
       "                     App                                  Translated_Review  \\\n",
       "0  10 Best Foods for You  I like eat delicious food. That's I'm cooking ...   \n",
       "1  10 Best Foods for You    This help eating healthy exercise regular basis   \n",
       "3  10 Best Foods for You         Works great especially going grocery store   \n",
       "4  10 Best Foods for You                                       Best idea us   \n",
       "5  10 Best Foods for You                                           Best way   \n",
       "\n",
       "  Sentiment  Sentiment_Polarity  Sentiment_Subjectivity  Type  \n",
       "0  Positive                1.00                0.533333  Free  \n",
       "1  Positive                0.25                0.288462  Free  \n",
       "3  Positive                0.40                0.875000  Free  \n",
       "4  Positive                1.00                0.300000  Free  \n",
       "5  Positive                1.00                0.300000  Free  "
      ]
     },
     "execution_count": 32,
     "metadata": {},
     "output_type": "execute_result"
    }
   ],
   "source": [
    "sentiment_data.head()"
   ]
  },
  {
   "cell_type": "markdown",
   "metadata": {},
   "source": [
    "Now that we have our dataframe containing the data we need to answer the analysis, let's see how many apps of each type we have:"
   ]
  },
  {
   "cell_type": "code",
   "execution_count": 33,
   "metadata": {},
   "outputs": [
    {
     "name": "stdout",
     "output_type": "stream",
     "text": [
      "Free: 35513\n",
      "Paid: 416\n"
     ]
    }
   ],
   "source": [
    "#Generate counts of each unique values and print them\n",
    "(values,counts)= np.unique(sentiment_data[\"Type\"], return_counts=True)\n",
    "\n",
    "for index in range(len(values)):\n",
    "    print(\"{}: {}\".format(values[index],counts[index]))"
   ]
  },
  {
   "cell_type": "markdown",
   "metadata": {},
   "source": [
    "The sample size of free apps is close to 100 times the size of paid ones. This would give us the expectation that the statistics we are about to pull for free apps can be generalized of the population of free apps with more confidence than in the case of paid apps.\n",
    "\n",
    "What I can do before comparing equal sample sizes is calculate the percentage of positive, neutral, and negative reviews for each dataset, which I will do right after creating their respective dataframes.\n",
    "\n",
    "Now I will proceed to create new dataframes, one for free apps and another for paid ones. After that I will produce :"
   ]
  },
  {
   "cell_type": "code",
   "execution_count": 34,
   "metadata": {},
   "outputs": [],
   "source": [
    "# A dataframe for each app type\n",
    "free_apps = sentiment_data[sentiment_data[\"Type\"]==\"Free\"]\n",
    "paid_apps = sentiment_data[sentiment_data[\"Type\"]==\"Paid\"]"
   ]
  },
  {
   "cell_type": "code",
   "execution_count": 35,
   "metadata": {
    "scrolled": true
   },
   "outputs": [
    {
     "name": "stdout",
     "output_type": "stream",
     "text": [
      "Free Apps - Sentiment Percentage \n",
      "------------------------------\n",
      "Positive    64.055416\n",
      "Negative    22.363641\n",
      "Neutral     13.580942\n",
      "Name: Sentiment, dtype: float64\n",
      "\n",
      "\n",
      "Paid Apps - Sentiment Percentage \n",
      "------------------------------\n",
      "Positive    78.125000\n",
      "Negative    15.144231\n",
      "Neutral      6.730769\n",
      "Name: Sentiment, dtype: float64\n"
     ]
    }
   ],
   "source": [
    "print(\"Free Apps - Sentiment Percentage \\n\"+\"-\"*30+\"\\n{}\\n\\n\".format(free_apps['Sentiment'].value_counts(normalize=True) * 100))\n",
    "print(\"Paid Apps - Sentiment Percentage \\n\"+\"-\"*30+\"\\n{}\".format(paid_apps['Sentiment'].value_counts(normalize=True) * 100))"
   ]
  },
  {
   "cell_type": "markdown",
   "metadata": {},
   "source": [
    "The percentage of positive sentiments in paid apps is higher than that of free apps. This can be due to several reasons, the most visible of which are that many paid apps have some kind of advantage that many free apps do not, such as providing a service that company x is known for, or executing a process based on proprietary technology. With that in mind, such apps usually have more support, including more frequent security and user interface updates, which results in higher user statisfaction. Another reason may be the notion of having invested an amount of money into this app, and therefore a user may reinforce their satisfaction with this investment by providing a positive review.\n",
    "\n",
    "Again, the confidence in these percentages are higher for free apps than paid apps. If a paid apps sample of size equal to that of free apps was provided, the number may converge to a lower or a higher value."
   ]
  },
  {
   "cell_type": "markdown",
   "metadata": {},
   "source": [
    "When creating dataframes for each data type, indexes were moved along other data from the original dataframe, resulting in an index of unorganized integers. Due to the huge inequality of the count of free apps versus paid apps, I will be using index names to pick a random sample from free apps in order to perform head-to-head comparison. This calls for resetting the index for each of these dataframes:"
   ]
  },
  {
   "cell_type": "code",
   "execution_count": 36,
   "metadata": {},
   "outputs": [
    {
     "data": {
      "text/plain": [
       "416"
      ]
     },
     "execution_count": 36,
     "metadata": {},
     "output_type": "execute_result"
    }
   ],
   "source": [
    "#Reset index, then drop the old index column when it is moved to the right as a new column\n",
    "paid_apps = paid_apps.reset_index().drop(columns=[\"index\"])\n",
    "free_apps = free_apps.reset_index().drop(columns=[\"index\"])\n",
    "\n",
    "#Generate a list of random indexes applicable to free_apps\n",
    "random_indexes = np.random.choice(len(free_apps)-1, len(paid_apps), replace=False)\n",
    "\n",
    "#Shorten free_apps to the same size of paid_apps & using a random selection\n",
    "free_apps = free_apps.iloc[random_indexes]\n",
    "\n",
    "#reset index of free_apps\n",
    "free_apps = free_apps.reset_index().drop(columns=[\"index\"])\n",
    "\n",
    "\n",
    "len(free_apps)"
   ]
  },
  {
   "cell_type": "markdown",
   "metadata": {},
   "source": [
    "Great, now we have two samples of equal size for both app types, which will allow for better comparison of sentiments. I move on to plotting counts of sentiments in each app type:"
   ]
  },
  {
   "cell_type": "code",
   "execution_count": 37,
   "metadata": {},
   "outputs": [
    {
     "data": {
      "image/png": "[encoded data removed]",
      "text/plain": [
       "<Figure size 720x432 with 2 Axes>"
      ]
     },
     "metadata": {
      "needs_background": "light"
     },
     "output_type": "display_data"
    }
   ],
   "source": [
    "#Generate values & counts for Sentiment columns in our dataframes & put them in dictionaries\n",
    "val_ct_free = np.unique(free_apps['Sentiment'],return_counts=True)\n",
    "free_data = {value: count for value, count in zip(val_ct_free[0],val_ct_free[1])}\n",
    "\n",
    "val_ct_paid = np.unique(paid_apps['Sentiment'],return_counts=True)\n",
    "paid_data = {value: count for value, count in zip(val_ct_paid[0],val_ct_paid[1])}\n",
    "\n",
    "\n",
    "#put values and counts each in a different variable for use in plots, taken from dictionaries\n",
    "free_names = list(free_data.keys())\n",
    "free_values = list(free_data.values())\n",
    "\n",
    "paid_names = list(paid_data.keys())\n",
    "paid_values = list(paid_data.values())\n",
    "\n",
    "\n",
    "# Create a figure containing plots for each app type, sharing the y-axis for better comparison\n",
    "fig, axs = plt.subplots(1, 2, figsize=(10, 6),sharey=True)\n",
    "axs[0].bar(free_names, free_values)\n",
    "axs[0].set_title(\"Free App Sentiments\")\n",
    "axs[1].bar(paid_names, paid_values)\n",
    "axs[1].set_title(\"Paid App Sentiments\")\n",
    "plt.show()\n",
    "\n"
   ]
  },
  {
   "cell_type": "markdown",
   "metadata": {},
   "source": [
    "Even after we have taken an sample of free apps of equal size to paid apps, the plots show a higher number of positive sentiments for paid apps, and a slightly lower negative sentiment for paid apps. While neutral sentiments were higher for free apps, indicating higher variance of sentiments for free apps and higher polarity of sentiments for paid apps.\n",
    "\n",
    "This subjects requires more clarification, which we will see in the next sections; polarity and subjectivity."
   ]
  },
  {
   "cell_type": "markdown",
   "metadata": {},
   "source": [
    "### 3.1. Sentiment Polarity"
   ]
  },
  {
   "cell_type": "markdown",
   "metadata": {},
   "source": [
    "The polarity of a sentiment measures how negative or positive the context is, regardless of other factors. In the sentiment analysis data that we have, the polarity ranges from -1 (most negative) to +1 (most positive). In general, polarity can indicate whether people have strong opinions about a certain topic.\n",
    "\n",
    "In our case, we can expect polarity to be more extreme towards either positive or negative opinions in the case of paid apps because a financial investment has been put in to obtain these apps. Let's find out by plotting polarity for both app types:"
   ]
  },
  {
   "cell_type": "code",
   "execution_count": 50,
   "metadata": {},
   "outputs": [
    {
     "data": {
      "image/png": "[encoded data removed]",
      "text/plain": [
       "<Figure size 1008x360 with 1 Axes>"
      ]
     },
     "metadata": {
      "needs_background": "light"
     },
     "output_type": "display_data"
    }
   ],
   "source": [
    "# Define variables that contain sentiment polarity for each app type\n",
    "polarity_paid = paid_apps[\"Sentiment_Polarity\"]\n",
    "polarity_free = free_apps[\"Sentiment_Polarity\"]\n",
    "\n",
    "#Plot two histograms showing sentiment polarity of each app type\n",
    "plt.figure(figsize=(14,5))\n",
    "plt.hist(polarity_paid, normed=True, color=\"green\",alpha=.7, label=\"Paid Apps\") \n",
    "plt.hist(polarity_free, normed=True,color=\"red\",alpha=.4, label=\"Free Apps\")\n",
    "plt.title('Sentiment Polarity Distribution For Free & Paid Apps')\n",
    "plt.xlabel('Sentiment Polarity')\n",
    "plt.legend(loc='upper right')\n",
    "plt.show()"
   ]
  },
  {
   "cell_type": "markdown",
   "metadata": {},
   "source": [
    "Seeing this plot, we can immediately notice more neutral polarity in free apps, seen through the larger red area right above the 0.00 on the x axis. However, there is also more extreme positive polarity for free apps, shown in the area from 0.5 to 1.00 on the x axis, the extremity is also evident for free apps in negative polarity from a little less than -0.75 to -0.50. The majority of sentiments for free apps is concentrated around neutral and mildly positive. Polarity of sentiments for free apps has more spread around 0.\n",
    "\n",
    "As for paid apps, it seems like our assumption above does not stand when it comes to negative polarity of paid apps. Most sentiments are focused in between 0 and 0.5. Some sentiments do extend towards extremely positive, but none extend to below -0.5, indicating more general satisfaction with paid apps.\n",
    "\n",
    "Let's take a look on solid numbers and see how these two samples compare:"
   ]
  },
  {
   "cell_type": "code",
   "execution_count": 39,
   "metadata": {},
   "outputs": [
    {
     "name": "stdout",
     "output_type": "stream",
     "text": [
      "Mean polarity of free apps : 0.178\n",
      "Mean polarity of paid apps : 0.229\n",
      "Polarity std. deviation of free apps : 0.384\n",
      "Polarity std. deviation of paid apps : 0.272\n"
     ]
    }
   ],
   "source": [
    "print(\"Mean polarity of free apps : {}\".format(round(polarity_free.mean(),3)))\n",
    "print(\"Mean polarity of paid apps : {}\".format(round(polarity_paid.mean(),3)))\n",
    "print(\"Polarity std. deviation of free apps : {}\".format(round(polarity_free.std(),3)))\n",
    "print(\"Polarity std. deviation of paid apps : {}\".format(round(polarity_paid.std(),3)))"
   ]
  },
  {
   "cell_type": "markdown",
   "metadata": {},
   "source": [
    "The polarity mean difference between two samples is 0.047 within a range of 2 (from -1 to 1), which is considered a small difference. What is noticeable is the higher standard deviation for free apps, which is causing the wider spread of observations around their polarity mean. This is also the reason for paid app polarity observations being a bit more clustered around their mean.\n",
    "\n",
    "Several reasons can provide justification for both **A.** having a higher standard deviation for polarity of free apps and **B.** paid app polarity being at a visible minimum of -0.5. One cause that jumps to mind and can justify both phenoma, is that free apps have looser terms and conditions for being published; an android developer can code an app in a relatively short time and put it on the market for free without having to have established real value for the app's user. On the other side, paid apps -who are able to compete in the Google Play store- are expected to have more robust value-producing technology within the app in order to convince the user of purchasing."
   ]
  },
  {
   "cell_type": "code",
   "execution_count": 49,
   "metadata": {},
   "outputs": [
    {
     "name": "stdout",
     "output_type": "stream",
     "text": [
      "t-value: 2.17\n",
      "p-value: 0.03\n"
     ]
    }
   ],
   "source": [
    "# Test similarity of samples with a t-value & a p-value\n",
    "sample_comparison = list(ttest_ind(polarity_paid,polarity_free, equal_var=False))\n",
    "sample_comparison = [round(value,2) for value in sample_comparison]\n",
    "print(\"t-value: {}\\np-value: {}\".format(sample_comparison[0],sample_comparison[1]))"
   ]
  },
  {
   "cell_type": "markdown",
   "metadata": {},
   "source": [
    "This t-value indicates there is some difference between sentiment polarity of free apps and polarity of paid apps. This difference is verified with a really small p-value of 0.03, which means that the same difference is most probably reflected in the the populations of paid and free apps.\n",
    "\n",
    "In summary, this means that there is some difference in user's extremity of opinions towards paid and free apps, and that the sentiment polarity of reviews of each type of app is likely to follow the distribution of its respective histogram plotted above."
   ]
  },
  {
   "cell_type": "markdown",
   "metadata": {},
   "source": [
    "### 3.2. Sentiment Subjectivity"
   ]
  },
  {
   "cell_type": "markdown",
   "metadata": {},
   "source": [
    "The subjectivitiy of a sentiment is how likely that sentiment is to be based on factual information, versus personal opinions or public notions. The lower the subjectivity, the more the sentiment is based on data or factual information. For this sentiment analysis, subjectivity values range from 0 (least subjective) to 1 (most subjective). "
   ]
  },
  {
   "cell_type": "code",
   "execution_count": 51,
   "metadata": {},
   "outputs": [
    {
     "data": {
      "image/png": "[encoded data removed]",
      "text/plain": [
       "<Figure size 1008x360 with 1 Axes>"
      ]
     },
     "metadata": {
      "needs_background": "light"
     },
     "output_type": "display_data"
    }
   ],
   "source": [
    "# Define variables that contain sentiment polarity for each app type\n",
    "subjectivity_paid = paid_apps[\"Sentiment_Subjectivity\"]\n",
    "subjectivity_free = free_apps[\"Sentiment_Subjectivity\"]\n",
    "\n",
    "#Plot two histograms showing sentiment polarity of each app type\n",
    "plt.figure(figsize=(14,5))\n",
    "plt.hist(subjectivity_paid, normed=True, color=\"green\",alpha=.7, label=\"Paid Apps\") \n",
    "plt.hist(subjectivity_free, normed=True,color=\"red\",alpha=.4, label=\"Free Apps\")\n",
    "plt.title('Sentiment Subjectivity Distribution For Free & Paid Apps')\n",
    "plt.xlabel('Sentiment Subjectivity')\n",
    "plt.legend(loc='upper right')\n",
    "plt.show()"
   ]
  },
  {
   "cell_type": "markdown",
   "metadata": {},
   "source": [
    "Both paid and free apps seem to have a distribution of sentiment subjectivity that is very close to a normal distribution, although paid apps have more data around the mean. The overall subjectivity of reviews of paid apps seem to be slightly lower than that of paid apps."
   ]
  },
  {
   "cell_type": "code",
   "execution_count": 52,
   "metadata": {},
   "outputs": [
    {
     "name": "stdout",
     "output_type": "stream",
     "text": [
      "Mean subjectivity of free apps : 0.495\n",
      "Mean subjectivity of paid apps : 0.511\n",
      "Subjectivity std. deviation of free apps : 0.262\n",
      "Subjectivity std. deviation of paid apps : 0.215\n"
     ]
    }
   ],
   "source": [
    "print(\"Mean subjectivity of free apps : {}\".format(round(subjectivity_free.mean(),3)))\n",
    "print(\"Mean subjectivity of paid apps : {}\".format(round(subjectivity_paid.mean(),3)))\n",
    "print(\"Subjectivity std. deviation of free apps : {}\".format(round(subjectivity_free.std(),3)))\n",
    "print(\"Subjectivity std. deviation of paid apps : {}\".format(round(subjectivity_paid.std(),3)))"
   ]
  },
  {
   "cell_type": "markdown",
   "metadata": {},
   "source": [
    "As can be expected from the histogram plot above, sentiment subjectivity in reviews for both types of apps is similar. The means of both samples are very close to each other, and the standard deviatons are also similar. User reviews are usually given based on a user's experience using the app, rather than being surveys about the app's design. The amount of users who are knowledgeable of app design and who can give reviews based on facts are the same, whether reviewing paid or free apps.\n",
    "\n",
    "Let us validate our inference with a t-test:"
   ]
  },
  {
   "cell_type": "code",
   "execution_count": 53,
   "metadata": {},
   "outputs": [
    {
     "name": "stdout",
     "output_type": "stream",
     "text": [
      "t-value: 0.99\n",
      "p-value: 0.32\n"
     ]
    }
   ],
   "source": [
    "# Test similarity of samples with a t-value & a p-value\n",
    "sample_comparison = list(ttest_ind(subjectivity_paid,subjectivity_free, equal_var=False))\n",
    "sample_comparison = [round(value,2) for value in sample_comparison]\n",
    "print(\"t-value: {}\\np-value: {}\".format(sample_comparison[0],sample_comparison[1]))"
   ]
  },
  {
   "cell_type": "markdown",
   "metadata": {},
   "source": [
    "The t-value of 0.99 says that the difference between the two sample is similar to the variance within each sample. In other words, it says that this difference found in paid apps, for example, is not unusual to find in free apps. That is because the difference is almost equal to the variance *within* paid apps, and therefore may expectedly be reproduced if we re-do the test using a different random sample from the free apps population.\n",
    "\n",
    "The p-value of 0.32 indicates that this t-value is somewhat likely to have been caused by noise in the data rather than by actual difference in sentiment subjectivity towards either type of app."
   ]
  },
  {
   "cell_type": "markdown",
   "metadata": {},
   "source": [
    "## Conclusion"
   ]
  }
 ],
 "metadata": {
  "kernelspec": {
   "display_name": "Python 3",
   "language": "python",
   "name": "python3"
  },
  "language_info": {
   "codemirror_mode": {
    "name": "ipython",
    "version": 3
   },
   "file_extension": ".py",
   "mimetype": "text/x-python",
   "name": "python",
   "nbconvert_exporter": "python",
   "pygments_lexer": "ipython3",
   "version": "3.7.1"
  }
 },
 "nbformat": 4,
 "nbformat_minor": 2
}
