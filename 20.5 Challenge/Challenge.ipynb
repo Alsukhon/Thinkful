{
 "cells": [
  {
   "cell_type": "markdown",
   "metadata": {},
   "source": [
    "#  Find a data set and build a KNN Regression and an OLS regression. Compare the two. How similar are they? Do they miss in different ways?\n",
    "\n",
    "\n",
    "# Create a Jupyter notebook with your models. "
   ]
  },
  {
   "cell_type": "markdown",
   "metadata": {},
   "source": [
    "First let's write basic import statements for libraries and the dataset:"
   ]
  },
  {
   "cell_type": "code",
   "execution_count": 1,
   "metadata": {},
   "outputs": [
    {
     "data": {
      "text/html": [
       "<div>\n",
       "<style scoped>\n",
       "    .dataframe tbody tr th:only-of-type {\n",
       "        vertical-align: middle;\n",
       "    }\n",
       "\n",
       "    .dataframe tbody tr th {\n",
       "        vertical-align: top;\n",
       "    }\n",
       "\n",
       "    .dataframe thead th {\n",
       "        text-align: right;\n",
       "    }\n",
       "</style>\n",
       "<table border=\"1\" class=\"dataframe\">\n",
       "  <thead>\n",
       "    <tr style=\"text-align: right;\">\n",
       "      <th></th>\n",
       "      <th>id</th>\n",
       "      <th>mssubclass</th>\n",
       "      <th>mszoning</th>\n",
       "      <th>lotfrontage</th>\n",
       "      <th>lotarea</th>\n",
       "      <th>street</th>\n",
       "      <th>alley</th>\n",
       "      <th>lotshape</th>\n",
       "      <th>landcontour</th>\n",
       "      <th>utilities</th>\n",
       "      <th>...</th>\n",
       "      <th>poolarea</th>\n",
       "      <th>poolqc</th>\n",
       "      <th>fence</th>\n",
       "      <th>miscfeature</th>\n",
       "      <th>miscval</th>\n",
       "      <th>mosold</th>\n",
       "      <th>yrsold</th>\n",
       "      <th>saletype</th>\n",
       "      <th>salecondition</th>\n",
       "      <th>saleprice</th>\n",
       "    </tr>\n",
       "  </thead>\n",
       "  <tbody>\n",
       "    <tr>\n",
       "      <th>0</th>\n",
       "      <td>1</td>\n",
       "      <td>60</td>\n",
       "      <td>RL</td>\n",
       "      <td>65.000</td>\n",
       "      <td>8450</td>\n",
       "      <td>Pave</td>\n",
       "      <td>None</td>\n",
       "      <td>Reg</td>\n",
       "      <td>Lvl</td>\n",
       "      <td>AllPub</td>\n",
       "      <td>...</td>\n",
       "      <td>0</td>\n",
       "      <td>None</td>\n",
       "      <td>None</td>\n",
       "      <td>None</td>\n",
       "      <td>0</td>\n",
       "      <td>2</td>\n",
       "      <td>2008</td>\n",
       "      <td>WD</td>\n",
       "      <td>Normal</td>\n",
       "      <td>208500</td>\n",
       "    </tr>\n",
       "    <tr>\n",
       "      <th>1</th>\n",
       "      <td>2</td>\n",
       "      <td>20</td>\n",
       "      <td>RL</td>\n",
       "      <td>80.000</td>\n",
       "      <td>9600</td>\n",
       "      <td>Pave</td>\n",
       "      <td>None</td>\n",
       "      <td>Reg</td>\n",
       "      <td>Lvl</td>\n",
       "      <td>AllPub</td>\n",
       "      <td>...</td>\n",
       "      <td>0</td>\n",
       "      <td>None</td>\n",
       "      <td>None</td>\n",
       "      <td>None</td>\n",
       "      <td>0</td>\n",
       "      <td>5</td>\n",
       "      <td>2007</td>\n",
       "      <td>WD</td>\n",
       "      <td>Normal</td>\n",
       "      <td>181500</td>\n",
       "    </tr>\n",
       "    <tr>\n",
       "      <th>2</th>\n",
       "      <td>3</td>\n",
       "      <td>60</td>\n",
       "      <td>RL</td>\n",
       "      <td>68.000</td>\n",
       "      <td>11250</td>\n",
       "      <td>Pave</td>\n",
       "      <td>None</td>\n",
       "      <td>IR1</td>\n",
       "      <td>Lvl</td>\n",
       "      <td>AllPub</td>\n",
       "      <td>...</td>\n",
       "      <td>0</td>\n",
       "      <td>None</td>\n",
       "      <td>None</td>\n",
       "      <td>None</td>\n",
       "      <td>0</td>\n",
       "      <td>9</td>\n",
       "      <td>2008</td>\n",
       "      <td>WD</td>\n",
       "      <td>Normal</td>\n",
       "      <td>223500</td>\n",
       "    </tr>\n",
       "    <tr>\n",
       "      <th>3</th>\n",
       "      <td>4</td>\n",
       "      <td>70</td>\n",
       "      <td>RL</td>\n",
       "      <td>60.000</td>\n",
       "      <td>9550</td>\n",
       "      <td>Pave</td>\n",
       "      <td>None</td>\n",
       "      <td>IR1</td>\n",
       "      <td>Lvl</td>\n",
       "      <td>AllPub</td>\n",
       "      <td>...</td>\n",
       "      <td>0</td>\n",
       "      <td>None</td>\n",
       "      <td>None</td>\n",
       "      <td>None</td>\n",
       "      <td>0</td>\n",
       "      <td>2</td>\n",
       "      <td>2006</td>\n",
       "      <td>WD</td>\n",
       "      <td>Abnorml</td>\n",
       "      <td>140000</td>\n",
       "    </tr>\n",
       "    <tr>\n",
       "      <th>4</th>\n",
       "      <td>5</td>\n",
       "      <td>60</td>\n",
       "      <td>RL</td>\n",
       "      <td>84.000</td>\n",
       "      <td>14260</td>\n",
       "      <td>Pave</td>\n",
       "      <td>None</td>\n",
       "      <td>IR1</td>\n",
       "      <td>Lvl</td>\n",
       "      <td>AllPub</td>\n",
       "      <td>...</td>\n",
       "      <td>0</td>\n",
       "      <td>None</td>\n",
       "      <td>None</td>\n",
       "      <td>None</td>\n",
       "      <td>0</td>\n",
       "      <td>12</td>\n",
       "      <td>2008</td>\n",
       "      <td>WD</td>\n",
       "      <td>Normal</td>\n",
       "      <td>250000</td>\n",
       "    </tr>\n",
       "  </tbody>\n",
       "</table>\n",
       "<p>5 rows × 81 columns</p>\n",
       "</div>"
      ],
      "text/plain": [
       "   id  mssubclass mszoning  lotfrontage  lotarea street alley lotshape  \\\n",
       "0   1          60       RL       65.000     8450   Pave  None      Reg   \n",
       "1   2          20       RL       80.000     9600   Pave  None      Reg   \n",
       "2   3          60       RL       68.000    11250   Pave  None      IR1   \n",
       "3   4          70       RL       60.000     9550   Pave  None      IR1   \n",
       "4   5          60       RL       84.000    14260   Pave  None      IR1   \n",
       "\n",
       "  landcontour utilities  ... poolarea poolqc fence miscfeature miscval mosold  \\\n",
       "0         Lvl    AllPub  ...        0   None  None        None       0      2   \n",
       "1         Lvl    AllPub  ...        0   None  None        None       0      5   \n",
       "2         Lvl    AllPub  ...        0   None  None        None       0      9   \n",
       "3         Lvl    AllPub  ...        0   None  None        None       0      2   \n",
       "4         Lvl    AllPub  ...        0   None  None        None       0     12   \n",
       "\n",
       "  yrsold  saletype  salecondition  saleprice  \n",
       "0   2008        WD         Normal     208500  \n",
       "1   2007        WD         Normal     181500  \n",
       "2   2008        WD         Normal     223500  \n",
       "3   2006        WD        Abnorml     140000  \n",
       "4   2008        WD         Normal     250000  \n",
       "\n",
       "[5 rows x 81 columns]"
      ]
     },
     "execution_count": 1,
     "metadata": {},
     "output_type": "execute_result"
    }
   ],
   "source": [
    "## Import statements\n",
    "from itertools import permutations\n",
    "import matplotlib.pyplot as plt\n",
    "import numpy as np\n",
    "import pandas as pd\n",
    "from scipy.stats.mstats import winsorize\n",
    "from scipy.stats import boxcox, jarque_bera, normaltest\n",
    "import seaborn as sns\n",
    "from sklearn.linear_model import LinearRegression, ElasticNetCV, ElasticNet\n",
    "from sklearn.neighbors import KNeighborsRegressor\n",
    "from sklearn.model_selection import train_test_split, cross_val_score, GridSearchCV\n",
    "from sklearn.metrics import mean_absolute_error\n",
    "import statsmodels.api as sm\n",
    "from statsmodels.tools.eval_measures import mse, rmse\n",
    "from sqlalchemy import create_engine\n",
    "from IPython.display import Markdown, display\n",
    "import scipy\n",
    "import warnings\n",
    "%matplotlib inline\n",
    "warnings.filterwarnings('ignore')\n",
    "\n",
    "\n",
    "# Display preferences.\n",
    "%matplotlib inline\n",
    "pd.options.display.float_format = '{:.3f}'.format\n",
    "def printmd(string):\n",
    "    \"prints text in bold\"\n",
    "    display(Markdown(string))\n",
    "\n",
    "import warnings\n",
    "warnings.filterwarnings(action=\"ignore\")\n",
    "\n",
    "\n",
    "postgres_user = 'dsbc_student'\n",
    "postgres_pw = '7*.8G9QH21'\n",
    "postgres_host = '142.93.121.174'\n",
    "postgres_port = '5432'\n",
    "postgres_db = 'houseprices'\n",
    "\n",
    "engine = create_engine('postgresql://{}:{}@{}:{}/{}'.format(\n",
    "    postgres_user, postgres_pw, postgres_host, postgres_port, postgres_db))\n",
    "\n",
    "df = pd.read_sql_query('select * from houseprices',con=engine)\n",
    "\n",
    "# no need for an open connection, as we're only doing a single query\n",
    "engine.dispose()\n",
    "\n",
    "df.head()"
   ]
  },
  {
   "cell_type": "markdown",
   "metadata": {},
   "source": [
    "Next, let's define functions that may be used repeatedly through this experiment:"
   ]
  },
  {
   "cell_type": "code",
   "execution_count": 2,
   "metadata": {
    "scrolled": false
   },
   "outputs": [],
   "source": [
    "# Function definitions\n",
    "def classify_nbr(saleprice):\n",
    "    \"\"\" puts houses in preset neighborhood bins \"\"\"\n",
    "    \n",
    "    nbr_class = {0:'saleprice < 120000',\n",
    "                 1:'saleprice >= 120000 and saleprice < 200000',\n",
    "                 2:'saleprice >= 200000 and saleprice < 300000',\n",
    "                 3:'saleprice >= 300000'}\n",
    "    for class_level in nbr_class.keys():\n",
    "        if eval(nbr_class[class_level]):\n",
    "            return class_level\n",
    "\n",
    "df['neighborhood_class'] = df['saleprice'].apply(classify_nbr)\n",
    "\n",
    "\n",
    "def log_prep(temp_df):\n",
    "    \"\"\"takes in the chosen temp_df for the model and outputs X & Y with saleprice log-transformed\"\"\"\n",
    "    \n",
    "    # Log-transform salesprice values & drop saleprice\n",
    "    temp_df['saleprice_log'] = np.log(temp_df['saleprice'])\n",
    "    temp_df.drop(columns=['saleprice'],inplace=True)\n",
    "    \n",
    "    # designate features\n",
    "    features = list(temp_df.columns)\n",
    "    features.remove('saleprice_log')\n",
    "    print('features (len: {}): {}\\ntarget: {}'.format(len(features),{i for i in features},list(set(set(temp_df.columns)-set(features)))))\n",
    "\n",
    "    # X & Y\n",
    "    X = temp_df[features]\n",
    "    Y = temp_df['saleprice_log']\n",
    "    return X,Y\n",
    "\n",
    "\n",
    "def optimize_ElasticNet(x, y, title):\n",
    "    \"\"\"\n",
    "        Scores & plots prediction of an ElasticNetCV object\n",
    "        and uses its best hyperparameter values to return\n",
    "        an ElasticNet regression object.\n",
    "    \"\"\"\n",
    "    clf = ElasticNetCV(max_iter=2000, cv=10, l1_ratio = [.1, .5,.7, .9, .95, .99, 1], normalize=True)\n",
    "    clf.fit(x, y)\n",
    "    print (\"Score\", clf.score(x, y))\n",
    "    print(clf.get_params)\n",
    "    pred = clf.predict(x)\n",
    "    plt.title(\"Scatter plot of prediction and \" + title)\n",
    "    plt.xlabel(\"Prediction\")\n",
    "    plt.ylabel(\"Target\")\n",
    "    plt.scatter(y, pred)\n",
    "    \n",
    "    # Show perfect fit line\n",
    "    plt.plot(y, y, label=\"Perfect Fit\")\n",
    "    plt.legend()\n",
    "    plt.grid(True)\n",
    "    plt.show()\n",
    "    \n",
    "    return ElasticNet(alpha=clf.alpha_,l1_ratio=clf.l1_ratio_,fit_intercept=clf.fit_intercept,normalize=clf.normalize,copy_X=clf.copy_X,tol=clf.tol,positive=True)    \n",
    "\n",
    "\n",
    "def plot_showErrors(y_test,y_preds,title):\n",
    "    # plot results against actual values\n",
    "    plt.scatter(y_test, y_preds)\n",
    "    plt.plot(y_test, y_test)\n",
    "    plt.xlabel(\"true values\")\n",
    "    plt.ylabel(\"predicted values\")\n",
    "    plt.title(\"House prices: true vs. predicted values\")\n",
    "    plt.show()\n",
    "    # Measure model errors\n",
    "    print(\"{} MODEL ERRORS\\n**********************************\".format(title.upper()))\n",
    "    print(\"Mean absolute error of the prediction is: {}\".format(mean_absolute_error(y_test, y_preds)))\n",
    "    print(\"Mean squared error of the prediction is: {}\".format(mse(y_test, y_preds)))\n",
    "    print(\"Root mean squared error of the prediction is: {}\".format(rmse(y_test, y_preds)))\n",
    "    print(\"Mean absolute percentage error of the prediction is: {}\".format(np.mean(np.abs((y_test - y_preds) / y_test)) * 100))\n",
    "    print(('*'*20))\n"
   ]
  },
  {
   "cell_type": "markdown",
   "metadata": {},
   "source": [
    "Now we get back to the data we imported. Let's start by cleaning and feature-selecting data to prepare for both models:"
   ]
  },
  {
   "cell_type": "code",
   "execution_count": 3,
   "metadata": {},
   "outputs": [
    {
     "name": "stdout",
     "output_type": "stream",
     "text": [
      "features (len: 6): {'garagecars', 'fullbath', 'yearremodadd', 'yearbuilt', 'neighborhood_class', 'totalbsmtsf'}\n",
      "target: ['saleprice_log']\n",
      "Score 0.8994460592179154\n",
      "<bound method BaseEstimator.get_params of ElasticNetCV(alphas=None, copy_X=True, cv=10, eps=0.001, fit_intercept=True,\n",
      "             l1_ratio=[0.1, 0.5, 0.7, 0.9, 0.95, 0.99, 1], max_iter=2000,\n",
      "             n_alphas=100, n_jobs=None, normalize=True, positive=False,\n",
      "             precompute='auto', random_state=None, selection='cyclic',\n",
      "             tol=0.0001, verbose=0)>\n"
     ]
    },
    {
     "data": {
      "image/png": "[encoded data removed]",
      "text/plain": [
       "<Figure size 432x288 with 1 Axes>"
      ]
     },
     "metadata": {
      "needs_background": "light"
     },
     "output_type": "display_data"
    }
   ],
   "source": [
    "# MODEL PREPARATION\n",
    "#count missing values\n",
    "missing_vals = (df.isnull().sum()/len(df)).sort_values(ascending=False)\n",
    "\n",
    "# keep column names that do have them\n",
    "missing_vals = missing_vals[missing_vals > 0]\n",
    "\n",
    "# data types\n",
    "missValDTypes = df[missing_vals.index.to_list()].dtypes\n",
    "\n",
    "# Create a dictionary containing the value to replace missing values in each column\n",
    "fill_with = {'garageyrblt': 0, 'garagequal': 'TA', 'garagecond': 'TA', 'garagefinish': 'Unf','garagetype':'No',\n",
    "             'bsmtexposure':'No','bsmtfintype2':'Unf','bsmtfintype1':'Unf','bsmtqual':'TA','bsmtcond':'TA',\n",
    "             'masvnrarea':0,'masvnrtype':'None','electrical':'SBrkr'}\n",
    "\n",
    "# Also, fill first 5 columns with 0 for missing values\n",
    "fill_with.update({key:0 for key in missing_vals[:5].index.to_list()})\n",
    "\n",
    "if 'id' in df.columns:\n",
    "    df = df.drop(columns=['id'])\n",
    "df = df.fillna(value=fill_with)\n",
    "\n",
    "# Select features & split dataset\n",
    "features = ['saleprice', 'neighborhood_class', 'garagecars', 'totalbsmtsf', 'fullbath',\n",
    "            'yearbuilt', 'yearremodadd']\n",
    "temp_df = df[features]\n",
    "\n",
    "for i in ['saleprice', 'totalbsmtsf']:\n",
    "    temp_df[i] = winsorize(temp_df[i], (0.01, 0.01))\n",
    "\n",
    "X, Y = log_prep(temp_df)\n",
    "X_train, X_test, y_train, y_test = train_test_split(X, Y, test_size = 0.2, random_state = 465)\n",
    "\n",
    "\n",
    "## Linear regression\n",
    "model_1 = ElasticNetCV(l1_ratio=0.5, eps=0.001, n_alphas=100, alphas=None, fit_intercept=True, normalize=False, \n",
    "                       precompute='auto', max_iter=1000, tol=0.0001, cv=10, copy_X=True, verbose=0, n_jobs=-1, \n",
    "                       positive=False, random_state=None, selection='cyclic')\n",
    "hParams = model_1.__dict__\n",
    "\n",
    "# Initiate ElasticNet model based on ElasticNetCV\n",
    "optimized_OLS = optimize_ElasticNet(X, Y,\"saleprice_log\")"
   ]
  },
  {
   "cell_type": "markdown",
   "metadata": {},
   "source": [
    "Using the function defined above, *optimize_ElasticNet()*, we created a model with the best alpha and other hyperparameters. Now we fit it and use the *plot_showErrors()* function to plot prediction and show error metrics, which will also apply to the KNN regressor we'll initiate:"
   ]
  },
  {
   "cell_type": "code",
   "execution_count": 4,
   "metadata": {},
   "outputs": [
    {
     "data": {
      "image/png": "[encoded data removed]",
      "text/plain": [
       "<Figure size 432x288 with 1 Axes>"
      ]
     },
     "metadata": {
      "needs_background": "light"
     },
     "output_type": "display_data"
    },
    {
     "name": "stdout",
     "output_type": "stream",
     "text": [
      "OLS MODEL ERRORS\n",
      "**********************************\n",
      "Mean absolute error of the prediction is: 0.10050328822600745\n",
      "Mean squared error of the prediction is: 0.015919634309672772\n",
      "Root mean squared error of the prediction is: 0.12617303321103432\n",
      "Mean absolute percentage error of the prediction is: 0.8402977612170466\n",
      "********************\n"
     ]
    },
    {
     "data": {
      "image/png": "[encoded data removed]",
      "text/plain": [
       "<Figure size 432x288 with 1 Axes>"
      ]
     },
     "metadata": {
      "needs_background": "light"
     },
     "output_type": "display_data"
    },
    {
     "name": "stdout",
     "output_type": "stream",
     "text": [
      "KNN MODEL ERRORS\n",
      "**********************************\n",
      "Mean absolute error of the prediction is: 0.1683554760471893\n",
      "Mean squared error of the prediction is: 0.04844019257828976\n",
      "Root mean squared error of the prediction is: 0.2200913278125464\n",
      "Mean absolute percentage error of the prediction is: 1.4048043007784465\n",
      "********************\n"
     ]
    },
    {
     "data": {
      "image/png": "[encoded data removed]",
      "text/plain": [
       "<Figure size 432x288 with 1 Axes>"
      ]
     },
     "metadata": {
      "needs_background": "light"
     },
     "output_type": "display_data"
    },
    {
     "name": "stdout",
     "output_type": "stream",
     "text": [
      "KNN_MINKOWSKI MODEL ERRORS\n",
      "**********************************\n",
      "Mean absolute error of the prediction is: 0.1683554760471893\n",
      "Mean squared error of the prediction is: 0.04844019257828976\n",
      "Root mean squared error of the prediction is: 0.2200913278125464\n",
      "Mean absolute percentage error of the prediction is: 1.4048043007784465\n",
      "********************\n"
     ]
    }
   ],
   "source": [
    "# Fit our ElasticNet model, show its prediction and model valuation metrics\n",
    "optimized_OLS.fit(X_train,y_train)\n",
    "plot_showErrors(y_test,optimized_OLS.predict(X_test),'ols')\n",
    "\n",
    "\n",
    "# KNN Regressor\n",
    "gridOv_params = {'n_neighbors':[6,9,10,12,14,15,16,18],\n",
    "                 'weights':['uniform','distance'],\n",
    "                 'algorithm' : ['auto', 'ball_tree', 'kd_tree', 'brute'],\n",
    "                 'leaf_size':[5,9,20,30,45,50,55,90],\n",
    "                 'metric':['minkowski','manhattan','euclidean'],\n",
    "                 'n_jobs':[-1]\n",
    "                }\n",
    "clf0 = GridSearchCV(KNeighborsRegressor(),param_grid=gridOv_params,n_jobs=-1)\n",
    "clf0.fit(X_train,y_train)\n",
    "gridOv_params = clf0.best_params_\n",
    "clf0 = KNeighborsRegressor(algorithm=gridOv_params['algorithm'],\n",
    "                           leaf_size=gridOv_params['leaf_size'],\n",
    "                           metric=gridOv_params['metric'],\n",
    "                           n_jobs=gridOv_params['n_jobs'],\n",
    "                           n_neighbors=gridOv_params['n_neighbors'],\n",
    "                           weights=gridOv_params['weights'])\n",
    "clf0.fit(X_train,y_train)\n",
    "plot_showErrors(y_test,clf0.predict(X_test),'knn')\n",
    "\n",
    "\n",
    "\n",
    "clf1 = KNeighborsRegressor(algorithm=gridOv_params['algorithm'],\n",
    "                           leaf_size=gridOv_params['leaf_size'],\n",
    "                           metric='minkowski',\n",
    "                           n_jobs=gridOv_params['n_jobs'],\n",
    "                           n_neighbors=gridOv_params['n_neighbors'],\n",
    "                           weights=gridOv_params['weights'])\n",
    "clf1.fit(X_train,y_train)\n",
    "\n",
    "plot_showErrors(y_test,clf0.predict(X_test),'knn_minkowski')"
   ]
  },
  {
   "cell_type": "markdown",
   "metadata": {},
   "source": [
    "# At the end in a markdown cell write a few paragraphs to describe the models' behaviors and why you favor one model or the other. "
   ]
  },
  {
   "cell_type": "markdown",
   "metadata": {},
   "source": [
    "First thing we notice is the two KNN models are no different from each other in terms of model quality. They both have the same metrics; this can be due to the first model automatically choosing *minkowski* from GridSearch or to one of the distance metrics being a default to one one of the other parameters we did not explicitly specify.\n",
    "\n",
    "What's more important, however, is the difference between using KNN and the enhanced OLS (ElasticNet). The ElasticNet model was enhanced by running it with several sets of parameters -including alpha- and deciding on the best one. Its prediction is shaped in groups that are close to the true values but still are within a known shape (stair-like-origanized semi-rectangles). This known shape of prediction can lack precision in predicting continuous variables because it will avoid predicting certain values that are closer to true values but fall outside the stair shape.\n",
    "\n",
    "KNN, on the other hand, has a smoother prediction line that more closely matches a regression line, which is more favorable in case the prediction outcome precision is more emphasized. KNN was also enhanced, but through running GridSearchCV on a wider possibility of hyperparemeter sets. The *n* number of neighbors was chosen with respect to the output's best fit and alignmet with the inclined fit line.\n",
    "\n",
    "This makes KNN a more reliable regression model for this dataset, since it is more likely to predict prices accurately."
   ]
  },
  {
   "cell_type": "markdown",
   "metadata": {},
   "source": [
    "# Try to determine whether there is a situation where you would change your mind, or whether one is unambiguously better than the other. "
   ]
  },
  {
   "cell_type": "markdown",
   "metadata": {},
   "source": [
    "If the objective of prediction was to place datapoints -or *house features*- within groups or ranges of prices rather than a specific number, then ElasticNet would have been a good model for this task, because it would estimate predictions to fall within certain buckets rather than absolute prediction that may fall on any point on the fit line."
   ]
  },
  {
   "cell_type": "markdown",
   "metadata": {},
   "source": [
    "# Lastly, try to note what it is about the data that causes the better model to outperform the weaker model."
   ]
  },
  {
   "cell_type": "markdown",
   "metadata": {},
   "source": [
    "It may be due to the weaker model, *ElasticNet*, choosing L2 regularization, or *Ridge* regression. The stair-like prediction output includes gap points (the gaps between the stairs) resulting from the limitations of the algorithm itself."
   ]
  }
 ],
 "metadata": {
  "kernelspec": {
   "display_name": "Python 3",
   "language": "python",
   "name": "python3"
  },
  "language_info": {
   "codemirror_mode": {
    "name": "ipython",
    "version": 3
   },
   "file_extension": ".py",
   "mimetype": "text/x-python",
   "name": "python",
   "nbconvert_exporter": "python",
   "pygments_lexer": "ipython3",
   "version": "3.7.3"
  }
 },
 "nbformat": 4,
 "nbformat_minor": 2
}
