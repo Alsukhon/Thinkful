{
 "cells": [
  {
   "cell_type": "markdown",
   "metadata": {},
   "source": [
    "In this challenge, you'll use this dataset of article open-access prices paid by the WELLCOME Trust between 2012 and 2013.\n",
    "\n",
    "To complete this challenge:\n",
    "\n",
    "1. Determine the five most common journals and the total articles for each. \n",
    "2. Next, calculate the mean, median, and standard deviation of the open-access cost per article for each journal.\n",
    "\n",
    "You will need to do considerable data cleaning in order to extract accurate estimates. You may may want to look into data encoding methods if you get stuck. \n",
    "\n",
    "3. For a real bonus round, identify the open access prices paid by subject area.\n",
    "\n",
    "Remember not to modify the data directly. Instead, write a cleaning script that will load the raw data and whip it into shape. Keep a record of your decisions: well-commented code is a must for recording your data cleaning decision-making progress."
   ]
  },
  {
   "cell_type": "code",
   "execution_count": 1,
   "metadata": {},
   "outputs": [],
   "source": [
    "import numpy as np\n",
    "import pandas as pd\n",
    "import re\n",
    "from difflib import SequenceMatcher"
   ]
  },
  {
   "cell_type": "code",
   "execution_count": 2,
   "metadata": {},
   "outputs": [
    {
     "data": {
      "text/html": [
       "<div>\n",
       "<style scoped>\n",
       "    .dataframe tbody tr th:only-of-type {\n",
       "        vertical-align: middle;\n",
       "    }\n",
       "\n",
       "    .dataframe tbody tr th {\n",
       "        vertical-align: top;\n",
       "    }\n",
       "\n",
       "    .dataframe thead th {\n",
       "        text-align: right;\n",
       "    }\n",
       "</style>\n",
       "<table border=\"1\" class=\"dataframe\">\n",
       "  <thead>\n",
       "    <tr style=\"text-align: right;\">\n",
       "      <th></th>\n",
       "      <th>PMID/PMCID</th>\n",
       "      <th>Publisher</th>\n",
       "      <th>Journal title</th>\n",
       "      <th>Article title</th>\n",
       "      <th>COST (£) charged to Wellcome (inc VAT when charged)</th>\n",
       "    </tr>\n",
       "  </thead>\n",
       "  <tbody>\n",
       "    <tr>\n",
       "      <th>0</th>\n",
       "      <td>NaN</td>\n",
       "      <td>CUP</td>\n",
       "      <td>Psychological Medicine</td>\n",
       "      <td>Reduced parahippocampal cortical thickness in ...</td>\n",
       "      <td>£0.00</td>\n",
       "    </tr>\n",
       "    <tr>\n",
       "      <th>1</th>\n",
       "      <td>PMC3679557</td>\n",
       "      <td>ACS</td>\n",
       "      <td>Biomacromolecules</td>\n",
       "      <td>Structural characterization of a Model Gram-ne...</td>\n",
       "      <td>£2381.04</td>\n",
       "    </tr>\n",
       "    <tr>\n",
       "      <th>2</th>\n",
       "      <td>23043264  PMC3506128</td>\n",
       "      <td>ACS</td>\n",
       "      <td>J Med Chem</td>\n",
       "      <td>Fumaroylamino-4,5-epoxymorphinans and related ...</td>\n",
       "      <td>£642.56</td>\n",
       "    </tr>\n",
       "    <tr>\n",
       "      <th>3</th>\n",
       "      <td>23438330 PMC3646402</td>\n",
       "      <td>ACS</td>\n",
       "      <td>J Med Chem</td>\n",
       "      <td>Orvinols with mixed kappa/mu opioid receptor a...</td>\n",
       "      <td>£669.64</td>\n",
       "    </tr>\n",
       "    <tr>\n",
       "      <th>4</th>\n",
       "      <td>23438216 PMC3601604</td>\n",
       "      <td>ACS</td>\n",
       "      <td>J Org Chem</td>\n",
       "      <td>Regioselective opening of myo-inositol orthoes...</td>\n",
       "      <td>£685.88</td>\n",
       "    </tr>\n",
       "  </tbody>\n",
       "</table>\n",
       "</div>"
      ],
      "text/plain": [
       "              PMID/PMCID Publisher           Journal title  \\\n",
       "0                    NaN       CUP  Psychological Medicine   \n",
       "1             PMC3679557       ACS       Biomacromolecules   \n",
       "2  23043264  PMC3506128        ACS              J Med Chem   \n",
       "3    23438330 PMC3646402       ACS              J Med Chem   \n",
       "4   23438216 PMC3601604        ACS              J Org Chem   \n",
       "\n",
       "                                       Article title  \\\n",
       "0  Reduced parahippocampal cortical thickness in ...   \n",
       "1  Structural characterization of a Model Gram-ne...   \n",
       "2  Fumaroylamino-4,5-epoxymorphinans and related ...   \n",
       "3  Orvinols with mixed kappa/mu opioid receptor a...   \n",
       "4  Regioselective opening of myo-inositol orthoes...   \n",
       "\n",
       "  COST (£) charged to Wellcome (inc VAT when charged)  \n",
       "0                                              £0.00   \n",
       "1                                           £2381.04   \n",
       "2                                            £642.56   \n",
       "3                                            £669.64   \n",
       "4                                            £685.88   "
      ]
     },
     "execution_count": 2,
     "metadata": {},
     "output_type": "execute_result"
    }
   ],
   "source": [
    "df = pd.read_csv(\"wellcome.csv\",encoding='unicode_escape')\n",
    "df.head()"
   ]
  },
  {
   "cell_type": "code",
   "execution_count": 3,
   "metadata": {},
   "outputs": [
    {
     "name": "stdout",
     "output_type": "stream",
     "text": [
      "985\n"
     ]
    }
   ],
   "source": [
    "df = df.rename(columns={'COST (£) charged to Wellcome (inc VAT when charged)':'cost'})\n",
    "\n",
    "\n",
    "# Parse all Journal titles to strings and print number of unique values\n",
    "df[\"Journal title\"] = [str(i) for i in df[\"Journal title\"]]\n",
    "print(len(np.unique(df[\"Journal title\"])))\n",
    "\n",
    "#np.unique(df[\"Journal title\"])"
   ]
  },
  {
   "cell_type": "markdown",
   "metadata": {},
   "source": [
    "Issues noticed:\n",
    "\n",
    "1. Repition with different capitalization\n",
    "2. Repition with different punctuation marks\n",
    "3. Repition based on trailing spaces and \\n chars or chars that end with \\xa0\n",
    "5. Repition based on punctuation translation (ex. and, &)\n",
    "6. Repition based on trailing punctuation marks\n",
    "7. Repition based on abbreviation\n",
    "8. nan value\n"
   ]
  },
  {
   "cell_type": "markdown",
   "metadata": {},
   "source": [
    "The array produced 985 values, lets' write a cleaning script and see how many duplicates were consolidated:"
   ]
  },
  {
   "cell_type": "code",
   "execution_count": 4,
   "metadata": {},
   "outputs": [
    {
     "name": "stdout",
     "output_type": "stream",
     "text": [
      "952\n"
     ]
    }
   ],
   "source": [
    "# Strip values of surrounding whitespace\n",
    "df[\"Journal title\"] = df[\"Journal title\"].apply(lambda string: string.strip())\n",
    "print(len(np.unique(df[\"Journal title\"])))"
   ]
  },
  {
   "cell_type": "code",
   "execution_count": 5,
   "metadata": {},
   "outputs": [
    {
     "name": "stdout",
     "output_type": "stream",
     "text": [
      "948\n"
     ]
    }
   ],
   "source": [
    "# Remove non-alphanumeric, non space characters\n",
    "df[\"Journal title\"] = df[\"Journal title\"].apply(lambda value: re.sub('[^a-zA-Z0-9\\s]','',value))\n",
    "\n",
    "print(len(np.unique(df[\"Journal title\"])))\n"
   ]
  },
  {
   "cell_type": "code",
   "execution_count": 6,
   "metadata": {},
   "outputs": [
    {
     "name": "stdout",
     "output_type": "stream",
     "text": [
      "943\n"
     ]
    }
   ],
   "source": [
    "# Convert J., Jnl abbreviations to Journal, in beginning and end of values\n",
    "df[\"Journal title\"] = df[\"Journal title\"].apply(lambda value: re.sub(' (jn?l?.?) ','Journal',value,flags=re.IGNORECASE))\n",
    "df[\"Journal title\"] = df[\"Journal title\"].apply(lambda value: re.sub('^(jn?l?.?)\\s','Journal ',value,flags=re.IGNORECASE))\n",
    "df[\"Journal title\"] = df[\"Journal title\"].apply(lambda value: re.sub('\\s\\s',' ',value))\n",
    "\n",
    "print(len(np.unique(df[\"Journal title\"])))"
   ]
  },
  {
   "cell_type": "code",
   "execution_count": 7,
   "metadata": {
    "scrolled": true
   },
   "outputs": [
    {
     "name": "stdout",
     "output_type": "stream",
     "text": [
      "886\n"
     ]
    }
   ],
   "source": [
    "# Function to unify capitalization\n",
    "def unify_caps(string):\n",
    "    return \" \".join([i.capitalize() for i in string.split(\" \")])\n",
    "\n",
    "df[\"Journal title\"] = df[\"Journal title\"].apply(unify_caps)\n",
    "\n",
    "print(len(np.unique(df[\"Journal title\"])))\n"
   ]
  },
  {
   "cell_type": "code",
   "execution_count": 8,
   "metadata": {
    "scrolled": true
   },
   "outputs": [
    {
     "name": "stdout",
     "output_type": "stream",
     "text": [
      "886\n"
     ]
    }
   ],
   "source": [
    "# Replace & characters with 'And'\n",
    "df[\"Journal title\"] = df[\"Journal title\"].str.replace(\"&\",\"And\")\n",
    "\n",
    "print(len(np.unique(df[\"Journal title\"])))\n"
   ]
  },
  {
   "cell_type": "code",
   "execution_count": 9,
   "metadata": {},
   "outputs": [
    {
     "name": "stdout",
     "output_type": "stream",
     "text": [
      "879\n"
     ]
    }
   ],
   "source": [
    "# Function to match similar strings with a percentage\n",
    "def similar(a, b): \n",
    "    return SequenceMatcher(None, a, b).ratio()\n",
    "# If strings have over a 95% match, choose the one with least length\n",
    "for i in range(len(df[\"Journal title\"])-1):\n",
    "    if similar(df[\"Journal title\"][i],df[\"Journal title\"][i+1]) > 0.95:\n",
    "        if len(df[\"Journal title\"][i]) < len(df[\"Journal title\"][i+1]):\n",
    "            continue\n",
    "        df[\"Journal title\"][i] = df[\"Journal title\"][i+1]\n",
    "        \n",
    "print(len(np.unique(df[\"Journal title\"])))"
   ]
  },
  {
   "cell_type": "markdown",
   "metadata": {},
   "source": [
    "## 1. Determine the five most common journals and the total articles for each. \n"
   ]
  },
  {
   "cell_type": "code",
   "execution_count": 17,
   "metadata": {},
   "outputs": [
    {
     "data": {
      "text/plain": [
       "Plos One                           0.089798\n",
       "Journal Of Biological Chemistry    0.024918\n",
       "Neuroimage                         0.013634\n",
       "Nucleic Acids Research             0.012224\n",
       "Plos Pathogens                     0.011283\n",
       "Name: Journal title, dtype: float64"
      ]
     },
     "execution_count": 17,
     "metadata": {},
     "output_type": "execute_result"
    }
   ],
   "source": [
    "df['Journal title'].value_counts(normalize=True).head(5)"
   ]
  },
  {
   "cell_type": "code",
   "execution_count": 34,
   "metadata": {},
   "outputs": [
    {
     "name": "stderr",
     "output_type": "stream",
     "text": [
      "C:\\Anaconda3\\lib\\site-packages\\ipykernel_launcher.py:8: SettingWithCopyWarning: \n",
      "A value is trying to be set on a copy of a slice from a DataFrame.\n",
      "Try using .loc[row_indexer,col_indexer] = value instead\n",
      "\n",
      "See the caveats in the documentation: http://pandas.pydata.org/pandas-docs/stable/indexing.html#indexing-view-versus-copy\n",
      "  \n"
     ]
    }
   ],
   "source": [
    "df0 = df[['Journal title', 'cost']]\n",
    "def sbp_2_float(value):\n",
    "    if value.startswith('£'):\n",
    "        return float(value[1:])\n",
    "    else:\n",
    "        return float(value[:-1])\n",
    "\n",
    "df0['cost'] =  df0['cost'].apply(sbp_2_float)\n",
    "mean_df = df0.groupby('Journal title').aggregate(np.mean)"
   ]
  }
 ],
 "metadata": {
  "kernelspec": {
   "display_name": "Python 3",
   "language": "python",
   "name": "python3"
  },
  "language_info": {
   "codemirror_mode": {
    "name": "ipython",
    "version": 3
   },
   "file_extension": ".py",
   "mimetype": "text/x-python",
   "name": "python",
   "nbconvert_exporter": "python",
   "pygments_lexer": "ipython3",
   "version": "3.7.1"
  }
 },
 "nbformat": 4,
 "nbformat_minor": 2
}
