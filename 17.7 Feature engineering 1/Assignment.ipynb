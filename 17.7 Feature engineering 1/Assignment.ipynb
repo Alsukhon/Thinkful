{
 "cells": [
  {
   "cell_type": "markdown",
   "metadata": {},
   "source": [
    "\n",
    "1. Are the exam score variables normally distributed? If not, apply a Box-Cox transformation. Does anything change?\n",
    "2. Say we want to use a single variable for the exam scores as our target. For this purpose, create a new variable by taking a weighted average of the exam scores. Check whether this new variable is normally distributed. If it's not normally distributed, apply a Box-Cox transformation and check whether or not the transformed variable is normally distributed.\n",
    "3. Which variables seem related to the target variable (the newly created variable in the previous question)? If our goal is to explain the determinants of success in exams, which variables in our dataset might be useful?\n"
   ]
  },
  {
   "cell_type": "code",
   "execution_count": 9,
   "metadata": {},
   "outputs": [],
   "source": [
    "import matplotlib.pyplot as plt\n",
    "import seaborn as sns\n",
    "import numpy as np\n",
    "import pandas as pd\n",
    "import seaborn as sns\n",
    "import scipy.stats as stats\n",
    "from scipy.stats.mstats import winsorize\n",
    "from scipy.stats import boxcox\n",
    "from sklearn.preprocessing import normalize\n",
    "\n",
    "from sqlalchemy import create_engine\n",
    "import warnings\n",
    "\n",
    "warnings.filterwarnings('ignore')\n",
    "sns.set(style=\"whitegrid\")\n",
    "\n",
    "postgres_user = 'dsbc_student'\n",
    "postgres_pw = '7*.8G9QH21'\n",
    "postgres_host = '142.93.121.174'\n",
    "postgres_port = '5432'\n",
    "postgres_db = 'studentsperformance'\n",
    "\n",
    "engine2 = create_engine('postgresql://{}:{}@{}:{}/{}'.format(\n",
    "    postgres_user, postgres_pw, postgres_host, postgres_port, postgres_db))\n",
    "\n",
    "data = pd.read_sql_query('select * from studentsperformance',con=engine2)\n",
    "\n",
    "# no need for an open connection, \n",
    "# as we're only doing a single query\n",
    "engine2.dispose()\n"
   ]
  },
  {
   "cell_type": "code",
   "execution_count": 3,
   "metadata": {},
   "outputs": [
    {
     "data": {
      "text/html": [
       "<div>\n",
       "<style scoped>\n",
       "    .dataframe tbody tr th:only-of-type {\n",
       "        vertical-align: middle;\n",
       "    }\n",
       "\n",
       "    .dataframe tbody tr th {\n",
       "        vertical-align: top;\n",
       "    }\n",
       "\n",
       "    .dataframe thead th {\n",
       "        text-align: right;\n",
       "    }\n",
       "</style>\n",
       "<table border=\"1\" class=\"dataframe\">\n",
       "  <thead>\n",
       "    <tr style=\"text-align: right;\">\n",
       "      <th></th>\n",
       "      <th>gender</th>\n",
       "      <th>race/ethnicity</th>\n",
       "      <th>parental level of education</th>\n",
       "      <th>lunch</th>\n",
       "      <th>test preparation course</th>\n",
       "      <th>math score</th>\n",
       "      <th>reading score</th>\n",
       "      <th>writing score</th>\n",
       "    </tr>\n",
       "  </thead>\n",
       "  <tbody>\n",
       "    <tr>\n",
       "      <th>0</th>\n",
       "      <td>female</td>\n",
       "      <td>group B</td>\n",
       "      <td>bachelor's degree</td>\n",
       "      <td>standard</td>\n",
       "      <td>none</td>\n",
       "      <td>72</td>\n",
       "      <td>72</td>\n",
       "      <td>74</td>\n",
       "    </tr>\n",
       "    <tr>\n",
       "      <th>1</th>\n",
       "      <td>female</td>\n",
       "      <td>group C</td>\n",
       "      <td>some college</td>\n",
       "      <td>standard</td>\n",
       "      <td>completed</td>\n",
       "      <td>69</td>\n",
       "      <td>90</td>\n",
       "      <td>88</td>\n",
       "    </tr>\n",
       "    <tr>\n",
       "      <th>2</th>\n",
       "      <td>female</td>\n",
       "      <td>group B</td>\n",
       "      <td>master's degree</td>\n",
       "      <td>standard</td>\n",
       "      <td>none</td>\n",
       "      <td>90</td>\n",
       "      <td>95</td>\n",
       "      <td>93</td>\n",
       "    </tr>\n",
       "    <tr>\n",
       "      <th>3</th>\n",
       "      <td>male</td>\n",
       "      <td>group A</td>\n",
       "      <td>associate's degree</td>\n",
       "      <td>free/reduced</td>\n",
       "      <td>none</td>\n",
       "      <td>47</td>\n",
       "      <td>57</td>\n",
       "      <td>44</td>\n",
       "    </tr>\n",
       "    <tr>\n",
       "      <th>4</th>\n",
       "      <td>male</td>\n",
       "      <td>group C</td>\n",
       "      <td>some college</td>\n",
       "      <td>standard</td>\n",
       "      <td>none</td>\n",
       "      <td>76</td>\n",
       "      <td>78</td>\n",
       "      <td>75</td>\n",
       "    </tr>\n",
       "  </tbody>\n",
       "</table>\n",
       "</div>"
      ],
      "text/plain": [
       "   gender race/ethnicity parental level of education         lunch  \\\n",
       "0  female        group B           bachelor's degree      standard   \n",
       "1  female        group C                some college      standard   \n",
       "2  female        group B             master's degree      standard   \n",
       "3    male        group A          associate's degree  free/reduced   \n",
       "4    male        group C                some college      standard   \n",
       "\n",
       "  test preparation course  math score  reading score  writing score  \n",
       "0                    none          72             72             74  \n",
       "1               completed          69             90             88  \n",
       "2                    none          90             95             93  \n",
       "3                    none          47             57             44  \n",
       "4                    none          76             78             75  "
      ]
     },
     "execution_count": 3,
     "metadata": {},
     "output_type": "execute_result"
    }
   ],
   "source": [
    "data.head()"
   ]
  },
  {
   "cell_type": "markdown",
   "metadata": {},
   "source": [
    "1. Are the exam score variables normally distributed? If not, apply a Box-Cox transformation. Does anything change?"
   ]
  },
  {
   "cell_type": "code",
   "execution_count": 4,
   "metadata": {},
   "outputs": [
    {
     "data": {
      "text/plain": [
       "(array([  2.,   2.,  10.,  26.,  95., 188., 268., 216., 135.,  58.]),\n",
       " array([  0.,  10.,  20.,  30.,  40.,  50.,  60.,  70.,  80.,  90., 100.]),\n",
       " <a list of 10 Patch objects>)"
      ]
     },
     "execution_count": 4,
     "metadata": {},
     "output_type": "execute_result"
    },
    {
     "data": {
      "image/png": "[encoded data removed]",
      "text/plain": [
       "<Figure size 432x288 with 1 Axes>"
      ]
     },
     "metadata": {
      "needs_background": "light"
     },
     "output_type": "display_data"
    }
   ],
   "source": [
    "plt.hist(data['math score'])"
   ]
  },
  {
   "cell_type": "code",
   "execution_count": 5,
   "metadata": {},
   "outputs": [
    {
     "data": {
      "text/plain": [
       "(array([  2.,   6.,  14.,  55., 126., 161., 223., 225., 120.,  68.]),\n",
       " array([ 10.,  19.,  28.,  37.,  46.,  55.,  64.,  73.,  82.,  91., 100.]),\n",
       " <a list of 10 Patch objects>)"
      ]
     },
     "execution_count": 5,
     "metadata": {},
     "output_type": "execute_result"
    },
    {
     "data": {
      "image/png": "[encoded data removed]",
      "text/plain": [
       "<Figure size 432x288 with 1 Axes>"
      ]
     },
     "metadata": {
      "needs_background": "light"
     },
     "output_type": "display_data"
    }
   ],
   "source": [
    "plt.hist(data['writing score'])"
   ]
  },
  {
   "cell_type": "code",
   "execution_count": 6,
   "metadata": {},
   "outputs": [
    {
     "data": {
      "text/plain": [
       "(array([  2.,   6.,  14.,  55., 126., 161., 223., 225., 120.,  68.]),\n",
       " array([ 10.,  19.,  28.,  37.,  46.,  55.,  64.,  73.,  82.,  91., 100.]),\n",
       " <a list of 10 Patch objects>)"
      ]
     },
     "execution_count": 6,
     "metadata": {},
     "output_type": "execute_result"
    },
    {
     "data": {
      "image/png": "[encoded data removed]",
      "text/plain": [
       "<Figure size 432x288 with 1 Axes>"
      ]
     },
     "metadata": {
      "needs_background": "light"
     },
     "output_type": "display_data"
    }
   ],
   "source": [
    "plt.hist(data['writing score'])"
   ]
  },
  {
   "cell_type": "markdown",
   "metadata": {},
   "source": [
    "2. Say we want to use a single variable for the exam scores as our target. For this purpose, create a new variable by taking a weighted average of the exam scores. Check whether this new variable is normally distributed. If it's not normally distributed, apply a Box-Cox transformation and check whether or not the transformed variable is normally distributed."
   ]
  },
  {
   "cell_type": "code",
   "execution_count": 13,
   "metadata": {},
   "outputs": [
    {
     "data": {
      "text/plain": [
       "(array([  2.,   5.,  15.,  55., 126., 168., 239., 223., 107.,  60.]),\n",
       " array([ 35.66666667,  68.76666667, 101.86666667, 134.96666667,\n",
       "        168.06666667, 201.16666667, 234.26666667, 267.36666667,\n",
       "        300.46666667, 333.56666667, 366.66666667]),\n",
       " <a list of 10 Patch objects>)"
      ]
     },
     "execution_count": 13,
     "metadata": {},
     "output_type": "execute_result"
    },
    {
     "data": {
      "image/png": "[encoded data removed]",
      "text/plain": [
       "<Figure size 432x288 with 1 Axes>"
      ]
     },
     "metadata": {},
     "output_type": "display_data"
    }
   ],
   "source": [
    "data['score'] = (data['math score']/3)+(data['reading score']/3)+(data['writing score']*3)\n",
    "plt.hist(data['score'])"
   ]
  },
  {
   "cell_type": "markdown",
   "metadata": {},
   "source": [
    "3. Which variables seem related to the target variable (the newly created variable in the previous question)? If our goal is to explain the determinants of success in exams, which variables in our dataset might be useful?"
   ]
  },
  {
   "cell_type": "code",
   "execution_count": 21,
   "metadata": {},
   "outputs": [],
   "source": [
    "a = data.drop(columns=['math score','reading score','writing score'])\n",
    "for i in a.keys()[:-1]:\n",
    "    a = pd.concat([a, pd.get_dummies(a[i],drop_first=True)], axis=1)"
   ]
  },
  {
   "cell_type": "code",
   "execution_count": 22,
   "metadata": {},
   "outputs": [
    {
     "data": {
      "text/html": [
       "<div>\n",
       "<style scoped>\n",
       "    .dataframe tbody tr th:only-of-type {\n",
       "        vertical-align: middle;\n",
       "    }\n",
       "\n",
       "    .dataframe tbody tr th {\n",
       "        vertical-align: top;\n",
       "    }\n",
       "\n",
       "    .dataframe thead th {\n",
       "        text-align: right;\n",
       "    }\n",
       "</style>\n",
       "<table border=\"1\" class=\"dataframe\">\n",
       "  <thead>\n",
       "    <tr style=\"text-align: right;\">\n",
       "      <th></th>\n",
       "      <th>score</th>\n",
       "      <th>male</th>\n",
       "      <th>group B</th>\n",
       "      <th>group C</th>\n",
       "      <th>group D</th>\n",
       "      <th>group E</th>\n",
       "      <th>bachelor's degree</th>\n",
       "      <th>high school</th>\n",
       "      <th>master's degree</th>\n",
       "      <th>some college</th>\n",
       "      <th>some high school</th>\n",
       "      <th>standard</th>\n",
       "      <th>none</th>\n",
       "    </tr>\n",
       "  </thead>\n",
       "  <tbody>\n",
       "    <tr>\n",
       "      <th>score</th>\n",
       "      <td>1.000000</td>\n",
       "      <td>-0.258599</td>\n",
       "      <td>-0.078775</td>\n",
       "      <td>-0.015639</td>\n",
       "      <td>0.076519</td>\n",
       "      <td>0.103289</td>\n",
       "      <td>0.123469</td>\n",
       "      <td>-0.178115</td>\n",
       "      <td>0.120432</td>\n",
       "      <td>0.027855</td>\n",
       "      <td>-0.095335</td>\n",
       "      <td>0.259015</td>\n",
       "      <td>-0.300301</td>\n",
       "    </tr>\n",
       "    <tr>\n",
       "      <th>male</th>\n",
       "      <td>-0.258599</td>\n",
       "      <td>1.000000</td>\n",
       "      <td>-0.028466</td>\n",
       "      <td>-0.063368</td>\n",
       "      <td>0.030566</td>\n",
       "      <td>0.020302</td>\n",
       "      <td>-0.011638</td>\n",
       "      <td>0.037952</td>\n",
       "      <td>-0.046188</td>\n",
       "      <td>-0.004460</td>\n",
       "      <td>0.008990</td>\n",
       "      <td>0.021372</td>\n",
       "      <td>-0.006028</td>\n",
       "    </tr>\n",
       "    <tr>\n",
       "      <th>group B</th>\n",
       "      <td>-0.078775</td>\n",
       "      <td>-0.028466</td>\n",
       "      <td>1.000000</td>\n",
       "      <td>-0.331479</td>\n",
       "      <td>-0.288574</td>\n",
       "      <td>-0.195411</td>\n",
       "      <td>-0.019121</td>\n",
       "      <td>0.069093</td>\n",
       "      <td>-0.056363</td>\n",
       "      <td>-0.036203</td>\n",
       "      <td>0.026531</td>\n",
       "      <td>-0.008257</td>\n",
       "      <td>0.000106</td>\n",
       "    </tr>\n",
       "    <tr>\n",
       "      <th>group C</th>\n",
       "      <td>-0.015639</td>\n",
       "      <td>-0.063368</td>\n",
       "      <td>-0.331479</td>\n",
       "      <td>1.000000</td>\n",
       "      <td>-0.407797</td>\n",
       "      <td>-0.276145</td>\n",
       "      <td>0.015682</td>\n",
       "      <td>0.007977</td>\n",
       "      <td>0.001630</td>\n",
       "      <td>-0.015872</td>\n",
       "      <td>-0.045339</td>\n",
       "      <td>-0.003385</td>\n",
       "      <td>-0.012522</td>\n",
       "    </tr>\n",
       "    <tr>\n",
       "      <th>group D</th>\n",
       "      <td>0.076519</td>\n",
       "      <td>0.030566</td>\n",
       "      <td>-0.288574</td>\n",
       "      <td>-0.407797</td>\n",
       "      <td>1.000000</td>\n",
       "      <td>-0.240402</td>\n",
       "      <td>-0.020556</td>\n",
       "      <td>-0.042118</td>\n",
       "      <td>0.072793</td>\n",
       "      <td>0.042347</td>\n",
       "      <td>0.018402</td>\n",
       "      <td>-0.009458</td>\n",
       "      <td>0.055956</td>\n",
       "    </tr>\n",
       "    <tr>\n",
       "      <th>group E</th>\n",
       "      <td>0.103289</td>\n",
       "      <td>0.020302</td>\n",
       "      <td>-0.195411</td>\n",
       "      <td>-0.276145</td>\n",
       "      <td>-0.240402</td>\n",
       "      <td>1.000000</td>\n",
       "      <td>0.013221</td>\n",
       "      <td>-0.039494</td>\n",
       "      <td>-0.003180</td>\n",
       "      <td>0.023153</td>\n",
       "      <td>-0.053075</td>\n",
       "      <td>0.052398</td>\n",
       "      <td>-0.059393</td>\n",
       "    </tr>\n",
       "    <tr>\n",
       "      <th>bachelor's degree</th>\n",
       "      <td>0.123469</td>\n",
       "      <td>-0.011638</td>\n",
       "      <td>-0.019121</td>\n",
       "      <td>0.015682</td>\n",
       "      <td>-0.020556</td>\n",
       "      <td>0.013221</td>\n",
       "      <td>1.000000</td>\n",
       "      <td>-0.180595</td>\n",
       "      <td>-0.091588</td>\n",
       "      <td>-0.197647</td>\n",
       "      <td>-0.170790</td>\n",
       "      <td>-0.013668</td>\n",
       "      <td>-0.024285</td>\n",
       "    </tr>\n",
       "    <tr>\n",
       "      <th>high school</th>\n",
       "      <td>-0.178115</td>\n",
       "      <td>0.037952</td>\n",
       "      <td>0.069093</td>\n",
       "      <td>0.007977</td>\n",
       "      <td>-0.042118</td>\n",
       "      <td>-0.039494</td>\n",
       "      <td>-0.180595</td>\n",
       "      <td>1.000000</td>\n",
       "      <td>-0.123632</td>\n",
       "      <td>-0.266799</td>\n",
       "      <td>-0.230545</td>\n",
       "      <td>-0.002211</td>\n",
       "      <td>0.074446</td>\n",
       "    </tr>\n",
       "    <tr>\n",
       "      <th>master's degree</th>\n",
       "      <td>0.120432</td>\n",
       "      <td>-0.046188</td>\n",
       "      <td>-0.056363</td>\n",
       "      <td>0.001630</td>\n",
       "      <td>0.072793</td>\n",
       "      <td>-0.003180</td>\n",
       "      <td>-0.091588</td>\n",
       "      <td>-0.123632</td>\n",
       "      <td>1.000000</td>\n",
       "      <td>-0.135305</td>\n",
       "      <td>-0.116919</td>\n",
       "      <td>-0.027095</td>\n",
       "      <td>0.009933</td>\n",
       "    </tr>\n",
       "    <tr>\n",
       "      <th>some college</th>\n",
       "      <td>0.027855</td>\n",
       "      <td>-0.004460</td>\n",
       "      <td>-0.036203</td>\n",
       "      <td>-0.015872</td>\n",
       "      <td>0.042347</td>\n",
       "      <td>0.023153</td>\n",
       "      <td>-0.197647</td>\n",
       "      <td>-0.266799</td>\n",
       "      <td>-0.135305</td>\n",
       "      <td>1.000000</td>\n",
       "      <td>-0.252312</td>\n",
       "      <td>0.006146</td>\n",
       "      <td>0.019490</td>\n",
       "    </tr>\n",
       "    <tr>\n",
       "      <th>some high school</th>\n",
       "      <td>-0.095335</td>\n",
       "      <td>0.008990</td>\n",
       "      <td>0.026531</td>\n",
       "      <td>-0.045339</td>\n",
       "      <td>0.018402</td>\n",
       "      <td>-0.053075</td>\n",
       "      <td>-0.170790</td>\n",
       "      <td>-0.230545</td>\n",
       "      <td>-0.116919</td>\n",
       "      <td>-0.252312</td>\n",
       "      <td>1.000000</td>\n",
       "      <td>0.013874</td>\n",
       "      <td>-0.070289</td>\n",
       "    </tr>\n",
       "    <tr>\n",
       "      <th>standard</th>\n",
       "      <td>0.259015</td>\n",
       "      <td>0.021372</td>\n",
       "      <td>-0.008257</td>\n",
       "      <td>-0.003385</td>\n",
       "      <td>-0.009458</td>\n",
       "      <td>0.052398</td>\n",
       "      <td>-0.013668</td>\n",
       "      <td>-0.002211</td>\n",
       "      <td>-0.027095</td>\n",
       "      <td>0.006146</td>\n",
       "      <td>0.013874</td>\n",
       "      <td>1.000000</td>\n",
       "      <td>0.017044</td>\n",
       "    </tr>\n",
       "    <tr>\n",
       "      <th>none</th>\n",
       "      <td>-0.300301</td>\n",
       "      <td>-0.006028</td>\n",
       "      <td>0.000106</td>\n",
       "      <td>-0.012522</td>\n",
       "      <td>0.055956</td>\n",
       "      <td>-0.059393</td>\n",
       "      <td>-0.024285</td>\n",
       "      <td>0.074446</td>\n",
       "      <td>0.009933</td>\n",
       "      <td>0.019490</td>\n",
       "      <td>-0.070289</td>\n",
       "      <td>0.017044</td>\n",
       "      <td>1.000000</td>\n",
       "    </tr>\n",
       "  </tbody>\n",
       "</table>\n",
       "</div>"
      ],
      "text/plain": [
       "                      score      male   group B   group C   group D   group E  \\\n",
       "score              1.000000 -0.258599 -0.078775 -0.015639  0.076519  0.103289   \n",
       "male              -0.258599  1.000000 -0.028466 -0.063368  0.030566  0.020302   \n",
       "group B           -0.078775 -0.028466  1.000000 -0.331479 -0.288574 -0.195411   \n",
       "group C           -0.015639 -0.063368 -0.331479  1.000000 -0.407797 -0.276145   \n",
       "group D            0.076519  0.030566 -0.288574 -0.407797  1.000000 -0.240402   \n",
       "group E            0.103289  0.020302 -0.195411 -0.276145 -0.240402  1.000000   \n",
       "bachelor's degree  0.123469 -0.011638 -0.019121  0.015682 -0.020556  0.013221   \n",
       "high school       -0.178115  0.037952  0.069093  0.007977 -0.042118 -0.039494   \n",
       "master's degree    0.120432 -0.046188 -0.056363  0.001630  0.072793 -0.003180   \n",
       "some college       0.027855 -0.004460 -0.036203 -0.015872  0.042347  0.023153   \n",
       "some high school  -0.095335  0.008990  0.026531 -0.045339  0.018402 -0.053075   \n",
       "standard           0.259015  0.021372 -0.008257 -0.003385 -0.009458  0.052398   \n",
       "none              -0.300301 -0.006028  0.000106 -0.012522  0.055956 -0.059393   \n",
       "\n",
       "                   bachelor's degree  high school  master's degree  \\\n",
       "score                       0.123469    -0.178115         0.120432   \n",
       "male                       -0.011638     0.037952        -0.046188   \n",
       "group B                    -0.019121     0.069093        -0.056363   \n",
       "group C                     0.015682     0.007977         0.001630   \n",
       "group D                    -0.020556    -0.042118         0.072793   \n",
       "group E                     0.013221    -0.039494        -0.003180   \n",
       "bachelor's degree           1.000000    -0.180595        -0.091588   \n",
       "high school                -0.180595     1.000000        -0.123632   \n",
       "master's degree            -0.091588    -0.123632         1.000000   \n",
       "some college               -0.197647    -0.266799        -0.135305   \n",
       "some high school           -0.170790    -0.230545        -0.116919   \n",
       "standard                   -0.013668    -0.002211        -0.027095   \n",
       "none                       -0.024285     0.074446         0.009933   \n",
       "\n",
       "                   some college  some high school  standard      none  \n",
       "score                  0.027855         -0.095335  0.259015 -0.300301  \n",
       "male                  -0.004460          0.008990  0.021372 -0.006028  \n",
       "group B               -0.036203          0.026531 -0.008257  0.000106  \n",
       "group C               -0.015872         -0.045339 -0.003385 -0.012522  \n",
       "group D                0.042347          0.018402 -0.009458  0.055956  \n",
       "group E                0.023153         -0.053075  0.052398 -0.059393  \n",
       "bachelor's degree     -0.197647         -0.170790 -0.013668 -0.024285  \n",
       "high school           -0.266799         -0.230545 -0.002211  0.074446  \n",
       "master's degree       -0.135305         -0.116919 -0.027095  0.009933  \n",
       "some college           1.000000         -0.252312  0.006146  0.019490  \n",
       "some high school      -0.252312          1.000000  0.013874 -0.070289  \n",
       "standard               0.006146          0.013874  1.000000  0.017044  \n",
       "none                   0.019490         -0.070289  0.017044  1.000000  "
      ]
     },
     "execution_count": 22,
     "metadata": {},
     "output_type": "execute_result"
    }
   ],
   "source": [
    "a = a.drop(columns=['gender','race/ethnicity','parental level of education', 'lunch','test preparation course'])\n",
    "a.corr()"
   ]
  },
  {
   "cell_type": "markdown",
   "metadata": {},
   "source": [
    "It seems that the highest correlation with the score is test preparation, where no test preparation correlates negatively with the score by 0.3. This is followed by the lunch type, gender, parental level of education, and race, respectively."
   ]
  }
 ],
 "metadata": {
  "kernelspec": {
   "display_name": "Python 3",
   "language": "python",
   "name": "python3"
  },
  "language_info": {
   "codemirror_mode": {
    "name": "ipython",
    "version": 3
   },
   "file_extension": ".py",
   "mimetype": "text/x-python",
   "name": "python",
   "nbconvert_exporter": "python",
   "pygments_lexer": "ipython3",
   "version": "3.7.1"
  }
 },
 "nbformat": 4,
 "nbformat_minor": 2
}
