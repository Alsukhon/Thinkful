{
 "cells": [
  {
   "cell_type": "markdown",
   "metadata": {
    "colab_type": "text",
    "id": "Benv8bdWKNg7"
   },
   "source": [
    "## Assignment\n",
    "\n",
    "You will see the benefits of transforming continuous variables into categorical variables when we begin to model the data. For now, let's continue to practice identifying variable types. \n",
    "\n",
    "To complete this assignment, submit a Gist file or enter your answers directly below to the following questions:"
   ]
  },
  {
   "cell_type": "markdown",
   "metadata": {},
   "source": [
    "### 1. Consider the advantages and disadvantages of treating the *Rank* variable as categorical. Discuss your arguments with your mentor.\n",
    "\n",
    "Advantages of treating the Rank variable as categorical are that we can turn our analysis to become a classification problem if we are familiar with classification algorithms. Treating it as categorical also preserves the values as finite (integers specifically) since ranking does not include decimals.\n",
    "\n",
    "Disadvantages, especially in statistical classification, are that these values will be considered too unique to contribute to affecting a target -or *predicted*- variable, which is true about their nature as ranks.\n"
   ]
  },
  {
   "cell_type": "markdown",
   "metadata": {},
   "source": [
    "### 2. What are the types of the following variables?\n",
    "* Age:\n",
    "\n",
    "As of the usage of age between people, it is considered categorical. But true age is continuous.\n",
    "\n",
    "* Salary\n",
    "\n",
    "Salary is a continuous, ratio variable.\n",
    "\n",
    "* Revenue\n",
    "\n",
    "Revenue is a continuous, ratio variable.\n",
    "\n",
    "* Customer type\n",
    "\n",
    "Customer type is categorical. Can be nominal if indicated different segments (basketball membership, swimming membership) or ordinal if indicates customer level (basic customer, VIP customer).\n",
    "\n",
    "* Stock price\n",
    "\n",
    "Stock prices are always continuous, ratio variables.\n"
   ]
  },
  {
   "cell_type": "code",
   "execution_count": null,
   "metadata": {},
   "outputs": [],
   "source": []
  }
 ],
 "metadata": {
  "colab": {
   "name": "2.data_cleaning_part1_variable_types.ipynb",
   "provenance": [],
   "version": "0.3.2"
  },
  "kernelspec": {
   "display_name": "Python 3",
   "language": "python",
   "name": "python3"
  },
  "language_info": {
   "codemirror_mode": {
    "name": "ipython",
    "version": 3
   },
   "file_extension": ".py",
   "mimetype": "text/x-python",
   "name": "python",
   "nbconvert_exporter": "python",
   "pygments_lexer": "ipython3",
   "version": "3.7.3"
  }
 },
 "nbformat": 4,
 "nbformat_minor": 1
}
