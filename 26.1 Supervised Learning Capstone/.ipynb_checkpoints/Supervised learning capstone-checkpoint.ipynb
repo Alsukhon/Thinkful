{
 "cells": [
  {
   "cell_type": "markdown",
   "metadata": {},
   "source": [
    "# Kickstarter Projects\n",
    "\n",
    "Kickstarter has been a hub for crowdfunding since 2009 and has launched numerous projects globally. Aside from working to bring ideas to life, entrepreneurs wonder how likely their projects are to succeed or fail, even on an individual platform like Kickstarter.\n",
    "\n",
    "The document describes an approach to building a tool that an entrepreneur can use to identify chances of success or failure for their Kickstarter project. A tool in the general sense can take in any features that relate to the project, but as far as Kickstarter is concerned, there are a few features that were collected from their website, whether through scarping pages or an API.\n",
    "\n",
    "It is known that a business idea is not necessarily measured by the features mentioned here, but as long as any Kickstarter project is launched, it should have values for these features that, if used, will help an entrepreneur calibrate their efforts to align with those of project that have already proven their success.\n",
    "\n",
    "As we go, we will talk about the dataset that we have and methods in which we clean the data, engineer features, and select prediction models. \n",
    "\n",
    "Let's begin by our usual import statements and document-wise preferences:"
   ]
  },
  {
   "cell_type": "code",
   "execution_count": 1,
   "metadata": {},
   "outputs": [],
   "source": [
    "## Import statements\n",
    "from currency_converter import CurrencyConverter\n",
    "from collections import Counter\n",
    "from datetime import date\n",
    "from imblearn.over_sampling import SMOTE\n",
    "import matplotlib.pyplot as plt\n",
    "import numpy as np\n",
    "import pandas as pd\n",
    "import random\n",
    "from scipy.stats.mstats import winsorize\n",
    "from scipy.stats import boxcox\n",
    "import seaborn as sns\n",
    "from sklearn.model_selection import GridSearchCV, train_test_split, cross_val_score\n",
    "from sklearn.linear_model import LinearRegression \n",
    "from sklearn.ensemble import RandomForestClassifier\n",
    "from sklearn.svm import LinearSVC\n",
    "from sklearn.tree import DecisionTreeClassifier\n",
    "from sklearn.neighbors import KNeighborsClassifier\n",
    "from IPython.display import Markdown, display\n",
    "import warnings\n",
    "\n",
    "# Doc-wise Display preferences.\n",
    "warnings.filterwarnings('ignore') # Don't show warnings\n",
    "%matplotlib inline\n",
    "pd.options.display.float_format = '{:.3f}'.format\n",
    "def printmd(string):\n",
    "    \"prints text in bold\"\n",
    "    display(Markdown(string))"
   ]
  },
  {
   "cell_type": "markdown",
   "metadata": {},
   "source": [
    "## Important Analytical Questions\n",
    "\n",
    "To get a feel of what this project intends to produce, we will ask three analytical questions that should fixate our efforts and reveal what the reader can expect to find after reading and walking through our project:\n",
    "\n",
    "#### 1. What features, within the provided dataset, are most determinant of a project's success or failure?\n",
    "#### 2. Which prediction models - or *algorithms*- perform best in terms of speed, accuracy, and explainability combined?\n",
    "#### 3. How good is our trained model in predicting future projects (2018 vs. 2016) ?\n",
    "\n",
    "The first question will be answered once we are done with the feature engineering phase, where we derive, transform and select features from the variables -or *columns*- we have in this dataset. \n",
    "\n",
    "The latter two questions will be answered in the last phase, where we select and test our prediction models on both the 2016 and the 2018 datasets."
   ]
  },
  {
   "cell_type": "markdown",
   "metadata": {},
   "source": [
    "## Data files\n",
    "\n",
    "We have two data files, **2016.csv** and **2018.csv**. We will be using the 2016 data to train our prediction model, and the 2018 data to test for prediction.\n",
    "\n",
    "Let's start by importing the data:"
   ]
  },
  {
   "cell_type": "code",
   "execution_count": 2,
   "metadata": {},
   "outputs": [],
   "source": [
    "# Import the data\n",
    "data_2016 = pd.read_csv('2016.csv', encoding='Windows-1252')\n",
    "data_2018 = pd.read_csv('2018.csv')"
   ]
  },
  {
   "cell_type": "markdown",
   "metadata": {},
   "source": [
    "Now that we have imported the data, the first step is to explore the data we have and clean as we proceed."
   ]
  },
  {
   "cell_type": "markdown",
   "metadata": {},
   "source": [
    "## Exploratory Data Analysis"
   ]
  },
  {
   "cell_type": "markdown",
   "metadata": {},
   "source": [
    "### Data Cleaning"
   ]
  },
  {
   "cell_type": "markdown",
   "metadata": {},
   "source": [
    "How does our raw data file look like when imported?"
   ]
  },
  {
   "cell_type": "code",
   "execution_count": 3,
   "metadata": {},
   "outputs": [
    {
     "data": {
      "text/html": [
       "<div>\n",
       "<style scoped>\n",
       "    .dataframe tbody tr th:only-of-type {\n",
       "        vertical-align: middle;\n",
       "    }\n",
       "\n",
       "    .dataframe tbody tr th {\n",
       "        vertical-align: top;\n",
       "    }\n",
       "\n",
       "    .dataframe thead th {\n",
       "        text-align: right;\n",
       "    }\n",
       "</style>\n",
       "<table border=\"1\" class=\"dataframe\">\n",
       "  <thead>\n",
       "    <tr style=\"text-align: right;\">\n",
       "      <th></th>\n",
       "      <th>ID</th>\n",
       "      <th>name</th>\n",
       "      <th>category</th>\n",
       "      <th>main_category</th>\n",
       "      <th>currency</th>\n",
       "      <th>deadline</th>\n",
       "      <th>goal</th>\n",
       "      <th>launched</th>\n",
       "      <th>pledged</th>\n",
       "      <th>state</th>\n",
       "      <th>backers</th>\n",
       "      <th>country</th>\n",
       "      <th>usd pledged</th>\n",
       "      <th>Unnamed: 13</th>\n",
       "      <th>Unnamed: 14</th>\n",
       "      <th>Unnamed: 15</th>\n",
       "      <th>Unnamed: 16</th>\n",
       "    </tr>\n",
       "  </thead>\n",
       "  <tbody>\n",
       "    <tr>\n",
       "      <th>0</th>\n",
       "      <td>1000002330</td>\n",
       "      <td>The Songs of Adelaide &amp; Abullah</td>\n",
       "      <td>Poetry</td>\n",
       "      <td>Publishing</td>\n",
       "      <td>GBP</td>\n",
       "      <td>2015-10-09 11:36:00</td>\n",
       "      <td>1000</td>\n",
       "      <td>2015-08-11 12:12:28</td>\n",
       "      <td>0</td>\n",
       "      <td>failed</td>\n",
       "      <td>0</td>\n",
       "      <td>GB</td>\n",
       "      <td>0</td>\n",
       "      <td>NaN</td>\n",
       "      <td>NaN</td>\n",
       "      <td>NaN</td>\n",
       "      <td>nan</td>\n",
       "    </tr>\n",
       "    <tr>\n",
       "      <th>1</th>\n",
       "      <td>1000004038</td>\n",
       "      <td>Where is Hank?</td>\n",
       "      <td>Narrative Film</td>\n",
       "      <td>Film &amp; Video</td>\n",
       "      <td>USD</td>\n",
       "      <td>2013-02-26 00:20:50</td>\n",
       "      <td>45000</td>\n",
       "      <td>2013-01-12 00:20:50</td>\n",
       "      <td>220</td>\n",
       "      <td>failed</td>\n",
       "      <td>3</td>\n",
       "      <td>US</td>\n",
       "      <td>220</td>\n",
       "      <td>NaN</td>\n",
       "      <td>NaN</td>\n",
       "      <td>NaN</td>\n",
       "      <td>nan</td>\n",
       "    </tr>\n",
       "    <tr>\n",
       "      <th>2</th>\n",
       "      <td>1000007540</td>\n",
       "      <td>ToshiCapital Rekordz Needs Help to Complete Album</td>\n",
       "      <td>Music</td>\n",
       "      <td>Music</td>\n",
       "      <td>USD</td>\n",
       "      <td>2012-04-16 04:24:11</td>\n",
       "      <td>5000</td>\n",
       "      <td>2012-03-17 03:24:11</td>\n",
       "      <td>1</td>\n",
       "      <td>failed</td>\n",
       "      <td>1</td>\n",
       "      <td>US</td>\n",
       "      <td>1</td>\n",
       "      <td>NaN</td>\n",
       "      <td>NaN</td>\n",
       "      <td>NaN</td>\n",
       "      <td>nan</td>\n",
       "    </tr>\n",
       "    <tr>\n",
       "      <th>3</th>\n",
       "      <td>1000011046</td>\n",
       "      <td>Community Film Project: The Art of Neighborhoo...</td>\n",
       "      <td>Film &amp; Video</td>\n",
       "      <td>Film &amp; Video</td>\n",
       "      <td>USD</td>\n",
       "      <td>2015-08-29 01:00:00</td>\n",
       "      <td>19500</td>\n",
       "      <td>2015-07-04 08:35:03</td>\n",
       "      <td>1283</td>\n",
       "      <td>canceled</td>\n",
       "      <td>14</td>\n",
       "      <td>US</td>\n",
       "      <td>1283</td>\n",
       "      <td>NaN</td>\n",
       "      <td>NaN</td>\n",
       "      <td>NaN</td>\n",
       "      <td>nan</td>\n",
       "    </tr>\n",
       "    <tr>\n",
       "      <th>4</th>\n",
       "      <td>1000014025</td>\n",
       "      <td>Monarch Espresso Bar</td>\n",
       "      <td>Restaurants</td>\n",
       "      <td>Food</td>\n",
       "      <td>USD</td>\n",
       "      <td>2016-04-01 13:38:27</td>\n",
       "      <td>50000</td>\n",
       "      <td>2016-02-26 13:38:27</td>\n",
       "      <td>52375</td>\n",
       "      <td>successful</td>\n",
       "      <td>224</td>\n",
       "      <td>US</td>\n",
       "      <td>52375</td>\n",
       "      <td>NaN</td>\n",
       "      <td>NaN</td>\n",
       "      <td>NaN</td>\n",
       "      <td>nan</td>\n",
       "    </tr>\n",
       "  </tbody>\n",
       "</table>\n",
       "</div>"
      ],
      "text/plain": [
       "          ID                                               name   \\\n",
       "0  1000002330                    The Songs of Adelaide & Abullah   \n",
       "1  1000004038                                     Where is Hank?   \n",
       "2  1000007540  ToshiCapital Rekordz Needs Help to Complete Album   \n",
       "3  1000011046  Community Film Project: The Art of Neighborhoo...   \n",
       "4  1000014025                               Monarch Espresso Bar   \n",
       "\n",
       "        category  main_category  currency             deadline   goal   \\\n",
       "0          Poetry     Publishing       GBP  2015-10-09 11:36:00   1000   \n",
       "1  Narrative Film   Film & Video       USD  2013-02-26 00:20:50  45000   \n",
       "2           Music          Music       USD  2012-04-16 04:24:11   5000   \n",
       "3    Film & Video   Film & Video       USD  2015-08-29 01:00:00  19500   \n",
       "4     Restaurants           Food       USD  2016-04-01 13:38:27  50000   \n",
       "\n",
       "             launched  pledged       state  backers  country  usd pledged   \\\n",
       "0  2015-08-11 12:12:28        0      failed        0       GB            0   \n",
       "1  2013-01-12 00:20:50      220      failed        3       US          220   \n",
       "2  2012-03-17 03:24:11        1      failed        1       US            1   \n",
       "3  2015-07-04 08:35:03     1283    canceled       14       US         1283   \n",
       "4  2016-02-26 13:38:27    52375  successful      224       US        52375   \n",
       "\n",
       "  Unnamed: 13 Unnamed: 14 Unnamed: 15  Unnamed: 16  \n",
       "0         NaN         NaN         NaN          nan  \n",
       "1         NaN         NaN         NaN          nan  \n",
       "2         NaN         NaN         NaN          nan  \n",
       "3         NaN         NaN         NaN          nan  \n",
       "4         NaN         NaN         NaN          nan  "
      ]
     },
     "execution_count": 3,
     "metadata": {},
     "output_type": "execute_result"
    }
   ],
   "source": [
    "data_2016.head()"
   ]
  },
  {
   "cell_type": "markdown",
   "metadata": {},
   "source": [
    "We have 4 columns with no names and seemingly no values. Our first task is to find out what brought them to our dataset.\n",
    "\n",
    "We have:\n",
    "\n",
    "    - Two strata of categories.\n",
    "    - A currency column.\n",
    "    - Two columns describing launch and deadline dates.\n",
    "    - Goal amount column and amount pledged column, another column describing pledged amount in USD.\n",
    "    - Number of backers column.\n",
    "    - A country column.\n",
    "    - Our prediction target column, describing the state of the Kickstarter project.\n",
    "\n",
    "Back to our 4 unnamed columns, we will rename them to a, b, c, and d for ease of reference:"
   ]
  },
  {
   "cell_type": "code",
   "execution_count": 4,
   "metadata": {},
   "outputs": [
    {
     "data": {
      "text/markdown": [
       "a:\n"
      ],
      "text/plain": [
       "<IPython.core.display.Markdown object>"
      ]
     },
     "metadata": {},
     "output_type": "display_data"
    },
    {
     "name": "stdout",
     "output_type": "stream",
     "text": [
      "['0' '1010' '103' '11044' '11719' '12306' '125' '126.9669968' '1320'\n",
      " '13446.90533288' '13675' '14309.36' '1495' '16' '178' '18' '1800.5'\n",
      " '1847.3965377' '20' '2000' '2006.0578219' '2161' '23924' '2630'\n",
      " '3.39594898' '3035' '312' '331' '3363' '352' '3671' '3711' '3984' '4451'\n",
      " '4488.01' '450' '4690' '4986.41798748' '5' '504.94765278' '525' '5600.65'\n",
      " '566.57479307' '590' '630' '65' '687' '8542' '8609.6' '950' 'US' 'nan']\n"
     ]
    },
    {
     "data": {
      "text/markdown": [
       "b:\n"
      ],
      "text/plain": [
       "<IPython.core.display.Markdown object>"
      ]
     },
     "metadata": {},
     "output_type": "display_data"
    },
    {
     "name": "stdout",
     "output_type": "stream",
     "text": [
      "['0.0' '20.0' 'nan']\n"
     ]
    },
    {
     "data": {
      "text/markdown": [
       "c:\n"
      ],
      "text/plain": [
       "<IPython.core.display.Markdown object>"
      ]
     },
     "metadata": {},
     "output_type": "display_data"
    },
    {
     "name": "stdout",
     "output_type": "stream",
     "text": [
      "['nan']\n"
     ]
    },
    {
     "data": {
      "text/markdown": [
       "d:\n"
      ],
      "text/plain": [
       "<IPython.core.display.Markdown object>"
      ]
     },
     "metadata": {},
     "output_type": "display_data"
    },
    {
     "name": "stdout",
     "output_type": "stream",
     "text": [
      "['nan']\n"
     ]
    }
   ],
   "source": [
    "# Rename unnamed columns\n",
    "data_2016.rename(columns={'Unnamed: 13':'a','Unnamed: 14':'b','Unnamed: 15':'c','Unnamed: 16':'d'},inplace=True)\n",
    "\n",
    "# Display unique values in each previously unnamed column\n",
    "for i in ['a','b','c','d']:\n",
    "    printmd (i+':\\n')\n",
    "    print (np.unique(data_2016[i][:25090].astype(str)))"
   ]
  },
  {
   "cell_type": "markdown",
   "metadata": {},
   "source": [
    "Looking at their values and the portion of data displayed above, the additional unknown columns seem to represent rows where values have been misplaced. since we have a considerable number of misplaced rows that can help us in subsequent phases of this project, let's look at these rows and see if they can be put back in place:"
   ]
  },
  {
   "cell_type": "code",
   "execution_count": 5,
   "metadata": {
    "scrolled": false
   },
   "outputs": [
    {
     "name": "stdout",
     "output_type": "stream",
     "text": [
      "Index(['ID ', 'name ', 'category ', 'main_category ', 'currency ', 'deadline ',\n",
      "       'goal ', 'launched ', 'pledged ', 'state ', 'backers ', 'country ',\n",
      "       'usd pledged ', 'a', 'b', 'c', 'd'],\n",
      "      dtype='object')\n"
     ]
    },
    {
     "data": {
      "text/html": [
       "<div>\n",
       "<style scoped>\n",
       "    .dataframe tbody tr th:only-of-type {\n",
       "        vertical-align: middle;\n",
       "    }\n",
       "\n",
       "    .dataframe tbody tr th {\n",
       "        vertical-align: top;\n",
       "    }\n",
       "\n",
       "    .dataframe thead th {\n",
       "        text-align: right;\n",
       "    }\n",
       "</style>\n",
       "<table border=\"1\" class=\"dataframe\">\n",
       "  <thead>\n",
       "    <tr style=\"text-align: right;\">\n",
       "      <th></th>\n",
       "      <th>ID</th>\n",
       "      <th>name</th>\n",
       "      <th>category</th>\n",
       "      <th>main_category</th>\n",
       "      <th>currency</th>\n",
       "      <th>deadline</th>\n",
       "      <th>goal</th>\n",
       "      <th>launched</th>\n",
       "      <th>pledged</th>\n",
       "      <th>state</th>\n",
       "      <th>backers</th>\n",
       "      <th>country</th>\n",
       "      <th>usd pledged</th>\n",
       "      <th>a</th>\n",
       "      <th>b</th>\n",
       "      <th>c</th>\n",
       "      <th>d</th>\n",
       "    </tr>\n",
       "  </thead>\n",
       "  <tbody>\n",
       "    <tr>\n",
       "      <th>1454</th>\n",
       "      <td>1008705746</td>\n",
       "      <td>Zephyra´s new full length</td>\n",
       "      <td>'As The World Collapses'</td>\n",
       "      <td>Metal</td>\n",
       "      <td>Music</td>\n",
       "      <td>SEK</td>\n",
       "      <td>2016-02-02 00:56:46</td>\n",
       "      <td>15000</td>\n",
       "      <td>2016-01-03 00:56:46</td>\n",
       "      <td>4262</td>\n",
       "      <td>failed</td>\n",
       "      <td>14</td>\n",
       "      <td>SE</td>\n",
       "      <td>504.94765278</td>\n",
       "      <td>NaN</td>\n",
       "      <td>NaN</td>\n",
       "      <td>nan</td>\n",
       "    </tr>\n",
       "    <tr>\n",
       "      <th>1563</th>\n",
       "      <td>1009317190</td>\n",
       "      <td>French Cuisine</td>\n",
       "      <td>A Traditional Experience</td>\n",
       "      <td>Cookbooks</td>\n",
       "      <td>Food</td>\n",
       "      <td>USD</td>\n",
       "      <td>2014-09-08 00:46:23</td>\n",
       "      <td>13730</td>\n",
       "      <td>2014-08-09 03:16:02</td>\n",
       "      <td>3984</td>\n",
       "      <td>failed</td>\n",
       "      <td>46</td>\n",
       "      <td>US</td>\n",
       "      <td>3984</td>\n",
       "      <td>NaN</td>\n",
       "      <td>NaN</td>\n",
       "      <td>nan</td>\n",
       "    </tr>\n",
       "    <tr>\n",
       "      <th>1794</th>\n",
       "      <td>1010871699</td>\n",
       "      <td>The Beginners Guide to being Unsuicidal</td>\n",
       "      <td>the one act</td>\n",
       "      <td>Theater</td>\n",
       "      <td>Theater</td>\n",
       "      <td>USD</td>\n",
       "      <td>2011-12-31 23:25:46</td>\n",
       "      <td>5000</td>\n",
       "      <td>2011-11-21 23:25:46</td>\n",
       "      <td>525</td>\n",
       "      <td>failed</td>\n",
       "      <td>10</td>\n",
       "      <td>US</td>\n",
       "      <td>525</td>\n",
       "      <td>NaN</td>\n",
       "      <td>NaN</td>\n",
       "      <td>nan</td>\n",
       "    </tr>\n",
       "  </tbody>\n",
       "</table>\n",
       "</div>"
      ],
      "text/plain": [
       "             ID                                     name   \\\n",
       "1454  1008705746                Zephyra´s new full length   \n",
       "1563  1009317190                           French Cuisine   \n",
       "1794  1010871699  The Beginners Guide to being Unsuicidal   \n",
       "\n",
       "                      category  main_category  currency  deadline   \\\n",
       "1454   'As The World Collapses'          Metal     Music       SEK   \n",
       "1563   A Traditional Experience      Cookbooks      Food       USD   \n",
       "1794                the one act        Theater   Theater       USD   \n",
       "\n",
       "                    goal  launched              pledged  state  backers   \\\n",
       "1454  2016-02-02 00:56:46     15000  2016-01-03 00:56:46   4262   failed   \n",
       "1563  2014-09-08 00:46:23     13730  2014-08-09 03:16:02   3984   failed   \n",
       "1794  2011-12-31 23:25:46      5000  2011-11-21 23:25:46    525   failed   \n",
       "\n",
       "     country  usd pledged              a    b    c   d  \n",
       "1454       14           SE  504.94765278  NaN  NaN nan  \n",
       "1563       46           US          3984  NaN  NaN nan  \n",
       "1794       10           US           525  NaN  NaN nan  "
      ]
     },
     "execution_count": 5,
     "metadata": {},
     "output_type": "execute_result"
    }
   ],
   "source": [
    "# Print column names\n",
    "print (data_2016.columns)\n",
    "\n",
    "# Show the part of dataframe where column a has no empty values\n",
    "data_2016[~data_2016['a'].isnull()].head(3)\n"
   ]
  },
  {
   "cell_type": "markdown",
   "metadata": {},
   "source": [
    "The first thing we notice is that all original column names have trailing whitespaces, which will be removed. The problem seems to be that some projects have secondary titles, which were carried over to the *category* column, causing a rightward shift in subsequent values for each observation.\n",
    "\n",
    "We have 625 rows of misplaced data. The good thing is that the data is uniformly misplaced, meaning we can correct all of them in one block of code. Rows that have shifted further with values in columns b, c, or d, will be removed:"
   ]
  },
  {
   "cell_type": "code",
   "execution_count": 6,
   "metadata": {},
   "outputs": [],
   "source": [
    "# Remove whitespace from column names\n",
    "data_2016.columns = data_2016.columns.str.strip()\n",
    "\n",
    "# Put misplaced rows back in place\n",
    "for index in data_2016[~data_2016['a'].isnull()].index:\n",
    "    \n",
    "    # Add secondary title to value in name column\n",
    "    data_2016.at[index, 'name'] = str(data_2016.at[index, 'name']) + str(data_2016.at[index, 'category'])\n",
    "    \n",
    "    # Shift values in subsequent columns to the left\n",
    "    for i in range(1,14):\n",
    "        if i == 13:\n",
    "            break\n",
    "        data_2016.at[index, data_2016.columns[i]] = data_2016.at[index, data_2016.columns[i+1]]"
   ]
  },
  {
   "cell_type": "markdown",
   "metadata": {},
   "source": [
    "Let's take a look at what we have left:"
   ]
  },
  {
   "cell_type": "code",
   "execution_count": 7,
   "metadata": {
    "scrolled": true
   },
   "outputs": [
    {
     "data": {
      "text/html": [
       "<div>\n",
       "<style scoped>\n",
       "    .dataframe tbody tr th:only-of-type {\n",
       "        vertical-align: middle;\n",
       "    }\n",
       "\n",
       "    .dataframe tbody tr th {\n",
       "        vertical-align: top;\n",
       "    }\n",
       "\n",
       "    .dataframe thead th {\n",
       "        text-align: right;\n",
       "    }\n",
       "</style>\n",
       "<table border=\"1\" class=\"dataframe\">\n",
       "  <thead>\n",
       "    <tr style=\"text-align: right;\">\n",
       "      <th></th>\n",
       "      <th>ID</th>\n",
       "      <th>name</th>\n",
       "      <th>category</th>\n",
       "      <th>main_category</th>\n",
       "      <th>currency</th>\n",
       "      <th>deadline</th>\n",
       "      <th>goal</th>\n",
       "      <th>launched</th>\n",
       "      <th>pledged</th>\n",
       "      <th>state</th>\n",
       "      <th>backers</th>\n",
       "      <th>country</th>\n",
       "      <th>usd pledged</th>\n",
       "      <th>a</th>\n",
       "      <th>b</th>\n",
       "      <th>c</th>\n",
       "      <th>d</th>\n",
       "    </tr>\n",
       "  </thead>\n",
       "  <tbody>\n",
       "    <tr>\n",
       "      <th>1454</th>\n",
       "      <td>1008705746</td>\n",
       "      <td>'As The World Collapses'</td>\n",
       "      <td>Metal</td>\n",
       "      <td>Music</td>\n",
       "      <td>SEK</td>\n",
       "      <td>2016-02-02 00:56:46</td>\n",
       "      <td>15000</td>\n",
       "      <td>2016-01-03 00:56:46</td>\n",
       "      <td>4262</td>\n",
       "      <td>failed</td>\n",
       "      <td>14</td>\n",
       "      <td>SE</td>\n",
       "      <td>504.94765278</td>\n",
       "      <td>504.94765278</td>\n",
       "      <td>NaN</td>\n",
       "      <td>NaN</td>\n",
       "      <td>nan</td>\n",
       "    </tr>\n",
       "    <tr>\n",
       "      <th>1563</th>\n",
       "      <td>1009317190</td>\n",
       "      <td>A Traditional Experience</td>\n",
       "      <td>Cookbooks</td>\n",
       "      <td>Food</td>\n",
       "      <td>USD</td>\n",
       "      <td>2014-09-08 00:46:23</td>\n",
       "      <td>13730</td>\n",
       "      <td>2014-08-09 03:16:02</td>\n",
       "      <td>3984</td>\n",
       "      <td>failed</td>\n",
       "      <td>46</td>\n",
       "      <td>US</td>\n",
       "      <td>3984</td>\n",
       "      <td>3984</td>\n",
       "      <td>NaN</td>\n",
       "      <td>NaN</td>\n",
       "      <td>nan</td>\n",
       "    </tr>\n",
       "    <tr>\n",
       "      <th>1794</th>\n",
       "      <td>1010871699</td>\n",
       "      <td>the one act</td>\n",
       "      <td>Theater</td>\n",
       "      <td>Theater</td>\n",
       "      <td>USD</td>\n",
       "      <td>2011-12-31 23:25:46</td>\n",
       "      <td>5000</td>\n",
       "      <td>2011-11-21 23:25:46</td>\n",
       "      <td>525</td>\n",
       "      <td>failed</td>\n",
       "      <td>10</td>\n",
       "      <td>US</td>\n",
       "      <td>525</td>\n",
       "      <td>525</td>\n",
       "      <td>NaN</td>\n",
       "      <td>NaN</td>\n",
       "      <td>nan</td>\n",
       "    </tr>\n",
       "    <tr>\n",
       "      <th>1931</th>\n",
       "      <td>1011687764</td>\n",
       "      <td>Ever / No More Spam</td>\n",
       "      <td>Web</td>\n",
       "      <td>Technology</td>\n",
       "      <td>USD</td>\n",
       "      <td>2014-09-20 19:56:10</td>\n",
       "      <td>6300</td>\n",
       "      <td>2014-08-21 19:56:10</td>\n",
       "      <td>0</td>\n",
       "      <td>failed</td>\n",
       "      <td>0</td>\n",
       "      <td>US</td>\n",
       "      <td>0</td>\n",
       "      <td>0</td>\n",
       "      <td>NaN</td>\n",
       "      <td>NaN</td>\n",
       "      <td>nan</td>\n",
       "    </tr>\n",
       "    <tr>\n",
       "      <th>2420</th>\n",
       "      <td>101453314</td>\n",
       "      <td>A Short Film from Adam S Curtis</td>\n",
       "      <td>Shorts</td>\n",
       "      <td>Film &amp; Video</td>\n",
       "      <td>USD</td>\n",
       "      <td>2013-03-14 20:11:57</td>\n",
       "      <td>3000</td>\n",
       "      <td>2013-02-25 21:11:57</td>\n",
       "      <td>3035</td>\n",
       "      <td>successful</td>\n",
       "      <td>42</td>\n",
       "      <td>US</td>\n",
       "      <td>3035</td>\n",
       "      <td>3035</td>\n",
       "      <td>NaN</td>\n",
       "      <td>NaN</td>\n",
       "      <td>nan</td>\n",
       "    </tr>\n",
       "  </tbody>\n",
       "</table>\n",
       "</div>"
      ],
      "text/plain": [
       "              ID                              name   category main_category  \\\n",
       "1454  1008705746          'As The World Collapses'      Metal         Music   \n",
       "1563  1009317190          A Traditional Experience  Cookbooks          Food   \n",
       "1794  1010871699                       the one act    Theater       Theater   \n",
       "1931  1011687764               Ever / No More Spam        Web    Technology   \n",
       "2420   101453314   A Short Film from Adam S Curtis     Shorts  Film & Video   \n",
       "\n",
       "     currency             deadline   goal             launched pledged  \\\n",
       "1454      SEK  2016-02-02 00:56:46  15000  2016-01-03 00:56:46    4262   \n",
       "1563      USD  2014-09-08 00:46:23  13730  2014-08-09 03:16:02    3984   \n",
       "1794      USD  2011-12-31 23:25:46   5000  2011-11-21 23:25:46     525   \n",
       "1931      USD  2014-09-20 19:56:10   6300  2014-08-21 19:56:10       0   \n",
       "2420      USD  2013-03-14 20:11:57   3000  2013-02-25 21:11:57    3035   \n",
       "\n",
       "           state backers country   usd pledged             a    b    c   d  \n",
       "1454      failed      14      SE  504.94765278  504.94765278  NaN  NaN nan  \n",
       "1563      failed      46      US          3984          3984  NaN  NaN nan  \n",
       "1794      failed      10      US           525           525  NaN  NaN nan  \n",
       "1931      failed       0      US             0             0  NaN  NaN nan  \n",
       "2420  successful      42      US          3035          3035  NaN  NaN nan  "
      ]
     },
     "execution_count": 7,
     "metadata": {},
     "output_type": "execute_result"
    }
   ],
   "source": [
    "data_2016[~data_2016['a'].isnull()].head()"
   ]
  },
  {
   "cell_type": "markdown",
   "metadata": {},
   "source": [
    "Good! Row values are back in place and we are ready to proceed."
   ]
  },
  {
   "cell_type": "code",
   "execution_count": 8,
   "metadata": {},
   "outputs": [
    {
     "data": {
      "text/markdown": [
       "Missing Values:"
      ],
      "text/plain": [
       "<IPython.core.display.Markdown object>"
      ]
     },
     "metadata": {},
     "output_type": "display_data"
    },
    {
     "data": {
      "text/plain": [
       "ID                  0\n",
       "name                9\n",
       "category            0\n",
       "main_category       0\n",
       "currency            0\n",
       "deadline            0\n",
       "goal                0\n",
       "launched            0\n",
       "pledged             0\n",
       "state               0\n",
       "backers             0\n",
       "country             0\n",
       "usd pledged      3790\n",
       "dtype: int64"
      ]
     },
     "execution_count": 8,
     "metadata": {},
     "output_type": "execute_result"
    }
   ],
   "source": [
    "# Remove corrupt rows, in addition to columns a, b, c, and d:\n",
    "# For the index arg, we got indexes of rows that are not null in column b\n",
    "data_2016.drop(index=data_2016[~data_2016['b'].isnull()].index.to_list(),columns=['a','b','c','d'], inplace=True)\n",
    "\n",
    "# Drop some more misplaced rows\n",
    "data_2016.drop(index=data_2016[data_2016['country']=='0'].index.to_list(), inplace=True)\n",
    "\n",
    "\n",
    "# Missing values\n",
    "printmd('Missing Values:')\n",
    "data_2016.isnull().sum()"
   ]
  },
  {
   "cell_type": "markdown",
   "metadata": {},
   "source": [
    "We only have considerable missing values in the usd pledged column, which should ultimately contain the same amount in the pledged column converted to USD, the names column is not expected to be within the features. Let's look at the pledges regardless of currency and see how it currently looks:"
   ]
  },
  {
   "cell_type": "code",
   "execution_count": 9,
   "metadata": {},
   "outputs": [
    {
     "data": {
      "image/png": "[encoded data removed]",
      "text/plain": [
       "<Figure size 864x360 with 1 Axes>"
      ]
     },
     "metadata": {
      "needs_background": "light"
     },
     "output_type": "display_data"
    }
   ],
   "source": [
    "# Assert float data type for the pledged column\n",
    "data_2016['pledged'] = data_2016['pledged'].astype(float)\n",
    "# Assert integer data type for the backers column\n",
    "data_2016['backers'] = data_2016['backers'].astype(int)\n",
    "\n",
    "# Plot the pledged column\n",
    "data_2016['pledged'].plot(figsize=(12,5))\n",
    "plt.title('Distribution of Total Pledged Amounts Per Kickstarter Project (Different Currencies)')\n",
    "plt.xlabel('Amount')\n",
    "plt.ylabel('Projects')\n",
    "plt.show()"
   ]
  },
  {
   "cell_type": "code",
   "execution_count": 10,
   "metadata": {},
   "outputs": [
    {
     "data": {
      "text/html": [
       "<div>\n",
       "<style scoped>\n",
       "    .dataframe tbody tr th:only-of-type {\n",
       "        vertical-align: middle;\n",
       "    }\n",
       "\n",
       "    .dataframe tbody tr th {\n",
       "        vertical-align: top;\n",
       "    }\n",
       "\n",
       "    .dataframe thead th {\n",
       "        text-align: right;\n",
       "    }\n",
       "</style>\n",
       "<table border=\"1\" class=\"dataframe\">\n",
       "  <thead>\n",
       "    <tr style=\"text-align: right;\">\n",
       "      <th></th>\n",
       "      <th>ID</th>\n",
       "      <th>name</th>\n",
       "      <th>category</th>\n",
       "      <th>main_category</th>\n",
       "      <th>currency</th>\n",
       "      <th>deadline</th>\n",
       "      <th>goal</th>\n",
       "      <th>launched</th>\n",
       "      <th>pledged</th>\n",
       "      <th>state</th>\n",
       "      <th>backers</th>\n",
       "      <th>country</th>\n",
       "      <th>usd pledged</th>\n",
       "    </tr>\n",
       "  </thead>\n",
       "  <tbody>\n",
       "    <tr>\n",
       "      <th>150</th>\n",
       "      <td>1000694855</td>\n",
       "      <td>STREETFIGHTERZ WHEELIE MURICA</td>\n",
       "      <td>Film &amp; Video</td>\n",
       "      <td>Film &amp; Video</td>\n",
       "      <td>USD</td>\n",
       "      <td>2014-09-20 06:59:00</td>\n",
       "      <td>6500</td>\n",
       "      <td>2014-08-06 21:28:36</td>\n",
       "      <td>555.000</td>\n",
       "      <td>undefined</td>\n",
       "      <td>0</td>\n",
       "      <td>N,\"0</td>\n",
       "      <td>NaN</td>\n",
       "    </tr>\n",
       "    <tr>\n",
       "      <th>287</th>\n",
       "      <td>100149523</td>\n",
       "      <td>Duncan Woods - Chameleon EP</td>\n",
       "      <td>Music</td>\n",
       "      <td>Music</td>\n",
       "      <td>AUD</td>\n",
       "      <td>2015-08-25 23:00:00</td>\n",
       "      <td>4500</td>\n",
       "      <td>2015-08-04 12:05:17</td>\n",
       "      <td>4767.000</td>\n",
       "      <td>undefined</td>\n",
       "      <td>0</td>\n",
       "      <td>N,\"0</td>\n",
       "      <td>NaN</td>\n",
       "    </tr>\n",
       "    <tr>\n",
       "      <th>549</th>\n",
       "      <td>1003023003</td>\n",
       "      <td>The Making of Ashley Kelley's Debut Album</td>\n",
       "      <td>Music</td>\n",
       "      <td>Music</td>\n",
       "      <td>USD</td>\n",
       "      <td>2015-04-09 21:06:13</td>\n",
       "      <td>3500</td>\n",
       "      <td>2015-03-10 20:06:13</td>\n",
       "      <td>3576.000</td>\n",
       "      <td>undefined</td>\n",
       "      <td>0</td>\n",
       "      <td>N,\"0</td>\n",
       "      <td>NaN</td>\n",
       "    </tr>\n",
       "  </tbody>\n",
       "</table>\n",
       "</div>"
      ],
      "text/plain": [
       "             ID                                       name      category  \\\n",
       "150  1000694855              STREETFIGHTERZ WHEELIE MURICA  Film & Video   \n",
       "287   100149523                Duncan Woods - Chameleon EP         Music   \n",
       "549  1003023003  The Making of Ashley Kelley's Debut Album         Music   \n",
       "\n",
       "    main_category currency             deadline  goal             launched  \\\n",
       "150  Film & Video      USD  2014-09-20 06:59:00  6500  2014-08-06 21:28:36   \n",
       "287         Music      AUD  2015-08-25 23:00:00  4500  2015-08-04 12:05:17   \n",
       "549         Music      USD  2015-04-09 21:06:13  3500  2015-03-10 20:06:13   \n",
       "\n",
       "     pledged      state  backers country usd pledged  \n",
       "150  555.000  undefined        0    N,\"0         NaN  \n",
       "287 4767.000  undefined        0    N,\"0         NaN  \n",
       "549 3576.000  undefined        0    N,\"0         NaN  "
      ]
     },
     "execution_count": 10,
     "metadata": {},
     "output_type": "execute_result"
    }
   ],
   "source": [
    "# For the usd pledged column, how do rows look like when values are null?\n",
    "data_2016[data_2016['usd pledged'].isnull()].head(3)"
   ]
  },
  {
   "cell_type": "markdown",
   "metadata": {},
   "source": [
    "The *usd pledged* column is nothing but the same value in the *pledged* column, only converted to USD. After using the different currencies we have to predict missing values in the *country* column (which do not show in the isnull().sum() call above), we will then convert all currencies to USD based on their launch date and will get rid of a few columns in the process:"
   ]
  },
  {
   "cell_type": "code",
   "execution_count": 11,
   "metadata": {
    "scrolled": false
   },
   "outputs": [
    {
     "data": {
      "image/png": "[encoded data removed]",
      "text/plain": [
       "<Figure size 864x576 with 1 Axes>"
      ]
     },
     "metadata": {
      "needs_background": "light"
     },
     "output_type": "display_data"
    },
    {
     "data": {
      "text/markdown": [
       "How distribution looks like for null usd pledged column :"
      ],
      "text/plain": [
       "<IPython.core.display.Markdown object>"
      ]
     },
     "metadata": {},
     "output_type": "display_data"
    },
    {
     "data": {
      "text/markdown": [
       "canceled projects:"
      ],
      "text/plain": [
       "<IPython.core.display.Markdown object>"
      ]
     },
     "metadata": {},
     "output_type": "display_data"
    },
    {
     "name": "stdout",
     "output_type": "stream",
     "text": [
      "22\n"
     ]
    },
    {
     "data": {
      "text/markdown": [
       "failed projects:"
      ],
      "text/plain": [
       "<IPython.core.display.Markdown object>"
      ]
     },
     "metadata": {},
     "output_type": "display_data"
    },
    {
     "name": "stdout",
     "output_type": "stream",
     "text": [
      "105\n"
     ]
    },
    {
     "data": {
      "text/markdown": [
       "live projects:"
      ],
      "text/plain": [
       "<IPython.core.display.Markdown object>"
      ]
     },
     "metadata": {},
     "output_type": "display_data"
    },
    {
     "name": "stdout",
     "output_type": "stream",
     "text": [
      "1\n"
     ]
    },
    {
     "data": {
      "text/markdown": [
       "successful projects:"
      ],
      "text/plain": [
       "<IPython.core.display.Markdown object>"
      ]
     },
     "metadata": {},
     "output_type": "display_data"
    },
    {
     "name": "stdout",
     "output_type": "stream",
     "text": [
      "105\n"
     ]
    },
    {
     "data": {
      "text/markdown": [
       "suspended projects:"
      ],
      "text/plain": [
       "<IPython.core.display.Markdown object>"
      ]
     },
     "metadata": {},
     "output_type": "display_data"
    },
    {
     "name": "stdout",
     "output_type": "stream",
     "text": [
      "2\n"
     ]
    },
    {
     "data": {
      "text/markdown": [
       "undefined projects:"
      ],
      "text/plain": [
       "<IPython.core.display.Markdown object>"
      ]
     },
     "metadata": {},
     "output_type": "display_data"
    },
    {
     "name": "stdout",
     "output_type": "stream",
     "text": [
      "3555\n"
     ]
    }
   ],
   "source": [
    "# Get value count of unique values in the state column\n",
    "val_ct = data_2016['state'].value_counts()[:5]\n",
    "val_ct = pd.DataFrame(val_ct).reset_index()\n",
    "\n",
    "# Plot distribution of project states\n",
    "plt.figure(figsize=(12,8))\n",
    "ax = sns.barplot(x='index', y='state',data=val_ct)\n",
    "plt.title('Original Distribution of Project States',fontsize=18)\n",
    "plt.xlabel('Project State',fontsize=12)\n",
    "plt.ylabel('Projects',fontsize=12)\n",
    "plt.show()\n",
    "\n",
    "# Show us a simplified count of each state where usd pledged is null\n",
    "printmd('How distribution looks like for null usd pledged column :')\n",
    "for state in np.unique(data_2016[data_2016['usd pledged'].isnull()]['state']):\n",
    "    printmd('{} projects:'.format(state))\n",
    "    print((data_2016[data_2016['usd pledged'].isnull()]['state']==state).sum())"
   ]
  },
  {
   "cell_type": "markdown",
   "metadata": {},
   "source": [
    "Not all of these projects are failures. Since we have a significant portion of the data with missing data here, we can try to fill up as much as we can:\n",
    "\n",
    "- For the country column, we can use fill them in according to the corresponding value in the currency column.\n",
    "\n",
    "\n",
    "- Projects that are canceled or suspended can also be labeled as failed. Since our goal here to predict whether a project will go through or not, we do not really care whether it was canceled or suspended as long as it will not succeed. Also, projects that are live can be labeled as successful.\n",
    "\n",
    "\n",
    "- Projects with states that are undefined will be inspected closely before I make a decision on replacing their status.\n",
    "\n",
    "\n",
    "Let's take a look at countries and currencies used, because the case may be that someone in a country uses another country's currency:"
   ]
  },
  {
   "cell_type": "code",
   "execution_count": 12,
   "metadata": {},
   "outputs": [
    {
     "data": {
      "text/html": [
       "<div>\n",
       "<style scoped>\n",
       "    .dataframe tbody tr th:only-of-type {\n",
       "        vertical-align: middle;\n",
       "    }\n",
       "\n",
       "    .dataframe tbody tr th {\n",
       "        vertical-align: top;\n",
       "    }\n",
       "\n",
       "    .dataframe thead th {\n",
       "        text-align: right;\n",
       "    }\n",
       "</style>\n",
       "<table border=\"1\" class=\"dataframe\">\n",
       "  <thead>\n",
       "    <tr style=\"text-align: right;\">\n",
       "      <th></th>\n",
       "      <th></th>\n",
       "      <th>count</th>\n",
       "    </tr>\n",
       "    <tr>\n",
       "      <th>currency</th>\n",
       "      <th>country</th>\n",
       "      <th></th>\n",
       "    </tr>\n",
       "  </thead>\n",
       "  <tbody>\n",
       "    <tr>\n",
       "      <th rowspan=\"2\" valign=\"top\">AUD</th>\n",
       "      <th>AU</th>\n",
       "      <td>6251</td>\n",
       "    </tr>\n",
       "    <tr>\n",
       "      <th>N,\"0</th>\n",
       "      <td>111</td>\n",
       "    </tr>\n",
       "    <tr>\n",
       "      <th rowspan=\"2\" valign=\"top\">CAD</th>\n",
       "      <th>CA</th>\n",
       "      <td>12008</td>\n",
       "    </tr>\n",
       "    <tr>\n",
       "      <th>N,\"0</th>\n",
       "      <td>205</td>\n",
       "    </tr>\n",
       "    <tr>\n",
       "      <th rowspan=\"2\" valign=\"top\">CHF</th>\n",
       "      <th>CH</th>\n",
       "      <td>471</td>\n",
       "    </tr>\n",
       "    <tr>\n",
       "      <th>N,\"0</th>\n",
       "      <td>7</td>\n",
       "    </tr>\n",
       "    <tr>\n",
       "      <th rowspan=\"2\" valign=\"top\">DKK</th>\n",
       "      <th>DK</th>\n",
       "      <td>825</td>\n",
       "    </tr>\n",
       "    <tr>\n",
       "      <th>N,\"0</th>\n",
       "      <td>16</td>\n",
       "    </tr>\n",
       "    <tr>\n",
       "      <th rowspan=\"10\" valign=\"top\">EUR</th>\n",
       "      <th>AT</th>\n",
       "      <td>377</td>\n",
       "    </tr>\n",
       "    <tr>\n",
       "      <th>BE</th>\n",
       "      <td>402</td>\n",
       "    </tr>\n",
       "    <tr>\n",
       "      <th>DE</th>\n",
       "      <td>2685</td>\n",
       "    </tr>\n",
       "    <tr>\n",
       "      <th>ES</th>\n",
       "      <td>1373</td>\n",
       "    </tr>\n",
       "    <tr>\n",
       "      <th>FR</th>\n",
       "      <td>1912</td>\n",
       "    </tr>\n",
       "    <tr>\n",
       "      <th>IE</th>\n",
       "      <td>576</td>\n",
       "    </tr>\n",
       "    <tr>\n",
       "      <th>IT</th>\n",
       "      <td>1751</td>\n",
       "    </tr>\n",
       "    <tr>\n",
       "      <th>LU</th>\n",
       "      <td>40</td>\n",
       "    </tr>\n",
       "    <tr>\n",
       "      <th>N,\"0</th>\n",
       "      <td>186</td>\n",
       "    </tr>\n",
       "    <tr>\n",
       "      <th>NL</th>\n",
       "      <td>2265</td>\n",
       "    </tr>\n",
       "    <tr>\n",
       "      <th rowspan=\"2\" valign=\"top\">GBP</th>\n",
       "      <th>GB</th>\n",
       "      <td>27572</td>\n",
       "    </tr>\n",
       "    <tr>\n",
       "      <th>N,\"0</th>\n",
       "      <td>459</td>\n",
       "    </tr>\n",
       "    <tr>\n",
       "      <th>HKD</th>\n",
       "      <th>HK</th>\n",
       "      <td>97</td>\n",
       "    </tr>\n",
       "    <tr>\n",
       "      <th>MXN</th>\n",
       "      <th>MX</th>\n",
       "      <td>214</td>\n",
       "    </tr>\n",
       "    <tr>\n",
       "      <th rowspan=\"2\" valign=\"top\">NOK</th>\n",
       "      <th>N,\"0</th>\n",
       "      <td>14</td>\n",
       "    </tr>\n",
       "    <tr>\n",
       "      <th>NO</th>\n",
       "      <td>526</td>\n",
       "    </tr>\n",
       "    <tr>\n",
       "      <th rowspan=\"2\" valign=\"top\">NZD</th>\n",
       "      <th>N,\"0</th>\n",
       "      <td>28</td>\n",
       "    </tr>\n",
       "    <tr>\n",
       "      <th>NZ</th>\n",
       "      <td>1137</td>\n",
       "    </tr>\n",
       "    <tr>\n",
       "      <th rowspan=\"2\" valign=\"top\">SEK</th>\n",
       "      <th>N,\"0</th>\n",
       "      <td>31</td>\n",
       "    </tr>\n",
       "    <tr>\n",
       "      <th>SE</th>\n",
       "      <td>1271</td>\n",
       "    </tr>\n",
       "    <tr>\n",
       "      <th>SGD</th>\n",
       "      <th>SG</th>\n",
       "      <td>120</td>\n",
       "    </tr>\n",
       "    <tr>\n",
       "      <th rowspan=\"2\" valign=\"top\">USD</th>\n",
       "      <th>N,\"0</th>\n",
       "      <td>2733</td>\n",
       "    </tr>\n",
       "    <tr>\n",
       "      <th>US</th>\n",
       "      <td>258068</td>\n",
       "    </tr>\n",
       "  </tbody>\n",
       "</table>\n",
       "</div>"
      ],
      "text/plain": [
       "                   count\n",
       "currency country        \n",
       "AUD      AU         6251\n",
       "         N,\"0        111\n",
       "CAD      CA        12008\n",
       "         N,\"0        205\n",
       "CHF      CH          471\n",
       "         N,\"0          7\n",
       "DKK      DK          825\n",
       "         N,\"0         16\n",
       "EUR      AT          377\n",
       "         BE          402\n",
       "         DE         2685\n",
       "         ES         1373\n",
       "         FR         1912\n",
       "         IE          576\n",
       "         IT         1751\n",
       "         LU           40\n",
       "         N,\"0        186\n",
       "         NL         2265\n",
       "GBP      GB        27572\n",
       "         N,\"0        459\n",
       "HKD      HK           97\n",
       "MXN      MX          214\n",
       "NOK      N,\"0         14\n",
       "         NO          526\n",
       "NZD      N,\"0         28\n",
       "         NZ         1137\n",
       "SEK      N,\"0         31\n",
       "         SE         1271\n",
       "SGD      SG          120\n",
       "USD      N,\"0       2733\n",
       "         US       258068"
      ]
     },
     "execution_count": 12,
     "metadata": {},
     "output_type": "execute_result"
    }
   ],
   "source": [
    "data_2016[['currency','country','ID']].rename(columns={'ID':'count'}).groupby(by=['currency','country']).count()"
   ]
  },
  {
   "cell_type": "markdown",
   "metadata": {},
   "source": [
    "A plot can give us a better idea of where Kickstarter projects launched in terms of country:"
   ]
  },
  {
   "cell_type": "code",
   "execution_count": 13,
   "metadata": {},
   "outputs": [
    {
     "data": {
      "image/png": "[encoded data removed]",
      "text/plain": [
       "<Figure size 1008x504 with 1 Axes>"
      ]
     },
     "metadata": {
      "needs_background": "light"
     },
     "output_type": "display_data"
    }
   ],
   "source": [
    "# Get count of countries\n",
    "np.unique(data_2016['country'])\n",
    "val_ct = data_2016['country'].value_counts()\n",
    "val_ct = pd.DataFrame(val_ct).reset_index()\n",
    "plt.figure(figsize=(14,7))\n",
    "plt.title('Kickstarter Project Launch Locations',fontsize=18)\n",
    "ax = sns.barplot(x='index', y='country',data=val_ct)\n",
    "\n",
    "# Plot distribution of countries\n",
    "plt.xlabel('Country',fontsize=14)\n",
    "plt.ylabel('Projects',fontsize=14)\n",
    "ax.set(xlabel='Country', ylabel='Projects')\n",
    "plt.show()"
   ]
  },
  {
   "cell_type": "markdown",
   "metadata": {},
   "source": [
    "To fill in the country column replacing the *N,\"0* value, we will build a dictionary containing countries and currencies, then fill accordingly. As for European countries with many possibilities for the Euro, we will fill countries in randomly:"
   ]
  },
  {
   "cell_type": "code",
   "execution_count": 14,
   "metadata": {},
   "outputs": [],
   "source": [
    "cntry_x_curr = {}\n",
    "\n",
    "for curr in np.unique(data_2016['currency']):\n",
    "    \n",
    "    # slice df containing it\n",
    "    temp_df = data_2016[data_2016['currency']==curr]\n",
    "    \n",
    "    # get unique vals of country, convert to list\n",
    "    countries = list(np.unique(temp_df['country']))\n",
    "    \n",
    "    # remove N,\"0 from list\n",
    "    if 'N,\"0' in countries:\n",
    "        countries.remove('N,\"0')\n",
    "    \n",
    "    # Set currency as key, countries as value in the dictionary\n",
    "    cntry_x_curr[curr] = countries\n",
    "\n",
    "\n",
    "# Loop over rows of N,\"0, fill values according to dict\n",
    "for index in data_2016[data_2016['country']=='N,\"0'].index:\n",
    "    \n",
    "    # if Euro, select a country randomly\n",
    "    if data_2016.at[index, 'currency'] == 'EUR':\n",
    "        data_2016.at[index, 'country'] = random.choice(cntry_x_curr['EUR'])\n",
    "        continue\n",
    "        \n",
    "    # fill country with corresponding currency value\n",
    "    data_2016.at[index, 'country'] = random.choice(cntry_x_curr[data_2016.at[index, 'currency']])"
   ]
  },
  {
   "cell_type": "markdown",
   "metadata": {},
   "source": [
    "Now that we have filled in values for the *country* column, let's move on to replacing *undefined* values for the *state* column:"
   ]
  },
  {
   "cell_type": "code",
   "execution_count": 15,
   "metadata": {},
   "outputs": [
    {
     "name": "stdout",
     "output_type": "stream",
     "text": [
      "We are left with 3555 undefined rows.\n"
     ]
    }
   ],
   "source": [
    "bin_dict = {'canceled':'failed','failed':'failed', 'live':'successful','successful':'successful','suspended':'failed'}\n",
    "# Loop over rows of state and 'binarize' values\n",
    "for index in data_2016.index:\n",
    "    if data_2016.at[index, 'state'] != 'undefined':\n",
    "        data_2016.at[index, 'state'] = bin_dict[data_2016.at[index, 'state']]\n",
    "print('We are left with {} undefined rows.'.format(len(data_2016[data_2016['state']=='undefined'])))"
   ]
  },
  {
   "cell_type": "markdown",
   "metadata": {},
   "source": [
    "Let's take a look at projects that failed and see whether we can set a threshold for the amount collected as a percentage of the goal amount:"
   ]
  },
  {
   "cell_type": "code",
   "execution_count": 16,
   "metadata": {
    "scrolled": false
   },
   "outputs": [
    {
     "data": {
      "text/markdown": [
       "99th Percentile for failed projects: "
      ],
      "text/plain": [
       "<IPython.core.display.Markdown object>"
      ]
     },
     "metadata": {},
     "output_type": "display_data"
    },
    {
     "name": "stdout",
     "output_type": "stream",
     "text": [
      "0.7516666666666667\n"
     ]
    },
    {
     "data": {
      "text/markdown": [
       "Failed projects quick stats:"
      ],
      "text/plain": [
       "<IPython.core.display.Markdown object>"
      ]
     },
     "metadata": {},
     "output_type": "display_data"
    },
    {
     "name": "stdout",
     "output_type": "stream",
     "text": [
      "count   202492.000\n",
      "mean         0.316\n",
      "std         48.614\n",
      "min          0.000\n",
      "25%          0.000\n",
      "50%          0.016\n",
      "75%          0.108\n",
      "max      16949.000\n",
      "Name: raised, dtype: float64\n"
     ]
    },
    {
     "data": {
      "image/png": "[encoded data removed]",
      "text/plain": [
       "<Figure size 576x504 with 1 Axes>"
      ]
     },
     "metadata": {
      "needs_background": "light"
     },
     "output_type": "display_data"
    }
   ],
   "source": [
    "# Assert data types\n",
    "data_2016['pledged'] = data_2016['pledged'].astype(float)\n",
    "data_2016['goal'] = data_2016['goal'].astype(float)\n",
    "\n",
    "# Slice a dataframe to contain only failed projects\n",
    "fail_df = data_2016[data_2016['state']=='failed']\n",
    "\n",
    "# Add a column containing percentage of raised funding called \"raised\"\n",
    "fail_df['raised'] = fail_df['pledged']/fail_df['goal']\n",
    "\n",
    "# print the 99th percentile for the raised column\n",
    "printmd('99th Percentile for failed projects: ')\n",
    "print(fail_df['raised'].quantile(q=0.99))\n",
    "printmd('Failed projects quick stats:')\n",
    "print(fail_df['raised'].describe())\n",
    "\n",
    "# Plot a figure\n",
    "plt.figure(figsize=(8,7))\n",
    "plt.plot(fail_df['goal'],fail_df['pledged'])\n",
    "plt.title('Distribution of Percentage of Raised Funding to Goal Amount in Failed Projects')\n",
    "plt.ylabel('Goal')\n",
    "plt.xlabel('Percentage raised')\n",
    "plt.show()"
   ]
  },
  {
   "cell_type": "code",
   "execution_count": 17,
   "metadata": {},
   "outputs": [
    {
     "data": {
      "text/markdown": [
       "99th Percentile for successful projects: "
      ],
      "text/plain": [
       "<IPython.core.display.Markdown object>"
      ]
     },
     "metadata": {},
     "output_type": "display_data"
    },
    {
     "name": "stdout",
     "output_type": "stream",
     "text": [
      "22.516186636666667\n"
     ]
    },
    {
     "data": {
      "text/markdown": [
       "Successful projects quick stats:"
      ],
      "text/plain": [
       "<IPython.core.display.Markdown object>"
      ]
     },
     "metadata": {},
     "output_type": "display_data"
    },
    {
     "name": "stdout",
     "output_type": "stream",
     "text": [
      "count   117684.000\n",
      "mean         8.268\n",
      "std        446.311\n",
      "min          0.000\n",
      "25%          1.038\n",
      "50%          1.144\n",
      "75%          1.533\n",
      "max     104277.890\n",
      "Name: raised, dtype: float64\n"
     ]
    }
   ],
   "source": [
    "# Repeat the same operation in the last code block\n",
    "success_df = data_2016[data_2016['state']=='successful']\n",
    "success_df['raised'] = success_df['pledged']/success_df['goal']\n",
    "printmd('99th Percentile for successful projects: ')\n",
    "print(success_df['raised'].quantile(q=0.99))\n",
    "printmd('Successful projects quick stats:')\n",
    "print(success_df['raised'].describe())"
   ]
  },
  {
   "cell_type": "markdown",
   "metadata": {},
   "source": [
    "Seeing the statistics for both failed and successful projects, especially the 99th percentile, we can say with some confidence that successful projects in Kickstarter are defined as projects that meet their goal amount, and therefore we set a rule stating that projcts with *raised* amount equal to 1 (or 100%) are successful projects, and that other projects can be labeled as failed:"
   ]
  },
  {
   "cell_type": "code",
   "execution_count": 18,
   "metadata": {},
   "outputs": [],
   "source": [
    "# Add the column \"raised\" to the main df\n",
    "data_2016['raised'] = data_2016['pledged']/data_2016['goal']\n",
    "\n",
    "# define undefined columns\n",
    "for index in data_2016[data_2016['state']=='undefined'].index:\n",
    "    if data_2016.at[index, 'raised'] >= 1:\n",
    "        data_2016.at[index, 'state'] = 'successful'\n",
    "    else:\n",
    "        data_2016.at[index, 'state'] = 'failed'\n",
    "\n",
    "def digitize(x):\n",
    "    \"\"\" convert failed and successful values to 0 and 1, respectively \"\"\"\n",
    "    if x.lower() == 'failed':\n",
    "        return 0\n",
    "    return 1\n",
    "\n",
    "# Call the digitize function on the state column\n",
    "data_2016['state'] = data_2016['state'].apply(digitize)"
   ]
  },
  {
   "cell_type": "markdown",
   "metadata": {},
   "source": [
    "Now that we are done limiting project states to two outcomes. The final step of the data cleaning process is to convert the amount pledged to USD. This is because we have different currencies resulting in two columns, one of which has missing data that needs conversion.\n",
    "\n",
    "We will convert all currencies to USD and will remove the currency column, along with the usd pledged column to have one remaining column that is enough to sum up all three. This will be done using the currency_converter library, but first we will convert the currency column to include the currency name and the launch date as well the amount, all of which will be fed to the currency converter through the Pandas apply() function:"
   ]
  },
  {
   "cell_type": "code",
   "execution_count": 19,
   "metadata": {
    "scrolled": true
   },
   "outputs": [
    {
     "data": {
      "text/html": [
       "<div>\n",
       "<style scoped>\n",
       "    .dataframe tbody tr th:only-of-type {\n",
       "        vertical-align: middle;\n",
       "    }\n",
       "\n",
       "    .dataframe tbody tr th {\n",
       "        vertical-align: top;\n",
       "    }\n",
       "\n",
       "    .dataframe thead th {\n",
       "        text-align: right;\n",
       "    }\n",
       "</style>\n",
       "<table border=\"1\" class=\"dataframe\">\n",
       "  <thead>\n",
       "    <tr style=\"text-align: right;\">\n",
       "      <th></th>\n",
       "      <th>ID</th>\n",
       "      <th>name</th>\n",
       "      <th>category</th>\n",
       "      <th>main_category</th>\n",
       "      <th>currency</th>\n",
       "      <th>deadline</th>\n",
       "      <th>goal</th>\n",
       "      <th>launched</th>\n",
       "      <th>pledged</th>\n",
       "      <th>state</th>\n",
       "      <th>backers</th>\n",
       "      <th>country</th>\n",
       "      <th>usd pledged</th>\n",
       "      <th>raised</th>\n",
       "    </tr>\n",
       "  </thead>\n",
       "  <tbody>\n",
       "    <tr>\n",
       "      <th>0</th>\n",
       "      <td>1000002330</td>\n",
       "      <td>The Songs of Adelaide &amp; Abullah</td>\n",
       "      <td>Poetry</td>\n",
       "      <td>Publishing</td>\n",
       "      <td>GBP</td>\n",
       "      <td>2015-10-09 11:36:00</td>\n",
       "      <td>1000.000</td>\n",
       "      <td>2015-08-11 12:12:28</td>\n",
       "      <td>0.000</td>\n",
       "      <td>0</td>\n",
       "      <td>0</td>\n",
       "      <td>GB</td>\n",
       "      <td>0</td>\n",
       "      <td>0.000</td>\n",
       "    </tr>\n",
       "    <tr>\n",
       "      <th>1</th>\n",
       "      <td>1000004038</td>\n",
       "      <td>Where is Hank?</td>\n",
       "      <td>Narrative Film</td>\n",
       "      <td>Film &amp; Video</td>\n",
       "      <td>USD</td>\n",
       "      <td>2013-02-26 00:20:50</td>\n",
       "      <td>45000.000</td>\n",
       "      <td>2013-01-12 00:20:50</td>\n",
       "      <td>220.000</td>\n",
       "      <td>0</td>\n",
       "      <td>3</td>\n",
       "      <td>US</td>\n",
       "      <td>220</td>\n",
       "      <td>0.005</td>\n",
       "    </tr>\n",
       "    <tr>\n",
       "      <th>2</th>\n",
       "      <td>1000007540</td>\n",
       "      <td>ToshiCapital Rekordz Needs Help to Complete Album</td>\n",
       "      <td>Music</td>\n",
       "      <td>Music</td>\n",
       "      <td>USD</td>\n",
       "      <td>2012-04-16 04:24:11</td>\n",
       "      <td>5000.000</td>\n",
       "      <td>2012-03-17 03:24:11</td>\n",
       "      <td>1.000</td>\n",
       "      <td>0</td>\n",
       "      <td>1</td>\n",
       "      <td>US</td>\n",
       "      <td>1</td>\n",
       "      <td>0.000</td>\n",
       "    </tr>\n",
       "  </tbody>\n",
       "</table>\n",
       "</div>"
      ],
      "text/plain": [
       "           ID                                               name  \\\n",
       "0  1000002330                    The Songs of Adelaide & Abullah   \n",
       "1  1000004038                                     Where is Hank?   \n",
       "2  1000007540  ToshiCapital Rekordz Needs Help to Complete Album   \n",
       "\n",
       "         category main_category currency             deadline      goal  \\\n",
       "0          Poetry    Publishing      GBP  2015-10-09 11:36:00  1000.000   \n",
       "1  Narrative Film  Film & Video      USD  2013-02-26 00:20:50 45000.000   \n",
       "2           Music         Music      USD  2012-04-16 04:24:11  5000.000   \n",
       "\n",
       "              launched  pledged  state  backers country usd pledged  raised  \n",
       "0  2015-08-11 12:12:28    0.000      0        0      GB           0   0.000  \n",
       "1  2013-01-12 00:20:50  220.000      0        3      US         220   0.005  \n",
       "2  2012-03-17 03:24:11    1.000      0        1      US           1   0.000  "
      ]
     },
     "execution_count": 19,
     "metadata": {},
     "output_type": "execute_result"
    }
   ],
   "source": [
    "data_2016.head(3)"
   ]
  },
  {
   "cell_type": "code",
   "execution_count": 20,
   "metadata": {},
   "outputs": [],
   "source": [
    "# Assert dates are in the datetime data type\n",
    "data_2016['launched'] = pd.to_datetime(data_2016['launched'])\n",
    "data_2016['deadline'] = pd.to_datetime(data_2016['deadline'])"
   ]
  },
  {
   "cell_type": "markdown",
   "metadata": {},
   "source": [
    "With most currencies being relatively stable, picking a date in the middle of the year as a mean conversion rate for converting to USD should give us a stable USD equivalent. The exchange rate is picked from a date that suits most of these projects, which is in the middle of 2016. Once done converting, we will drop non useful columns:"
   ]
  },
  {
   "cell_type": "code",
   "execution_count": 21,
   "metadata": {},
   "outputs": [
    {
     "data": {
      "text/html": [
       "<div>\n",
       "<style scoped>\n",
       "    .dataframe tbody tr th:only-of-type {\n",
       "        vertical-align: middle;\n",
       "    }\n",
       "\n",
       "    .dataframe tbody tr th {\n",
       "        vertical-align: top;\n",
       "    }\n",
       "\n",
       "    .dataframe thead th {\n",
       "        text-align: right;\n",
       "    }\n",
       "</style>\n",
       "<table border=\"1\" class=\"dataframe\">\n",
       "  <thead>\n",
       "    <tr style=\"text-align: right;\">\n",
       "      <th></th>\n",
       "      <th>category</th>\n",
       "      <th>main_category</th>\n",
       "      <th>deadline</th>\n",
       "      <th>goal</th>\n",
       "      <th>launched</th>\n",
       "      <th>pledged</th>\n",
       "      <th>state</th>\n",
       "      <th>backers</th>\n",
       "      <th>country</th>\n",
       "      <th>raised</th>\n",
       "    </tr>\n",
       "  </thead>\n",
       "  <tbody>\n",
       "    <tr>\n",
       "      <th>0</th>\n",
       "      <td>Poetry</td>\n",
       "      <td>Publishing</td>\n",
       "      <td>2015-10-09 11:36:00</td>\n",
       "      <td>1550.733</td>\n",
       "      <td>2015-08-11 12:12:28</td>\n",
       "      <td>0.000</td>\n",
       "      <td>0</td>\n",
       "      <td>0</td>\n",
       "      <td>GB</td>\n",
       "      <td>0.000</td>\n",
       "    </tr>\n",
       "    <tr>\n",
       "      <th>1</th>\n",
       "      <td>Narrative Film</td>\n",
       "      <td>Film &amp; Video</td>\n",
       "      <td>2013-02-26 00:20:50</td>\n",
       "      <td>45000.000</td>\n",
       "      <td>2013-01-12 00:20:50</td>\n",
       "      <td>220.000</td>\n",
       "      <td>0</td>\n",
       "      <td>3</td>\n",
       "      <td>US</td>\n",
       "      <td>0.005</td>\n",
       "    </tr>\n",
       "    <tr>\n",
       "      <th>2</th>\n",
       "      <td>Music</td>\n",
       "      <td>Music</td>\n",
       "      <td>2012-04-16 04:24:11</td>\n",
       "      <td>5000.000</td>\n",
       "      <td>2012-03-17 03:24:11</td>\n",
       "      <td>1.000</td>\n",
       "      <td>0</td>\n",
       "      <td>1</td>\n",
       "      <td>US</td>\n",
       "      <td>0.000</td>\n",
       "    </tr>\n",
       "    <tr>\n",
       "      <th>3</th>\n",
       "      <td>Film &amp; Video</td>\n",
       "      <td>Film &amp; Video</td>\n",
       "      <td>2015-08-29 01:00:00</td>\n",
       "      <td>19500.000</td>\n",
       "      <td>2015-07-04 08:35:03</td>\n",
       "      <td>1283.000</td>\n",
       "      <td>0</td>\n",
       "      <td>14</td>\n",
       "      <td>US</td>\n",
       "      <td>0.066</td>\n",
       "    </tr>\n",
       "    <tr>\n",
       "      <th>4</th>\n",
       "      <td>Restaurants</td>\n",
       "      <td>Food</td>\n",
       "      <td>2016-04-01 13:38:27</td>\n",
       "      <td>50000.000</td>\n",
       "      <td>2016-02-26 13:38:27</td>\n",
       "      <td>52375.000</td>\n",
       "      <td>1</td>\n",
       "      <td>224</td>\n",
       "      <td>US</td>\n",
       "      <td>1.048</td>\n",
       "    </tr>\n",
       "  </tbody>\n",
       "</table>\n",
       "</div>"
      ],
      "text/plain": [
       "         category main_category            deadline      goal  \\\n",
       "0          Poetry    Publishing 2015-10-09 11:36:00  1550.733   \n",
       "1  Narrative Film  Film & Video 2013-02-26 00:20:50 45000.000   \n",
       "2           Music         Music 2012-04-16 04:24:11  5000.000   \n",
       "3    Film & Video  Film & Video 2015-08-29 01:00:00 19500.000   \n",
       "4     Restaurants          Food 2016-04-01 13:38:27 50000.000   \n",
       "\n",
       "             launched   pledged  state  backers country  raised  \n",
       "0 2015-08-11 12:12:28     0.000      0        0      GB   0.000  \n",
       "1 2013-01-12 00:20:50   220.000      0        3      US   0.005  \n",
       "2 2012-03-17 03:24:11     1.000      0        1      US   0.000  \n",
       "3 2015-07-04 08:35:03  1283.000      0       14      US   0.066  \n",
       "4 2016-02-26 13:38:27 52375.000      1      224      US   1.048  "
      ]
     },
     "execution_count": 21,
     "metadata": {},
     "output_type": "execute_result"
    }
   ],
   "source": [
    "# a dictionary to hold exchange rate per currency\n",
    "rate_dict = {}\n",
    "\n",
    "# fill in the exchange rate dictionary\n",
    "for curr in np.unique(data_2016['currency']):\n",
    "    rate = CurrencyConverter(fallback_on_wrong_date=True).convert(1, curr, 'USD', date=date(2015,6,15))\n",
    "    rate_dict[curr] = rate\n",
    "    \n",
    "# convert the pledged and the goal columns\n",
    "for index in data_2016.index:\n",
    "    data_2016.at[index, 'pledged'] = data_2016.at[index, 'pledged']* rate_dict[data_2016.at[index, 'currency']]\n",
    "    data_2016.at[index, 'goal'] = data_2016.at[index, 'goal']* rate_dict[data_2016.at[index, 'currency']]\n",
    "    \n",
    "# drop no-longer-useful columns\n",
    "data_2016.drop(columns=['currency','usd pledged','ID','name'], inplace=True)\n",
    "data_2016.columns = data_2016.columns.str.strip()\n",
    "data_2016.head()"
   ]
  },
  {
   "cell_type": "markdown",
   "metadata": {},
   "source": [
    "Having converted all pledged and goal amounts to USD, we no longer need two columns for pledged amounts, nor do we need a currency column to indicate currency. Let's see how the distribution changed for pledged amounts after unifying their currency:"
   ]
  },
  {
   "cell_type": "code",
   "execution_count": 22,
   "metadata": {},
   "outputs": [
    {
     "data": {
      "image/png": "[encoded data removed]",
      "text/plain": [
       "<Figure size 864x360 with 1 Axes>"
      ]
     },
     "metadata": {
      "needs_background": "light"
     },
     "output_type": "display_data"
    }
   ],
   "source": [
    "# Assert data type\n",
    "data_2016['pledged'] = data_2016['pledged'].astype(float)\n",
    "\n",
    "# plot a figure\n",
    "data_2016['pledged'].plot(figsize=(12,5))\n",
    "plt.title('Distribution of Total Pledged Amounts Per Kickstarter Project ($ USD)')\n",
    "plt.xlabel('Amount')\n",
    "plt.ylabel('Projects')\n",
    "plt.show()"
   ]
  },
  {
   "cell_type": "markdown",
   "metadata": {},
   "source": [
    "And now we come to answering the first analytical question:\n",
    "\n",
    "#### 1. What features, within the provided dataset, are most determinant of a project's success or failure?"
   ]
  },
  {
   "cell_type": "markdown",
   "metadata": {},
   "source": [
    "## Feature Selection and Engineering\n",
    "\n",
    "Now that we are done cleaning our dataset, we move on to feature selection. There are columns that easily allow for deriving new columns from, such as deriving the fundraising period from the *launched* and *deadline* columns. Advanced techniques such as Principal Component Analysis may not apply to this dataset if we have too few columns.\n",
    "\n",
    "Since we already have in mind the fundraising duration column, let's start by that:"
   ]
  },
  {
   "cell_type": "code",
   "execution_count": 23,
   "metadata": {},
   "outputs": [],
   "source": [
    "# Create the duration column and convert its value to integer days\n",
    "data_2016['duration'] = (data_2016['deadline'] - data_2016['launched']).astype(str)\n",
    "data_2016['duration'] = [int(str(val)[:-24]) for val in data_2016['duration']]"
   ]
  },
  {
   "cell_type": "code",
   "execution_count": 24,
   "metadata": {
    "scrolled": false
   },
   "outputs": [],
   "source": [
    "def positive(x):\n",
    "    \"\"\" prepare values for box cox by ensuring they are positive\"\"\"\n",
    "    if x <= 0:\n",
    "        return .01\n",
    "    return x\n",
    "\n",
    "# Apply the positive function to values intended for box cox transformation\n",
    "data_2016['pledged'] = data_2016['pledged'].apply(positive)\n",
    "data_2016['goal'] = data_2016['goal'].apply(positive)\n",
    "data_2016['raised'] = data_2016['raised'].apply(positive)\n",
    "\n",
    "# Apply box cox and log transformations\n",
    "data_2016['pledged'] = boxcox(data_2016['pledged'])[0]\n",
    "data_2016['goal'] = np.log(data_2016['goal']+1)\n",
    "data_2016['raised'] = boxcox(data_2016['raised'])[0]\n",
    "data_2016['duration'] = np.log(data_2016['duration']+1)\n",
    "data_2016['backers'] = np.log(data_2016['backers']+1)"
   ]
  },
  {
   "cell_type": "markdown",
   "metadata": {},
   "source": [
    "Having converted both the launched and deadline columns to a duration column, we may say that they can be removed and replaced by the duration column. However, the launch date may be beneficial in contributing to the model by telling us at which time of the year the fundraising was started and therefore can account for time where people in a certain country received tax returns, went through economic prices, or were on vacation.\n",
    "\n",
    "Initial judgement on the matter is best kept to a correlation matrix, represented by a heat map:"
   ]
  },
  {
   "cell_type": "code",
   "execution_count": 25,
   "metadata": {},
   "outputs": [
    {
     "name": "stdout",
     "output_type": "stream",
     "text": [
      "['goal', 'pledged', 'state', 'backers', 'raised', 'duration']\n"
     ]
    },
    {
     "data": {
      "text/markdown": [
       "**Correlation Matrix (filtered for correlation above 0.4):**"
      ],
      "text/plain": [
       "<IPython.core.display.Markdown object>"
      ]
     },
     "metadata": {},
     "output_type": "display_data"
    },
    {
     "data": {
      "image/png": "[encoded data removed]",
      "text/plain": [
       "<Figure size 1296x1080 with 2 Axes>"
      ]
     },
     "metadata": {
      "needs_background": "light"
     },
     "output_type": "display_data"
    },
    {
     "name": "stdout",
     "output_type": "stream",
     "text": [
      "features are: ['pledged', 'backers', 'raised']\n"
     ]
    }
   ],
   "source": [
    "def draw_heatmap(df,corr_thresh=.4):\n",
    "    \"\"\" Draws heatmap out of a dataframe. \n",
    "        Set corr_thresh to -1000 for full heatmap,\n",
    "        or keep default for strong correlation\n",
    "    \"\"\"\n",
    "    \n",
    "    # make the correlation matrix.\n",
    "    corr_mat = df.corr()\n",
    "\n",
    "    # move the column to head of list using index, pop and insert\n",
    "    cols = corr_mat.columns.to_list()\n",
    "    print (cols)\n",
    "    cols.insert(0, cols.pop(cols.index('state')))\n",
    "\n",
    "    # reorder\n",
    "    corr_mat = corr_mat.ix[:, cols]\n",
    "    corr_mat.sort_values(by=['state'],ascending=False)\n",
    "\n",
    "    # figure aesthetics\n",
    "    plt.figure(figsize=(18,15))\n",
    "    plt.plot()\n",
    "    \n",
    "    # draw the heatmap using seaborn.\n",
    "    sns.heatmap(corr_mat[(corr_mat > corr_thresh)], square=True, annot=True, linewidths=.5)\n",
    "    plt.title(\"Correlation Matrix (Kickstarter)\")\n",
    "    printmd(\"**Correlation Matrix (filtered for correlation above {}):**\".format(corr_thresh))\n",
    "    plt.show()\n",
    "    \n",
    "    # return features that correlate with the target equal to corr_thresh or higher\n",
    "    features = corr_mat[(corr_mat > corr_thresh)]\n",
    "    features = features.index[features['state'] >= corr_thresh].tolist()\n",
    "    features.remove('state')\n",
    "    print('features are: {}'.format(features))\n",
    "    return features\n",
    "\n",
    "\n",
    "features = draw_heatmap(data_2016)"
   ]
  },
  {
   "cell_type": "markdown",
   "metadata": {},
   "source": [
    "Understandably and without a doubt, the *raised* feature correlates the most with the project state. Since our focus in on the Kickstarter platform - a **fundraising** platform that is-, it makes most sense that project success is judged by the percentage raised with respect to the project's funding goal.\n",
    "\n",
    "The *backers* and *pledged* features also highly correlate with the *raised* feature. First, because the percentage of raised funding is in part a function of the pledged amount, and secondly because the number of backers can tell much about the perceived status of funding expected. To remove collinearity from our model, we will have to keep *raised* as the only feature. "
   ]
  },
  {
   "cell_type": "markdown",
   "metadata": {},
   "source": [
    "Now that we have feature and target sets, we move on to answeing the second analytical question:\n",
    "\n",
    "### 2. Which prediction models - or *algorithms*- perform best in terms of speed, accuracy, and explainability combined?\n",
    "\n",
    "## Model Selection\n",
    "\n",
    "Now that we have chosen our feature(s), we move on to select models that will be trained on the data and, consequentially, tested on the new data. We will choose a slice from the data for training and testing on the 2016 data before we move on to predict data for 2018:"
   ]
  },
  {
   "cell_type": "code",
   "execution_count": 26,
   "metadata": {},
   "outputs": [],
   "source": [
    "# slice dataframe for quicker algorithm selection\n",
    "data16 = data_2016.iloc[:10001,:]\n",
    "\n",
    "X = data16[['raised']]\n",
    "y = data16['state']\n",
    "\n",
    "X_train, X_test, y_train, y_test = train_test_split(X, y, test_size=0.25)"
   ]
  },
  {
   "cell_type": "markdown",
   "metadata": {},
   "source": [
    "In order to compare model performance, we need all models to be initialized with their hyperparamters set according to our data. I will create a search space for use with the *GridSearchCV* function in order to find best values for key hyperparameters. Candidate algorithms here are DecisionTrees, RandomForestClassifier, KNeighborsClassifier, LinearSVC, and LinearRegression:"
   ]
  },
  {
   "cell_type": "code",
   "execution_count": 27,
   "metadata": {},
   "outputs": [],
   "source": [
    "# Cleanup a few lingering objects\n",
    "for obj in [val_ct, cntry_x_curr, fail_df,  success_df]:\n",
    "    del obj\n"
   ]
  },
  {
   "cell_type": "code",
   "execution_count": 28,
   "metadata": {
    "scrolled": false
   },
   "outputs": [
    {
     "name": "stdout",
     "output_type": "stream",
     "text": [
      "RandomForestClassifier(bootstrap=True, class_weight=None, criterion='gini',\n",
      "                       max_depth=5, max_features='auto', max_leaf_nodes=5,\n",
      "                       min_impurity_decrease=0.0, min_impurity_split=None,\n",
      "                       min_samples_leaf=2, min_samples_split=2,\n",
      "                       min_weight_fraction_leaf=0.0, n_estimators=10,\n",
      "                       n_jobs=None, oob_score=False, random_state=None,\n",
      "                       verbose=0, warm_start=False)\n",
      "The mean accuracy of the model is: 0.9860055977608957 \n",
      "\n",
      "DecisionTreeClassifier(class_weight=None, criterion='entropy', max_depth=None,\n",
      "                       max_features='auto', max_leaf_nodes=None,\n",
      "                       min_impurity_decrease=0.0, min_impurity_split=None,\n",
      "                       min_samples_leaf=1, min_samples_split=50,\n",
      "                       min_weight_fraction_leaf=0.0, presort=False,\n",
      "                       random_state=None, splitter='random')\n",
      "The mean accuracy of the model is: 0.98640543782487 \n",
      "\n",
      "KNeighborsClassifier(algorithm='ball_tree', leaf_size=2, metric='minkowski',\n",
      "                     metric_params=None, n_jobs=-1, n_neighbors=5, p=1,\n",
      "                     weights='uniform')\n",
      "The mean accuracy of the model is: 0.9856057576969213 \n",
      "\n",
      "LinearSVC(C=1, class_weight=None, dual=True, fit_intercept=False,\n",
      "          intercept_scaling=1, loss='squared_hinge', max_iter=300,\n",
      "          multi_class='ovr', penalty='l2', random_state=None, tol=0.0001,\n",
      "          verbose=0)\n",
      "The mean accuracy of the model is: 0.973610555777689 \n",
      "\n",
      "LinearRegression(copy_X=True, fit_intercept=True, n_jobs=None, normalize=True)\n",
      "The mean accuracy of the model is: 0.6045428053570626 \n",
      "\n"
     ]
    }
   ],
   "source": [
    "# a list that contains algorithms and key hyperparameters\n",
    "search_space = [\n",
    "                {RandomForestClassifier():{\"n_estimators\": [10, 100, 1000],\n",
    "                 \"max_depth\":[5,8,15,25,30,None],\n",
    "                 \"min_samples_leaf\":[1,2,5,10,15,100],\n",
    "                 \"max_leaf_nodes\": [2, 5,10]}},\n",
    "                {DecisionTreeClassifier():{\"criterion\":['gini','entropy'],\n",
    "                 \"splitter\":['best','random'],\n",
    "                 \"min_samples_split\":[2,5,15,50],\n",
    "                 \"max_features\":[\"sqrt\",'log2','auto'],\n",
    "                 \"presort\":[True,False]}},\n",
    "                {KNeighborsClassifier():{\n",
    "                 \"n_neighbors\": [2,3,5],\n",
    "                 \"weights\": ['uniform','distance'],\n",
    "                 \"algorithm\": ['ball_tree','kd_tree','brute'],\n",
    "                 \"leaf_size\": [2,3,10],\n",
    "                 \"p\": [1,2],\n",
    "                 \"n_jobs\": [-1]}},    \n",
    "                {LinearSVC():{\"dual\": [True,False],\n",
    "                 \"tol\": [1e-4, 1e-2, 1e-1],\n",
    "                 \"C\": [1,0.6,0.4,0.1],\n",
    "                 \"fit_intercept\": [True,False],\n",
    "                 \"max_iter\": [300,500,1000,10000]}},\n",
    "                {LinearRegression():{\"fit_intercept\":[True,False],\n",
    "                 \"normalize\":[True,False]}}\n",
    "]\n",
    "\n",
    "# list containing only algorithms\n",
    "estimators = []\n",
    "for i in range(len(search_space)):\n",
    "    estimators += search_space[i].keys()\n",
    "\n",
    "# list containing only hyperparameters\n",
    "params = []\n",
    "for i in range(len(search_space)):\n",
    "    params += search_space[i].values()\n",
    "\n",
    "# create a gridsearch of each algorithm and its hyperparameters, the fit the best model\n",
    "for i in range(len(estimators)):\n",
    "    gridsearch = GridSearchCV(estimators[i], params[i], cv=5, verbose=0,n_jobs=-1) # Fit grid search\n",
    "    best_model = gridsearch.fit(X_train, y_train)\n",
    "    print(best_model.best_estimator_)\n",
    "    print(\"The mean accuracy of the model is:\",best_model.score(X_test, y_test),'\\n')\n",
    "    del gridsearch"
   ]
  },
  {
   "cell_type": "markdown",
   "metadata": {},
   "source": [
    "LinearRegression and LinearSVC did not perform well on our data, or as well as the others. The other three algorithms were able to predict y values with high accuracy. Now that we know the best models for our dataset, let's perform a final check of class imbalance on our dataset before we train the model that we will use for prediction: "
   ]
  },
  {
   "cell_type": "code",
   "execution_count": 29,
   "metadata": {},
   "outputs": [
    {
     "data": {
      "text/plain": [
       "0    204397\n",
       "1    119334\n",
       "Name: state, dtype: int64"
      ]
     },
     "execution_count": 29,
     "metadata": {},
     "output_type": "execute_result"
    }
   ],
   "source": [
    "# check for class imbalance\n",
    "data_2016['state'].value_counts()"
   ]
  },
  {
   "cell_type": "markdown",
   "metadata": {},
   "source": [
    "Data is certainly imbalanced, almost on a 2 to 1 ratio for failed to successful classes, respectively. We apply the SMOTE technique from imbalanced-learn to resolve this issue, then we re-run fitting and prediction to score each model individually. We will create a dataframe that stores accuracy and speed data to make an informed decision:"
   ]
  },
  {
   "cell_type": "code",
   "execution_count": 30,
   "metadata": {},
   "outputs": [
    {
     "name": "stdout",
     "output_type": "stream",
     "text": [
      "Wall time: 1.36 s\n",
      "Wall time: 26.1 s\n",
      "Accuracy: 0.9817839349635923\n"
     ]
    }
   ],
   "source": [
    "performance = pd.DataFrame(columns=['algorithm','speed(ms)','accuracy'])\n",
    "\n",
    "X, y = data_2016['raised'].to_numpy().reshape(-1, 1), data_2016['state']\n",
    "\n",
    "X, y = SMOTE().fit_resample(X, y)\n",
    "X_train, X_test, y_train, y_test = train_test_split(X, y, test_size=0.30)\n",
    "clf_smote = KNeighborsClassifier(algorithm='ball_tree', leaf_size=2, metric='minkowski',\n",
    "                     metric_params=None, n_jobs=-1, n_neighbors=5, p=2,\n",
    "                     weights='uniform')\n",
    "%time clf_smote = clf_smote.fit(X_train, y_train)\n",
    "%time acc = clf_smote.score(X_test, y_test)\n",
    "print('Accuracy: {}'.format(acc))"
   ]
  },
  {
   "cell_type": "code",
   "execution_count": 31,
   "metadata": {},
   "outputs": [
    {
     "name": "stdout",
     "output_type": "stream",
     "text": [
      "Wall time: 1.18 s\n",
      "Wall time: 82.8 ms\n",
      "Accuracy: 0.9822976377824346\n"
     ]
    }
   ],
   "source": [
    "performance = performance.append({'algorithm': 'KNeighborsClassifier', 'speed(ms)': 24500, 'accuracy': acc}, ignore_index=True)\n",
    "\n",
    "clf_smote = RandomForestClassifier(bootstrap=True, class_weight=None, criterion='gini',\n",
    "                       max_depth=5, max_features='auto', max_leaf_nodes=5,\n",
    "                       min_impurity_decrease=0.0, min_impurity_split=None,\n",
    "                       min_samples_leaf=10, min_samples_split=2,\n",
    "                       min_weight_fraction_leaf=0.0, n_estimators=10,\n",
    "                       n_jobs=None, oob_score=False, random_state=None,\n",
    "                       verbose=0, warm_start=False)\n",
    "\n",
    "%time clf_smote = clf_smote.fit(X_train, y_train)\n",
    "%time acc = clf_smote.score(X_test, y_test)\n",
    "print('Accuracy: {}'.format(acc))"
   ]
  },
  {
   "cell_type": "code",
   "execution_count": 32,
   "metadata": {},
   "outputs": [
    {
     "name": "stdout",
     "output_type": "stream",
     "text": [
      "Wall time: 1.49 s\n",
      "Wall time: 22.9 ms\n",
      "Accuracy: 0.9795252733632858\n"
     ]
    }
   ],
   "source": [
    "performance = performance.append({'algorithm': 'RandomForestClassifier', 'speed(ms)': 66.8, 'accuracy': acc}, ignore_index=True)\n",
    "clf_smote = DecisionTreeClassifier(class_weight=None, criterion='gini', max_depth=None,\n",
    "                       max_features='sqrt', max_leaf_nodes=None,\n",
    "                       min_impurity_decrease=0.0, min_impurity_split=None,\n",
    "                       min_samples_leaf=1, min_samples_split=50,\n",
    "                       min_weight_fraction_leaf=0.0, presort=True,\n",
    "                       random_state=None, splitter='best')\n",
    "\n",
    "%time clf_smote = clf_smote.fit(X_train, y_train)\n",
    "%time acc = clf_smote.score(X_test, y_test)\n",
    "print('Accuracy: {}'.format(acc))"
   ]
  },
  {
   "cell_type": "code",
   "execution_count": 33,
   "metadata": {},
   "outputs": [
    {
     "data": {
      "text/html": [
       "<div>\n",
       "<style scoped>\n",
       "    .dataframe tbody tr th:only-of-type {\n",
       "        vertical-align: middle;\n",
       "    }\n",
       "\n",
       "    .dataframe tbody tr th {\n",
       "        vertical-align: top;\n",
       "    }\n",
       "\n",
       "    .dataframe thead th {\n",
       "        text-align: right;\n",
       "    }\n",
       "</style>\n",
       "<table border=\"1\" class=\"dataframe\">\n",
       "  <thead>\n",
       "    <tr style=\"text-align: right;\">\n",
       "      <th></th>\n",
       "      <th>algorithm</th>\n",
       "      <th>speed(ms)</th>\n",
       "      <th>accuracy</th>\n",
       "    </tr>\n",
       "  </thead>\n",
       "  <tbody>\n",
       "    <tr>\n",
       "      <th>2</th>\n",
       "      <td>DecisionTreeClassifier</td>\n",
       "      <td>22.900</td>\n",
       "      <td>0.980</td>\n",
       "    </tr>\n",
       "    <tr>\n",
       "      <th>0</th>\n",
       "      <td>KNeighborsClassifier</td>\n",
       "      <td>24500</td>\n",
       "      <td>0.982</td>\n",
       "    </tr>\n",
       "    <tr>\n",
       "      <th>1</th>\n",
       "      <td>RandomForestClassifier</td>\n",
       "      <td>66.800</td>\n",
       "      <td>0.982</td>\n",
       "    </tr>\n",
       "  </tbody>\n",
       "</table>\n",
       "</div>"
      ],
      "text/plain": [
       "                algorithm speed(ms)  accuracy\n",
       "2  DecisionTreeClassifier    22.900     0.980\n",
       "0    KNeighborsClassifier     24500     0.982\n",
       "1  RandomForestClassifier    66.800     0.982"
      ]
     },
     "execution_count": 33,
     "metadata": {},
     "output_type": "execute_result"
    }
   ],
   "source": [
    "performance = performance.append({'algorithm': 'DecisionTreeClassifier', 'speed(ms)': 22.9, 'accuracy': acc}, ignore_index=True)\n",
    "\n",
    "performance.sort_values(['accuracy','speed(ms)'],ascending=False)"
   ]
  },
  {
   "cell_type": "markdown",
   "metadata": {},
   "source": [
    "A first look at this dataframe can tell that the RandomForestClassifier performs better than KNeighborsClassifier. However, Random Forest falls short on the explainability aspect, being a *black box* algorithm.\n",
    "\n",
    "As far as answering our third question, here is the detailed answer:\n",
    "\n",
    "- If we cared about model speed but can let off a little bit of the accuracy, then Decision Trees is the algorithm to use; it can explain the reason behind its classification method while quickly training and testing data.\n",
    "\n",
    "\n",
    "- If we cared about accuracy and explainability then the model we should pick is KNN; it may perform slower than Random Forest, but it achieves the same accuracy while explaining its predictions with similarity between Kickstarter projects.\n",
    "\n",
    "\n",
    "- If we did not care about explainability, then Random Forests is the way to go; it is on par with KNN while being much faster to execute.\n",
    "\n",
    "\n",
    "That being said, I will go forward with our 2018 data prediction using **KNN**."
   ]
  },
  {
   "cell_type": "markdown",
   "metadata": {},
   "source": [
    "### Trying with One-Hot Encoding\n",
    "\n",
    "Since we have the *categories* column included, describing actually *sub*categories of Kickstarted projects, it may be worth seeing if one-hot encoding these would do the model any good by enhancing prediction:"
   ]
  },
  {
   "cell_type": "code",
   "execution_count": 34,
   "metadata": {},
   "outputs": [
    {
     "name": "stdout",
     "output_type": "stream",
     "text": [
      "We have 158 unique categories.\n"
     ]
    }
   ],
   "source": [
    "# How many subcategories do we have?\n",
    "print('We have {} unique categories.'.format(len(np.unique(data_2016['category']))))\n",
    "\n",
    "# A dataframe that includes dummy variables + the raised column --> All features\n",
    "one_hot_enc = pd.get_dummies(data_2016['category'],drop_first=True)\n",
    "trial_df = pd.concat([data_2016['raised'],one_hot_enc])\n",
    "trial_df = trial_df.fillna(0)"
   ]
  },
  {
   "cell_type": "code",
   "execution_count": 36,
   "metadata": {},
   "outputs": [
    {
     "data": {
      "text/plain": [
       "0.9819388612105447"
      ]
     },
     "execution_count": 36,
     "metadata": {},
     "output_type": "execute_result"
    }
   ],
   "source": [
    "# Separate features and target\n",
    "X, y = trial_df[:len(data_2016['state'])], data_2016['state']\n",
    "\n",
    "# Balance prediction classes and assign training and testing data\n",
    "X, y = SMOTE().fit_resample(X, y)\n",
    "X_train, X_test, y_train, y_test = train_test_split(X, y, test_size=0.30)\n",
    "\n",
    "# Initiate classifier, fit and predict\n",
    "clf_smote = KNeighborsClassifier(algorithm='ball_tree', leaf_size=2, metric='minkowski',\n",
    "                     metric_params=None, n_jobs=-1, n_neighbors=5, p=2,\n",
    "                     weights='uniform')\n",
    "clf_smote = clf_smote.fit(X_train, y_train)\n",
    "clf_smote.score(X_test, y_test)"
   ]
  },
  {
   "cell_type": "markdown",
   "metadata": {},
   "source": [
    "Alright, so dummy variables (one-hot encoded columns) *did* improve our model, but only by a very small percentage. This clearly makes for an insignificant improvement while being a significant burden on the time it takes to train a model. This means that the *raised* column is going to be all the features we need to predict our 2018 data:"
   ]
  },
  {
   "cell_type": "markdown",
   "metadata": {},
   "source": [
    "### Preparation of testing data"
   ]
  },
  {
   "cell_type": "code",
   "execution_count": 38,
   "metadata": {},
   "outputs": [
    {
     "name": "stdout",
     "output_type": "stream",
     "text": [
      "ID                     0\n",
      "name                   4\n",
      "category               0\n",
      "main_category          0\n",
      "currency               0\n",
      "deadline               0\n",
      "goal                   0\n",
      "launched               0\n",
      "pledged                0\n",
      "state                  0\n",
      "backers                0\n",
      "country                0\n",
      "usd pledged         3797\n",
      "usd_pledged_real       0\n",
      "usd_goal_real          0\n",
      "dtype: int64\n"
     ]
    }
   ],
   "source": [
    "data_2018.head(3)\n",
    "print(data_2018.isnull().sum())"
   ]
  },
  {
   "cell_type": "markdown",
   "metadata": {},
   "source": [
    "Nothing seems out of the usual. Let's prepare testing data so it matches the training data:"
   ]
  },
  {
   "cell_type": "code",
   "execution_count": 39,
   "metadata": {},
   "outputs": [
    {
     "data": {
      "text/markdown": [
       "*** 2018 data is ready for testing ***"
      ],
      "text/plain": [
       "<IPython.core.display.Markdown object>"
      ]
     },
     "metadata": {},
     "output_type": "display_data"
    }
   ],
   "source": [
    "# Assert data types\n",
    "data_2018['pledged'] = data_2018['pledged'].astype(float)\n",
    "data_2018['goal'] = data_2018['goal'].astype(float)\n",
    "data_2018['backers'] = data_2018['backers'].astype(int)\n",
    "data_2018['launched'] = pd.to_datetime(data_2018['launched'])\n",
    "data_2018['deadline'] = pd.to_datetime(data_2018['deadline'])\n",
    "\n",
    "# Add the column \"raised\" to the df\n",
    "data_2018['raised'] = data_2018['pledged']/data_2018['goal']\n",
    "\n",
    "\n",
    "# Loop over rows of state and 'binarize' values\n",
    "for index in data_2018.index:\n",
    "    if data_2018.at[index, 'state'] != 'undefined':\n",
    "        data_2018.at[index, 'state'] = bin_dict[data_2018.at[index, 'state']]\n",
    "\n",
    "# Call the digitize function on the state column\n",
    "data_2018['state'] = data_2018['state'].apply(digitize)\n",
    "\n",
    "# a dictionary to hold exchange rate per currency for 2018 data\n",
    "rate_dict = {}\n",
    "\n",
    "# fill in the exchange rate dictionary\n",
    "for curr in np.unique(data_2018['currency']):\n",
    "    rate = CurrencyConverter(fallback_on_wrong_date=True).convert(1, curr, 'USD', date=date(2017,6,15))\n",
    "    rate_dict[curr] = rate\n",
    "    \n",
    "# convert the pledged and the goal columns\n",
    "for index in data_2018.index:\n",
    "    data_2018.at[index, 'pledged'] = data_2018.at[index, 'pledged']* rate_dict[data_2018.at[index, 'currency']]\n",
    "    data_2018.at[index, 'goal'] = data_2018.at[index, 'goal']* rate_dict[data_2018.at[index, 'currency']]\n",
    "    \n",
    "# drop no-longer-useful columns\n",
    "data_2018.drop(columns=['currency','usd pledged','ID','name'], inplace=True)\n",
    "data_2018.columns = data_2018.columns.str.strip()\n",
    "data_2018.head()\n",
    "\n",
    "def positive(x):\n",
    "    \"\"\" prepare values for box cox by ensuring they are positive\"\"\"\n",
    "    if x <= 0:\n",
    "        return .01\n",
    "    return x\n",
    "\n",
    "# Apply the positive function to values intended for box cox transformation\n",
    "data_2018['raised'] = data_2018['raised'].apply(positive)\n",
    "\n",
    "# Apply box cox transformation\n",
    "data_2018['raised'] = boxcox(data_2018['raised'])[0]\n",
    "\n",
    "printmd('*** 2018 data is ready for testing ***')"
   ]
  },
  {
   "cell_type": "markdown",
   "metadata": {},
   "source": [
    "In the following code block, we will be answering our final analytical question...\n",
    "\n",
    "### 3. How good is our trained model in predicting future projects (2018 vs. 2016) ?"
   ]
  },
  {
   "cell_type": "code",
   "execution_count": 40,
   "metadata": {},
   "outputs": [
    {
     "name": "stdout",
     "output_type": "stream",
     "text": [
      "Wall time: 1.24 s\n",
      "Our KNN model can predict future projects with an accuracy of 0.986\n",
      "Wall time: 1.2 s\n",
      "Our Random Forest model can predict future projects with an accuracy of 0.986\n"
     ]
    }
   ],
   "source": [
    "# Slice our data to a third of its size\n",
    "data_2016 = data_2016.iloc[:10000,:]\n",
    "data_2018 = data_2018.iloc[:10000,:]\n",
    "\n",
    "# Training data\n",
    "X, y = data_2016['raised'].to_numpy().reshape(-1, 1), data_2016['state']\n",
    "X_train, del_0, y_train, del_1 = train_test_split(X, y, test_size=0.30)\n",
    "\n",
    "# Testing data\n",
    "X, y = data_2018['raised'].to_numpy().reshape(-1, 1), data_2018['state']\n",
    "del_2, X_test, del_3, y_test = train_test_split(X, y, test_size=0.30)\n",
    "\n",
    "# Cleanup\n",
    "for obj in [del_0, del_1, del_2,  del_3]:\n",
    "    del obj\n",
    "\n",
    "# Balance prediction classes and assign training and testing data\n",
    "X, y = SMOTE().fit_resample(X, y)\n",
    "\n",
    "# Train and test data using KNN\n",
    "clf_smote = KNeighborsClassifier(algorithm='ball_tree', leaf_size=2, metric='minkowski',\n",
    "                     metric_params=None, n_jobs=-1, n_neighbors=5, p=2,\n",
    "                     weights='uniform')\n",
    "%time clf_smote = clf_smote.fit(X_train, y_train)\n",
    "print('Our KNN model can predict future projects with an accuracy of {}'.format(round(clf_smote.score(X_test, y_test),3)))\n",
    "\n",
    "# Train and test data using Random Forest\n",
    "RandomForestClassifier(bootstrap=True, class_weight=None, criterion='gini',\n",
    "                       max_depth=25, max_features='auto', max_leaf_nodes=10,\n",
    "                       min_impurity_decrease=0.0, min_impurity_split=None,\n",
    "                       min_samples_leaf=2, min_samples_split=2,\n",
    "                       min_weight_fraction_leaf=0.0, n_estimators=10,\n",
    "                       n_jobs=None, oob_score=False, random_state=None,\n",
    "                       verbose=0, warm_start=False)\n",
    "%time clf_smote = clf_smote.fit(X_train, y_train)\n",
    "print('Our Random Forest model can predict future projects with an accuracy of {}'.format(round(clf_smote.score(X_test, y_test),3)))"
   ]
  },
  {
   "cell_type": "markdown",
   "metadata": {},
   "source": [
    "## Conclusion\n",
    "\n",
    "Our project included cleaning data for several columns, feature extraction, transformation and selection, in addition to training and testing several supervised learning models on data. The top two models were Random Forests and KNN in terms of accuracy, explainability and speed. We also tried one-hot encoding categorical variables and did not achieve significant model improvement.\n",
    "\n",
    "One may say that a single feature that represents percentages may not warrant using machine learning to predict success or failure, but the work put in producing such a feature was not merely dividing one variable by another; it has also included transformation of the target variable, another transformation for the feature itself that was featured by numerous operations perfomed on variables this feature was derived from. It was not clear initially that we may arrive at the usage of one feature, but this feature turned out to have an excellent accuracy score.\n",
    "\n",
    "The reader needs to remember that project states were converted to a binary possibility of *successful* and *failed*, where the real states used in Kickstarter include 3 other states. This was done for the purposes of developing a binary supervised model capable of accurately predicting the two most important outcomes in real life.\n",
    "\n",
    "Optimal usage of this tool is expected **after** a project's initial launch period, where usual advertising of such a fundraising campaign is at its highest, and where response from pledgers peaks in response. Its predictions are to be understood as an answer to the question: \"*How does my project look like in terms of success of fundraising on Kickstarter?*\""
   ]
  }
 ],
 "metadata": {
  "kernelspec": {
   "display_name": "Python 3",
   "language": "python",
   "name": "python3"
  },
  "language_info": {
   "codemirror_mode": {
    "name": "ipython",
    "version": 3
   },
   "file_extension": ".py",
   "mimetype": "text/x-python",
   "name": "python",
   "nbconvert_exporter": "python",
   "pygments_lexer": "ipython3",
   "version": "3.7.3"
  }
 },
 "nbformat": 4,
 "nbformat_minor": 2
}
