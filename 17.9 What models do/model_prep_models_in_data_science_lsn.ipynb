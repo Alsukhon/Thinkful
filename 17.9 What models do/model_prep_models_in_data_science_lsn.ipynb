{
 "cells": [
  {
   "cell_type": "markdown",
   "metadata": {},
   "source": [
    "> \"All models are wrong, but some are useful.\"—George Box"
   ]
  },
  {
   "cell_type": "markdown",
   "metadata": {},
   "source": [
    "Throughout this module, we have walked you through the steps of exploratory data analysis. One last time, for good measure, we emphasize EDA is a very crucial phase in the general data science workflow. However, the story doesn't end here but starts. The end of the EDA process is the very beginning of the modeling journey as the figure below demonstrates:\n",
    "\n",
    "![modeling.png](assets/modeling.png)\n",
    "\n",
    "The next step in a data science project after EDA is to experiment with models to figure out which model would serve our goals best. From the next module on, we'll enter the world of machine learning where we'll learn several models. But, before digging into the details of those important topics, for the last checkpoint of this module, we explain what a statistical model is and why it's so essential for data science. In doing so, we aim to explain the usefulness of statistical models and the necessity of understanding and preparing data as much as possible before building any model."
   ]
  },
  {
   "cell_type": "markdown",
   "metadata": {},
   "source": [
    "# Statistical models\n",
    "Models are ubiquitous. We rely on models every time we [check the weather report](https://www.weather.gov/mdl/StatisticalModeling_home), [choose a movie recommended by Netflix](https://www.theatlantic.com/technology/archive/2014/01/how-netflix-reverse-engineered-hollywood/282679/), or [get excited about our favorite presidential candidate's electoral potential](https://fivethirtyeight.com/features/a-users-guide-to-fivethirtyeights-2016-general-election-forecast/).\n",
    "\n",
    "When we talk about models in data science, we usually mean **statistical models**. Statistical models are significantly different than the **mathematical models**. In mathematical modeling, we formulate a phenomenon in a very deterministic sense and there's no room for uncertainty. However, in statistical modeling we incorporate uncertainty to the model. Think about tossing a fair coin. Can you write down an exact formula to determine whether heads or tails will come up in an attempt? Actually, containing the exact process in an exact formula is very complicated! In contrast, we can formulate the problem in a statistical model very easily. If we repeat the process several times, we'll see that half the time it turns out to be tails and half the time it is heads! So, our statistical model would be with 0.5 probability tails would occur and with 0.5 probability heads would occur.\n",
    "\n",
    "Statistical models are, in essence, simple representations of the complex reality. In that sense, they are inherently wrong formulations of the phenomenon they try to capture. But, we love them because of their usefulness for many of the tasks we are dealing with. To understand this point better, let's give an example:\n",
    "\n",
    "If you've ever navigated public transit, you've worked with a model. Possibly the most famous public transit map in the world is for the London Underground:\n",
    "\n",
    "![London Tubemap](assets/tubemap.jpg)"
   ]
  },
  {
   "cell_type": "markdown",
   "metadata": {},
   "source": [
    "This map represents all the train lines in the London Underground (or the so-caled \"Tube\") in terms of their stops and intersections with one another. It's a simplified representation of the real train lines. For example, it does not include any information on the relative distances between the stops or the actual geographical position of the lines. When it was 1st proposed, this model of the London Underground was revolutionary: it excludes information that is irrelevant to the needs of Tube travelers and by doing so, becomes much easier to use.\n",
    "\n",
    "Statistical models operate in the same way: they represent complex information in a simplified way to serve a particular goal. To be more exact, a statistical model is: **a simplified mathematical representation of the data scientist's best guess about the underlying processes that created the data**.\n",
    "\n",
    "That definition has a lot of moving parts. Let's break it down:"
   ]
  },
  {
   "cell_type": "markdown",
   "metadata": {},
   "source": [
    "## Simplified\n",
    "\n",
    "When creating a model, the data scientist prioritizes **dense features**: elements with information that explains a large amount of variance in the outcome of interest. By excluding less informative features, the model does not perfectly represent the data, but its simplified form is easier to understand and work with. After all, reality is too complex to be perfectly modeled.\n",
    "\n",
    "For the London Tube Map, the goal was to guide travelers through the system. The position of each stop on a line, and the intersection of lines, are dense features for travelers. The relative time between adjacent stops, on the other hand, is less relevant, and is thus excluded from the map."
   ]
  },
  {
   "cell_type": "markdown",
   "metadata": {},
   "source": [
    "## Mathematical representation\n",
    "\n",
    "A statistical model is a mathematical formula or series of formulas. It can also be represented using words or programming statements, but these are just glosses on the math. Here the London Tube Map isn't a great example. As it's a conceptual model rather than a mathematical one, it's represented visually rather than mathematically."
   ]
  },
  {
   "cell_type": "markdown",
   "metadata": {},
   "source": [
    "## Data scientist's best guess\n",
    "\n",
    "Generally speaking, the model we propose and test represents our best understanding of the data at that time–our best guess about the underlying processes that led to the outcomes we observe. The model design is informed by prior knowledge about the topic area, visual inspection of the data, and the outcomes of fitting previous models to the data.\n",
    "\n",
    "The London Tube Map has actually been improved several times since its original version ([available here](http://www.fourthway.co.uk/realunderground/)) as its designers learned more about how people processed and understood the information on the map."
   ]
  },
  {
   "cell_type": "markdown",
   "metadata": {},
   "source": [
    "## Underlying processes\n",
    "\n",
    "A good model gives some insight into how your variable of interest came to have the values it possesses. This aspect of modeling is particularly useful when we are interested in predicting future outcomes. If we have a reasonable approximation of the underlying processes that created the outcomes we have in the data, we can use the model to predict how those underlying processes would respond to new data and what outcomes would result.\n",
    "\n",
    "By showing all the Tube lines and how they intersect, the London Tube Map not only shows travelers where they need to go, but gives them a general idea of what will happen to get them there. Imagine a subway navigation system without any underlying process information—you would give your starting point and destination and be given a list of stops and exchanges to use with no context about where they are in relation to each other.\n",
    "\n",
    "It is the goal of every data scientist to create statistical models that are as efficient and useful as the London Tube Map! With the help of a good statistical model, even a nonstatistician can understand a complex dataset. A statistical model can be beautiful; by paring away the nonessential aspects of a dataset, we get a tiny glimpse into the workings of the universe."
   ]
  },
  {
   "cell_type": "markdown",
   "metadata": {},
   "source": [
    "## Assignment\n",
    "\n",
    "To complete this assignment, submit a link to a Jupyter notebook containing your solutions to the following tasks:\n",
    "\n",
    "1. Try to model the result of a coin toss. In your model, include any features that you think important in explaining the result. Discuss with your mentor about the pros and cons of adding too many features into your model.\n",
    "2. If you ever used Netflix, you should already have realized that it provides some recommendations for you to watch. In data science, this is an example of the so-called **recommendations systems**. Read this nontechnical blog post of [Netflix](https://help.netflix.com/en/node/100639) about how they model their recommendations systems. Then, derive the features they use in their recommendations engines and discuss what else can be incorporated into this model. \n",
    "\n",
    "Submit your work below, and plan on discussing with your mentor. You can also take a look at these [example solutions](https://github.com/Thinkful-Ed/data-201-assignment-solutions/blob/master/model_prep_models_in_data_science/solution.ipynb)."
   ]
  }
 ],
 "metadata": {
  "kernelspec": {
   "display_name": "Python 3",
   "language": "python",
   "name": "python3"
  },
  "language_info": {
   "codemirror_mode": {
    "name": "ipython",
    "version": 3
   },
   "file_extension": ".py",
   "mimetype": "text/x-python",
   "name": "python",
   "nbconvert_exporter": "python",
   "pygments_lexer": "ipython3",
   "version": "3.7.3"
  },
  "latex_envs": {
   "LaTeX_envs_menu_present": true,
   "autoclose": false,
   "autocomplete": true,
   "bibliofile": "biblio.bib",
   "cite_by": "apalike",
   "current_citInitial": 1,
   "eqLabelWithNumbers": true,
   "eqNumInitial": 1,
   "hotkeys": {
    "equation": "Ctrl-E",
    "itemize": "Ctrl-I"
   },
   "labels_anchors": false,
   "latex_user_defs": false,
   "report_style_numbering": false,
   "user_envs_cfg": false
  },
  "varInspector": {
   "cols": {
    "lenName": 16,
    "lenType": 16,
    "lenVar": 40
   },
   "kernels_config": {
    "python": {
     "delete_cmd_postfix": "",
     "delete_cmd_prefix": "del ",
     "library": "var_list.py",
     "varRefreshCmd": "print(var_dic_list())"
    },
    "r": {
     "delete_cmd_postfix": ") ",
     "delete_cmd_prefix": "rm(",
     "library": "var_list.r",
     "varRefreshCmd": "cat(var_dic_list()) "
    }
   },
   "types_to_exclude": [
    "module",
    "function",
    "builtin_function_or_method",
    "instance",
    "_Feature"
   ],
   "window_display": false
  }
 },
 "nbformat": 4,
 "nbformat_minor": 2
}
