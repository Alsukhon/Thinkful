{
 "cells": [
  {
   "cell_type": "markdown",
   "metadata": {},
   "source": [
    "#### Nonparametric tests\n",
    "\n",
    "If visual inspection of the data (potentially in combination with the Shapiro-Wilk test) show that the data is meaningfully non-normal (remember, perfect normality is only possible in theory), then statistics that assume normality (linear regression, t-tests, ANOVA, correlations, and others) will give results that are biased or just straight-up wrong.  Fortunately, there are nonparametric versions of all common statistical methods.  Nonparametric methods are less powerful (given the same sample size, a parametric test will be able to detect smaller trends in the data), which is why they are not used all the time.  \n",
    "\n",
    "Generally speaking, a nonparametric test works by first converting variable values into rankings, from the lowest value (1st place) to the highest value (last place).  Here is an example of a “height in inches” variable in its original scale, and when converted into ranks:\n",
    "\n",
    "|Height|Height|\n",
    "|---|\n",
    "|Inches\t\t|Ranks|\n",
    "|\t60\t|\t4|\n",
    "|\t57\t|\t3|\n",
    "|\t72\t|\t7|\n",
    "|\t55\t|\t2|\n",
    "|\t51\t|\t1|\n",
    "|\t66\t|\t5|\n",
    "|\t69\t|\t6|\n",
    "\n",
    "Once the variable values are converted into ranks, statistical tests are performed on the ranks. \n"
   ]
  },
  {
   "cell_type": "markdown",
   "metadata": {},
   "source": [
    "#### Thinking Like a Data Scientist\n",
    "\n",
    "Even if your data pass inspection for normality, it may still make sense to use nonparametric statistics if your research question is focused on the median (dividing the sample into equally-sized halves) rather than the mean.  "
   ]
  },
  {
   "cell_type": "markdown",
   "metadata": {},
   "source": [
    "For an example, let's explore the height of roller coasters across three continents.  We've randomly sampled 20 roller coasters from Europe, Latin America, and North America, to determine which continent has the highest roller coasters.  "
   ]
  },
  {
   "cell_type": "code",
   "execution_count": 1,
   "metadata": {
    "collapsed": true
   },
   "outputs": [],
   "source": [
    "import pandas as pd\n",
    "import numpy as np\n",
    "import matplotlib.pyplot as plt\n",
    "import scipy.stats as stats\n",
    "%matplotlib inline"
   ]
  },
  {
   "cell_type": "code",
   "execution_count": 2,
   "metadata": {},
   "outputs": [
    {
     "data": {
      "image/png": "[encoded data removed]",
      "text/plain": [
       "<matplotlib.figure.Figure at 0x109142828>"
      ]
     },
     "metadata": {},
     "output_type": "display_data"
    }
   ],
   "source": [
    "# First, create and load some coaster height data.\n",
    "roller_coasters = pd.DataFrame()\n",
    "\n",
    "europe_heights = [\n",
    "    13.5, 36, 94, 6.1, 22, 35.5, 35.5, 8, 8, 10, 8.5, 5, 30, 31, 4.5, 15, 36,\n",
    "    20, 10, 30.4\n",
    "    ]\n",
    "latin_america_heights = [\n",
    "    33.3, 35.5, 30, 32, 8.5, 60, 8, 33, 33.1, 13, 8, 22.9, 3.3, 11, 11, 19.5,\n",
    "    35.1, 19.5, 4, 35.5\n",
    "    ]\n",
    "north_america_heights = [\n",
    "    66.4, 23.7, 54.5, 22.2, 20, 1.8, 3.9, 35.3, 45.2, 51.2, 43.5, 24.3, 74.6,\n",
    "    14.3, 16.1, 4.8, 38.9, 30.8, 10, 20\n",
    "    ]\n",
    "\n",
    "roller_coasters['Europe'] = europe_heights\n",
    "roller_coasters['LatinAmerica'] = latin_america_heights\n",
    "roller_coasters['NorthAmerica'] = north_america_heights\n",
    "\n",
    "# Visualize our data.\n",
    "roller_coasters.hist(sharey=True, sharex=True)\n",
    "plt.show()\n"
   ]
  },
  {
   "cell_type": "markdown",
   "metadata": {},
   "source": [
    "The data look very non-normal, and they don't resemble any other distribution we've seen.  The histograms are enough to choose nonparametric statistics, so let's go ahead."
   ]
  },
  {
   "cell_type": "markdown",
   "metadata": {},
   "source": [
    "#### Kruskal-Wallace Test\n",
    "\n",
    "The Kruskal-Wallace test works for two or more groups.  While this test is a bit complicated, the underlying logic is the same as the one-way ANOVA we covered earlier.  First, we compute an estimate of the size of the differences between the groups, then we put that difference into context by dividing it by the amount of variance in the groups.\n",
    "\n",
    "\\begin{equation}\n",
    "H=(N-1)\\frac{\\sum_{i=1}^gn_i(\\bar{r}_i-\\bar{r})^2}{\\sum_{i=1}^g\\sum_{j=1}^{n_i}(r_{ij}-\\bar{r})^2}\n",
    "\\end{equation}\n",
    "\n",
    "*H* is the test statistic.  \n",
    "$n_i$ is the number of datapoints in group *i*.   \n",
    "$r_{ij}$ is the rank of datapoint *j* in group *i* when ranked among all datapoints in all groups.  \n",
    "*N* is the total number of datapoints.  \n",
    "$\\bar{r}_i$ is the average rank of all datapoints in group *i*.  \n",
    "$\\bar{r}$ is the average of all the ranks, and can be calculated as $\\frac12(N+1)$.  \n",
    "\n",
    "\n",
    "In words, this test works by first converting all the data into ranks from 1 (highest value) to N (lowest).  Then the overall average rank $\\bar{r}$ is subtracted from the average rank for each group $\\bar{r}_i$.  For each group, the difference is squared, then multiplied by the size of the group $n_i$ .  Finally, the scaled squared differences are summed to create the numerator.  This provides information on how different the mean ranks for each group are from one another.\n",
    "\n",
    "Then, for each observation within a group, the average overall rank $\\bar{r}$ is subtracted from the rank of each observation $r_{ij}$ .  This difference is squared and summed.  Finally, the group-level sums are added together to create the denominator.  This tells us how much variability there is within each group, which is then pooled to create an estimate of the variance of the sample.\n",
    "\n",
    "The test statistic *H* represents the ratio of the divergence of each group mean rank from the overall mean rank relative to the variance in ranks within each group, multiplied by the size of the sample *N*-1.  The larger the value of H, the more likely it is that one of the groups differs meaningfully from the others in the population.\n",
    "\n",
    "Let's try it with the roller coaster height data.\n"
   ]
  },
  {
   "cell_type": "code",
   "execution_count": 3,
   "metadata": {},
   "outputs": [
    {
     "name": "stdout",
     "output_type": "stream",
     "text": [
      "Ranks_Europe          27.8\n",
      "Ranks_LatinAmerica    28.9\n",
      "Ranks_NorthAmerica    34.8\n",
      "dtype: float64\n",
      "30.5\n"
     ]
    },
    {
     "data": {
      "text/plain": [
       "KruskalResult(statistic=1.8600661901716153, pvalue=0.39454065279877282)"
      ]
     },
     "execution_count": 3,
     "metadata": {},
     "output_type": "execute_result"
    }
   ],
   "source": [
    "# Kruskal-Wallace Test\n",
    "\n",
    "# Join all ratings together into a list, then ranking them.\n",
    "ranks = stats.rankdata(\n",
    "    roller_coasters['Europe'].tolist() +\n",
    "    roller_coasters['LatinAmerica'].tolist() +\n",
    "    roller_coasters['NorthAmerica'].tolist())\n",
    "\n",
    "# Add the new ranked variables to the data frame.\n",
    "roller_coasters['Ranks_Europe'] = ranks[0:20]\n",
    "roller_coasters['Ranks_LatinAmerica'] = ranks[20:40]\n",
    "roller_coasters['Ranks_NorthAmerica'] = ranks[40:60]\n",
    "\n",
    "# Average rank per group.\n",
    "groups = ['Ranks_Europe', 'Ranks_LatinAmerica', 'Ranks_NorthAmerica']\n",
    "print(roller_coasters[groups].apply(np.mean))\n",
    "\n",
    "# Overall average rank.\n",
    "print(np.mean(ranks))\n",
    "\n",
    "# Print the test statistic followed by the probability of getting this result\n",
    "# if the groups were not different.\n",
    "stats.kruskal(\n",
    "    roller_coasters['Europe'],\n",
    "    roller_coasters['LatinAmerica'],\n",
    "    roller_coasters['NorthAmerica'])"
   ]
  },
  {
   "cell_type": "markdown",
   "metadata": {},
   "source": [
    "It appears that the groups do not differ significantly.  The test says there is a 39.5% chance of getting our data if there were no systematic difference between Europe, Latin America, and North America in the population.  Based on our data, roller coaster height doesn't seem to differ systematically across the three continents.\n",
    "\n",
    "#### Summary\n",
    "\n",
    "Ultimately, most parametric and non-parametric tests use the same logic when comparing groups: compute a descriptive statistic for the central tendency of each group, compute the size of the difference between groups, compute the amount of variance in the data, and put the size of the difference in context by calculating a ratio of difference to variance.\n",
    "\n",
    "Parametric and non-parametric tests differ in which measures of central tendency and variance they use.  Non-parametric tests are less powerful than their parametric counterparts.  This is because before non-parametric tests can be run, the data is converted into a new form (turned into ranks, or binarized into above-the-median and below-the-median categories, for example) that contains less information than the original.  When continuous data is converted into ranks, we lose information about the size of the difference between two adjacent datapoints.  When continuous data is converted into binary categories, we lose information about the relative sizes of the datapoints.  This loss of information is why nonparametric statistics are less sensitive, but it is also why they are more robust against issues such as extreme values."
   ]
  }
 ],
 "metadata": {
  "anaconda-cloud": {},
  "hide_input": false,
  "kernelspec": {
   "display_name": "Python 3",
   "language": "python",
   "name": "python3"
  },
  "language_info": {
   "codemirror_mode": {
    "name": "ipython",
    "version": 3
   },
   "file_extension": ".py",
   "mimetype": "text/x-python",
   "name": "python",
   "nbconvert_exporter": "python",
   "pygments_lexer": "ipython3",
   "version": "3.7.3"
  }
 },
 "nbformat": 4,
 "nbformat_minor": 1
}
