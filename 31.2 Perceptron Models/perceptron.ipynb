{
 "cells": [
  {
   "cell_type": "code",
   "execution_count": 1,
   "metadata": {
    "collapsed": true,
    "run_control": {
     "frozen": false,
     "read_only": false
    }
   },
   "outputs": [],
   "source": [
    "import numpy as np\n",
    "import pandas as pd\n",
    "import matplotlib.pyplot as plt\n",
    "%matplotlib inline"
   ]
  },
  {
   "cell_type": "markdown",
   "metadata": {
    "run_control": {
     "frozen": false,
     "read_only": false
    }
   },
   "source": [
    "# Perceptron\n",
    "\n",
    "Before we get into neural networks, we need to talk about perceptron models. Perceptron models will form the basis of Neural Networks. The models themselves are heavily indebted to linear regression which was one of the first models we covered.\n",
    "\n",
    "## Conceptual Basis\n",
    "\n",
    "Remember the initial specification for a linear regression?\n",
    "\n",
    "$$ y = \\alpha + \\beta X $$\n",
    "\n",
    "The other key aspect of linear regression is our cost function. In the linear regression context, we are trying to minimize the squared error terms. \n",
    "\n",
    "Perceptrons rely on that same linear specification but use it for a different purpose. Firstly, perceptrons are classifiers, at their core binary classifiers (though much like other methods there are ways to expand them to work with multiple classes). This takes our functional form and turns it into a rule to classify into groups A and B.\n",
    "\n",
    "$$ \\alpha + \\beta X \\geq 0 : A $$\n",
    "$$ \\alpha + \\beta X < 0 : B $$\n",
    "\n",
    "Here the $\\alpha$ is the _shift_, a way of regularizing the boundary to zero. Then $\\beta$ is the _weight_, which controls the influence of each variable in a linear fashion much like OLS.\n",
    "\n",
    "Recall in linear regression we minimize the error. In SVM the goal was to create the largest margin between our boundary and the nearest data points of each class. For Perceptron models, the cost we are trying to minimize is the sum of the output of our functional form from all misclasified examples. This can be thought of as minimizing the error for the classifier.  So if we create a boundary with errors, we take the absolute value of the misclasified observations and sum them together for our cost. Based on this cost function all boundries that correctly divide all data points into classes with no errors will have the same cost: zero.\n",
    "\n",
    "It's important to note that in this kind of simple perceptron the outcome is binary. A result is either in class A or class B with no probability given or gradient permitted. When working with perceptrons, it is common practice to invoke a curve with a gradient to it, meaning the prediction takes non-binary values between zero and one.\n",
    "\n",
    "The most common curve to use is called the _logistic function_ or _sigmoid curve_ because it gives a nice \"S\" or sigmoid shaped curve. The formula for that function is:\n",
    "\n",
    "$$ \\frac{1}{1+e^{-x}} $$\n",
    "\n",
    "Using this for perceptrons means outputting the value from our linear model into this function rather than simply using binary values for 0 if less than 0 and 1 if greater than 0. Allowing for continuous outputs from a perceptron will be valuable in allowing for more subtlety in our perceptron and thus in our neural networks."
   ]
  },
  {
   "cell_type": "markdown",
   "metadata": {},
   "source": [
    "## Perceptrons in Practice\n",
    "\n",
    "Now let's go through a perceptron in practice. To do so let's bring back the example from SVM: student test data."
   ]
  },
  {
   "cell_type": "code",
   "execution_count": 2,
   "metadata": {
    "collapsed": true,
    "run_control": {
     "frozen": false,
     "read_only": false
    }
   },
   "outputs": [],
   "source": [
    "test_data = pd.DataFrame()\n",
    "\n",
    "test_data['test'] = [90, 100, 85, 93, 88, 100, 97, 92, 89, 84,\n",
    "                     55, 65, 75, 58, 69, 71, 72, 63, 70, 59]\n",
    "test_data['project'] = [100, 85, 98, 88, 87, 99, 99, 86, 89, 100,\n",
    "                        67, 71, 74, 73, 55, 59, 56, 72, 67, 72]\n",
    "test_data['pass'] = ['pass', 'pass', 'pass', 'pass', 'pass',\n",
    "                     'pass', 'pass', 'pass', 'pass', 'pass',\n",
    "                     'fail', 'fail', 'fail', 'fail', 'fail',\n",
    "                     'fail', 'fail', 'fail', 'fail', 'fail']"
   ]
  },
  {
   "cell_type": "code",
   "execution_count": 3,
   "metadata": {
    "run_control": {
     "frozen": false,
     "read_only": false
    },
    "scrolled": true
   },
   "outputs": [
    {
     "name": "stdout",
     "output_type": "stream",
     "text": [
      "Score: 1.0\n"
     ]
    }
   ],
   "source": [
    "# Import Perceptron.\n",
    "from sklearn.linear_model import Perceptron\n",
    "\n",
    "# Establish X and Y.\n",
    "X = test_data[['test', 'project']]\n",
    "Y = test_data['pass']\n",
    "\n",
    "# Establish Perceptron Model.\n",
    "# 10,000 iterations to ensure accuracy since data is non-normalized.\n",
    "perceptron = Perceptron(n_iter=10000)\n",
    "### If running in your own environment on scikit-learn 0.21, run the line of code below instead:\n",
    "# perceptron = Perceptron(max_iter=10000, tol=0, n_iter_no_change=10000)\n",
    "\n",
    "\n",
    "# Fit Perceptron.\n",
    "perceptron.fit(X, Y)\n",
    "\n",
    "# Get Parameters.\n",
    "print('Score: ' + str(perceptron.score(X, Y)))"
   ]
  },
  {
   "cell_type": "markdown",
   "metadata": {
    "run_control": {
     "frozen": false,
     "read_only": false
    }
   },
   "source": [
    "Let's use the same mesh we've used previously to create and show our perceptron border."
   ]
  },
  {
   "cell_type": "code",
   "execution_count": 4,
   "metadata": {
    "run_control": {
     "frozen": false,
     "read_only": false
    }
   },
   "outputs": [
    {
     "data": {
      "image/png": "[encoded data removed]",
      "text/plain": [
       "<matplotlib.figure.Figure at 0x1097b02e8>"
      ]
     },
     "metadata": {},
     "output_type": "display_data"
    }
   ],
   "source": [
    "# Establish a mesh for our plot.\n",
    "x_min, x_max = X.test.min() - 1, X.test.max() + 3\n",
    "y_min, y_max = X.project.min() - 1, X.project.max() + 3\n",
    "xx, yy = np.meshgrid(np.arange(x_min, x_max, .1),\n",
    "                     np.arange(y_min, y_max, .1))\n",
    "\n",
    "# Predict over that mesh.\n",
    "Z = (perceptron.predict(np.c_[xx.ravel(), yy.ravel()])=='pass')\n",
    "\n",
    "\n",
    "# Reshape the prediction to be plottable.\n",
    "Z = Z.reshape(xx.shape)\n",
    "\n",
    "# Plot the mesh.\n",
    "plt.contourf(xx, yy, Z, cmap=plt.cm.coolwarm, alpha=0.8)\n",
    "\n",
    "# Plot our two scatters.\n",
    "plt.scatter(test_data.project[0:10], test_data.test[0:10], marker='x')\n",
    "plt.scatter(test_data.project[10:20], test_data.test[10:20], marker='o')\n",
    "\n",
    "# Aesthetics.\n",
    "plt.xlim(x_min, x_max)\n",
    "plt.ylim(y_min, y_max)\n",
    "plt.xlabel('Project Grade')\n",
    "plt.ylabel('Test Grade')\n",
    "plt.title('Passing Grades Perceptron Example')\n",
    "plt.show()"
   ]
  },
  {
   "cell_type": "markdown",
   "metadata": {
    "run_control": {
     "frozen": false,
     "read_only": false
    }
   },
   "source": [
    "Now, this is clearly different from the optimal SVM model. The simplicity of the perceptron cost function means that this is totally satisfactory to the model: every point is correctly classified so the cost is zero, and the perceptron algorithm stops as soon as that condition is met. Until it meets that condition, however, it keeps trying new things to see if it can get a successful classifier.\n",
    "\n",
    "If all of this seems rather inefficient that's because it often is. That decision boundary looks inefficient to the human eye. It took a lot of iterations to get there. There are many techniques that are more useful on their own.\n",
    "\n",
    "However, here you should think of the decision tree. Decision trees are not always a great model on their own, but through boosting or random forest we were able to craft some of the most powerful models in machine learning. The same is true with the perceptron.\n",
    "\n",
    "That's because a neural network, when you get down to it, is just an ensemble of perceptrons."
   ]
  }
 ],
 "metadata": {
  "hide_input": false,
  "kernelspec": {
   "display_name": "Python 3",
   "language": "python",
   "name": "python3"
  },
  "language_info": {
   "codemirror_mode": {
    "name": "ipython",
    "version": 3
   },
   "file_extension": ".py",
   "mimetype": "text/x-python",
   "name": "python",
   "nbconvert_exporter": "python",
   "pygments_lexer": "ipython3",
   "version": "3.7.3"
  },
  "toc": {
   "colors": {
    "hover_highlight": "#DAA520",
    "running_highlight": "#FF0000",
    "selected_highlight": "#FFD700"
   },
   "moveMenuLeft": true,
   "nav_menu": {
    "height": "68px",
    "width": "252px"
   },
   "navigate_menu": true,
   "number_sections": true,
   "sideBar": true,
   "threshold": 4,
   "toc_cell": false,
   "toc_section_display": "block",
   "toc_window_display": false
  }
 },
 "nbformat": 4,
 "nbformat_minor": 2
}
