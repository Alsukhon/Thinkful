{
 "cells": [
  {
   "cell_type": "code",
   "execution_count": 1,
   "metadata": {},
   "outputs": [],
   "source": [
    "%matplotlib inline\n",
    "import matplotlib.pyplot as plt\n",
    "import numpy as np\n",
    "import os\n",
    "import pandas as pd\n",
    "import scipy\n",
    "from sklearn.naive_bayes import BernoulliNB\n",
    "import seaborn as sns"
   ]
  },
  {
   "cell_type": "markdown",
   "metadata": {},
   "source": [
    "Here I will be classifying Yelp reviews based on training Amazon reviews. For this purpose, let's load the *amazon_cells_labelled.txt* file:"
   ]
  },
  {
   "cell_type": "code",
   "execution_count": 2,
   "metadata": {},
   "outputs": [
    {
     "data": {
      "text/html": [
       "<div>\n",
       "<style scoped>\n",
       "    .dataframe tbody tr th:only-of-type {\n",
       "        vertical-align: middle;\n",
       "    }\n",
       "\n",
       "    .dataframe tbody tr th {\n",
       "        vertical-align: top;\n",
       "    }\n",
       "\n",
       "    .dataframe thead th {\n",
       "        text-align: right;\n",
       "    }\n",
       "</style>\n",
       "<table border=\"1\" class=\"dataframe\">\n",
       "  <thead>\n",
       "    <tr style=\"text-align: right;\">\n",
       "      <th></th>\n",
       "      <th>text</th>\n",
       "      <th>sentiment</th>\n",
       "    </tr>\n",
       "  </thead>\n",
       "  <tbody>\n",
       "    <tr>\n",
       "      <th>0</th>\n",
       "      <td>So there is no way for me to plug it in here i...</td>\n",
       "      <td>0</td>\n",
       "    </tr>\n",
       "    <tr>\n",
       "      <th>1</th>\n",
       "      <td>Good case, Excellent value.</td>\n",
       "      <td>1</td>\n",
       "    </tr>\n",
       "    <tr>\n",
       "      <th>2</th>\n",
       "      <td>Great for the jawbone.</td>\n",
       "      <td>1</td>\n",
       "    </tr>\n",
       "    <tr>\n",
       "      <th>3</th>\n",
       "      <td>Tied to charger for conversations lasting more...</td>\n",
       "      <td>0</td>\n",
       "    </tr>\n",
       "    <tr>\n",
       "      <th>4</th>\n",
       "      <td>The mic is great.</td>\n",
       "      <td>1</td>\n",
       "    </tr>\n",
       "  </tbody>\n",
       "</table>\n",
       "</div>"
      ],
      "text/plain": [
       "                                                text  sentiment\n",
       "0  So there is no way for me to plug it in here i...          0\n",
       "1                        Good case, Excellent value.          1\n",
       "2                             Great for the jawbone.          1\n",
       "3  Tied to charger for conversations lasting more...          0\n",
       "4                                  The mic is great.          1"
      ]
     },
     "execution_count": 2,
     "metadata": {},
     "output_type": "execute_result"
    }
   ],
   "source": [
    "amazon = pd.read_csv(r'sentiment labelled sentences\\amazon_cells_labelled.txt', delimiter= '\\t', header=None)\n",
    "amazon.columns = ['text', 'sentiment']\n",
    "amazon.head()"
   ]
  },
  {
   "cell_type": "markdown",
   "metadata": {},
   "source": [
    "they want to start with this simple model nad.\n",
    "1. download the positive words bookmark and include it in htis analysis\n",
    "2. do tokenization with lowercasing\n",
    "3. get rid of stop words..etc\n"
   ]
  },
  {
   "cell_type": "markdown",
   "metadata": {},
   "source": [
    "Now to load a file containing positive words, obtained  from [mkulakowski2's gist on GitHub](https://gist.github.com/mkulakowski2/4289437) :"
   ]
  },
  {
   "cell_type": "code",
   "execution_count": 3,
   "metadata": {
    "scrolled": false
   },
   "outputs": [
    {
     "data": {
      "text/plain": [
       "2008"
      ]
     },
     "execution_count": 3,
     "metadata": {},
     "output_type": "execute_result"
    }
   ],
   "source": [
    "# load it\n",
    "with open('positive-words.txt','r') as file:\n",
    "    positive = file.read()\n",
    "\n",
    "\n",
    "# remove description and empty elements\n",
    "positive = positive[positive.rfind(';')+1:]\n",
    "positive = positive.split('\\n')\n",
    "\n",
    "for i in range(positive.count('')):\n",
    "    positive.remove('')\n",
    "\n",
    "# add a couple of positive words    \n",
    "positive.append('cool')\n",
    "positive.append('decent')\n",
    "    \n",
    "len(positive)"
   ]
  },
  {
   "cell_type": "markdown",
   "metadata": {},
   "source": [
    "Load another list, this time consisting of stop words:"
   ]
  },
  {
   "cell_type": "code",
   "execution_count": 4,
   "metadata": {},
   "outputs": [],
   "source": [
    "# load list of stop words\n",
    "with open('stop_words.txt','r') as file:\n",
    "    stop = file.read()\n",
    "stop = stop.split('\\n')"
   ]
  },
  {
   "cell_type": "markdown",
   "metadata": {},
   "source": [
    "On to the final list of negative words:"
   ]
  },
  {
   "cell_type": "code",
   "execution_count": 5,
   "metadata": {},
   "outputs": [
    {
     "data": {
      "text/plain": [
       "4783"
      ]
     },
     "execution_count": 5,
     "metadata": {},
     "output_type": "execute_result"
    }
   ],
   "source": [
    "# load it\n",
    "with open('negative-words.txt','r') as file:\n",
    "    negative = file.read()\n",
    "\n",
    "\n",
    "# remove description and empty elements\n",
    "negative = negative[negative.rfind(';')+1:]\n",
    "negative = negative.split('\\n')\n",
    "\n",
    "for i in range(negative.count('')):\n",
    "    negative.remove('')\n",
    "\n",
    "len(negative)"
   ]
  },
  {
   "cell_type": "markdown",
   "metadata": {},
   "source": [
    "Since the this text corpus is lengthy, it may not be very efficient to add each word as a column. Alternatively, we can calculate the percentage of positive words in each review while making sure *not*, *not that* and *not so* do not precede them, otherwise it may be negative. \n",
    "\n",
    "Additionally we need to remove puncutation marks from words first, because many punctuation marks are not separated with spaces from words, and can be taken along with words into lists, preventing detection of sentiments when checked for membership in positive and negative word lists. "
   ]
  },
  {
   "cell_type": "code",
   "execution_count": 6,
   "metadata": {},
   "outputs": [],
   "source": [
    "# Prepare a translation table from punctuation\n",
    "punctuation = ''.join(['.',',',';',':','-','?','!'])\n",
    "TRANSDICT = str.maketrans(punctuation,' '*len(punctuation))\n",
    "\n",
    "def remove_punctuation(word):\n",
    "    \"\"\" removes punctuation from a word\"\"\"\n",
    "    return word.translate(TRANSDICT).strip().replace(' ','')\n",
    "\n",
    "\n",
    "def percent_positive(review):\n",
    "    \"\"\" Tokenizes each sentence, checks for membership in positive words,\n",
    "        makes sure positive words are not preceded by 'not'\n",
    "    \"\"\"\n",
    "    \n",
    "    # tokenize a sentence and remove punctuation\n",
    "    tokenized = review.lower().split(' ')\n",
    "    tokenized = [remove_punctuation(word) for word in tokenized]\n",
    "    pcnt = 0\n",
    "    \n",
    "    # check for membership in poitive words list, making sure 'not' doesn't precede\n",
    "    for word in tokenized:\n",
    "        if tokenized.index(word) == 0 and (word in positive):\n",
    "            pcnt += 1/len(tokenized)\n",
    "        elif tokenized.index(word) == 1:\n",
    "            if word in positive and (tokenized[tokenized.index(word)-1] != 'not'):\n",
    "                pcnt += 1/len(tokenized)\n",
    "        elif tokenized.index(word) > 1:\n",
    "            if word in positive and (tokenized[tokenized.index(word)-1] != 'not') and (tokenized[tokenized.index(word)-2] != 'not'):\n",
    "                pcnt += 1/len(tokenized)\n",
    "    return pcnt\n",
    "\n",
    "# Apply percent_positive to the text column in our dataframe\n",
    "amazon['positive'] = amazon['text'].apply(percent_positive)"
   ]
  },
  {
   "cell_type": "markdown",
   "metadata": {},
   "source": [
    "Now we do the same thing for negative sentiments. This one was obtained from [this webpage](http://ptrckprry.com/course/ssd/data/negative-words.txt) and it includes misspelled negative words as well:"
   ]
  },
  {
   "cell_type": "code",
   "execution_count": 7,
   "metadata": {},
   "outputs": [],
   "source": [
    "def percent_negative(review):\n",
    "    \"\"\" Tokenizes each sentence, checks for membership in positive words,\n",
    "        makes sure positive words are not perceded by 'not'\n",
    "    \"\"\"\n",
    "    \n",
    "    # tokenize a sentence and remove punctuation\n",
    "    tokenized = review.lower().split(' ')\n",
    "    tokenized = [remove_punctuation(word) for word in tokenized]\n",
    "    pcnt = 0\n",
    "    \n",
    "    # check for membership in negative words list, making sure 'not' doesn't precede\n",
    "    for word in tokenized:\n",
    "        if tokenized.index(word) == 0 and word in negative:\n",
    "            pcnt += 1/len(tokenized)\n",
    "        elif tokenized.index(word) == 1:\n",
    "            if word in negative and (tokenized[tokenized.index(word)-1] != 'not'):\n",
    "                pcnt += 1/len(tokenized)\n",
    "        elif tokenized.index(word) > 1:\n",
    "            if word in negative and (tokenized[tokenized.index(word)-1] != 'not') and (tokenized[tokenized.index(word)-2] != 'not'):\n",
    "                pcnt += 1/len(tokenized)\n",
    "    return pcnt\n",
    "\n",
    "# Apply percent_negative to the text column in our dataframe\n",
    "amazon['negative'] = amazon['text'].apply(percent_negative)"
   ]
  },
  {
   "cell_type": "markdown",
   "metadata": {},
   "source": [
    "Now let's check our performance:"
   ]
  },
  {
   "cell_type": "code",
   "execution_count": 8,
   "metadata": {},
   "outputs": [
    {
     "data": {
      "text/html": [
       "<div>\n",
       "<style scoped>\n",
       "    .dataframe tbody tr th:only-of-type {\n",
       "        vertical-align: middle;\n",
       "    }\n",
       "\n",
       "    .dataframe tbody tr th {\n",
       "        vertical-align: top;\n",
       "    }\n",
       "\n",
       "    .dataframe thead th {\n",
       "        text-align: right;\n",
       "    }\n",
       "</style>\n",
       "<table border=\"1\" class=\"dataframe\">\n",
       "  <thead>\n",
       "    <tr style=\"text-align: right;\">\n",
       "      <th></th>\n",
       "      <th>text</th>\n",
       "      <th>sentiment</th>\n",
       "      <th>positive</th>\n",
       "      <th>negative</th>\n",
       "    </tr>\n",
       "  </thead>\n",
       "  <tbody>\n",
       "    <tr>\n",
       "      <th>502</th>\n",
       "      <td>Defective crap.</td>\n",
       "      <td>0</td>\n",
       "      <td>0.0</td>\n",
       "      <td>1.000000</td>\n",
       "    </tr>\n",
       "    <tr>\n",
       "      <th>751</th>\n",
       "      <td>disappointing.</td>\n",
       "      <td>0</td>\n",
       "      <td>0.0</td>\n",
       "      <td>1.000000</td>\n",
       "    </tr>\n",
       "    <tr>\n",
       "      <th>463</th>\n",
       "      <td>Disappointed!.</td>\n",
       "      <td>0</td>\n",
       "      <td>0.0</td>\n",
       "      <td>1.000000</td>\n",
       "    </tr>\n",
       "    <tr>\n",
       "      <th>993</th>\n",
       "      <td>disappointed.</td>\n",
       "      <td>0</td>\n",
       "      <td>0.0</td>\n",
       "      <td>1.000000</td>\n",
       "    </tr>\n",
       "    <tr>\n",
       "      <th>836</th>\n",
       "      <td>Horrible, horrible protector.</td>\n",
       "      <td>0</td>\n",
       "      <td>0.0</td>\n",
       "      <td>0.666667</td>\n",
       "    </tr>\n",
       "  </tbody>\n",
       "</table>\n",
       "</div>"
      ],
      "text/plain": [
       "                              text  sentiment  positive  negative\n",
       "502                Defective crap.          0       0.0  1.000000\n",
       "751                 disappointing.          0       0.0  1.000000\n",
       "463                 Disappointed!.          0       0.0  1.000000\n",
       "993                  disappointed.          0       0.0  1.000000\n",
       "836  Horrible, horrible protector.          0       0.0  0.666667"
      ]
     },
     "execution_count": 8,
     "metadata": {},
     "output_type": "execute_result"
    }
   ],
   "source": [
    "# Sort values by most negative first\n",
    "amazon.sort_values(by=['negative'],ascending=False).head()"
   ]
  },
  {
   "cell_type": "code",
   "execution_count": 9,
   "metadata": {},
   "outputs": [
    {
     "data": {
      "text/html": [
       "<div>\n",
       "<style scoped>\n",
       "    .dataframe tbody tr th:only-of-type {\n",
       "        vertical-align: middle;\n",
       "    }\n",
       "\n",
       "    .dataframe tbody tr th {\n",
       "        vertical-align: top;\n",
       "    }\n",
       "\n",
       "    .dataframe thead th {\n",
       "        text-align: right;\n",
       "    }\n",
       "</style>\n",
       "<table border=\"1\" class=\"dataframe\">\n",
       "  <thead>\n",
       "    <tr style=\"text-align: right;\">\n",
       "      <th></th>\n",
       "      <th>text</th>\n",
       "      <th>sentiment</th>\n",
       "      <th>positive</th>\n",
       "      <th>negative</th>\n",
       "    </tr>\n",
       "  </thead>\n",
       "  <tbody>\n",
       "    <tr>\n",
       "      <th>407</th>\n",
       "      <td>Works great.</td>\n",
       "      <td>1</td>\n",
       "      <td>1.0</td>\n",
       "      <td>0.0</td>\n",
       "    </tr>\n",
       "    <tr>\n",
       "      <th>92</th>\n",
       "      <td>Worked great!.</td>\n",
       "      <td>1</td>\n",
       "      <td>1.0</td>\n",
       "      <td>0.0</td>\n",
       "    </tr>\n",
       "    <tr>\n",
       "      <th>689</th>\n",
       "      <td>Works well.</td>\n",
       "      <td>1</td>\n",
       "      <td>1.0</td>\n",
       "      <td>0.0</td>\n",
       "    </tr>\n",
       "    <tr>\n",
       "      <th>185</th>\n",
       "      <td>Incredible!.</td>\n",
       "      <td>1</td>\n",
       "      <td>1.0</td>\n",
       "      <td>0.0</td>\n",
       "    </tr>\n",
       "    <tr>\n",
       "      <th>870</th>\n",
       "      <td>Works fine.</td>\n",
       "      <td>1</td>\n",
       "      <td>1.0</td>\n",
       "      <td>0.0</td>\n",
       "    </tr>\n",
       "  </tbody>\n",
       "</table>\n",
       "</div>"
      ],
      "text/plain": [
       "               text  sentiment  positive  negative\n",
       "407    Works great.          1       1.0       0.0\n",
       "92   Worked great!.          1       1.0       0.0\n",
       "689     Works well.          1       1.0       0.0\n",
       "185    Incredible!.          1       1.0       0.0\n",
       "870     Works fine.          1       1.0       0.0"
      ]
     },
     "execution_count": 9,
     "metadata": {},
     "output_type": "execute_result"
    }
   ],
   "source": [
    "# Sort values by most positive first\n",
    "amazon.sort_values(by=['positive'],ascending=False).head()"
   ]
  },
  {
   "cell_type": "markdown",
   "metadata": {},
   "source": [
    "Pay attention to our target feature, *sentiment*. Looks like it aligns with the *positive* and *negative* columns in both cases. This means that our data is ready for training using a Bernoulli (binary) classifier. Before that, let's make sure we load the Yelp dataset and equip it with the *positive* and *negative* columns:\n"
   ]
  },
  {
   "cell_type": "code",
   "execution_count": 10,
   "metadata": {},
   "outputs": [
    {
     "data": {
      "text/html": [
       "<div>\n",
       "<style scoped>\n",
       "    .dataframe tbody tr th:only-of-type {\n",
       "        vertical-align: middle;\n",
       "    }\n",
       "\n",
       "    .dataframe tbody tr th {\n",
       "        vertical-align: top;\n",
       "    }\n",
       "\n",
       "    .dataframe thead th {\n",
       "        text-align: right;\n",
       "    }\n",
       "</style>\n",
       "<table border=\"1\" class=\"dataframe\">\n",
       "  <thead>\n",
       "    <tr style=\"text-align: right;\">\n",
       "      <th></th>\n",
       "      <th>text</th>\n",
       "      <th>sentiment</th>\n",
       "      <th>positive</th>\n",
       "      <th>negative</th>\n",
       "    </tr>\n",
       "  </thead>\n",
       "  <tbody>\n",
       "    <tr>\n",
       "      <th>0</th>\n",
       "      <td>Wow... Loved this place.</td>\n",
       "      <td>1</td>\n",
       "      <td>0.500000</td>\n",
       "      <td>0.000</td>\n",
       "    </tr>\n",
       "    <tr>\n",
       "      <th>1</th>\n",
       "      <td>Crust is not good.</td>\n",
       "      <td>0</td>\n",
       "      <td>0.000000</td>\n",
       "      <td>0.000</td>\n",
       "    </tr>\n",
       "    <tr>\n",
       "      <th>2</th>\n",
       "      <td>Not tasty and the texture was just nasty.</td>\n",
       "      <td>0</td>\n",
       "      <td>0.000000</td>\n",
       "      <td>0.125</td>\n",
       "    </tr>\n",
       "    <tr>\n",
       "      <th>3</th>\n",
       "      <td>Stopped by during the late May bank holiday of...</td>\n",
       "      <td>1</td>\n",
       "      <td>0.133333</td>\n",
       "      <td>0.000</td>\n",
       "    </tr>\n",
       "    <tr>\n",
       "      <th>4</th>\n",
       "      <td>The selection on the menu was great and so wer...</td>\n",
       "      <td>1</td>\n",
       "      <td>0.083333</td>\n",
       "      <td>0.000</td>\n",
       "    </tr>\n",
       "  </tbody>\n",
       "</table>\n",
       "</div>"
      ],
      "text/plain": [
       "                                                text  sentiment  positive  \\\n",
       "0                           Wow... Loved this place.          1  0.500000   \n",
       "1                                 Crust is not good.          0  0.000000   \n",
       "2          Not tasty and the texture was just nasty.          0  0.000000   \n",
       "3  Stopped by during the late May bank holiday of...          1  0.133333   \n",
       "4  The selection on the menu was great and so wer...          1  0.083333   \n",
       "\n",
       "   negative  \n",
       "0     0.000  \n",
       "1     0.000  \n",
       "2     0.125  \n",
       "3     0.000  \n",
       "4     0.000  "
      ]
     },
     "execution_count": 10,
     "metadata": {},
     "output_type": "execute_result"
    }
   ],
   "source": [
    "# Load the Yelp dataset\n",
    "yelp = pd.read_csv(r'sentiment labelled sentences\\yelp_labelled.txt', delimiter= '\\t', header=None)\n",
    "yelp.columns = ['text', 'sentiment']\n",
    "yelp.head()\n",
    "\n",
    "\n",
    "# Apply percent_positive to the text column in our dataframe\n",
    "yelp['positive'] = yelp['text'].apply(percent_positive)\n",
    "\n",
    "\n",
    "# Apply percent_negative to the text column in our dataframe\n",
    "yelp['negative'] = yelp['text'].apply(percent_negative)\n",
    "\n",
    "yelp.head()"
   ]
  },
  {
   "cell_type": "code",
   "execution_count": 11,
   "metadata": {},
   "outputs": [
    {
     "name": "stdout",
     "output_type": "stream",
     "text": [
      "Number of mislabeled points out of a total 1000 points : 185\n"
     ]
    }
   ],
   "source": [
    "# Initialize a model object\n",
    "classifier = BernoulliNB()\n",
    "\n",
    "# Fit our model to the data.\n",
    "classifier.fit(amazon[['positive','negative']], amazon['sentiment'])\n",
    "\n",
    "# Classify, storing the result in a new variable.\n",
    "y_pred = classifier.predict(yelp[['positive','negative']])\n",
    "\n",
    "# Display our results.\n",
    "print(\"Number of mislabeled points out of a total {} points : {}\".format(\n",
    "    yelp.shape[0],\n",
    "    (yelp['sentiment'] != y_pred).sum()\n",
    "))"
   ]
  },
  {
   "cell_type": "markdown",
   "metadata": {},
   "source": [
    "# Conclusion"
   ]
  },
  {
   "cell_type": "markdown",
   "metadata": {},
   "source": [
    "Our model was able to predict 815 out of a 1000 Yelp review sentiments correctly when trained on Amazon reviews. This shows great usability for generalizing over pre-prepared datasets from different sources to build strong prediction models."
   ]
  }
 ],
 "metadata": {
  "kernelspec": {
   "display_name": "Python 3",
   "language": "python",
   "name": "python3"
  },
  "language_info": {
   "codemirror_mode": {
    "name": "ipython",
    "version": 3
   },
   "file_extension": ".py",
   "mimetype": "text/x-python",
   "name": "python",
   "nbconvert_exporter": "python",
   "pygments_lexer": "ipython3",
   "version": "3.7.3"
  }
 },
 "nbformat": 4,
 "nbformat_minor": 2
}
