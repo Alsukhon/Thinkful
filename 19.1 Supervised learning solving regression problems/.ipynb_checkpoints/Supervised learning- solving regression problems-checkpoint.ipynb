{
 "cells": [
  {
   "cell_type": "markdown",
   "metadata": {},
   "source": [
    "Assignment\n",
    "\n",
    "\n",
    "    Let's assume that you have World Bank data on financial, economic and social indicators for several countries. You want to measure the factors that affect the level of development in these countries. To this end, you decide to use per capita income as a proxy for the development level, which is defined as the national income divided by the population. You want to use some features in your dataset to predict per capita income. Is this task a classification or a regression task? Why?\n",
    "    "
   ]
  },
  {
   "cell_type": "markdown",
   "metadata": {},
   "source": [
    "Because the range of our answer is in the millions, treating this task as a classification task might be very difficult. It is a regression task because of the infinitely possible values that may be predicted."
   ]
  },
  {
   "cell_type": "markdown",
   "metadata": {},
   "source": [
    "Which of the following arguments are false and why?\n",
    "    OLS is a special type of linear regression models\n",
    "    Regression models become useless if they don’t meet the assumptions of linear regression.\n",
    "    Estimation and prediction are the same thing in the context of linear regression models.\n",
    "    Linear regression is only one kind of regression model. Regression problems can also be solved with other kind of models like Support Vector Machines or Random Forests.\n"
   ]
  },
  {
   "cell_type": "markdown",
   "metadata": {},
   "source": [
    "#1, because OLS is used as an optimization algorithm rather than an algorithm for regression by itself"
   ]
  },
  {
   "cell_type": "markdown",
   "metadata": {},
   "source": [
    "Assume that your project manager wants you to discover which free services your company offers make your customers buy more of your paid services. Formulate this task as a regression problem and write down the potential outcome and features that you’d like to work on."
   ]
  },
  {
   "cell_type": "markdown",
   "metadata": {},
   "source": [
    "There will be a limited number of free services, which can be put into a linear regression task.\n",
    "Given that we know when a customer has utilized a free service, we can use a free service as a feature along with the customer's intended paid service to process in a regression model. After running the model, we can compare several possibilities of using the free service and gauge the reality of the model's outcome through experts in the company.\n",
    "\n",
    "When the regression model finally gives realistic estimations, we can say we have zeroed-in on the features that matter, i.e the free services with highest possibility of leading to purchase of paid services."
   ]
  },
  {
   "cell_type": "code",
   "execution_count": null,
   "metadata": {},
   "outputs": [],
   "source": []
  }
 ],
 "metadata": {
  "kernelspec": {
   "display_name": "Python 3",
   "language": "python",
   "name": "python3"
  },
  "language_info": {
   "codemirror_mode": {
    "name": "ipython",
    "version": 3
   },
   "file_extension": ".py",
   "mimetype": "text/x-python",
   "name": "python",
   "nbconvert_exporter": "python",
   "pygments_lexer": "ipython3",
   "version": "3.7.3"
  }
 },
 "nbformat": 4,
 "nbformat_minor": 2
}
