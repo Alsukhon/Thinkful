{
 "cells": [
  {
   "cell_type": "markdown",
   "metadata": {},
   "source": [
    "The strength of linear regression models lies in their ability to provide straightforward and interpretable solutions that not only predict future outcomes but also provide insight into the underlying processes that create these outcomes. One of the reasons why linear regression models are so commonplace is that by interpreting estimated coefficients, they can shed light on an underlying relationship. The process of interpreting the relationship between estimated coefficients and outcomes is called **inference**.\n",
    "\n",
    "In this checkpoint, we learn to answer questions like:\n",
    "\n",
    "* How much does an increase in an explanatory variable affect the explained variable?\n",
    "* How can we single out the effect of a specific variable by isolating its effects from those of other variables that also affect the outcome?\n",
    "\n",
    "The answers to these questions can drive a lot of business value. Think about a company that likes to measure the performance of its advertising expenditures. Are radio advertisements more effective in attracting new customers than  Facebook ads? For a thousand dollars spent on TV ads, how many products does the company sell? And, how can we distinguish whether the new customers are the result of TV ads or Google ads?\n",
    "\n",
    "Before quantifying the relationship between the individual features and the target variable, we first need to determine whether that feature has a significant role in explaining the target. So, we start with the discussion of the statistical significance.\n",
    "\n",
    "Main topics we'll cover in this checkpoint are:\n",
    "\n",
    "* statistical significance\n",
    "* t-test\n",
    "* t-value\n",
    "* p-value\n",
    "* inference and the relationship between estimated coefficients and the target\n",
    "* interpreting continuous and categorical variables\n",
    "* interpreting interaction terms\n",
    "* interpreting constants\n",
    "\n",
    "This checkpoint ends with three assignments in which you interpret the coefficients for some models."
   ]
  },
  {
   "cell_type": "markdown",
   "metadata": {},
   "source": [
    "## Statistical significance of individual coefficients\n",
    "\n",
    "Estimating parameters in a linear regression model does not guarantee that the estimated coefficients are statistically significant!\n",
    "\n",
    "When estimating a parameter, the ultimate objective is to find its true value in the population. More often than not, we need to work with a sample rather than the actual population, and we estimate the coefficients using a sample. For an individual coefficient to be **statistically significant**, it must have a relatively high value with respect to its standard deviation. In other words, it must help explain some information in the outcome.\n",
    "\n",
    "We use **t-tests** to determine if an individual coefficient estimate is statistically different from zero. This is a way of quantifying a measure of *unique* variance in the outcome as a function of the parameter, *after controlling for the variance explained by the other parameters*.\n",
    "\n",
    "![t_test](assets/t_test.png)\n",
    "\n",
    "For instance, in a linear regression with the yellow circle as the outcome, the total variance explained by the model is represented by the intersection of the yellow, blue, and pink feature circles. However, the statistical test of the significance of the blue circle will be done on *only* the green area where blue and yellow overlap, ignoring the area of shared overlap among blue, pink, and yellow. Similarly, the statistical test of the significance of the pink circle will be done on *only* the orange area where the pink and yellow overlap.\n",
    "\n",
    "A non-significant parameter does not contribute to the explanation of the information about the outcome variable and can be discarded with little to no decrease in the model's explanatory power. Moreover, we should treat statistically insignificant coefficients as if they are zero when interpreting the model.\n",
    "\n",
    "When we estimate a linear regression model using statsmodels, the `summary()` function returns t-statistics and associated p-values. **P-values** are easier to read than t-values. The p-value associated with a t-test quantifies the likelihood that the estimated coefficient is actually equal to zero in the real population. The lower the p-value, the more significant the coefficient is. As a general rule of thumb, when the p-value of a coefficient is less than or equal to 0.1, we say that the coefficient is statistically significant. However, it's admirable to have a p-value that is less than or equal to 0.05.\n"
   ]
  },
  {
   "cell_type": "markdown",
   "metadata": {},
   "source": [
    "## Our new medical costs model\n",
    "\n",
    "We use the medical costs dataset to illustrate how to interpret the estimated coefficients in a linear regression model. Here, we load the medical costs dataset and build a new regression model including continuous variables as well as the categorical ones. In the dataset, we have two continuous variables: age and BMI (body mass index). In this new model, we add them alongside the \"is_male\" and \"is_smoker\" dummies as explanatory variables."
   ]
  },
  {
   "cell_type": "code",
   "execution_count": 1,
   "metadata": {},
   "outputs": [
    {
     "data": {
      "text/html": [
       "<div>\n",
       "<style scoped>\n",
       "    .dataframe tbody tr th:only-of-type {\n",
       "        vertical-align: middle;\n",
       "    }\n",
       "\n",
       "    .dataframe tbody tr th {\n",
       "        vertical-align: top;\n",
       "    }\n",
       "\n",
       "    .dataframe thead th {\n",
       "        text-align: right;\n",
       "    }\n",
       "</style>\n",
       "<table border=\"1\" class=\"dataframe\">\n",
       "  <thead>\n",
       "    <tr style=\"text-align: right;\">\n",
       "      <th></th>\n",
       "      <th>age</th>\n",
       "      <th>sex</th>\n",
       "      <th>bmi</th>\n",
       "      <th>children</th>\n",
       "      <th>smoker</th>\n",
       "      <th>region</th>\n",
       "      <th>charges</th>\n",
       "    </tr>\n",
       "  </thead>\n",
       "  <tbody>\n",
       "    <tr>\n",
       "      <th>0</th>\n",
       "      <td>19</td>\n",
       "      <td>female</td>\n",
       "      <td>27.900</td>\n",
       "      <td>0</td>\n",
       "      <td>yes</td>\n",
       "      <td>southwest</td>\n",
       "      <td>16884.900</td>\n",
       "    </tr>\n",
       "    <tr>\n",
       "      <th>1</th>\n",
       "      <td>18</td>\n",
       "      <td>male</td>\n",
       "      <td>33.770</td>\n",
       "      <td>1</td>\n",
       "      <td>no</td>\n",
       "      <td>southeast</td>\n",
       "      <td>1725.550</td>\n",
       "    </tr>\n",
       "    <tr>\n",
       "      <th>2</th>\n",
       "      <td>28</td>\n",
       "      <td>male</td>\n",
       "      <td>33.000</td>\n",
       "      <td>3</td>\n",
       "      <td>no</td>\n",
       "      <td>southeast</td>\n",
       "      <td>4449.460</td>\n",
       "    </tr>\n",
       "    <tr>\n",
       "      <th>3</th>\n",
       "      <td>33</td>\n",
       "      <td>male</td>\n",
       "      <td>22.705</td>\n",
       "      <td>0</td>\n",
       "      <td>no</td>\n",
       "      <td>northwest</td>\n",
       "      <td>21984.500</td>\n",
       "    </tr>\n",
       "    <tr>\n",
       "      <th>4</th>\n",
       "      <td>32</td>\n",
       "      <td>male</td>\n",
       "      <td>28.880</td>\n",
       "      <td>0</td>\n",
       "      <td>no</td>\n",
       "      <td>northwest</td>\n",
       "      <td>3866.860</td>\n",
       "    </tr>\n",
       "    <tr>\n",
       "      <th>5</th>\n",
       "      <td>31</td>\n",
       "      <td>female</td>\n",
       "      <td>25.740</td>\n",
       "      <td>0</td>\n",
       "      <td>no</td>\n",
       "      <td>southeast</td>\n",
       "      <td>3756.620</td>\n",
       "    </tr>\n",
       "    <tr>\n",
       "      <th>6</th>\n",
       "      <td>46</td>\n",
       "      <td>female</td>\n",
       "      <td>33.440</td>\n",
       "      <td>1</td>\n",
       "      <td>no</td>\n",
       "      <td>southeast</td>\n",
       "      <td>8240.590</td>\n",
       "    </tr>\n",
       "    <tr>\n",
       "      <th>7</th>\n",
       "      <td>37</td>\n",
       "      <td>female</td>\n",
       "      <td>27.740</td>\n",
       "      <td>3</td>\n",
       "      <td>no</td>\n",
       "      <td>northwest</td>\n",
       "      <td>7281.510</td>\n",
       "    </tr>\n",
       "    <tr>\n",
       "      <th>8</th>\n",
       "      <td>37</td>\n",
       "      <td>male</td>\n",
       "      <td>29.830</td>\n",
       "      <td>2</td>\n",
       "      <td>no</td>\n",
       "      <td>northeast</td>\n",
       "      <td>6406.410</td>\n",
       "    </tr>\n",
       "    <tr>\n",
       "      <th>9</th>\n",
       "      <td>60</td>\n",
       "      <td>female</td>\n",
       "      <td>25.840</td>\n",
       "      <td>0</td>\n",
       "      <td>no</td>\n",
       "      <td>northwest</td>\n",
       "      <td>28923.100</td>\n",
       "    </tr>\n",
       "  </tbody>\n",
       "</table>\n",
       "</div>"
      ],
      "text/plain": [
       "   age     sex    bmi  children smoker     region   charges\n",
       "0   19  female 27.900         0    yes  southwest 16884.900\n",
       "1   18    male 33.770         1     no  southeast  1725.550\n",
       "2   28    male 33.000         3     no  southeast  4449.460\n",
       "3   33    male 22.705         0     no  northwest 21984.500\n",
       "4   32    male 28.880         0     no  northwest  3866.860\n",
       "5   31  female 25.740         0     no  southeast  3756.620\n",
       "6   46  female 33.440         1     no  southeast  8240.590\n",
       "7   37  female 27.740         3     no  northwest  7281.510\n",
       "8   37    male 29.830         2     no  northeast  6406.410\n",
       "9   60  female 25.840         0     no  northwest 28923.100"
      ]
     },
     "execution_count": 1,
     "metadata": {},
     "output_type": "execute_result"
    }
   ],
   "source": [
    "import matplotlib.pyplot as plt\n",
    "import numpy as np\n",
    "import pandas as pd\n",
    "import seaborn as sns\n",
    "import statsmodels.api as sm\n",
    "from sqlalchemy import create_engine\n",
    "\n",
    "# Display preferences.\n",
    "%matplotlib inline\n",
    "pd.options.display.float_format = '{:.3f}'.format\n",
    "\n",
    "import warnings\n",
    "warnings.filterwarnings(action=\"ignore\")\n",
    "\n",
    "postgres_user = 'dsbc_student'\n",
    "postgres_pw = '7*.8G9QH21'\n",
    "postgres_host = '142.93.121.174'\n",
    "postgres_port = '5432'\n",
    "postgres_db = 'medicalcosts'\n",
    "\n",
    "engine = create_engine('postgresql://{}:{}@{}:{}/{}'.format(\n",
    "    postgres_user, postgres_pw, postgres_host, postgres_port, postgres_db))\n",
    "\n",
    "insurance_df = pd.read_sql_query('select * from medicalcosts',con=engine)\n",
    "\n",
    "# no need for an open connection, as we're only doing a single query\n",
    "engine.dispose()\n",
    "\n",
    "\n",
    "insurance_df.head(10)"
   ]
  },
  {
   "cell_type": "code",
   "execution_count": 2,
   "metadata": {},
   "outputs": [],
   "source": [
    "insurance_df[\"is_male\"] = pd.get_dummies(insurance_df.sex, drop_first=True)\n",
    "insurance_df[\"is_smoker\"] = pd.get_dummies(insurance_df.smoker, drop_first=True)"
   ]
  },
  {
   "cell_type": "code",
   "execution_count": 3,
   "metadata": {
    "scrolled": true
   },
   "outputs": [
    {
     "name": "stdout",
     "output_type": "stream",
     "text": [
      "                            OLS Regression Results                            \n",
      "==============================================================================\n",
      "Dep. Variable:                charges   R-squared:                       0.747\n",
      "Model:                            OLS   Adj. R-squared:                  0.747\n",
      "Method:                 Least Squares   F-statistic:                     986.5\n",
      "Date:                Sun, 16 Jun 2019   Prob (F-statistic):               0.00\n",
      "Time:                        17:17:48   Log-Likelihood:                -13557.\n",
      "No. Observations:                1338   AIC:                         2.712e+04\n",
      "Df Residuals:                    1333   BIC:                         2.715e+04\n",
      "Df Model:                           4                                         \n",
      "Covariance Type:            nonrobust                                         \n",
      "==============================================================================\n",
      "                 coef    std err          t      P>|t|      [0.025      0.975]\n",
      "------------------------------------------------------------------------------\n",
      "const      -1.163e+04    947.267    -12.281      0.000   -1.35e+04   -9775.195\n",
      "is_male     -109.0414    334.665     -0.326      0.745    -765.568     547.486\n",
      "is_smoker   2.383e+04    414.187     57.544      0.000     2.3e+04    2.46e+04\n",
      "age          259.4531     11.942     21.727      0.000     236.027     282.880\n",
      "bmi          323.0510     27.529     11.735      0.000     269.046     377.056\n",
      "==============================================================================\n",
      "Omnibus:                      299.394   Durbin-Watson:                   2.076\n",
      "Prob(Omnibus):                  0.000   Jarque-Bera (JB):              708.640\n",
      "Skew:                           1.212   Prob(JB):                    1.32e-154\n",
      "Kurtosis:                       5.614   Cond. No.                         292.\n",
      "==============================================================================\n",
      "\n",
      "Warnings:\n",
      "[1] Standard Errors assume that the covariance matrix of the errors is correctly specified.\n"
     ]
    }
   ],
   "source": [
    "# Y is the target variable\n",
    "Y = insurance_df['charges']\n",
    "\n",
    "# X is the feature set\n",
    "X = insurance_df[['is_male','is_smoker', 'age', 'bmi']]\n",
    "\n",
    "# We add constant to the model as it's a best practice\n",
    "# to do so every time!\n",
    "X = sm.add_constant(X)\n",
    "\n",
    "# We fit an OLS model using statsmodels\n",
    "results = sm.OLS(Y, X).fit()\n",
    "\n",
    "# We print the summary results.\n",
    "print(results.summary())"
   ]
  },
  {
   "cell_type": "markdown",
   "metadata": {},
   "source": [
    "The estimated model is: \n",
    "\n",
    "$$ charges = -11633.50 - 109.04is\\_male + 23833.87is\\_smoker + 259.45age + 323.05bmi \\qquad(eq.1)$$\n",
    "\n",
    "is_male and is_smoker variables are dummies, but the age and BMI variables are continuous. Interpreting dummies is slightly different than interpreting continuous variables. In this checkpoint, we'll cover them separately. But before moving forward, we need to understand how to isolate the mutual effects of multiple variables on the target."
   ]
  },
  {
   "cell_type": "markdown",
   "metadata": {},
   "source": [
    "## OLS regression as a controlled experiment\n",
    "\n",
    "A **controlled experiment** is a scientific experiment type where only the effect of a single factor is measured by controlling other factors that also affect the outcome. For example, if we want to measure the effect of light on the growth of a specific plant, then we need to set up two environments where every factor like humidity, soil, etc. is the same except for the amount of light.\n",
    "\n",
    "We can think of the estimated linear regression models as a controlled experiment. When we estimate the coefficients of a model using OLS, we actually get coefficient estimates that are isolated from each other. That is to say, the coefficient of a feature measures the effect of that variable on the outcome variable by holding all other variables constant at their means. So we can interpret an estimated coefficient as the measure of the relationship between that feature and the target after stripping out the effects of all other features. "
   ]
  },
  {
   "cell_type": "markdown",
   "metadata": {},
   "source": [
    "## Interpreting the dummy variables\n",
    "\n",
    "Consider the coefficients of the dummy variables in (eq.1). The coefficient of is_male is −109.04, and the coefficient of is_smoker is 23833.87. Moreover, we see that the p-value of is_smoker is very close to zero, whereas the p-value of is_male is 0.745. This implies that the coefficient of is_male is effectively zero from a statistical point of view. It's simply not significant, and we can say that there appears to be no relationship between medical costs and biological sex.\n",
    "\n",
    "This is an okay hunch but requires further confirmation. It's possible that the model equation may play some role in this conclusion. We'll see later in this checkpoint that by including an additional variable in the model, the coefficient of is_male can be made statistically significant.\n",
    "\n",
    "On the other hand, smoking is a significant factor in the medical costs charged. According to our estimation, the medical costs of people who smoke are $23,833.87 dollars more than those who don't smoke __on average__. Recall that when we include dummies in a model, we always hold one group out. In this example, the holdout group is the non-smokers, and we need to read the coefficient of the is_smoker dummy variable relative to this holdout group."
   ]
  },
  {
   "cell_type": "markdown",
   "metadata": {},
   "source": [
    "## Interpreting continuous variables\n",
    "\n",
    "Now, let's interpret the coefficients of the continuous variables in (eq.1). First, both the age and BMI variables are statistically significant as the p-values are very close to zero. The coefficient of age is 259.45. As a person's age increases by one year, her/his costs increase by \\\\$259.4 on average. Similarly, as BMI increases by one point, medical costs increase by \\\\$323.05 on average.\n",
    "\n",
    "**Note:** Sometimes, transforming the target and features can lead to a clearer interpretation. For example, if we take the logarithms of a target and a feature and estimate the model after that, we can interpret the \"coefficient\" of that feature like this: a percentage increase in the value of the original feature (not log transformed) results in the \"coefficient\" percentage change in the original target (not log transformed). If you wonder why this is the case, you can read this [StackOverflow question](https://stats.stackexchange.com/questions/244199/why-is-it-that-natural-log-changes-are-percentage-changes-what-is-about-logs-th).\n",
    "\n"
   ]
  },
  {
   "cell_type": "markdown",
   "metadata": {},
   "source": [
    "## Interpreting the interaction terms\n",
    "\n",
    "So far, we've interpreted categorical and continuous variables one at a time. But sometimes we need to model **interactions** in order to best explain outcomes. By putting interaction variables in a linear regression model, we can capture non-linear relationships between the target and the features. For example, from (eq.1), we know the difference of average costs between smokers and non-smokers. However, if we believe that the costs of smokers would increase as the BMI of a person increases (because the probability of having a heart attack increases) more than the non-smokers, we need to add the interaction of BMI and the is_smoker dummy to the model.\n",
    "\n",
    "Mathematically, we capture the interaction of two variables by multiplying them. Now, let's create an interaction variable and add it to our model:"
   ]
  },
  {
   "cell_type": "code",
   "execution_count": 4,
   "metadata": {
    "scrolled": true
   },
   "outputs": [
    {
     "name": "stdout",
     "output_type": "stream",
     "text": [
      "                            OLS Regression Results                            \n",
      "==============================================================================\n",
      "Dep. Variable:                charges   R-squared:                       0.837\n",
      "Model:                            OLS   Adj. R-squared:                  0.836\n",
      "Method:                 Least Squares   F-statistic:                     1365.\n",
      "Date:                Mon, 17 Dec 2018   Prob (F-statistic):               0.00\n",
      "Time:                        16:43:16   Log-Likelihood:                -13265.\n",
      "No. Observations:                1338   AIC:                         2.654e+04\n",
      "Df Residuals:                    1332   BIC:                         2.657e+04\n",
      "Df Model:                           5                                         \n",
      "Covariance Type:            nonrobust                                         \n",
      "=================================================================================\n",
      "                    coef    std err          t      P>|t|      [0.025      0.975]\n",
      "---------------------------------------------------------------------------------\n",
      "const         -2071.0750    840.644     -2.464      0.014   -3720.206    -421.944\n",
      "is_male        -473.4954    269.612     -1.756      0.079   -1002.406      55.415\n",
      "is_smoker     -2.019e+04   1666.492    -12.117      0.000   -2.35e+04   -1.69e+04\n",
      "age             266.3723      9.612     27.713      0.000     247.516     285.228\n",
      "bmi               7.9686     25.044      0.318      0.750     -41.160      57.098\n",
      "bmi_is_smoker  1435.6081     53.242     26.964      0.000    1331.160    1540.056\n",
      "==============================================================================\n",
      "Omnibus:                      710.004   Durbin-Watson:                   2.059\n",
      "Prob(Omnibus):                  0.000   Jarque-Bera (JB):             4260.532\n",
      "Skew:                           2.491   Prob(JB):                         0.00\n",
      "Kurtosis:                      10.183   Cond. No.                         661.\n",
      "==============================================================================\n",
      "\n",
      "Warnings:\n",
      "[1] Standard Errors assume that the covariance matrix of the errors is correctly specified.\n"
     ]
    }
   ],
   "source": [
    "# Y is the target variable\n",
    "Y = insurance_df['charges']\n",
    "\n",
    "# This is the interaction between bmi and smoking\n",
    "insurance_df[\"bmi_is_smoker\"] = insurance_df.bmi * insurance_df.is_smoker\n",
    "\n",
    "# X is the feature set\n",
    "X = insurance_df[['is_male','is_smoker', 'age', 'bmi', \"bmi_is_smoker\"]]\n",
    "\n",
    "# We add a constant to the model as it's a best practice\n",
    "# to do so every time!\n",
    "X = sm.add_constant(X)\n",
    "\n",
    "# We fit an OLS model using statsmodels\n",
    "results = sm.OLS(Y, X).fit()\n",
    "\n",
    "# We print the summary results\n",
    "print(results.summary())"
   ]
  },
  {
   "cell_type": "markdown",
   "metadata": {},
   "source": [
    "The estimated model is: \n",
    "\n",
    "$$ charges = -2071.07 - 473.49is\\_male - 20190is\\_smoker + 266.37age + 7.96bmi + 1435.60bmi\\_is\\_smoker \\qquad(eq.2)$$\n",
    "\n",
    "First, notice that all the coefficients have changed with respect to the previous model. This is because every time we add or drop a variable, the model specification changes. This results in different point estimates for the coefficients. The same is also true for the statistical significance of the coefficients. For example, the coefficient of the is_male dummy now turns out to be statistically significant. \n",
    "\n",
    "After we included the interaction of BMI and is_smoker to the model, we see that BMI is no longer statistically significant. This is probably because BMI mainly affects medical charges when the is_smoker variable is true. As we see, the coefficient of the interaction variable is statistically significant. \n",
    "\n",
    "According to our results, a one-point increase in BMI results in \\\\$1,435.60 greater increase for smokers than for non-smokers. However, we should read this result with caution. On face, a \\\\$1,436.60 increase sounds like a lot for a single-point increase in BMI. That's probably because of the fact that our target variable (charges) is very skewed. So, linear regression comes up with estimates that measure the relationship on average.\n",
    "\n",
    "We can illustrate the effect of interaction in a graph as follows:"
   ]
  },
  {
   "cell_type": "code",
   "execution_count": 5,
   "metadata": {
    "scrolled": true
   },
   "outputs": [
    {
     "data": {
      "image/png": "[encoded data removed]",
      "text/plain": [
       "<Figure size 432x288 with 1 Axes>"
      ]
     },
     "metadata": {},
     "output_type": "display_data"
    }
   ],
   "source": [
    "\n",
    "costs_bmi = insurance_df.bmi * 323.0511\n",
    "costs_bmi_smokers = insurance_df.bmi * 1435.6081\n",
    "costs_bmi_non_smokers = insurance_df.bmi * 7.9686\n",
    "\n",
    "\n",
    "plt.plot(insurance_df.bmi, costs_bmi)\n",
    "plt.plot(insurance_df.bmi, costs_bmi_smokers)\n",
    "plt.plot(insurance_df.bmi, costs_bmi_non_smokers)\n",
    "plt.legend([\"costs and bmi\", \"costs and bmi (smokers)\", \"costs and bmi (non-smokers)\"])\n",
    "plt.xlabel(\"bmi\")\n",
    "plt.ylabel(\"costs\")\n",
    "plt.title(\"The relationship between bmi, smoking and costs\")\n",
    "\n",
    "plt.show()"
   ]
  },
  {
   "cell_type": "markdown",
   "metadata": {},
   "source": [
    "The <font color=blue>blue line</font> is the relationship we estimated in (eq.1) between BMI and charges. Since the interaction of BMI and smoking is not included in this model, the estimated value represents an averaged figure for BMI. The <font color=green>green line</font> is the relationship we estimated in (eq.2) between the charges and BMI for non-smokers, and the <font color=orange>orange line</font> represents the relationship between charges and BMI for smokers. As we see, the increase in charges with an increase in BMI is higher for smokers than non-smokers. Because of the interaction term in (eq.2), we can now distinguish the effects of an increase in BMI on charges between smokers and non-smokers. Notice that the blue line lies between the green and the orange lines as it measures the averaged effect of BMI on charges both for smokers and non-smokers."
   ]
  },
  {
   "cell_type": "markdown",
   "metadata": {},
   "source": [
    "## Interpreting the constant\n",
    "\n",
    "Constants in linear regression models correspond to the outcome value that is expected to happen when all the explanatory variables take a zero value. In a simple linear regression setting (when there is only a single explanatory variable), constants correspond to the point the fitted curve crosses the y-axis. \n",
    "\n",
    "Although it's easy to visualize the constant term in simple linear regression settings, it gets harder to grasp what a constant term means if there are many features included in the model. For example, if a dummy variable is included in a model, then one category should be excluded from the model as we explained before. In this case, the constant term also includes information regarding the holdout category. Hence, a lot of factors may be captured by the constant.\n",
    "\n",
    "The safest way to think about the constant term is to think of it as the bias. Remember that in the previous checkpoint we said that the constant terms make the residuals zero on average. In this sense, the constant takes the bias from residuals to itself. This is why the constant is also called bias!\n"
   ]
  },
  {
   "cell_type": "markdown",
   "metadata": {},
   "source": [
    "## Assignments\n",
    "\n",
    "To close out this checkpoint, you're going to do three assignments. For the first assignment, you'll write up a short answer to a question.  For the second two assignments, you'll do your work in Jupyter notebooks.\n",
    "\n",
    "\n",
    "Please submit links to all your work below. This is not a graded checkpoint, but you should discuss your solutions with your mentor. Also, when you're done, compare your work to [these example solutions](https://github.com/Thinkful-Ed/machine-learning-regression-problems/blob/master/notebooks/4.solution_understanding_the_relationship.ipynb).\n",
    "\n",
    "### 1. Interpretation and significance\n",
    "\n",
    "Suppose that we would like to know how much families in the US are spending on recreation annually. We've estimated the following model:\n",
    "\n",
    "$$ expenditure = 873 + 0.0012annual\\_income + 0.00002annual\\_income^2 - 223.57have\\_kids $$\n",
    "\n",
    "*expenditure* is the annual spending on recreation in US dollars, *annual_income* is the annual income in US dollars, and *have_kids* is a dummy variable indicating the families with children. Interpret the estimated coefficients. What additional statistics should be given in order to make sure that your interpretations make sense statistically. Write up your answer."
   ]
  },
  {
   "cell_type": "markdown",
   "metadata": {},
   "source": [
    "### 2. Weather model\n",
    "\n",
    "In this exercise, you'll work with the historical temperature data from the previous checkpoint. To complete this assignment, submit a link to a Jupyter notebook containing your solutions to the following tasks:\n",
    "\n",
    "* First, load the dataset from the **weatherinszeged** table from Thinkful's database.\n",
    "* Build a linear regression model where your target variable is the difference between the *apparenttemperature* and the *temperature*. As explanatory variables, use *humidity* and *windspeed*. Now, estimate your model using OLS. Are the estimated coefficients statistically significant? Are the signs of the estimated coefficients in line with your previous expectations? Interpret the estimated coefficients. What are the relations between the target and the explanatory variables? \n",
    "* Next, include the interaction of *humidity* and *windspeed* to the model above and estimate the model using OLS. Are the coefficients statistically significant? Did the signs of the estimated coefficients for *humidity* and *windspeed* change? Interpret the estimated coefficients."
   ]
  },
  {
   "cell_type": "markdown",
   "metadata": {},
   "source": [
    "###  3. House prices model\n",
    "\n",
    "In this exercise, you'll interpret your house prices model. To complete this assignment, submit a link to a Jupyter notebook containing your solutions to the following tasks:\n",
    "\n",
    "* Load the **houseprices** data from Thinkful's database.\n",
    "* Run your house prices model again and interpret the results. Which features are statistically significant, and which are not?\n",
    "* Now, exclude the insignificant features from your model. Did anything change?\n",
    "* Interpret the statistically significant coefficients by quantifying their relations with the house prices. Which features have a more prominent effect on house prices?\n",
    "* Do the results sound reasonable to you? If not, try to explain the potential reasons."
   ]
  }
 ],
 "metadata": {
  "kernelspec": {
   "display_name": "Python 3",
   "language": "python",
   "name": "python3"
  },
  "language_info": {
   "codemirror_mode": {
    "name": "ipython",
    "version": 3
   },
   "file_extension": ".py",
   "mimetype": "text/x-python",
   "name": "python",
   "nbconvert_exporter": "python",
   "pygments_lexer": "ipython3",
   "version": "3.7.3"
  },
  "latex_envs": {
   "LaTeX_envs_menu_present": true,
   "autoclose": false,
   "autocomplete": true,
   "bibliofile": "biblio.bib",
   "cite_by": "apalike",
   "current_citInitial": 1,
   "eqLabelWithNumbers": true,
   "eqNumInitial": 1,
   "hotkeys": {
    "equation": "Ctrl-E",
    "itemize": "Ctrl-I"
   },
   "labels_anchors": false,
   "latex_user_defs": false,
   "report_style_numbering": false,
   "user_envs_cfg": false
  },
  "varInspector": {
   "cols": {
    "lenName": 16,
    "lenType": 16,
    "lenVar": 40
   },
   "kernels_config": {
    "python": {
     "delete_cmd_postfix": "",
     "delete_cmd_prefix": "del ",
     "library": "var_list.py",
     "varRefreshCmd": "print(var_dic_list())"
    },
    "r": {
     "delete_cmd_postfix": ") ",
     "delete_cmd_prefix": "rm(",
     "library": "var_list.r",
     "varRefreshCmd": "cat(var_dic_list()) "
    }
   },
   "types_to_exclude": [
    "module",
    "function",
    "builtin_function_or_method",
    "instance",
    "_Feature"
   ],
   "window_display": false
  }
 },
 "nbformat": 4,
 "nbformat_minor": 2
}
